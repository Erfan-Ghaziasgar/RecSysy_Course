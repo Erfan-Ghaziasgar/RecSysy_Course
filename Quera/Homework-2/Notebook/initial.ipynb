{
 "cells": [
  {
   "cell_type": "code",
   "execution_count": 1,
   "id": "e05b66fb",
   "metadata": {},
   "outputs": [],
   "source": [
    "# TODO\n",
    "import pandas as pd\n",
    "import numpy as np\n",
    "\n",
    "df = pd.read_csv('bookCrossing.csv') "
   ]
  },
  {
   "cell_type": "code",
   "execution_count": 2,
   "id": "e181f59b",
   "metadata": {},
   "outputs": [],
   "source": [
    "df.head()"
   ]
  },
  {
   "cell_type": "code",
   "execution_count": 3,
   "id": "93e51243",
   "metadata": {},
   "outputs": [],
   "source": [
    "df.shape"
   ]
  },
  {
   "cell_type": "code",
   "execution_count": 4,
   "id": "f0262690",
   "metadata": {},
   "outputs": [],
   "source": [
    "df.head()"
   ]
  },
  {
   "cell_type": "code",
   "execution_count": 5,
   "id": "0b9f915f",
   "metadata": {},
   "outputs": [],
   "source": [
    "df.info()"
   ]
  },
  {
   "cell_type": "code",
   "execution_count": 6,
   "id": "1e94383b",
   "metadata": {},
   "outputs": [],
   "source": [
    "df.describe()"
   ]
  },
  {
   "cell_type": "code",
   "execution_count": 7,
   "id": "415939e4",
   "metadata": {},
   "outputs": [],
   "source": [
    "# TODO\n",
    "print(df.isnull().sum())"
   ]
  },
  {
   "cell_type": "code",
   "execution_count": 8,
   "id": "00e13af8",
   "metadata": {},
   "outputs": [],
   "source": [
    "# TODO\n",
    "import plotly.express as px\n",
    "\n",
    "fig = px.histogram(df, x=\"Age\", title=\"Age Distribution\")\n",
    "fig.show()"
   ]
  },
  {
   "cell_type": "code",
   "execution_count": 9,
   "id": "a5cf2a21",
   "metadata": {},
   "outputs": [],
   "source": [
    "df['Age'].dtype()"
   ]
  },
  {
   "cell_type": "code",
   "execution_count": 10,
   "id": "f1b171d8",
   "metadata": {},
   "outputs": [],
   "source": [
    "df['Age'].dtype"
   ]
  },
  {
   "cell_type": "code",
   "execution_count": 11,
   "id": "c452b813",
   "metadata": {},
   "outputs": [],
   "source": [
    "float(np.nan)"
   ]
  },
  {
   "cell_type": "code",
   "execution_count": 12,
   "id": "353d4ecf",
   "metadata": {},
   "outputs": [],
   "source": [
    "# TODO\n",
    "import numpy as np\n",
    "\n",
    "def handle_invalid_age(age):\n",
    "    try:\n",
    "        # Attempt to convert the age to a float first to handle potential decimal values\n",
    "        numeric_age = float(age)\n",
    "        # Check if the numeric age is a valid number (not NaN or infinity)\n",
    "        if np.isnan(numeric_age) or np.isinf(numeric_age):\n",
    "            return np.nan\n",
    "        # Convert to integer if it's a valid number\n",
    "        return int(numeric_age)\n",
    "    except (ValueError, TypeError):\n",
    "        # Return NaN for any value that cannot be converted to a number\n",
    "        return np.nan\n",
    "\n",
    "df['Age'] = df['Age'].apply(handle_invalid_age)"
   ]
  },
  {
   "cell_type": "code",
   "execution_count": 13,
   "id": "05f584f6",
   "metadata": {},
   "outputs": [],
   "source": [
    "# TODO\n",
    "fig = px.histogram(df, x=\"Age\", title=\"Age Distribution\")\n",
    "fig.show()"
   ]
  },
  {
   "cell_type": "code",
   "execution_count": 14,
   "id": "a7b1fa03",
   "metadata": {},
   "outputs": [],
   "source": [
    "# TODO\n",
    "median_age = df['Age'].median()\n",
    "df['Age'].fillna(median_age, inplace=True)"
   ]
  },
  {
   "cell_type": "code",
   "execution_count": 15,
   "id": "edf4e6a3",
   "metadata": {},
   "outputs": [],
   "source": [
    "df['Age'].isnull().sum()"
   ]
  },
  {
   "cell_type": "code",
   "execution_count": 16,
   "id": "e622ffeb",
   "metadata": {},
   "outputs": [],
   "source": [
    "# TODO\n",
    "df = df[df['Age'] <= 120]\n",
    "df.shape"
   ]
  },
  {
   "cell_type": "code",
   "execution_count": 17,
   "id": "6c11c18e",
   "metadata": {},
   "outputs": [],
   "source": [
    "# TODO\n",
    "df.dropna(inplace=True)"
   ]
  },
  {
   "cell_type": "code",
   "execution_count": 18,
   "id": "b901f688",
   "metadata": {},
   "outputs": [],
   "source": [
    "df.shape"
   ]
  },
  {
   "cell_type": "code",
   "execution_count": 19,
   "id": "fd1fc5fe",
   "metadata": {},
   "outputs": [],
   "source": [
    "# TODO\n",
    "\n",
    "df['ratings_mapped'] = None\n",
    "\n",
    "from sklearn.preprocessing import MinMaxScaler\n",
    "\n",
    "# Create a MinMaxScaler object\n",
    "scaler = MinMaxScaler()\n",
    "\n",
    "# Reshape the 'Rating' column to be 2D as required by the scaler\n",
    "ratings = df['Rating'].values.reshape(-1, 1)\n",
    "\n",
    "# Apply Min-Max scaling\n",
    "df['ratings_mapped'] = scaler.fit_transform(ratings)\n",
    "\n",
    "# Display the head of the dataframe with the new column\n",
    "display(df.head())"
   ]
  },
  {
   "cell_type": "code",
   "execution_count": 20,
   "id": "6fbe8ca4",
   "metadata": {},
   "outputs": [],
   "source": [
    "# TODO\n",
    "\n",
    "df['title_encode'] = None\n",
    "df['author_encode'] = None\n",
    "\n",
    "from sklearn.preprocessing import LabelEncoder\n",
    "\n",
    "# Create a LabelEncoder object\n",
    "label_encoder = LabelEncoder()\n",
    "\n",
    "# Apply Label Encoding to 'Title' column\n",
    "df['title_encode'] = label_encoder.fit_transform(df['Title'])\n",
    "\n",
    "# Apply Label Encoding to 'Author' column\n",
    "df['author_encode'] = label_encoder.fit_transform(df['Author'])\n",
    "\n",
    "# Display the head of the dataframe with the new columns\n",
    "display(df.head())"
   ]
  },
  {
   "cell_type": "code",
   "execution_count": 21,
   "id": "f6be1ee9",
   "metadata": {},
   "outputs": [],
   "source": [
    "import zipfile\n",
    "import os\n",
    "\n",
    "if not os.path.exists(os.path.join(os.getcwd(), 'initial.ipynb')):\n",
    "    %notebook -e initial.ipynb\n",
    "\n",
    "def compress(file_names):\n",
    "    print(\"File Paths:\")\n",
    "    print(file_names)\n",
    "    compression = zipfile.ZIP_DEFLATED\n",
    "    with zipfile.ZipFile(\"result.zip\", mode=\"w\") as zf:\n",
    "        for file_name in file_names:\n",
    "            zf.write('./' + file_name, file_name, compress_type=compression)\n",
    "\n",
    "\n",
    "df[['Age', 'ratings_mapped', 'title_encode', 'author_encode']].to_csv('answers.csv', header=True, index=False)\n",
    "\n",
    "file_names = ['initial.ipynb', 'answers.csv']\n",
    "compress(file_names)"
   ]
  },
  {
   "cell_type": "code",
   "execution_count": 22,
   "id": "d24aa0cf",
   "metadata": {},
   "outputs": [],
   "source": [
    "import zipfile\n",
    "import os\n",
    "\n",
    "if not os.path.exists(os.path.join(os.getcwd(), 'initial.ipynb')):\n",
    "    %notebook -e initial.ipynb\n",
    "\n",
    "def compress(file_names):\n",
    "    print(\"File Paths:\")\n",
    "    print(file_names)\n",
    "    compression = zipfile.ZIP_DEFLATED\n",
    "    with zipfile.ZipFile(\"result.zip\", mode=\"w\") as zf:\n",
    "        for file_name in file_names:\n",
    "            zf.write('./' + file_name, file_name, compress_type=compression)\n",
    "\n",
    "\n",
    "df[['Age', 'ratings_mapped', 'title_encode', 'author_encode']].to_csv('answers.csv', header=True, index=False)\n",
    "\n",
    "file_names = ['initial.ipynb', 'answers.csv']\n",
    "compress(file_names)"
   ]
  },
  {
   "cell_type": "code",
   "execution_count": 23,
   "id": "ea29bdcf",
   "metadata": {},
   "outputs": [],
   "source": [
    "# TODO\n",
    "import pandas as pd\n",
    "import numpy as np\n",
    "import plotly.express as px\n",
    "\n",
    "df = pd.read_csv('bookCrossing.csv')"
   ]
  },
  {
   "cell_type": "code",
   "execution_count": 24,
   "id": "cf0100fb",
   "metadata": {},
   "outputs": [],
   "source": [
    "df.head()"
   ]
  },
  {
   "cell_type": "code",
   "execution_count": 25,
   "id": "ba76f650",
   "metadata": {},
   "outputs": [],
   "source": [
    "df.shape"
   ]
  },
  {
   "cell_type": "code",
   "execution_count": 26,
   "id": "60882d80",
   "metadata": {},
   "outputs": [],
   "source": [
    "df.head()"
   ]
  },
  {
   "cell_type": "code",
   "execution_count": 27,
   "id": "6d433645",
   "metadata": {},
   "outputs": [],
   "source": [
    "df.info()"
   ]
  },
  {
   "cell_type": "code",
   "execution_count": 28,
   "id": "05466814",
   "metadata": {},
   "outputs": [],
   "source": [
    "df.describe()"
   ]
  },
  {
   "cell_type": "code",
   "execution_count": 29,
   "id": "799b4c4a",
   "metadata": {},
   "outputs": [],
   "source": [
    "# TODO\n",
    "print(df.isnull().sum())"
   ]
  },
  {
   "cell_type": "code",
   "execution_count": 30,
   "id": "4ff8d28c",
   "metadata": {},
   "outputs": [],
   "source": [
    "# TODO\n",
    "import plotly.express as px\n",
    "\n",
    "fig = px.histogram(df, x=\"Age\", title=\"Age Distribution\")\n",
    "fig.show()"
   ]
  },
  {
   "cell_type": "code",
   "execution_count": 31,
   "id": "ef63c378",
   "metadata": {},
   "outputs": [],
   "source": [
    "df['Age'].dtype"
   ]
  },
  {
   "cell_type": "code",
   "execution_count": 32,
   "id": "7dd15842",
   "metadata": {},
   "outputs": [],
   "source": [
    "float(np.nan)"
   ]
  },
  {
   "cell_type": "code",
   "execution_count": 33,
   "id": "3f2a5a17",
   "metadata": {},
   "outputs": [],
   "source": [
    "# TODO\n",
    "import numpy as np\n",
    "\n",
    "def handle_invalid_age(age):\n",
    "    try:\n",
    "        return int(float(age))\n",
    "    except (ValueError, TypeError):\n",
    "        return np.nan\n",
    "\n",
    "df['Age'] = df['Age'].apply(handle_invalid_age)"
   ]
  },
  {
   "cell_type": "code",
   "execution_count": 34,
   "id": "fef6c90a",
   "metadata": {},
   "outputs": [],
   "source": [
    "# TODO\n",
    "fig = px.histogram(df, x=\"Age\", title=\"Age Distribution\")\n",
    "fig.show()"
   ]
  },
  {
   "cell_type": "code",
   "execution_count": 35,
   "id": "88d544d4",
   "metadata": {},
   "outputs": [],
   "source": [
    "# TODO\n",
    "df['Age'] = df['Age'].fillna(df['Age'].median())"
   ]
  },
  {
   "cell_type": "code",
   "execution_count": 36,
   "id": "97a57f34",
   "metadata": {},
   "outputs": [],
   "source": [
    "df['Age'].isnull().sum()"
   ]
  },
  {
   "cell_type": "code",
   "execution_count": 37,
   "id": "ed5ef3fc",
   "metadata": {},
   "outputs": [],
   "source": [
    "# TODO\n",
    "df = df[df['Age'] <= 120]\n",
    "df.shape"
   ]
  },
  {
   "cell_type": "code",
   "execution_count": 38,
   "id": "bc4b94d6",
   "metadata": {},
   "outputs": [],
   "source": [
    "# TODO\n",
    "df.dropna(inplace=True)"
   ]
  },
  {
   "cell_type": "code",
   "execution_count": 39,
   "id": "38e1b6d9",
   "metadata": {},
   "outputs": [],
   "source": [
    "df.shape"
   ]
  },
  {
   "cell_type": "code",
   "execution_count": 40,
   "id": "1823e63a",
   "metadata": {},
   "outputs": [],
   "source": [
    "# TODO\n",
    "\n",
    "from sklearn.preprocessing import MinMaxScaler\n",
    "\n",
    "# Create a MinMaxScaler object\n",
    "scaler = MinMaxScaler()\n",
    "\n",
    "# Reshape the 'Rating' column to be 2D as required by the scaler\n",
    "ratings = df['Rating'].values.reshape(-1, 1)\n",
    "\n",
    "# Apply Min-Max scaling\n",
    "df['ratings_mapped'] = scaler.fit_transform(ratings)\n",
    "\n",
    "# Display the head of the dataframe with the new column\n",
    "display(df.head())"
   ]
  },
  {
   "cell_type": "code",
   "execution_count": 41,
   "id": "372cd6a7",
   "metadata": {},
   "outputs": [],
   "source": [
    "# TODO\n",
    "\n",
    "df['title_encode'] = None\n",
    "df['author_encode'] = None\n",
    "\n",
    "from sklearn.preprocessing import LabelEncoder\n",
    "\n",
    "# Create a LabelEncoder object\n",
    "label_encoder = LabelEncoder()\n",
    "\n",
    "# Apply Label Encoding to 'Title' column\n",
    "df['title_encode'] = label_encoder.fit_transform(df['Title'])\n",
    "\n",
    "# Apply Label Encoding to 'Author' column\n",
    "df['author_encode'] = label_encoder.fit_transform(df['Author'])\n",
    "\n",
    "# Display the head of the dataframe with the new columns\n",
    "display(df.head())"
   ]
  }
 ],
 "metadata": {},
 "nbformat": 4,
 "nbformat_minor": 5
}
