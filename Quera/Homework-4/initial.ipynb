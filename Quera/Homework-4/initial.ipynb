{
  "cells": [
    {
      "cell_type": "markdown",
      "metadata": {
        "id": "wnyze2sX17JR"
      },
      "source": [
        "<div dir=\"center\">\n",
        "  <h1 align=\"center\" style=\"line-height:200%;font-family:vazir;color:#0099cc\">\n",
        "    <font face=\"vazirmatn\" color=\"#0099cc\">\n",
        "      تعامل کتابی\n",
        "    </font>\n",
        "  </h1>\n",
        "</div>\n",
        "\n",
        "<p dir=\"rtl\" style=\"direction: rtl;text-align: justify;line-height:200%;font-family:vazir;font-size:medium\">\n",
        "  <font face=\"vazirmatn\" size=\"3\">\n",
        "    در این تمرین قرار است مراحل ساخت یک ماتریس تعامل را به کمک ماژول <code>scipy.sparse</code> مرور کنیم. در این تمرین از دیتاست <code>BookCrossing</code> که در فصل «مروری بر مفاهیم پایه» با آن آشنا شدیم استفاده کنیم.\n",
        "    در این تمرین فرض بر این گذاشته می‌شود که دیتاستی که در اختیار داریم، مراحل پیش‌پردازش را گذرانده و تا حد خیلی خوبی پاکسازی شده است.\n",
        "  </font>\n",
        "</p>"
      ]
    },
    {
      "cell_type": "markdown",
      "metadata": {
        "id": "fOv91Y0G17JS"
      },
      "source": [
        "\n",
        "<p dir=rtl style=\"direction: rtl; text-align: justify; line-height:200%; font-family:vazir; font-size:medium\">\n",
        "<font face=\"vazirmatn\" size=3>\n",
        "ابتدا این دیتاست را که در پوشه <code>Data</code> قرار دارد را بارگذاری کنید و در قالب یک دیتافریم در متغیر <code>df</code> ذخیره کنید.\n",
        "این دیتاست شامل 8 ستون است که ما 3 ستون آن را که به شرح زیر است در این تمرین استفاده می‌کنیم:\n",
        "</font>\n",
        "</p>\n",
        "\n",
        "\n",
        "<center>\n",
        "<div dir=rtl style=\"direction: rtl;line-height:200%;font-family:vazir;font-size:medium\">\n",
        "<font face=\"vazirmatn\" size=3>\n",
        "    \n",
        "|ستون|توضیحات|\n",
        "|:------:|:---:|\n",
        "|<code>UserID</code>|آی‌دی منحصر به فرد برای هر کاربر|\n",
        "|<code>ISBN</code>|شماره شابک هر کتاب|\n",
        "|<code>Rating</code>|امتیاز کاربر به هر کتاب|\n",
        "\n",
        "\n",
        "\n",
        "</font>\n",
        "</div>\n",
        "</center>\n",
        "\n",
        "<p dir=rtl style=\"direction: rtl; text-align: justify; line-height:200%; font-family:vazir; font-size:medium\">\n",
        "<font face=\"vazirmatn\" size=3>\n",
        "    در واقع برای ساخت ماتریس تعامل در این دیتاست، نیاز به «مقدار تعامل»، «فرد تعامل‌کننده» و «آیتم تعامل‌شده» داریم که به ترتیب در ستون‌های <code>Rating</code>، <code>UserID</code> و <code>ISBN</code> ذخیره شده‌اند.\n",
        "</font>\n",
        "</p>\n"
      ]
    },
    {
      "cell_type": "code",
      "source": [
        "!which python"
      ],
      "metadata": {
        "id": "-pdMispL_S-d",
        "outputId": "77d0fd71-fd12-465c-8ce9-c1f063d92e23",
        "colab": {
          "base_uri": "https://localhost:8080/"
        }
      },
      "execution_count": 31,
      "outputs": [
        {
          "output_type": "stream",
          "name": "stdout",
          "text": [
            "/usr/local/bin/python\n"
          ]
        }
      ]
    },
    {
      "cell_type": "code",
      "source": [
        "!python --version"
      ],
      "metadata": {
        "id": "dPu3VSg__Vny",
        "outputId": "2f0cfc89-3b8c-4a5e-83a1-0b38b095b28e",
        "colab": {
          "base_uri": "https://localhost:8080/"
        }
      },
      "execution_count": 32,
      "outputs": [
        {
          "output_type": "stream",
          "name": "stdout",
          "text": [
            "Python 3.11.13\n"
          ]
        }
      ]
    },
    {
      "cell_type": "code",
      "execution_count": 33,
      "metadata": {
        "id": "DdE_b9ZQ17JT",
        "colab": {
          "base_uri": "https://localhost:8080/",
          "height": 223
        },
        "outputId": "d853d427-879a-4889-cbf8-bf616715a1a5"
      },
      "outputs": [
        {
          "output_type": "stream",
          "name": "stdout",
          "text": [
            "(971843, 3)\n"
          ]
        },
        {
          "output_type": "execute_result",
          "data": {
            "text/plain": [
              "   UserID        ISBN  Rating\n",
              "0       2  0195153448       0\n",
              "1       8  0002005018       5\n",
              "2       8  0060973129       0\n",
              "3       8  0374157065       0\n",
              "4       8  0393045218       0"
            ],
            "text/html": [
              "\n",
              "  <div id=\"df-a8db29c0-9b6a-4768-82b8-ddfc55f3c644\" class=\"colab-df-container\">\n",
              "    <div>\n",
              "<style scoped>\n",
              "    .dataframe tbody tr th:only-of-type {\n",
              "        vertical-align: middle;\n",
              "    }\n",
              "\n",
              "    .dataframe tbody tr th {\n",
              "        vertical-align: top;\n",
              "    }\n",
              "\n",
              "    .dataframe thead th {\n",
              "        text-align: right;\n",
              "    }\n",
              "</style>\n",
              "<table border=\"1\" class=\"dataframe\">\n",
              "  <thead>\n",
              "    <tr style=\"text-align: right;\">\n",
              "      <th></th>\n",
              "      <th>UserID</th>\n",
              "      <th>ISBN</th>\n",
              "      <th>Rating</th>\n",
              "    </tr>\n",
              "  </thead>\n",
              "  <tbody>\n",
              "    <tr>\n",
              "      <th>0</th>\n",
              "      <td>2</td>\n",
              "      <td>0195153448</td>\n",
              "      <td>0</td>\n",
              "    </tr>\n",
              "    <tr>\n",
              "      <th>1</th>\n",
              "      <td>8</td>\n",
              "      <td>0002005018</td>\n",
              "      <td>5</td>\n",
              "    </tr>\n",
              "    <tr>\n",
              "      <th>2</th>\n",
              "      <td>8</td>\n",
              "      <td>0060973129</td>\n",
              "      <td>0</td>\n",
              "    </tr>\n",
              "    <tr>\n",
              "      <th>3</th>\n",
              "      <td>8</td>\n",
              "      <td>0374157065</td>\n",
              "      <td>0</td>\n",
              "    </tr>\n",
              "    <tr>\n",
              "      <th>4</th>\n",
              "      <td>8</td>\n",
              "      <td>0393045218</td>\n",
              "      <td>0</td>\n",
              "    </tr>\n",
              "  </tbody>\n",
              "</table>\n",
              "</div>\n",
              "    <div class=\"colab-df-buttons\">\n",
              "\n",
              "  <div class=\"colab-df-container\">\n",
              "    <button class=\"colab-df-convert\" onclick=\"convertToInteractive('df-a8db29c0-9b6a-4768-82b8-ddfc55f3c644')\"\n",
              "            title=\"Convert this dataframe to an interactive table.\"\n",
              "            style=\"display:none;\">\n",
              "\n",
              "  <svg xmlns=\"http://www.w3.org/2000/svg\" height=\"24px\" viewBox=\"0 -960 960 960\">\n",
              "    <path d=\"M120-120v-720h720v720H120Zm60-500h600v-160H180v160Zm220 220h160v-160H400v160Zm0 220h160v-160H400v160ZM180-400h160v-160H180v160Zm440 0h160v-160H620v160ZM180-180h160v-160H180v160Zm440 0h160v-160H620v160Z\"/>\n",
              "  </svg>\n",
              "    </button>\n",
              "\n",
              "  <style>\n",
              "    .colab-df-container {\n",
              "      display:flex;\n",
              "      gap: 12px;\n",
              "    }\n",
              "\n",
              "    .colab-df-convert {\n",
              "      background-color: #E8F0FE;\n",
              "      border: none;\n",
              "      border-radius: 50%;\n",
              "      cursor: pointer;\n",
              "      display: none;\n",
              "      fill: #1967D2;\n",
              "      height: 32px;\n",
              "      padding: 0 0 0 0;\n",
              "      width: 32px;\n",
              "    }\n",
              "\n",
              "    .colab-df-convert:hover {\n",
              "      background-color: #E2EBFA;\n",
              "      box-shadow: 0px 1px 2px rgba(60, 64, 67, 0.3), 0px 1px 3px 1px rgba(60, 64, 67, 0.15);\n",
              "      fill: #174EA6;\n",
              "    }\n",
              "\n",
              "    .colab-df-buttons div {\n",
              "      margin-bottom: 4px;\n",
              "    }\n",
              "\n",
              "    [theme=dark] .colab-df-convert {\n",
              "      background-color: #3B4455;\n",
              "      fill: #D2E3FC;\n",
              "    }\n",
              "\n",
              "    [theme=dark] .colab-df-convert:hover {\n",
              "      background-color: #434B5C;\n",
              "      box-shadow: 0px 1px 3px 1px rgba(0, 0, 0, 0.15);\n",
              "      filter: drop-shadow(0px 1px 2px rgba(0, 0, 0, 0.3));\n",
              "      fill: #FFFFFF;\n",
              "    }\n",
              "  </style>\n",
              "\n",
              "    <script>\n",
              "      const buttonEl =\n",
              "        document.querySelector('#df-a8db29c0-9b6a-4768-82b8-ddfc55f3c644 button.colab-df-convert');\n",
              "      buttonEl.style.display =\n",
              "        google.colab.kernel.accessAllowed ? 'block' : 'none';\n",
              "\n",
              "      async function convertToInteractive(key) {\n",
              "        const element = document.querySelector('#df-a8db29c0-9b6a-4768-82b8-ddfc55f3c644');\n",
              "        const dataTable =\n",
              "          await google.colab.kernel.invokeFunction('convertToInteractive',\n",
              "                                                    [key], {});\n",
              "        if (!dataTable) return;\n",
              "\n",
              "        const docLinkHtml = 'Like what you see? Visit the ' +\n",
              "          '<a target=\"_blank\" href=https://colab.research.google.com/notebooks/data_table.ipynb>data table notebook</a>'\n",
              "          + ' to learn more about interactive tables.';\n",
              "        element.innerHTML = '';\n",
              "        dataTable['output_type'] = 'display_data';\n",
              "        await google.colab.output.renderOutput(dataTable, element);\n",
              "        const docLink = document.createElement('div');\n",
              "        docLink.innerHTML = docLinkHtml;\n",
              "        element.appendChild(docLink);\n",
              "      }\n",
              "    </script>\n",
              "  </div>\n",
              "\n",
              "\n",
              "    <div id=\"df-60ea3fca-53dc-4967-9c18-f89b870402ee\">\n",
              "      <button class=\"colab-df-quickchart\" onclick=\"quickchart('df-60ea3fca-53dc-4967-9c18-f89b870402ee')\"\n",
              "                title=\"Suggest charts\"\n",
              "                style=\"display:none;\">\n",
              "\n",
              "<svg xmlns=\"http://www.w3.org/2000/svg\" height=\"24px\"viewBox=\"0 0 24 24\"\n",
              "     width=\"24px\">\n",
              "    <g>\n",
              "        <path d=\"M19 3H5c-1.1 0-2 .9-2 2v14c0 1.1.9 2 2 2h14c1.1 0 2-.9 2-2V5c0-1.1-.9-2-2-2zM9 17H7v-7h2v7zm4 0h-2V7h2v10zm4 0h-2v-4h2v4z\"/>\n",
              "    </g>\n",
              "</svg>\n",
              "      </button>\n",
              "\n",
              "<style>\n",
              "  .colab-df-quickchart {\n",
              "      --bg-color: #E8F0FE;\n",
              "      --fill-color: #1967D2;\n",
              "      --hover-bg-color: #E2EBFA;\n",
              "      --hover-fill-color: #174EA6;\n",
              "      --disabled-fill-color: #AAA;\n",
              "      --disabled-bg-color: #DDD;\n",
              "  }\n",
              "\n",
              "  [theme=dark] .colab-df-quickchart {\n",
              "      --bg-color: #3B4455;\n",
              "      --fill-color: #D2E3FC;\n",
              "      --hover-bg-color: #434B5C;\n",
              "      --hover-fill-color: #FFFFFF;\n",
              "      --disabled-bg-color: #3B4455;\n",
              "      --disabled-fill-color: #666;\n",
              "  }\n",
              "\n",
              "  .colab-df-quickchart {\n",
              "    background-color: var(--bg-color);\n",
              "    border: none;\n",
              "    border-radius: 50%;\n",
              "    cursor: pointer;\n",
              "    display: none;\n",
              "    fill: var(--fill-color);\n",
              "    height: 32px;\n",
              "    padding: 0;\n",
              "    width: 32px;\n",
              "  }\n",
              "\n",
              "  .colab-df-quickchart:hover {\n",
              "    background-color: var(--hover-bg-color);\n",
              "    box-shadow: 0 1px 2px rgba(60, 64, 67, 0.3), 0 1px 3px 1px rgba(60, 64, 67, 0.15);\n",
              "    fill: var(--button-hover-fill-color);\n",
              "  }\n",
              "\n",
              "  .colab-df-quickchart-complete:disabled,\n",
              "  .colab-df-quickchart-complete:disabled:hover {\n",
              "    background-color: var(--disabled-bg-color);\n",
              "    fill: var(--disabled-fill-color);\n",
              "    box-shadow: none;\n",
              "  }\n",
              "\n",
              "  .colab-df-spinner {\n",
              "    border: 2px solid var(--fill-color);\n",
              "    border-color: transparent;\n",
              "    border-bottom-color: var(--fill-color);\n",
              "    animation:\n",
              "      spin 1s steps(1) infinite;\n",
              "  }\n",
              "\n",
              "  @keyframes spin {\n",
              "    0% {\n",
              "      border-color: transparent;\n",
              "      border-bottom-color: var(--fill-color);\n",
              "      border-left-color: var(--fill-color);\n",
              "    }\n",
              "    20% {\n",
              "      border-color: transparent;\n",
              "      border-left-color: var(--fill-color);\n",
              "      border-top-color: var(--fill-color);\n",
              "    }\n",
              "    30% {\n",
              "      border-color: transparent;\n",
              "      border-left-color: var(--fill-color);\n",
              "      border-top-color: var(--fill-color);\n",
              "      border-right-color: var(--fill-color);\n",
              "    }\n",
              "    40% {\n",
              "      border-color: transparent;\n",
              "      border-right-color: var(--fill-color);\n",
              "      border-top-color: var(--fill-color);\n",
              "    }\n",
              "    60% {\n",
              "      border-color: transparent;\n",
              "      border-right-color: var(--fill-color);\n",
              "    }\n",
              "    80% {\n",
              "      border-color: transparent;\n",
              "      border-right-color: var(--fill-color);\n",
              "      border-bottom-color: var(--fill-color);\n",
              "    }\n",
              "    90% {\n",
              "      border-color: transparent;\n",
              "      border-bottom-color: var(--fill-color);\n",
              "    }\n",
              "  }\n",
              "</style>\n",
              "\n",
              "      <script>\n",
              "        async function quickchart(key) {\n",
              "          const quickchartButtonEl =\n",
              "            document.querySelector('#' + key + ' button');\n",
              "          quickchartButtonEl.disabled = true;  // To prevent multiple clicks.\n",
              "          quickchartButtonEl.classList.add('colab-df-spinner');\n",
              "          try {\n",
              "            const charts = await google.colab.kernel.invokeFunction(\n",
              "                'suggestCharts', [key], {});\n",
              "          } catch (error) {\n",
              "            console.error('Error during call to suggestCharts:', error);\n",
              "          }\n",
              "          quickchartButtonEl.classList.remove('colab-df-spinner');\n",
              "          quickchartButtonEl.classList.add('colab-df-quickchart-complete');\n",
              "        }\n",
              "        (() => {\n",
              "          let quickchartButtonEl =\n",
              "            document.querySelector('#df-60ea3fca-53dc-4967-9c18-f89b870402ee button');\n",
              "          quickchartButtonEl.style.display =\n",
              "            google.colab.kernel.accessAllowed ? 'block' : 'none';\n",
              "        })();\n",
              "      </script>\n",
              "    </div>\n",
              "\n",
              "    </div>\n",
              "  </div>\n"
            ],
            "application/vnd.google.colaboratory.intrinsic+json": {
              "type": "dataframe",
              "variable_name": "df"
            }
          },
          "metadata": {},
          "execution_count": 33
        }
      ],
      "source": [
        "# TODO\n",
        "import pandas as pd\n",
        "import numpy as np\n",
        "\n",
        "df = pd.read_csv('bookCrossing.csv')\n",
        "print(df.shape)\n",
        "df.head()"
      ]
    },
    {
      "cell_type": "markdown",
      "metadata": {
        "id": "T6oBmwJz17JT"
      },
      "source": [
        "<div dir=\"right\">\n",
        "  <h2 align=\"right\" style=\"line-height:200%;font-family:vazir;color:#0099cc\">\n",
        "    <font face=\"vazirmatn\" color=\"#0099cc\">\n",
        "      گام اول\n",
        "    </font>\n",
        "  </h2>\n",
        "</div>\n",
        "\n",
        "<div dir=\"rtl\">\n",
        "<p dir=rtl style=\"direction: rtl; text-align: justify; line-height:200%; font-family:vazir; font-size:medium\">\n",
        "<font face=\"vazirmatn\" size=3>\n",
        "    در این دیتاست برای زمانی که کاربری با آیتمی تعاملی نداشته، امتیاز 0 در نظر گرفته‌شده است. به همین منظور در این دستاست، هر سطری که امتیاز برابر با 0 دارد را از دیتافریم حذف کنید.\n",
        "</font>\n",
        "</p>\n",
        "</div>"
      ]
    },
    {
      "cell_type": "code",
      "execution_count": 34,
      "metadata": {
        "id": "RXIJ4hmr17JT",
        "colab": {
          "base_uri": "https://localhost:8080/"
        },
        "outputId": "6e15d46f-7a31-43b1-a32f-e594812f0818"
      },
      "outputs": [
        {
          "output_type": "execute_result",
          "data": {
            "text/plain": [
              "(363534, 3)"
            ]
          },
          "metadata": {},
          "execution_count": 34
        }
      ],
      "source": [
        "# TODO\n",
        "\n",
        "df = df[df['Rating'] != 0]\n",
        "df.shape"
      ]
    },
    {
      "cell_type": "code",
      "source": [
        "df['UserID'].nunique()"
      ],
      "metadata": {
        "colab": {
          "base_uri": "https://localhost:8080/"
        },
        "id": "Ja60a5kVH4gh",
        "outputId": "c8224eb9-ca5a-4143-850a-f4d35569b95f"
      },
      "execution_count": 35,
      "outputs": [
        {
          "output_type": "execute_result",
          "data": {
            "text/plain": [
              "64078"
            ]
          },
          "metadata": {},
          "execution_count": 35
        }
      ]
    },
    {
      "cell_type": "markdown",
      "metadata": {
        "id": "hX_mPC9T17JT"
      },
      "source": [
        "<div dir=\"right\">\n",
        "  <h2 align=\"right\" style=\"line-height:200%;font-family:vazir;color:#0099cc\">\n",
        "    <font face=\"vazirmatn\" color=\"#0099cc\">\n",
        "      گام دوم\n",
        "    </font>\n",
        "  </h2>\n",
        "</div>\n",
        "\n",
        "\n",
        "\n",
        "<div dir=\"rtl\">\n",
        "<p dir=rtl style=\"direction: rtl; text-align: justify; line-height:200%; font-family:vazir; font-size:medium\">\n",
        "<font face=\"vazir\" size=3>\n",
        "\n",
        "حال گام اول را برای ساخت ماتریس تعامل بردارید. برای این‌کار، شناسه‌های واقعی در دیتاست را به شناسه‌های <i>based-0</i> نگاشت کنید.\n",
        "    برای این‌کار باید کدی بنویسید که شناسه‌ها را طوری نگاشت کنید که از 0 شروع شوند و به طور متوالی ادامه یابند.\n",
        "    مقادیر را در متغیرهای <code>mapped_user_ids</code> و <code>mapped_item_ids</code> ذخیره کنید.\n",
        "    در نهایت برای این‌که در ادامه بتوان امتیازات پیش‌بینی شده برای کاربران را به درستی به کاربر مورد نظر نسبت دهیم، نیاز است که لیست آیدی‌های\n",
        "    یکتای کاربران و آیتم‌ها را نیز داشته باشیم. این ۲ آرایه را به ترتیب در متغیرهای <code>unique_user_ids</code> و <code>unique_item_ids</code> ذخیره کنید.\n",
        "\n",
        "<details>\n",
        "<summary>        \n",
        "\n",
        "**راهنمایی**\n",
        "\n",
        "</summary>\n",
        "\n",
        "از تابع <code>pd.factorize</code> استفاده کنید.\n",
        "\n",
        "</details>\n",
        "</font>\n",
        "</p>\n",
        "</div>\n"
      ]
    },
    {
      "cell_type": "code",
      "execution_count": 36,
      "metadata": {
        "id": "g8OYReg617JU",
        "colab": {
          "base_uri": "https://localhost:8080/"
        },
        "outputId": "c16245c5-fada-49d5-c15d-8654bc42ddb2"
      },
      "outputs": [
        {
          "output_type": "stream",
          "name": "stdout",
          "text": [
            "Number of unique users: 64078\n",
            "Number of unique items: 144804\n"
          ]
        }
      ],
      "source": [
        "# TODO\n",
        "mapped_user_ids = pd.factorize(df['UserID'])[0]\n",
        "mapped_item_ids = pd.factorize(df['ISBN'])[0]\n",
        "unique_user_ids = pd.factorize(df['UserID'])[1]\n",
        "unique_item_ids = pd.factorize(df['ISBN'])[1]\n",
        "\n",
        "print(f\"Number of unique users: {len(unique_user_ids)}\")\n",
        "print(f\"Number of unique items: {len(unique_item_ids)}\")"
      ]
    },
    {
      "cell_type": "code",
      "source": [
        "len(mapped_user_ids)"
      ],
      "metadata": {
        "colab": {
          "base_uri": "https://localhost:8080/"
        },
        "id": "SbihXwT3BPUT",
        "outputId": "fd69cc88-fb02-47a6-8c33-9e22ffb23e5e"
      },
      "execution_count": 37,
      "outputs": [
        {
          "output_type": "execute_result",
          "data": {
            "text/plain": [
              "363534"
            ]
          },
          "metadata": {},
          "execution_count": 37
        }
      ]
    },
    {
      "cell_type": "code",
      "source": [
        "mapped_user_ids"
      ],
      "metadata": {
        "colab": {
          "base_uri": "https://localhost:8080/"
        },
        "id": "noaAvOyICwWy",
        "outputId": "13daf7ed-3f12-4716-b8ea-b8c335c8e347"
      },
      "execution_count": 38,
      "outputs": [
        {
          "output_type": "execute_result",
          "data": {
            "text/plain": [
              "array([    0,     0,     0, ..., 64075, 64076, 64077])"
            ]
          },
          "metadata": {},
          "execution_count": 38
        }
      ]
    },
    {
      "cell_type": "code",
      "source": [
        "unique_user_ids"
      ],
      "metadata": {
        "colab": {
          "base_uri": "https://localhost:8080/"
        },
        "id": "aLEAXpiaBbHI",
        "outputId": "dde55d26-9904-45fa-8aaf-688ea897a585"
      },
      "execution_count": 39,
      "outputs": [
        {
          "output_type": "execute_result",
          "data": {
            "text/plain": [
              "Index([     8,      9,     12,     14,     16,     17,     19,     22,     26,\n",
              "           32,\n",
              "       ...\n",
              "       262086, 262087, 262088, 262099, 262102, 262116, 262118, 262128, 262130,\n",
              "       262138],\n",
              "      dtype='int64', length=64078)"
            ]
          },
          "metadata": {},
          "execution_count": 39
        }
      ]
    },
    {
      "cell_type": "code",
      "source": [
        "mapped_user_id = 5\n",
        "unique_user_ids[mapped_user_id]"
      ],
      "metadata": {
        "colab": {
          "base_uri": "https://localhost:8080/"
        },
        "id": "0WiyKnwXCzK7",
        "outputId": "10c991b3-633c-4f2d-cadd-c477ac5ab30a"
      },
      "execution_count": 40,
      "outputs": [
        {
          "output_type": "execute_result",
          "data": {
            "text/plain": [
              "np.int64(17)"
            ]
          },
          "metadata": {},
          "execution_count": 40
        }
      ]
    },
    {
      "cell_type": "code",
      "source": [
        "df.sort_values(by='UserID')"
      ],
      "metadata": {
        "colab": {
          "base_uri": "https://localhost:8080/",
          "height": 423
        },
        "id": "d3TfREKSDOBD",
        "outputId": "f635d869-1738-411f-af97-3f4740a17fc8"
      },
      "execution_count": 41,
      "outputs": [
        {
          "output_type": "execute_result",
          "data": {
            "text/plain": [
              "        UserID        ISBN  Rating\n",
              "1            8  0002005018       5\n",
              "9            8  074322678X       5\n",
              "12           8  0887841740       5\n",
              "13           8  1552041778       5\n",
              "16           8  1575663937       6\n",
              "...        ...         ...     ...\n",
              "971807  262118  0590499734      10\n",
              "971835  262118  1576738825      10\n",
              "971840  262128  0843176458       6\n",
              "971841  262130  0060512806       7\n",
              "971842  262138  1573241296       8\n",
              "\n",
              "[363534 rows x 3 columns]"
            ],
            "text/html": [
              "\n",
              "  <div id=\"df-d2145fc7-12f2-4335-91c8-7f2d99c3c0fd\" class=\"colab-df-container\">\n",
              "    <div>\n",
              "<style scoped>\n",
              "    .dataframe tbody tr th:only-of-type {\n",
              "        vertical-align: middle;\n",
              "    }\n",
              "\n",
              "    .dataframe tbody tr th {\n",
              "        vertical-align: top;\n",
              "    }\n",
              "\n",
              "    .dataframe thead th {\n",
              "        text-align: right;\n",
              "    }\n",
              "</style>\n",
              "<table border=\"1\" class=\"dataframe\">\n",
              "  <thead>\n",
              "    <tr style=\"text-align: right;\">\n",
              "      <th></th>\n",
              "      <th>UserID</th>\n",
              "      <th>ISBN</th>\n",
              "      <th>Rating</th>\n",
              "    </tr>\n",
              "  </thead>\n",
              "  <tbody>\n",
              "    <tr>\n",
              "      <th>1</th>\n",
              "      <td>8</td>\n",
              "      <td>0002005018</td>\n",
              "      <td>5</td>\n",
              "    </tr>\n",
              "    <tr>\n",
              "      <th>9</th>\n",
              "      <td>8</td>\n",
              "      <td>074322678X</td>\n",
              "      <td>5</td>\n",
              "    </tr>\n",
              "    <tr>\n",
              "      <th>12</th>\n",
              "      <td>8</td>\n",
              "      <td>0887841740</td>\n",
              "      <td>5</td>\n",
              "    </tr>\n",
              "    <tr>\n",
              "      <th>13</th>\n",
              "      <td>8</td>\n",
              "      <td>1552041778</td>\n",
              "      <td>5</td>\n",
              "    </tr>\n",
              "    <tr>\n",
              "      <th>16</th>\n",
              "      <td>8</td>\n",
              "      <td>1575663937</td>\n",
              "      <td>6</td>\n",
              "    </tr>\n",
              "    <tr>\n",
              "      <th>...</th>\n",
              "      <td>...</td>\n",
              "      <td>...</td>\n",
              "      <td>...</td>\n",
              "    </tr>\n",
              "    <tr>\n",
              "      <th>971807</th>\n",
              "      <td>262118</td>\n",
              "      <td>0590499734</td>\n",
              "      <td>10</td>\n",
              "    </tr>\n",
              "    <tr>\n",
              "      <th>971835</th>\n",
              "      <td>262118</td>\n",
              "      <td>1576738825</td>\n",
              "      <td>10</td>\n",
              "    </tr>\n",
              "    <tr>\n",
              "      <th>971840</th>\n",
              "      <td>262128</td>\n",
              "      <td>0843176458</td>\n",
              "      <td>6</td>\n",
              "    </tr>\n",
              "    <tr>\n",
              "      <th>971841</th>\n",
              "      <td>262130</td>\n",
              "      <td>0060512806</td>\n",
              "      <td>7</td>\n",
              "    </tr>\n",
              "    <tr>\n",
              "      <th>971842</th>\n",
              "      <td>262138</td>\n",
              "      <td>1573241296</td>\n",
              "      <td>8</td>\n",
              "    </tr>\n",
              "  </tbody>\n",
              "</table>\n",
              "<p>363534 rows × 3 columns</p>\n",
              "</div>\n",
              "    <div class=\"colab-df-buttons\">\n",
              "\n",
              "  <div class=\"colab-df-container\">\n",
              "    <button class=\"colab-df-convert\" onclick=\"convertToInteractive('df-d2145fc7-12f2-4335-91c8-7f2d99c3c0fd')\"\n",
              "            title=\"Convert this dataframe to an interactive table.\"\n",
              "            style=\"display:none;\">\n",
              "\n",
              "  <svg xmlns=\"http://www.w3.org/2000/svg\" height=\"24px\" viewBox=\"0 -960 960 960\">\n",
              "    <path d=\"M120-120v-720h720v720H120Zm60-500h600v-160H180v160Zm220 220h160v-160H400v160Zm0 220h160v-160H400v160ZM180-400h160v-160H180v160Zm440 0h160v-160H620v160ZM180-180h160v-160H180v160Zm440 0h160v-160H620v160Z\"/>\n",
              "  </svg>\n",
              "    </button>\n",
              "\n",
              "  <style>\n",
              "    .colab-df-container {\n",
              "      display:flex;\n",
              "      gap: 12px;\n",
              "    }\n",
              "\n",
              "    .colab-df-convert {\n",
              "      background-color: #E8F0FE;\n",
              "      border: none;\n",
              "      border-radius: 50%;\n",
              "      cursor: pointer;\n",
              "      display: none;\n",
              "      fill: #1967D2;\n",
              "      height: 32px;\n",
              "      padding: 0 0 0 0;\n",
              "      width: 32px;\n",
              "    }\n",
              "\n",
              "    .colab-df-convert:hover {\n",
              "      background-color: #E2EBFA;\n",
              "      box-shadow: 0px 1px 2px rgba(60, 64, 67, 0.3), 0px 1px 3px 1px rgba(60, 64, 67, 0.15);\n",
              "      fill: #174EA6;\n",
              "    }\n",
              "\n",
              "    .colab-df-buttons div {\n",
              "      margin-bottom: 4px;\n",
              "    }\n",
              "\n",
              "    [theme=dark] .colab-df-convert {\n",
              "      background-color: #3B4455;\n",
              "      fill: #D2E3FC;\n",
              "    }\n",
              "\n",
              "    [theme=dark] .colab-df-convert:hover {\n",
              "      background-color: #434B5C;\n",
              "      box-shadow: 0px 1px 3px 1px rgba(0, 0, 0, 0.15);\n",
              "      filter: drop-shadow(0px 1px 2px rgba(0, 0, 0, 0.3));\n",
              "      fill: #FFFFFF;\n",
              "    }\n",
              "  </style>\n",
              "\n",
              "    <script>\n",
              "      const buttonEl =\n",
              "        document.querySelector('#df-d2145fc7-12f2-4335-91c8-7f2d99c3c0fd button.colab-df-convert');\n",
              "      buttonEl.style.display =\n",
              "        google.colab.kernel.accessAllowed ? 'block' : 'none';\n",
              "\n",
              "      async function convertToInteractive(key) {\n",
              "        const element = document.querySelector('#df-d2145fc7-12f2-4335-91c8-7f2d99c3c0fd');\n",
              "        const dataTable =\n",
              "          await google.colab.kernel.invokeFunction('convertToInteractive',\n",
              "                                                    [key], {});\n",
              "        if (!dataTable) return;\n",
              "\n",
              "        const docLinkHtml = 'Like what you see? Visit the ' +\n",
              "          '<a target=\"_blank\" href=https://colab.research.google.com/notebooks/data_table.ipynb>data table notebook</a>'\n",
              "          + ' to learn more about interactive tables.';\n",
              "        element.innerHTML = '';\n",
              "        dataTable['output_type'] = 'display_data';\n",
              "        await google.colab.output.renderOutput(dataTable, element);\n",
              "        const docLink = document.createElement('div');\n",
              "        docLink.innerHTML = docLinkHtml;\n",
              "        element.appendChild(docLink);\n",
              "      }\n",
              "    </script>\n",
              "  </div>\n",
              "\n",
              "\n",
              "    <div id=\"df-dc9cce9c-004b-4d9d-8d29-af11699ca144\">\n",
              "      <button class=\"colab-df-quickchart\" onclick=\"quickchart('df-dc9cce9c-004b-4d9d-8d29-af11699ca144')\"\n",
              "                title=\"Suggest charts\"\n",
              "                style=\"display:none;\">\n",
              "\n",
              "<svg xmlns=\"http://www.w3.org/2000/svg\" height=\"24px\"viewBox=\"0 0 24 24\"\n",
              "     width=\"24px\">\n",
              "    <g>\n",
              "        <path d=\"M19 3H5c-1.1 0-2 .9-2 2v14c0 1.1.9 2 2 2h14c1.1 0 2-.9 2-2V5c0-1.1-.9-2-2-2zM9 17H7v-7h2v7zm4 0h-2V7h2v10zm4 0h-2v-4h2v4z\"/>\n",
              "    </g>\n",
              "</svg>\n",
              "      </button>\n",
              "\n",
              "<style>\n",
              "  .colab-df-quickchart {\n",
              "      --bg-color: #E8F0FE;\n",
              "      --fill-color: #1967D2;\n",
              "      --hover-bg-color: #E2EBFA;\n",
              "      --hover-fill-color: #174EA6;\n",
              "      --disabled-fill-color: #AAA;\n",
              "      --disabled-bg-color: #DDD;\n",
              "  }\n",
              "\n",
              "  [theme=dark] .colab-df-quickchart {\n",
              "      --bg-color: #3B4455;\n",
              "      --fill-color: #D2E3FC;\n",
              "      --hover-bg-color: #434B5C;\n",
              "      --hover-fill-color: #FFFFFF;\n",
              "      --disabled-bg-color: #3B4455;\n",
              "      --disabled-fill-color: #666;\n",
              "  }\n",
              "\n",
              "  .colab-df-quickchart {\n",
              "    background-color: var(--bg-color);\n",
              "    border: none;\n",
              "    border-radius: 50%;\n",
              "    cursor: pointer;\n",
              "    display: none;\n",
              "    fill: var(--fill-color);\n",
              "    height: 32px;\n",
              "    padding: 0;\n",
              "    width: 32px;\n",
              "  }\n",
              "\n",
              "  .colab-df-quickchart:hover {\n",
              "    background-color: var(--hover-bg-color);\n",
              "    box-shadow: 0 1px 2px rgba(60, 64, 67, 0.3), 0 1px 3px 1px rgba(60, 64, 67, 0.15);\n",
              "    fill: var(--button-hover-fill-color);\n",
              "  }\n",
              "\n",
              "  .colab-df-quickchart-complete:disabled,\n",
              "  .colab-df-quickchart-complete:disabled:hover {\n",
              "    background-color: var(--disabled-bg-color);\n",
              "    fill: var(--disabled-fill-color);\n",
              "    box-shadow: none;\n",
              "  }\n",
              "\n",
              "  .colab-df-spinner {\n",
              "    border: 2px solid var(--fill-color);\n",
              "    border-color: transparent;\n",
              "    border-bottom-color: var(--fill-color);\n",
              "    animation:\n",
              "      spin 1s steps(1) infinite;\n",
              "  }\n",
              "\n",
              "  @keyframes spin {\n",
              "    0% {\n",
              "      border-color: transparent;\n",
              "      border-bottom-color: var(--fill-color);\n",
              "      border-left-color: var(--fill-color);\n",
              "    }\n",
              "    20% {\n",
              "      border-color: transparent;\n",
              "      border-left-color: var(--fill-color);\n",
              "      border-top-color: var(--fill-color);\n",
              "    }\n",
              "    30% {\n",
              "      border-color: transparent;\n",
              "      border-left-color: var(--fill-color);\n",
              "      border-top-color: var(--fill-color);\n",
              "      border-right-color: var(--fill-color);\n",
              "    }\n",
              "    40% {\n",
              "      border-color: transparent;\n",
              "      border-right-color: var(--fill-color);\n",
              "      border-top-color: var(--fill-color);\n",
              "    }\n",
              "    60% {\n",
              "      border-color: transparent;\n",
              "      border-right-color: var(--fill-color);\n",
              "    }\n",
              "    80% {\n",
              "      border-color: transparent;\n",
              "      border-right-color: var(--fill-color);\n",
              "      border-bottom-color: var(--fill-color);\n",
              "    }\n",
              "    90% {\n",
              "      border-color: transparent;\n",
              "      border-bottom-color: var(--fill-color);\n",
              "    }\n",
              "  }\n",
              "</style>\n",
              "\n",
              "      <script>\n",
              "        async function quickchart(key) {\n",
              "          const quickchartButtonEl =\n",
              "            document.querySelector('#' + key + ' button');\n",
              "          quickchartButtonEl.disabled = true;  // To prevent multiple clicks.\n",
              "          quickchartButtonEl.classList.add('colab-df-spinner');\n",
              "          try {\n",
              "            const charts = await google.colab.kernel.invokeFunction(\n",
              "                'suggestCharts', [key], {});\n",
              "          } catch (error) {\n",
              "            console.error('Error during call to suggestCharts:', error);\n",
              "          }\n",
              "          quickchartButtonEl.classList.remove('colab-df-spinner');\n",
              "          quickchartButtonEl.classList.add('colab-df-quickchart-complete');\n",
              "        }\n",
              "        (() => {\n",
              "          let quickchartButtonEl =\n",
              "            document.querySelector('#df-dc9cce9c-004b-4d9d-8d29-af11699ca144 button');\n",
              "          quickchartButtonEl.style.display =\n",
              "            google.colab.kernel.accessAllowed ? 'block' : 'none';\n",
              "        })();\n",
              "      </script>\n",
              "    </div>\n",
              "\n",
              "    </div>\n",
              "  </div>\n"
            ],
            "application/vnd.google.colaboratory.intrinsic+json": {
              "type": "dataframe"
            }
          },
          "metadata": {},
          "execution_count": 41
        }
      ]
    },
    {
      "cell_type": "markdown",
      "metadata": {
        "id": "eMbVJDFl17JU"
      },
      "source": [
        "<div dir=\"right\">\n",
        "  <h2 align=\"right\" style=\"line-height:200%;font-family:vazir;color:#0099cc\">\n",
        "    <font face=\"vazirmatn\" color=\"#0099cc\">\n",
        "      گام سوم\n",
        "    </font>\n",
        "  </h2>\n",
        "</div>\n",
        "\n",
        "\n",
        "<p dir=rtl style=\"direction: rtl; text-align: justify; line-height:200%; font-family:vazir; font-size:medium\">\n",
        "<font face=\"vazirmatn\" size=3>\n",
        "    در گام بعدی باید ابعاد ماتریس تعامل را به دست آورید و به صورت یک <code>tuple</code> در متغیر <code>matrix_shape</code> ذخیره کنید.\n",
        "</font>\n",
        "</p>\n"
      ]
    },
    {
      "cell_type": "code",
      "execution_count": 42,
      "metadata": {
        "id": "hlf4P9z617JU",
        "colab": {
          "base_uri": "https://localhost:8080/"
        },
        "outputId": "19841956-844f-4807-aa4e-c474b6afa171"
      },
      "outputs": [
        {
          "output_type": "execute_result",
          "data": {
            "text/plain": [
              "(64078, 144804)"
            ]
          },
          "metadata": {},
          "execution_count": 42
        }
      ],
      "source": [
        "# TODO\n",
        "matrix_shape = (len(unique_user_ids), len(unique_item_ids))\n",
        "matrix_shape"
      ]
    },
    {
      "cell_type": "markdown",
      "metadata": {
        "id": "nVcs_0yn17JU"
      },
      "source": [
        "<div dir=\"right\">\n",
        "  <h2 align=\"right\" style=\"line-height:200%;font-family:vazir;color:#0099cc\">\n",
        "    <font face=\"vazirmatn\" color=\"#0099cc\">\n",
        "      گام چهارم\n",
        "    </font>\n",
        "  </h2>\n",
        "</div>\n",
        "\n",
        "\n",
        "<p dir=rtl style=\"direction: rtl; text-align: justify; line-height:200%; font-family:vazir; font-size:medium\">\n",
        "<font face=\"vazirmatn\" size=3>\n",
        "    حالا به کمک کتاب‌خانه <code>scikit-learn</code> داده‌ها را به ۲ قسمت آموزش و آزمون تقسیم می‌کنیم.\n",
        "</font>\n",
        "</p>"
      ]
    },
    {
      "cell_type": "code",
      "execution_count": 43,
      "metadata": {
        "id": "ugiF-fk-17JU",
        "colab": {
          "base_uri": "https://localhost:8080/"
        },
        "outputId": "3c212a47-1c19-4895-d987-ba3683831c0a"
      },
      "outputs": [
        {
          "output_type": "stream",
          "name": "stdout",
          "text": [
            "Number of interactions in training set: 290827\n",
            "Number of interactions in test set: 72707\n"
          ]
        }
      ],
      "source": [
        "from sklearn.model_selection import train_test_split\n",
        "\n",
        "test_set_size = 0.2\n",
        "random_state = 42\n",
        "\n",
        "train_user_ids, test_user_ids, \\\n",
        "train_item_ids, test_item_ids, \\\n",
        "train_ratings, test_ratings = train_test_split(\n",
        "    mapped_user_ids,\n",
        "    mapped_item_ids,\n",
        "    df['Rating'].values,\n",
        "    test_size=test_set_size,\n",
        "    random_state=random_state\n",
        ")\n",
        "\n",
        "print(f\"Number of interactions in training set: {len(train_user_ids)}\")\n",
        "print(f\"Number of interactions in test set: {len(test_user_ids)}\")"
      ]
    },
    {
      "cell_type": "code",
      "source": [
        "type(train_user_ids)"
      ],
      "metadata": {
        "colab": {
          "base_uri": "https://localhost:8080/"
        },
        "id": "V77y1C7CD6Q9",
        "outputId": "3b9224fc-dca6-4994-f502-12074610e83a"
      },
      "execution_count": 44,
      "outputs": [
        {
          "output_type": "execute_result",
          "data": {
            "text/plain": [
              "numpy.ndarray"
            ]
          },
          "metadata": {},
          "execution_count": 44
        }
      ]
    },
    {
      "cell_type": "markdown",
      "metadata": {
        "id": "Mk4BVvle17JV"
      },
      "source": [
        "<div dir=\"right\">\n",
        "  <h2 align=\"right\" style=\"line-height:200%;font-family:vazir;color:#0099cc\">\n",
        "    <font face=\"vazirmatn\" color=\"#0099cc\">\n",
        "      گام پنجم\n",
        "    </font>\n",
        "  </h2>\n",
        "</div>\n",
        "\n",
        "\n",
        "<p dir=rtl style=\"direction: rtl; text-align: justify; line-height:200%; font-family:vazir; font-size:medium\">\n",
        "<font face=\"vazirmatn\" size=3>\n",
        "    حال نوبت به ساخت ماتریس تعامل رسیده است. در این قسمت با کمک ماژول <code>scipy.sparse</code> ماتریس‌های تعامل آموزش و آزمون را را با فرمت COO بسازید و در متغیرهای <code>train_matrix_coo</code> و <code>test_matrix_coo</code> ذخیره کنید.\n",
        "</font>\n",
        "</p>\n"
      ]
    },
    {
      "cell_type": "code",
      "execution_count": 45,
      "metadata": {
        "id": "6-zNBpWm17JV",
        "colab": {
          "base_uri": "https://localhost:8080/"
        },
        "outputId": "0cc81b8a-c350-44a5-850f-a4a415cad936"
      },
      "outputs": [
        {
          "output_type": "stream",
          "name": "stdout",
          "text": [
            "(64078, 144804)\n",
            "(64078, 144804)\n"
          ]
        }
      ],
      "source": [
        "from scipy.sparse import coo_matrix\n",
        "\n",
        "# TODO\n",
        "train_matrix_coo = coo_matrix((train_ratings, (train_user_ids, train_item_ids)), shape=matrix_shape)\n",
        "test_matrix_coo = coo_matrix((test_ratings, (test_user_ids, test_item_ids)), shape=matrix_shape)\n",
        "\n",
        "print(train_matrix_coo.shape)\n",
        "print(test_matrix_coo.shape)"
      ]
    },
    {
      "cell_type": "markdown",
      "metadata": {
        "id": "Ss5RiZ4117JV"
      },
      "source": [
        "<div dir=\"right\">\n",
        "  <h2 align=\"right\" style=\"line-height:200%;font-family:vazir;color:#0099cc\">\n",
        "    <font face=\"vazirmatn\" color=\"#0099cc\">\n",
        "      گام ششم (اختیاری)\n",
        "    </font>\n",
        "  </h2>\n",
        "</div>\n",
        "\n",
        "\n",
        "<p dir=rtl style=\"direction: rtl; text-align: justify; line-height:200%; font-family:vazir; font-size:medium\">\n",
        "<font face=\"vazirmatn\" size=3>\n",
        "    حال که ماتریس‌های پراکنده تعامل را ساخته‌اید، بهتر است که آن‌ها را به فرمت CSR ببرید که برای عملیات‌های جبرخطی مناسب‌تر است.\n",
        "    توجه کنید که عملکرد شما در این بخش مورد ارزیابی قرار نمی‌گیرد ولی برای تمرین بیشتر پیشنهاد به انجام آن می‌شود.\n",
        "</font>\n",
        "</p>\n"
      ]
    },
    {
      "cell_type": "code",
      "execution_count": 46,
      "metadata": {
        "id": "ZuvIAbXA17JV",
        "colab": {
          "base_uri": "https://localhost:8080/"
        },
        "outputId": "ee925616-d409-4f8e-9dfa-cd68448f085e"
      },
      "outputs": [
        {
          "output_type": "stream",
          "name": "stdout",
          "text": [
            "(64078, 144804)\n",
            "(64078, 144804)\n"
          ]
        }
      ],
      "source": [
        "from scipy.sparse import csr_matrix\n",
        "\n",
        "# TODO\n",
        "train_matrix_csr = csr_matrix(train_matrix_coo)\n",
        "test_matrix_csr = csr_matrix(test_matrix_coo)\n",
        "\n",
        "print(train_matrix_csr.shape)\n",
        "print(test_matrix_csr.shape)"
      ]
    },
    {
      "cell_type": "code",
      "source": [
        "train_matrix_csr"
      ],
      "metadata": {
        "colab": {
          "base_uri": "https://localhost:8080/"
        },
        "id": "kxOXPXIgEU4v",
        "outputId": "b571a615-335d-4862-f767-df9eb54d889c"
      },
      "execution_count": 47,
      "outputs": [
        {
          "output_type": "execute_result",
          "data": {
            "text/plain": [
              "<Compressed Sparse Row sparse matrix of dtype 'int64'\n",
              "\twith 290825 stored elements and shape (64078, 144804)>"
            ]
          },
          "metadata": {},
          "execution_count": 47
        }
      ]
    },
    {
      "cell_type": "code",
      "source": [
        "train_matrix_csr"
      ],
      "metadata": {
        "colab": {
          "base_uri": "https://localhost:8080/"
        },
        "id": "AmT_DME3EcOQ",
        "outputId": "cc2720de-2473-4fec-a2f7-b48aa167d8d0"
      },
      "execution_count": 48,
      "outputs": [
        {
          "output_type": "execute_result",
          "data": {
            "text/plain": [
              "<Compressed Sparse Row sparse matrix of dtype 'int64'\n",
              "\twith 290825 stored elements and shape (64078, 144804)>"
            ]
          },
          "metadata": {},
          "execution_count": 48
        }
      ]
    },
    {
      "cell_type": "markdown",
      "metadata": {
        "id": "y4SVAupC17JV"
      },
      "source": [
        "<div dir=\"right\">\n",
        "  <h2 align=\"right\" style=\"line-height:200%;font-family:vazir;color:#0099cc\">\n",
        "    <font face=\"vazirmatn\" color=\"#0099cc\">\n",
        "      گام هفتم (اختیاری)\n",
        "    </font>\n",
        "  </h2>\n",
        "</div>\n",
        "\n",
        "<p dir=rtl style=\"direction: rtl; text-align: justify; line-height:200%; font-family:vazir; font-size:medium\">\n",
        "<font face=\"vazirmatn\" size=3>\n",
        "  در آخرین گام بهتر است برای درک بهتر ماتریس تعامل، میزان پراکندگی ۲ ماتریس آموزش و آزمون را محاسبه کنید.\n",
        "  توجه کنید که عملکرد شما در این بخش مورد ارزیابی قرار نمی‌گیرد ولی برای تمرین بیشتر پیشنهاد می‌شود آن را انجام دهید.\n",
        "</font>\n",
        "</p>"
      ]
    },
    {
      "cell_type": "code",
      "source": [
        "train_matrix_csr.shape"
      ],
      "metadata": {
        "colab": {
          "base_uri": "https://localhost:8080/"
        },
        "id": "JToDaDiKGFjK",
        "outputId": "c26cb06e-de01-4c25-e51d-256936a7b904"
      },
      "execution_count": 49,
      "outputs": [
        {
          "output_type": "execute_result",
          "data": {
            "text/plain": [
              "(64078, 144804)"
            ]
          },
          "metadata": {},
          "execution_count": 49
        }
      ]
    },
    {
      "cell_type": "code",
      "execution_count": 50,
      "metadata": {
        "id": "17npcH3w17JV",
        "colab": {
          "base_uri": "https://localhost:8080/"
        },
        "outputId": "6fac88a8-47db-43c0-c1ae-b32bda248067"
      },
      "outputs": [
        {
          "output_type": "stream",
          "name": "stdout",
          "text": [
            "Sparsity of train matrix (CSR): 0.999969\n",
            "Sparsity of test matrix (CSR): 0.999992\n"
          ]
        }
      ],
      "source": [
        "# Calculate sparsity\n",
        "sparsity_train_csr = 1 - (train_matrix_csr.nnz / (train_matrix_csr.shape[0] * train_matrix_csr.shape[1]))\n",
        "sparsity_test_csr = 1 - (test_matrix_csr.nnz / (test_matrix_csr.shape[0] * test_matrix_csr.shape[1]))\n",
        "\n",
        "print(f\"Sparsity of train matrix (CSR): {sparsity_train_csr:.6f}\")\n",
        "print(f\"Sparsity of test matrix (CSR): {sparsity_test_csr:.6f}\")"
      ]
    },
    {
      "cell_type": "markdown",
      "metadata": {
        "id": "l3HRO7A717JV"
      },
      "source": [
        "<h2 align=right style=\"line-height:200%;font-family:vazir;color:#0099cc\">\n",
        "<font face=\"vazirmatn\" color=\"#0099cc\">\n",
        "<b>سلول جواب‌ساز</b>\n",
        "</font>\n",
        "</h2>\n",
        "\n",
        "\n",
        "<p dir=rtl style=\"direction: rtl; text-align: justify; line-height:200%; font-family:vazir; font-size:medium\">\n",
        "<font face=\"vazirmatn\" size=3>\n",
        "    برای ساخته‌شدن فایل <code>result.zip</code> سلول زیر را اجرا کنید. توجه داشته باشید که پیش از اجرای سلول زیر تغییرات اعمال شده در نوت‌بوک را ذخیره کرده باشید (<code>ctrl+s</code>) تا در صورت نیاز به پشتیبانی امکان بررسی کد شما وجود داشته باشد.\n",
        "</font>\n",
        "</p>"
      ]
    },
    {
      "cell_type": "code",
      "execution_count": 26,
      "metadata": {
        "id": "i8UuQxWc17JV",
        "colab": {
          "base_uri": "https://localhost:8080/"
        },
        "outputId": "ee1f6076-4e82-4b0c-c009-f89b0df17661"
      },
      "outputs": [
        {
          "output_type": "stream",
          "name": "stdout",
          "text": [
            "File Paths:\n",
            "['initial.ipynb', 'mapped_ids.npz', 'train_matrix.npz', 'test_matrix.npz']\n"
          ]
        }
      ],
      "source": [
        "import zipfile\n",
        "import os\n",
        "import scipy.sparse\n",
        "import numpy as np\n",
        "\n",
        "if not os.path.exists(os.path.join(os.getcwd(), 'initial.ipynb')):\n",
        "    %notebook -e initial.ipynb\n",
        "\n",
        "def compress(file_names):\n",
        "    print(\"File Paths:\")\n",
        "    print(file_names)\n",
        "    compression = zipfile.ZIP_DEFLATED\n",
        "    with zipfile.ZipFile(\"result.zip\", mode=\"w\") as zf:\n",
        "        for file_name in file_names:\n",
        "            zf.write('./' + file_name, file_name, compress_type=compression)\n",
        "\n",
        "\n",
        "scipy.sparse.save_npz('train_matrix.npz', train_matrix_coo)\n",
        "scipy.sparse.save_npz('test_matrix.npz', test_matrix_coo)\n",
        "\n",
        "np.savez('mapped_ids.npz', users=mapped_user_ids, items=mapped_item_ids)\n",
        "\n",
        "\n",
        "file_names = ['initial.ipynb', 'mapped_ids.npz', 'train_matrix.npz', 'test_matrix.npz']\n",
        "compress(file_names)"
      ]
    },
    {
      "cell_type": "code",
      "source": [],
      "metadata": {
        "id": "FAgGouPRGoOQ"
      },
      "execution_count": null,
      "outputs": []
    }
  ],
  "metadata": {
    "kernelspec": {
      "display_name": "venv",
      "language": "python",
      "name": "python3"
    },
    "language_info": {
      "codemirror_mode": {
        "name": "ipython",
        "version": 3
      },
      "file_extension": ".py",
      "mimetype": "text/x-python",
      "name": "python",
      "nbconvert_exporter": "python",
      "pygments_lexer": "ipython3",
      "version": "3.12.3"
    },
    "colab": {
      "provenance": []
    }
  },
  "nbformat": 4,
  "nbformat_minor": 0
}