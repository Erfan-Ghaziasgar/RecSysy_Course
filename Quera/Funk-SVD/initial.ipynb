{
  "cells": [
    {
      "cell_type": "markdown",
      "metadata": {
        "id": "IpQ_s36ge6xN"
      },
      "source": [
        "<div dir=\"center\">\n",
        "  <h1 align=\"center\" style=\"line-height:200%;font-family:vazir;color:#0099cc\">\n",
        "    <font face=\"vazirmatn\" color=\"#0099cc\">\n",
        "      پیشنهاد سرعتی\n",
        "    </font>\n",
        "  </h1>\n",
        "</div>\n",
        "\n",
        "<p dir=\"rtl\" style=\"direction: rtl;text-align: justify;line-height:200%;font-family:vazir;font-size:medium\">\n",
        "  <font face=\"vazirmatn\" size=\"3\">\n",
        "  در این تمرین قرار است الگوریتم <code>Funk-SVD</code> را با استفاده از گرادیان کاهشی تصادفی قدم به قدم از مرحله 0 پیاده‌سازی کنیم. سپس به کمک آن، یک مدل پیش‌بینی را آموزش دهیم که به سرعت بتواند علایق یک کاربر را پیش‌بینی کند و به سرعت لیست پیشنهادی برای کاربر آماده کند.\n",
        "  </font>\n",
        "</p>"
      ]
    },
    {
      "cell_type": "markdown",
      "metadata": {
        "id": "--xopSZLe6xO"
      },
      "source": [
        "\n",
        "<p dir=rtl style=\"direction: rtl; text-align: justify; line-height:200%; font-family:vazir; font-size:medium\">\n",
        "<font face=\"vazirmatn\" size=3>\n",
        "    در این تمرین قرار است از ماتریس‌های تعاملی که در درس‌نامه قبل ساختیم استفاده کنیم. این ماتریس‌ها در پوشه <code>Data</code> ذخیره شده‌اند. به ترتیب ماتریس موجود در فایل <code>train_matrix.npz</code> را در متغیر <code>train</code> و ماتریس موجود در <code>test_matrix.npz</code> را در متغیر <code>test</code> بارگذاری و ذخیره کنید.\n",
        "\n",
        "</font>\n",
        "</p>\n",
        "\n",
        "\n",
        "<p dir=rtl style=\"direction: rtl; text-align: justify; line-height:200%; font-family:vazir; font-size:medium\">\n",
        "<font face=\"vazirmatn\" size=3>\n",
        "    همچنین بردار آیدی‌های منحصر به فرد کاربران و آیتم‌ها به ترتیب با کلیدهای <code>users</code> و <code>items</code> در فایل <code>unique.npz</code> در پوشه <code>Data</code> ذخیره شده است. آن‌ها را به ترتیب در متغیرهای <code>unique_user_ids</code> و <code>unique_item_ids</code> ذخیره کنید.\n",
        "</font>\n",
        "</p>\n",
        "\n",
        "\n",
        "<div dir=\"rtl\">\n",
        "<p dir=rtl style=\"direction: rtl; text-align: justify; line-height:200%; font-family:vazir; font-size:medium\">\n",
        "<font face=\"vazirmatn\" size=3>\n",
        "<font color=\"red\"><b color='red'>نکته مهم:</b></font>\n",
        "\n",
        "ماتریس‌ها را با استفاده از متد `scipy.sparse.load_npz` بخوانید تا در ادامه برای اجرای کدها به مشکل برنخورید.\n",
        "</font>\n",
        "</p>\n",
        "</div>"
      ]
    },
    {
      "cell_type": "code",
      "execution_count": 1,
      "metadata": {
        "id": "xUdK5BYse6xO"
      },
      "outputs": [],
      "source": [
        "import numpy as np\n",
        "import pandas as pd\n",
        "from scipy.sparse import csr_matrix, coo_matrix\n",
        "import scipy.sparse\n",
        "import random\n",
        "\n",
        "\n",
        "train_matrix_path = '../Data/train_matrix.npz'\n",
        "test_matrix_path = '../Data/test_matrix.npz'\n",
        "unique_ids_path = '../Data/unique.npz'\n",
        "\n",
        "# TODO\n",
        "train = scipy.sparse.load_npz(train_matrix_path)\n",
        "test = scipy.sparse.load_npz(test_matrix_path)\n",
        "\n",
        "unique_ids = np.load(unique_ids_path, allow_pickle=True)\n",
        "unique_user_ids = unique_ids['users']\n",
        "unique_item_ids = unique_ids['items']"
      ]
    },
    {
      "cell_type": "code",
      "execution_count": 2,
      "metadata": {
        "colab": {
          "base_uri": "https://localhost:8080/"
        },
        "id": "C3aFWCzng0i_",
        "outputId": "0820a196-4de0-4943-ab74-a03fe56cc128"
      },
      "outputs": [
        {
          "data": {
            "text/plain": [
              "array([     8,      9,     12, ..., 262128, 262130, 262138],\n",
              "      shape=(64078,))"
            ]
          },
          "execution_count": 2,
          "metadata": {},
          "output_type": "execute_result"
        }
      ],
      "source": [
        "unique_user_ids"
      ]
    },
    {
      "cell_type": "code",
      "execution_count": 3,
      "metadata": {
        "colab": {
          "base_uri": "https://localhost:8080/"
        },
        "id": "fp40vZCShXrO",
        "outputId": "0cefd96d-580a-4ccb-a332-58581046d960"
      },
      "outputs": [
        {
          "data": {
            "text/plain": [
              "(64078,)"
            ]
          },
          "execution_count": 3,
          "metadata": {},
          "output_type": "execute_result"
        }
      ],
      "source": [
        "unique_user_ids.shape"
      ]
    },
    {
      "cell_type": "markdown",
      "metadata": {
        "id": "qECS425pe6xP"
      },
      "source": [
        "<div dir=\"right\">\n",
        "  <h2 align=\"right\" style=\"line-height:200%;font-family:vazir;color:#0099cc\">\n",
        "    <font face=\"vazirmatn\" color=\"#0099cc\">\n",
        "      گام اول\n",
        "    </font>\n",
        "  </h2>\n",
        "</div>\n",
        "\n",
        "<p dir=rtl style=\"direction: rtl; text-align: justify; line-height:200%; font-family:vazirmatn; font-size:medium\">\n",
        "<font face=\"vazirmatn\" size=3>\n",
        "  برای ساخت ماتریس‌های ویژگی‌های پنهان کاربر (P) و ماتریس ویژگی پنهان آیتم (Q) به تعداد کاربران و آیتم‌ها نیاز داریم. به ترتیب در متغیرهای <code>num_users</code> و <code>num_items</code> تعداد کاربران و آیتم‌ها را ذخیره کنید. برای این‌کار می‌توانید از ابعاد ماتریس <code>train</code> کمک بگیرید.\n",
        "</font>\n",
        "</p>\n"
      ]
    },
    {
      "cell_type": "code",
      "execution_count": 4,
      "metadata": {
        "colab": {
          "base_uri": "https://localhost:8080/"
        },
        "id": "NCKFIm8xe6xP",
        "outputId": "1a672ea0-d9e2-4da5-87a5-6eca23efb87c"
      },
      "outputs": [
        {
          "name": "stdout",
          "output_type": "stream",
          "text": [
            "Number of unique users: 64078\n",
            "Number of unique items: 144804\n"
          ]
        }
      ],
      "source": [
        "# TODO\n",
        "num_users, num_items = train.shape\n",
        "\n",
        "print(f\"Number of unique users: {num_users}\")\n",
        "print(f\"Number of unique items: {num_items}\")"
      ]
    },
    {
      "cell_type": "markdown",
      "metadata": {
        "id": "V_XLeS-7e6xP"
      },
      "source": [
        "<div dir=\"right\">\n",
        "  <h2 align=\"right\" style=\"line-height:200%;font-family:vazir;color:#0099cc\">\n",
        "    <font face=\"vazirmatn\" color=\"#0099cc\">\n",
        "      گام دوم:  تعریف پارامترهای مدل و الگوریتم\n",
        "    </font>\n",
        "  </h2>\n",
        "</div>\n",
        "\n",
        "\n",
        "\n",
        "\n",
        "<p dir=rtl style=\"direction: rtl; text-align: justify; line-height:200%; font-family:vazir; font-size:medium\">\n",
        "<font face=\"vazirmatn\" size=3>\n",
        "  در این بخش پارامترهای مدل یادگیری را تعریف و به میزان مناسب مقداردهی کنید.\n",
        "  توضیحات پارامترها به شرح زیر می‌باشد:\n",
        "\n",
        "\n",
        "</font>\n",
        "</p>\n",
        "\n",
        "\n",
        "\n",
        "<center>\n",
        "<div dir=rtl style=\"direction: rtl;line-height:200%;font-family:vazir;font-size:medium\">\n",
        "<font face=\"vazirmatn\" size=3>\n",
        "    \n",
        "|ستون|توضیحات|\n",
        "|:------:|:---:|\n",
        "|<code>k</code>|تعداد ویژگی‌های پنهان|\n",
        "|<code>learning_rate</code>|نرخ یادگیری|\n",
        "|<code>lambda_reg</code>| ترم منظم‌سازی |\n",
        "|<code>num_epochs</code>|تعداد دوره‌های یادگیری|\n",
        "|<code>log_step</code>|مشخص می‌کند که در حین یادگیری، هر چند دوره یک بار مقدار ارور محاسبه شود|\n",
        "\n",
        "\n",
        "</font>\n",
        "</div>\n",
        "</center>\n",
        "\n",
        "\n",
        "<div dir=\"rtl\">\n",
        "<p dir=rtl style=\"direction: rtl; text-align: justify; line-height:200%; font-family:vazir; font-size:medium\">\n",
        "<font face=\"vazirmatn\" size=3>\n",
        "<font color=\"green\"><b color='green'>پیشنهاد:</b></font>\n",
        "\n",
        "با پارامترهای کوچک، مثل `k=50` و `num_epochs=5`، شروع کنید و در صورتی که نتیجه مطلوب نبود، این مقادیر را تغییر دهید تا به بهتری نتیجه برسید.\n",
        "</font>\n",
        "</p>\n",
        "</div>"
      ]
    },
    {
      "cell_type": "code",
      "execution_count": 17,
      "metadata": {
        "colab": {
          "base_uri": "https://localhost:8080/"
        },
        "id": "1-dTeetKe6xP",
        "outputId": "74d7c856-9242-4bc4-9ecc-8f4bb8d3b57c"
      },
      "outputs": [
        {
          "name": "stdout",
          "output_type": "stream",
          "text": [
            "Hyperparameters: k=100, learning_rate=0.01, lambda_reg=0.06, num_epochs=10, log_step=1\n"
          ]
        }
      ],
      "source": [
        "# TODO\n",
        "k = 100\n",
        "learning_rate = 0.01\n",
        "lambda_reg = 0.06\n",
        "num_epochs = 10\n",
        "log_step = 1\n",
        "\n",
        "print(f\"Hyperparameters: k={k}, learning_rate={learning_rate}, lambda_reg={lambda_reg}, num_epochs={num_epochs}, log_step={log_step}\")"
      ]
    },
    {
      "cell_type": "markdown",
      "metadata": {
        "id": "yFxHLkNje6xP"
      },
      "source": [
        "<div dir=\"rtl\">\n",
        "  <h2 align=\"right\" style=\"line-height:200%;font-family:vazir;color:#0099cc\">\n",
        "    <font face=\"vazirmatn\" color=\"#0099cc\">\n",
        "      گام سوم: مقادیردهی اولیه پارامترهای مدل\n",
        "    </font>\n",
        "  </h2>\n",
        "</div>\n",
        "\n",
        "\n",
        "<p dir=rtl style=\"direction: rtl; text-align: justify; line-height:200%; font-family:vazir; font-size:medium\">\n",
        "<font face=\"vazirmatn\" size=3>\n",
        "  در این بخش باید دو ماتریس P و Q را بسازید و با مقادیر تصادفی و کوچک مقداردهی کنید. ابعاد این ۲ ماتریس را با کمک مقادیر  <code>num_users</code>، <code>num_items</code> و <code>k</code> که در گام‌های اول و دوم مشخص شدند، تعیین کنید.\n",
        "\n",
        "</font>\n",
        "</p>\n",
        "\n",
        "\n",
        "<p dir=rtl style=\"direction: rtl; text-align: justify; line-height:200%; font-family:vazir; font-size:medium\">\n",
        "<font face=\"vazirmatn\" size=3>\n",
        "  در قدم بعد برای یادگیری سوگیری‌های کاربران و آیتم‌ها، ۲ آرایه تماما 0 به اندازه تعداد کاربران و آیتم‌ها در متغیرهای مشخص شده تعریف کنید.\n",
        "</font>\n",
        "</p>\n",
        "\n",
        "\n",
        "<div dir=\"rtl\">\n",
        "<p dir=rtl style=\"direction: rtl; text-align: justify; line-height:200%; font-family:vazir; font-size:medium\">\n",
        "<font face=\"vazirmatn\" size=3>\n",
        "  در نهایت برای پیاده‌سازی الگوریتم توسعه‌یافته Funk-SVD نیاز است که میانگین کلی تمام امتیازهای ماتریس آموزش را محاسبه کنید. این مقدار را در متغیر <code>global_average</code> ذخیره کنید.\n",
        "\n",
        "<details>\n",
        "<summary>\n",
        "راهنمایی\n",
        "</summary>\n",
        "برای به دست آوردن مقادیر ماتریس می‌توانید و <code>train.data</code> کمک بگیرید.\n",
        "</details>\n",
        "\n",
        "</div>\n",
        "\n"
      ]
    },
    {
      "cell_type": "code",
      "execution_count": 18,
      "metadata": {
        "id": "KraCNSKWki45"
      },
      "outputs": [],
      "source": [
        "rng = np.random.default_rng(seed=42)\n",
        "init_std = 0.01"
      ]
    },
    {
      "cell_type": "code",
      "execution_count": 19,
      "metadata": {
        "colab": {
          "base_uri": "https://localhost:8080/"
        },
        "id": "St_tdV6YlIHZ",
        "outputId": "495f3711-85c6-4d5b-865f-9a9331188de3"
      },
      "outputs": [
        {
          "data": {
            "text/plain": [
              "Generator(PCG64) at 0x796E1A7FE500"
            ]
          },
          "execution_count": 19,
          "metadata": {},
          "output_type": "execute_result"
        }
      ],
      "source": [
        "rng"
      ]
    },
    {
      "cell_type": "code",
      "execution_count": 20,
      "metadata": {
        "colab": {
          "base_uri": "https://localhost:8080/"
        },
        "id": "zCugkwGWe6xP",
        "outputId": "338ddd53-e592-4946-cac0-eed288e427e2"
      },
      "outputs": [
        {
          "name": "stdout",
          "output_type": "stream",
          "text": [
            "Initialized P shape: (64078, 100)\n",
            "Initialized Q shape: (100, 144804)\n",
            "Initialized user_bias shape: (64078,)\n",
            "Initialized item_bias shape: (144804,)\n",
            "Calculated global average: 7.6299\n"
          ]
        }
      ],
      "source": [
        "# TODO\n",
        "P = rng.normal(scale=init_std, size=(num_users, k))\n",
        "Q = rng.normal(scale=init_std, size=(k, num_items))\n",
        "\n",
        "user_bias = np.zeros(num_users)\n",
        "item_bias = np.zeros(num_items)\n",
        "\n",
        "global_average = train.data.mean()\n",
        "\n",
        "\n",
        "print(f\"Initialized P shape: {P.shape}\")\n",
        "print(f\"Initialized Q shape: {Q.shape}\")\n",
        "print(f\"Initialized user_bias shape: {user_bias.shape}\")\n",
        "print(f\"Initialized item_bias shape: {item_bias.shape}\")\n",
        "print(f\"Calculated global average: {global_average:.4f}\")"
      ]
    },
    {
      "cell_type": "markdown",
      "metadata": {
        "id": "dq7yKruXe6xP"
      },
      "source": [
        "<div dir=\"right\">\n",
        "  <h2 align=\"right\" style=\"line-height:200%;font-family:vazir;color:#0099cc\">\n",
        "    <font face=\"vazirmatn\" color=\"#0099cc\">\n",
        "      گام چهارم: نوشتن توابع کمکی\n",
        "    </font>\n",
        "  </h2>\n",
        "</div>\n",
        "\n",
        "\n",
        "<p dir=rtl style=\"direction: rtl; text-align: justify; line-height:200%; font-family:vazir; font-size:medium\">\n",
        "<font face=\"vazirmatn\" size=3>\n",
        "در این بخش برای پیاده‌سازی الگوریتم یادگیری، به تعدادی توابع کمکی نیاز داریم که در هر قسمت توضیحات توابع آورده شده است. با نوشتن این توابع، می‌توانیم به صورت ماژولار الگوریتم را پیاده‌سازی کنیم تا در ادامه بتوانیم به راحتی کدمان را دیباگ کنیم.\n",
        "</font>\n",
        "</p>"
      ]
    },
    {
      "cell_type": "markdown",
      "metadata": {
        "id": "hSd81dbBe6xQ"
      },
      "source": [
        "<div dir=\"right\">\n",
        "  <h4 align=\"right\" style=\"line-height:200%;font-family:vazir;color:#0099cc\">\n",
        "    <font face=\"vazirmatn\" color=\"#0099cc\">\n",
        "      تابع پیش‌بینی امتیاز\n",
        "    </font>\n",
        "  </h4>\n",
        "</div>\n",
        "\n",
        "\n",
        "<p dir=rtl style=\"direction: rtl; text-align: justify; line-height:200%; font-family:vazir; font-size:medium\">\n",
        "<font face=\"vazirmatn\" size=3>\n",
        "بدنه تابع <code>calculate_predicted_rating</code> را طوری بنویسید که با گرفتن مقادیر مناسب، مقدار امتیاز کاربر <code>u</code> به آیتم <code>i</code> را پیش‌بینی کند. برای پیش‌بینی باید مقدار زیر محاسبه شود:\n",
        "\n",
        "$$PredictedRating_{[u, i]} = P_{[u, :]} \\cdot Q_{[:, i]} + GlobalAverage + UserBias_{[u]} + ItemBias_{[i]}$$\n",
        "</font>\n",
        "</p>"
      ]
    },
    {
      "cell_type": "code",
      "execution_count": 21,
      "metadata": {
        "id": "17i0Ca2Se6xQ"
      },
      "outputs": [],
      "source": [
        "def calculate_predicted_rating(user_idx, item_idx, P, Q, user_bias, item_bias, global_average):\n",
        "    \"\"\"\n",
        "    Calculates the predicted rating for a single user-item pair.\n",
        "\n",
        "    Args:\n",
        "        user_idx (int): Mapped index of the user.\n",
        "        item_idx (int): Mapped index of the item.\n",
        "        P (np.ndarray): User latent feature matrix (num_users, k).\n",
        "        Q (np.ndarray): Item latent feature matrix (k, num_items).\n",
        "        user_bias (np.ndarray): User bias vector (num_users,).\n",
        "        item_bias (np.ndarray): Item bias vector (num_items,).\n",
        "        global_average (float): Global average rating.\n",
        "\n",
        "    Returns:\n",
        "        float: The predicted rating.\n",
        "    \"\"\"\n",
        "    # TODO\n",
        "    predicted_rating = (\n",
        "        P[user_idx, :] @ Q[:, item_idx]\n",
        "        + global_average\n",
        "        + user_bias[user_idx]\n",
        "        + item_bias[item_idx]\n",
        "    )\n",
        "\n",
        "    return predicted_rating"
      ]
    },
    {
      "cell_type": "markdown",
      "metadata": {
        "id": "wt7cFJCLe6xQ"
      },
      "source": [
        "<div dir=\"right\">\n",
        "  <h4 align=\"right\" style=\"line-height:200%;font-family:vazir;color:#0099cc\">\n",
        "    <font face=\"vazirmatn\" color=\"#0099cc\">\n",
        "      تابع محاسبه خطا\n",
        "    </font>\n",
        "  </h4>\n",
        "</div>\n",
        "\n",
        "\n",
        "<p dir=rtl style=\"direction: rtl; text-align: justify; line-height:200%; font-family:vazir; font-size:medium\">\n",
        "<font face=\"vazirmatn\" size=3>\n",
        "بدنه تابع <code>calculate_error</code> را طوری بنویسید که با گرفتن مقادیر مناسب، مقدار خطای امتیاز پیش‌بینی‌شده کاربر <code>u</code> به آیتم <code>i</code> را محاسبه کند. برای محاسبه خطا باید مقدار زیر محاسبه شود:\n",
        "\n",
        "$$Error = ActualRating - PredictedRating$$\n",
        "</font>\n",
        "</p>"
      ]
    },
    {
      "cell_type": "code",
      "execution_count": 22,
      "metadata": {
        "id": "dG-oTv-Ae6xQ"
      },
      "outputs": [],
      "source": [
        "def calculate_error(actual_rating, predicted_rating):\n",
        "    \"\"\"\n",
        "    Calculates the prediction error for a single rating.\n",
        "\n",
        "    Args:\n",
        "        actual_rating (float): The actual observed rating.\n",
        "        predicted_rating (float): The predicted rating.\n",
        "\n",
        "    Returns:\n",
        "        float: The prediction error (actual - predicted).\n",
        "    \"\"\"\n",
        "    # TODO\n",
        "    error = actual_rating - predicted_rating\n",
        "\n",
        "    return error"
      ]
    },
    {
      "cell_type": "markdown",
      "metadata": {
        "id": "hqjoHDioe6xQ"
      },
      "source": [
        "<div dir=\"right\">\n",
        "  <h4 align=\"right\" style=\"line-height:200%;font-family:vazir;color:#0099cc\">\n",
        "    <font face=\"vazirmatn\" color=\"#0099cc\">\n",
        "      تابع به‌روزرسانی سوگیری‌ها\n",
        "    </font>\n",
        "  </h4>\n",
        "</div>\n",
        "\n",
        "\n",
        "<p dir=rtl style=\"direction: rtl; text-align: justify; line-height:200%; font-family:vazir; font-size:medium\">\n",
        "<font face=\"vazirmatn\" size=3>\n",
        "بدنه تابع <code>update_biases</code> را طوری بنویسید که با گرفتن مقادیر مناسب سوگیری‌های کاربرها و آیتم‌ها را به‌روز‌رسانی کند. برای به‌روزرسانی مقادیر آرایه بایاس مورد نظر، به شرح زیر عمل کنید.\n",
        "\n",
        "$$BiasArray_{[i]} \\leftarrow LearningRate * (Error - \\lambda * BiasArray_{[i]})$$\n",
        "</font>\n",
        "</p>"
      ]
    },
    {
      "cell_type": "code",
      "execution_count": 23,
      "metadata": {
        "id": "e4TckKJ3e6xQ"
      },
      "outputs": [],
      "source": [
        "def update_biases(user_idx, item_idx, error, user_bias, item_bias, learning_rate, lambda_reg):\n",
        "    \"\"\"\n",
        "    Updates the user and item biases using the calculated error and SGD rules.\n",
        "\n",
        "    Args:\n",
        "        user_idx (int): Mapped index of the user.\n",
        "        item_idx (int): Mapped index of the item.\n",
        "        error (float): The prediction error for the user-item pair.\n",
        "        user_bias (np.ndarray): User bias vector (num_users,).\n",
        "        item_bias (np.ndarray): Item bias vector (num_items,).\n",
        "        learning_rate (float): The learning rate for SGD.\n",
        "        lambda_reg (float): The regularization parameter.\n",
        "    \"\"\"\n",
        "\n",
        "    # TODO\n",
        "    user_bias[user_idx] += learning_rate * (error - lambda_reg * user_bias[user_idx])\n",
        "    item_bias[item_idx] += learning_rate * (error - lambda_reg * item_bias[item_idx])"
      ]
    },
    {
      "cell_type": "markdown",
      "metadata": {
        "id": "YRwpP-bbe6xQ"
      },
      "source": [
        "<div dir=\"right\">\n",
        "  <h4 align=\"right\" style=\"line-height:200%;font-family:vazir;color:#0099cc\">\n",
        "    <font face=\"vazirmatn\" color=\"#0099cc\">\n",
        "      تابع به‌روزرسانی مقادیر ویژگی‌های پنهان\n",
        "    </font>\n",
        "  </h4>\n",
        "</div>\n",
        "\n",
        "\n",
        "<p dir=rtl style=\"direction: rtl; text-align: justify; line-height:200%; font-family:vazir; font-size:medium\">\n",
        "<font face=\"vazirmatn\" size=3>\n",
        "بدنه تابع <code>update_latent_features</code> را طوری بنویسید که مقادیر ویژگی‌های پنهان کاربرها و آیتم‌ها را به‌روز‌رسانی کند. این تابع به عنوان ورودی اندیس کاربر، اندیس آیتم، میزان خطای پیش‌بینی شده، ماتریس‌های P و Q به همراه پارامترهای مدل را می‌گیرد و برای به‌روزرسانی مقادیر ماتریس‌های P و Q به ازای هر عنصر f در بردارهای ویژگی‌های پنهان کاربر و آیتم به ترتیب به روش زیر عمل می‌کند:\n",
        "\n",
        "$$P_{uf} \\leftarrow P_{uf} + \\alpha \\left(  \\cdot \\text{error} \\cdot Q_{fi} -  \\lambda P_{uf} \\right)$$\n",
        "\n",
        "\n",
        "$$Q_{fi} \\leftarrow Q_{fi} + \\alpha \\left( \\text{error} \\cdot P_{uf} - \\lambda Q_{fi} \\right)$$\n",
        "\n",
        "</font>\n",
        "</p>"
      ]
    },
    {
      "cell_type": "code",
      "execution_count": 24,
      "metadata": {
        "id": "UyjJNQjwe6xQ"
      },
      "outputs": [],
      "source": [
        "def update_latent_features(user_idx, item_idx, error, P, Q, learning_rate, lambda_reg, k):\n",
        "    \"\"\"\n",
        "    Updates the user and item latent features using the calculated error and SGD rules.\n",
        "\n",
        "    Args:\n",
        "        user_idx (int): Mapped index of the user.\n",
        "        item_idx (int): Mapped index of the item.\n",
        "        error (float): The prediction error for the user-item pair.\n",
        "        P (np.ndarray): User latent feature matrix (num_users, k).\n",
        "        Q (np.ndarray): Item latent feature matrix (k, num_items).\n",
        "        learning_rate (float): The learning rate for SGD.\n",
        "        lambda_reg (float): The regularization parameter.\n",
        "        k (int): The number of latent features.\n",
        "    \"\"\"\n",
        "\n",
        "    for f in range(k):\n",
        "        # TODO\n",
        "        P[user_idx, f] += learning_rate * (error * Q[f, item_idx] - lambda_reg * P[user_idx, f])\n",
        "        Q[f, item_idx] += learning_rate * (error * P[user_idx, f] - lambda_reg * Q[f, item_idx])\n"
      ]
    },
    {
      "cell_type": "markdown",
      "metadata": {
        "id": "OOqGuliQe6xQ"
      },
      "source": [
        "<div dir=\"right\">\n",
        "  <h4 align=\"right\" style=\"line-height:200%;font-family:vazir;color:#0099cc\">\n",
        "    <font face=\"vazirmatn\" color=\"#0099cc\">\n",
        "      تابع محاسبه خطا\n",
        "    </font>\n",
        "  </h4>\n",
        "</div>\n",
        "\n",
        "<div dir=\"rtl\">\n",
        "<p dir=rtl style=\"direction: rtl; text-align: justify; line-height:200%; font-family:vazir; font-size:medium\">\n",
        "<font face=\"vazirmatn\" size=3>\n",
        "\n",
        "به عنوان آخرین تابع کمکی، نیاز به تابعی برای محاسبه خطای *Root Mean Squared Error* داریم. این تابع به ما برای ارزیابی مدل آموزش‌دیده برای مسئله پیش‌بینی امتیاز کمک ویژه‌ای می‌کند.\n",
        "\n",
        "تابع زیر را به‌گونه‌ای بنویسید:\n",
        "\n",
        "- با فراخوانی تابع `calculate_predicted_rating` امتیاز کاربر $u$ به آیتم $i$ را پیش‌بینی کند.\n",
        "\n",
        "- میزان خطای این پیش‌بینی را با کم‌کردن این مقدار از امتیاز واقعی محاسبه کند. سپس توان دوم این خطا را به متغیر `sse` اضافه کند.\n",
        "\n",
        "- در نهایت با کمک `sse` مقدار **ریشه دوم میانگین خطا** یا `rmse` را برگرداند.\n",
        "\n",
        "</font>\n",
        "</p>"
      ]
    },
    {
      "cell_type": "code",
      "execution_count": 25,
      "metadata": {
        "id": "-EGxn4Lse6xQ"
      },
      "outputs": [],
      "source": [
        "def calculate_rmse(P, Q, user_bias, item_bias, global_average, sparse_matrix):\n",
        "    \"\"\"\n",
        "    Calculates the Root Mean Squared Error (RMSE) on a sparse matrix.\n",
        "\n",
        "    Args:\n",
        "        P (np.ndarray): Trained user latent feature matrix.\n",
        "        Q (np.ndarray): Trained item latent feature matrix.\n",
        "        user_bias (np.ndarray): Trained user bias vector.\n",
        "        item_bias (np.ndarray): Trained item bias vector.\n",
        "        global_average (float): Calculated global average rating.\n",
        "        sparse_matrix (matrix): The sparse matrix to evaluate on (e.g., test set).\n",
        "\n",
        "    Returns:\n",
        "        float: The calculated RMSE.\n",
        "    \"\"\"\n",
        "\n",
        "    rows = sparse_matrix.row\n",
        "    cols = sparse_matrix.col\n",
        "    data = sparse_matrix.data\n",
        "    num_samples = len(data)\n",
        "\n",
        "    if num_samples == 0:\n",
        "        return 0.0 # Avoid division by zero\n",
        "\n",
        "    sse = 0 # Sum of Squared Errors\n",
        "    for idx in range(num_samples):\n",
        "        # TODO\n",
        "        u = rows[idx]\n",
        "        i = cols[idx]\n",
        "        r_ui = data[idx]\n",
        "\n",
        "        predicted_rating = calculate_predicted_rating(u, i, P, Q, user_bias, item_bias, global_average)\n",
        "        error = calculate_error(r_ui, predicted_rating)\n",
        "        sse += error ** 2\n",
        "\n",
        "\n",
        "\n",
        "    rmse = np.sqrt(sse / num_samples)\n",
        "    return rmse"
      ]
    },
    {
      "cell_type": "markdown",
      "metadata": {
        "id": "SZYfE5phe6xQ"
      },
      "source": [
        "\n",
        "<div dir=\"rtl\">\n",
        "  <h2 align=\"right\" style=\"line-height:200%;font-family:vazir;color:#0099cc\">\n",
        "    <font face=\"vazirmatn\" color=\"#0099cc\">\n",
        "      گام پنجم: پیاده‌سازی حلقه آموزش\n",
        "    </font>\n",
        "  </h2>\n",
        "</div>\n",
        "\n",
        "\n",
        "<p dir=rtl style=\"line-height:200%; font-size:medium\">\n",
        "<font face=\"vazirmatn\" size=4>\n",
        "در این بخش به پیاده‌سازی حلقه اصلی آموزش می‌پردازیم. ابتدا نیاز است که برای عملیات‌های سطری و ستونی، سطرها و ستون‌ها را در متغیرهای جدا ذخیره کنید. با استفاده از این سطرها و ستون‌ها، می‌توانیم به مقادیر مرتبط با هرکاربر و هرآیتم به راحتی دسترسی داشته باشیم.\n",
        "</font>\n",
        "</p>\n",
        "\n",
        "\n",
        "<div dir=\"rtl\">\n",
        "<p style=\"line-height:200%; font-size:medium\">\n",
        "<font face=\"vazirmatn\" size=4>\n",
        "\n",
        "**برای پیاده‌سازی حلقه اصلی آموزش، بهتر است روش زیر عمل کنیم.**\n",
        "\n",
        "\n",
        "برای هر `epoch` از ۱ تا `num_epochs`:  \n",
        "\n",
        "\n",
        "- اندیس‌های داده‌های آموزشی را به صورت تصادفی (`shuffle`) مرتب کنید.  \n",
        "\n",
        " - برای هر نمونه `idx` در داده‌های تصادفی‌شده:  \n",
        "\n",
        "\t- کاربر (`u`)، آیتم (`i`)، و رتبه واقعی (`r_ui`) را از داده‌های آموزشی استخراج کنید.  \n",
        "       \n",
        "    -  با استفاده از تابع کمکی `calculate_predicted_rating`، امتیاز کاربر `u` به آیتم `i` را پیش‌بینی کنید.\n",
        "      \n",
        "    - با استفاده از تابع کمکی`calculate_error`، میزان خطای پیش‌بینی را محاسبه کنید.\n",
        "    \n",
        "    - با استفاده از تابع کمکی `update_biases` سوگیری‌های کاربران و آیتم‌ها را به‌روزرسانی کنید.\n",
        "     \n",
        "    - با استفاده از تابع کمکی `update_latent_features` مقادیر ویژگی‌های پنهان در ماتریس‌های P و Q به‌روزرسانی کنید.\n",
        "\n",
        "\n",
        "سپس در ادامه میزان `rmse` را در هر `log_step` دوره، محاسبه و چاپ می‌کنیم تا میزان همگرایی مدل را ببینیم.\n",
        "\n",
        "\n",
        "<details>\n",
        "<summary>نکته</summary>\n",
        "تنها قسمت مشخص‌شده با کامنت TODO را تکمیل کنید.\n",
        "</details>\n",
        "</font>\n",
        "</p>\n",
        "</div>\n"
      ]
    },
    {
      "cell_type": "code",
      "execution_count": 26,
      "metadata": {
        "id": "nRzTuznPe6xQ"
      },
      "outputs": [
        {
          "name": "stdout",
          "output_type": "stream",
          "text": [
            "Starting training...\n",
            "Epoch 1/10, Train RMSE: 1.6738, Test RMSE: 1.6977\n",
            "Epoch 2/10, Train RMSE: 1.6199, Test RMSE: 1.6676\n",
            "Epoch 3/10, Train RMSE: 1.5822, Test RMSE: 1.6512\n",
            "Epoch 4/10, Train RMSE: 1.5519, Test RMSE: 1.6403\n",
            "Epoch 5/10, Train RMSE: 1.5263, Test RMSE: 1.6328\n",
            "Epoch 6/10, Train RMSE: 1.5039, Test RMSE: 1.6276\n",
            "Epoch 7/10, Train RMSE: 1.4830, Test RMSE: 1.6232\n",
            "Epoch 8/10, Train RMSE: 1.4636, Test RMSE: 1.6202\n",
            "Epoch 9/10, Train RMSE: 1.4446, Test RMSE: 1.6181\n",
            "Epoch 10/10, Train RMSE: 1.4249, Test RMSE: 1.6160\n",
            "\n",
            "Training finished.\n"
          ]
        }
      ],
      "source": [
        "train_rows = train.row\n",
        "train_cols = train.col\n",
        "train_data = train.data\n",
        "num_train_samples = len(train_data)\n",
        "\n",
        "print(\"Starting training...\")\n",
        "\n",
        "for epoch in range(num_epochs):\n",
        "    # Shuffle the order of training samples\n",
        "    shuffled_indices = list(range(num_train_samples))\n",
        "    random.shuffle(shuffled_indices)\n",
        "\n",
        "    # Iterate through shuffled training samples\n",
        "    for idx in shuffled_indices:\n",
        "        # TODO\n",
        "        u = train_rows[idx]\n",
        "        i = train_cols[idx]\n",
        "        r_ui = train_data[idx]\n",
        "        \n",
        "        predicted_rating = calculate_predicted_rating(u, i, P, Q, user_bias, item_bias, global_average)\n",
        "        error = calculate_error(r_ui, predicted_rating)\n",
        "        update_biases(u, i, error, user_bias, item_bias, learning_rate, lambda_reg)\n",
        "        update_latent_features(u, i, error, P, Q, learning_rate, lambda_reg, k)\n",
        "\n",
        "    # Calculate and print training RMSE after this epoch (or periodically)\n",
        "    if (epoch + 1) % log_step == 0:\n",
        "        train_rmse = calculate_rmse(P, Q, user_bias, item_bias, global_average, train)\n",
        "        test_rmse = calculate_rmse(P, Q, user_bias, item_bias, global_average, test)\n",
        "        print(f\"Epoch {epoch+1}/{num_epochs}, Train RMSE: {train_rmse:.4f}, Test RMSE: {test_rmse:.4f}\")\n",
        "\n",
        "print(\"\\nTraining finished.\")"
      ]
    },
    {
      "cell_type": "markdown",
      "metadata": {
        "id": "2G5lHEWse6xQ"
      },
      "source": [
        "<p dir=rtl style=\"direction: rtl; text-align: justify; line-height:200%; font-family:vazir; font-size:medium\">\n",
        "<font face=\"vazirmatn\" size=3>\n",
        "  در این قسمت نیاز است که عملکرد مدل خود را به طور همزمان بر روی ماتریس آموزش و آزمون در نظر بگیرید. اگر عملکرد مدل شما بر روی ماتریس آزمون مورد قبول نیست، برای مثال در این‌جا میزان خطای بالای 1.7، بهتر است با بازتنظیم پارامترهای مدل، به بهبود مدل یادگیری خود بپردازید. در ضمن توجه کنید که میزان خطای سیستم برروی داده‌های آموزش و آزمون، نباید فرق قابل توجهی داشته باشند!\n",
        "</font>\n",
        "</p>"
      ]
    },
    {
      "cell_type": "markdown",
      "metadata": {
        "id": "xtoMwGxCe6xR"
      },
      "source": [
        "<div dir=\"rtl\">\n",
        "<p dir=rtl style=\"line-height:200%; font-size:medium\">\n",
        "<font face=\"vazirmatn\" size=4>\n",
        "حال که آموزش مدل به پایان رسید، می‌توانید با استفاده از کد زیر، <b>میزان امتیازی که کاربر مورد نظر به یک آیتم خاص می‌دهد را محاسبه کنید</b>.\n",
        "\n",
        "برای این کار کافی‌ست این متغیرهای `user_idx` و `item_idx` را با مقادیر مناسب پر کنید. در ادامه با استفاده از کدی مشابه به سلول پایین، عملیات پیشنهاد دادن را انجام دهیم.\n",
        "</font>\n",
        "</p>\n",
        "</div>"
      ]
    },
    {
      "cell_type": "code",
      "execution_count": 27,
      "metadata": {},
      "outputs": [
        {
          "data": {
            "text/plain": [
              "array([     8,      9,     12, ..., 262128, 262130, 262138],\n",
              "      shape=(64078,))"
            ]
          },
          "execution_count": 27,
          "metadata": {},
          "output_type": "execute_result"
        }
      ],
      "source": [
        "unique_user_ids"
      ]
    },
    {
      "cell_type": "code",
      "execution_count": 28,
      "metadata": {},
      "outputs": [
        {
          "data": {
            "text/plain": [
              "array(['0002005018', '074322678X', '0887841740', ..., '0883966336',\n",
              "       '0935906010', '1880461048'], shape=(144804,), dtype=object)"
            ]
          },
          "execution_count": 28,
          "metadata": {},
          "output_type": "execute_result"
        }
      ],
      "source": [
        "unique_item_ids"
      ]
    },
    {
      "cell_type": "code",
      "execution_count": 31,
      "metadata": {
        "id": "8BsCW0exe6xR"
      },
      "outputs": [
        {
          "name": "stdout",
          "output_type": "stream",
          "text": [
            "\n",
            "Predicted rating for original user ID 8 (mapped index 0) and original item ID 0671021745 (mapped index 100): 6.4098\n"
          ]
        }
      ],
      "source": [
        "user_idx = 8\n",
        "item_idx = 100\n",
        "\n",
        "\n",
        "try:\n",
        "    mapped_user_idx = np.where(unique_user_ids == user_idx)[0][0]\n",
        "    mapped_item_idx = unique_item_ids[item_idx]\n",
        "    mapped_item_idx_for_prediction = np.where(unique_item_ids == mapped_item_idx)[0][0]\n",
        "\n",
        "\n",
        "    predicted_rating_example = calculate_predicted_rating(mapped_user_idx, mapped_item_idx_for_prediction, P, Q, user_bias, item_bias, global_average)\n",
        "    print(f\"\\nPredicted rating for original user ID {user_idx} (mapped index {mapped_user_idx}) and original item ID {unique_item_ids[item_idx]} (mapped index {mapped_item_idx_for_prediction}): {predicted_rating_example:.4f}\")\n",
        "\n",
        "except IndexError:\n",
        "    print(\"\\nCould not find mapped index for example prediction. Ensure original IDs exist in unique IDs.\")"
      ]
    },
    {
      "cell_type": "markdown",
      "metadata": {
        "id": "PJUsJ-s3e6xR"
      },
      "source": [
        "<div dir=\"right\">\n",
        "  <h2 align=\"right\" style=\"line-height:200%;font-family:vazir;color:#0099cc\">\n",
        "    <font face=\"vazirmatn\" color=\"#0099cc\">\n",
        "      تشکیل لیست پیشنهادی\n",
        "    </font>\n",
        "  </h2>\n",
        "</div>\n",
        "\n",
        "<div dir=\"rtl\">\n",
        "<p dir=rtl style=\"direction: rtl; text-align: justify; line-height:200%; font-family:vazir; font-size:medium\">\n",
        "<font face=\"vazirmatn\" size=3>\n",
        "\n",
        "در این قسمت تابع <code>get_recommendations</code> برای شما از قبل پیاده‌سازی شده است تا با کمک آن و مدلی که آموزش داده‌اید، برای کاربر دلخواه یک لیست پیشنهادی از کتاب‌ها به طول دلخواه <code>n</code> بسازید. این تابع امتیازهای کاربر به آیتم‌ها را پیش‌بینی می‌کند؛ سپس `n` آیتم اول با بیشترین امتیاز را برمی‌گرداند.\n",
        "\n",
        "این تابع با گرفتن مقادیر مناسب به ترتیب به صورت زیر عمل می‌کند:\n",
        "\n",
        "- بررسی می‌کند که آیدی کاربر مورد نظر معتبر باشد.\n",
        "- آیتم‌هایی را که کاربر امتیازی برای آن‌ها ثبت نکرده را پیدا می‌کند.\n",
        "- امتیاز کاربر به این آیتم‌ها را پیش‌بینی می‌کند.\n",
        "- با کمک مرتب‌سازی لیست امتیازهای پیش‌بینی شده، `n` آیتم اولی که بیشترین امتیاز برای آن‌ها پیش‌بینی شده را پیدا می کند.\n",
        "- آیدی آیتم‌های پیشنهادی را برمی‌گرداند.\n",
        "</font>\n",
        "</p>\n",
        "<div>"
      ]
    },
    {
      "cell_type": "code",
      "execution_count": 46,
      "metadata": {},
      "outputs": [
        {
          "name": "stdout",
          "output_type": "stream",
          "text": [
            "[20 19]\n"
          ]
        },
        {
          "data": {
            "text/plain": [
              "array([9, 6, 9, ..., 5, 7, 8], shape=(290827,))"
            ]
          },
          "execution_count": 46,
          "metadata": {},
          "output_type": "execute_result"
        }
      ],
      "source": [
        "user_idx = 8\n",
        "rated_items = train.getrow(user_idx).indices\n",
        "\n",
        "print(rated_items)\n",
        "\n",
        "train.data"
      ]
    },
    {
      "cell_type": "code",
      "execution_count": null,
      "metadata": {
        "id": "cqohVQLce6xR"
      },
      "outputs": [],
      "source": [
        "def get_recommendations(original_user_id, n, P, Q, user_bias, item_bias, global_average, train_matrix, unique_user_ids, unique_item_ids):\n",
        "    \"\"\"\n",
        "    Generates top N recommendations for a given user.\n",
        "\n",
        "    Args:\n",
        "        original_user_id: The original ID of the user.\n",
        "        n (int): The number of recommendations to generate.\n",
        "        P (np.ndarray): Trained user latent feature matrix (num_users, k).\n",
        "        Q (np.ndarray): Trained item latent feature matrix (k, num_items).\n",
        "        user_bias (np.ndarray): Trained user bias vector (num_users,).\n",
        "        item_bias (np.ndarray): Trained item bias vector (num_items,).\n",
        "        global_average (float): Calculated global average rating.\n",
        "        train_matrix (matrix): The sparse training interaction matrix.\n",
        "        unique_user_ids (np.ndarray): Array mapping mapped user indices to original IDs.\n",
        "        unique_item_ids (np.ndarray): Array mapping mapped item indices to original IDs.\n",
        "\n",
        "    Returns:n_matrix\n",
        "        list: A list of tuples (original_item_id, predicted_rating) for the top N recommendations.\n",
        "              Returns an empty list if the user ID is not found.\n",
        "    \"\"\"\n",
        "    # Find the mapped index for the original user ID\n",
        "    try:\n",
        "        user_idx = np.where(unique_user_ids == original_user_id)[0][0]\n",
        "    except IndexError:\n",
        "        print(f\"Warning: Original user ID {original_user_id} not found in unique user IDs.\")\n",
        "        return [] # Return empty list if user not found\n",
        "\n",
        "    num_items = Q.shape[1]\n",
        "    all_item_indices = np.arange(num_items)\n",
        "\n",
        "    # Find items the user has already rated in the training set\n",
        "    user_row_sparse = train_matrix.getrow(user_idx)\n",
        "    rated_item_indices = user_row_sparse.indices\n",
        "\n",
        "    # Find items the user has NOT rated\n",
        "    unrated_item_indices = np.setdiff1d(all_item_indices, rated_item_indices)\n",
        "\n",
        "    user_latent_features = P[user_idx, :] # Shape (k,)\n",
        "    unrated_item_latent_features = Q[:, unrated_item_indices] # Shape (k, num_unrated_items)\n",
        "\n",
        "    # Calculate dot products: result is (num_unrated_items,)\n",
        "    latent_predictions = user_latent_features @ unrated_item_latent_features # Using @ for matrix multiplication (1xk @ kxN -> 1xN)\n",
        "\n",
        "    predicted_ratings_for_user = global_average + user_bias[user_idx] + item_bias[unrated_item_indices] + latent_predictions\n",
        "\n",
        "\n",
        "    # Get the indices of the top N predicted ratings within the unrated_item_indices array\n",
        "    top_n_indices_in_unrated = np.argsort(predicted_ratings_for_user)[::-1][:n]\n",
        "\n",
        "    # Get the mapped item indices of the top N recommended items\n",
        "    recommended_mapped_item_indices = unrated_item_indices[top_n_indices_in_unrated]\n",
        "\n",
        "    # Get the original item IDs and their predicted ratings\n",
        "    recommended_items_with_ratings = [(unique_item_ids[item_idx], predicted_ratings_for_user[i])\n",
        "                                      for i, item_idx in enumerate(recommended_mapped_item_indices)] # Use index 'i' from top_n_indices_in_unrated to get the correct predicted rating\n",
        "\n",
        "    return recommended_items_with_ratings\n"
      ]
    },
    {
      "cell_type": "markdown",
      "metadata": {
        "id": "v3IB0fUFe6xR"
      },
      "source": [
        "<p dir=rtl style=\"direction: rtl; text-align: justify; line-height:200%; font-family:vazir; font-size:medium\">\n",
        "<font face=\"vazirmatn\" size=3>\n",
        "برای استفاده از تابع <code>get_recommendations</code> کافی است از قطعه کد زیر استفاده کنید و متغیر <code>original_user_id_to_recommend</code> را با آیدی اصلی کاربر مورد نظر و <code>top_n_recommendations</code> را با یک عدد صحیح مثبت که نشان‌دهنده تعداد آیتم‌های پیشنهادی است مقداردهی کنید.\n",
        "</font>\n",
        "</p>\n",
        "\n",
        "<style>\n",
        ".rtl {\n",
        "  direction: rtl;\n",
        "  text-align: right;\n",
        "  font-family: vazir;\n",
        "}\n",
        "</style>\n",
        "\n",
        "<div class=\"rtl\">\n",
        "<details class=\"green\">\n",
        "<summary>\n",
        "توجه\n",
        "</summary>\n",
        "برای استفاده بهتر می‌توانید آید‌ی‌های معتبر کاربران را از لیست <code>unique_user_ids</code> به دست بیاورید.\n",
        "</details>\n",
        "</div>"
      ]
    },
    {
      "cell_type": "code",
      "execution_count": null,
      "metadata": {
        "id": "HgM828cee6xR"
      },
      "outputs": [],
      "source": [
        "original_user_id_to_recommend = None\n",
        "top_n_recommendations = None\n",
        "\n",
        "recommendations = get_recommendations(original_user_id_to_recommend, top_n_recommendations, P, Q, user_bias, item_bias, global_average, train, unique_user_ids, unique_item_ids)\n",
        "\n",
        "if recommendations:\n",
        "    print(f\"\\nTop {top_n_recommendations} recommendations for original user ID {original_user_id_to_recommend}:\")\n",
        "    for item_id, predicted_rating in recommendations:\n",
        "        print(f\"  Item ID: {item_id}, Predicted Rating: {predicted_rating:.4f}\")"
      ]
    },
    {
      "cell_type": "markdown",
      "metadata": {
        "id": "HiQaWVAje6xR"
      },
      "source": [
        "<div dir=\"right\">\n",
        "  <h2 align=\"right\" style=\"line-height:200%;font-family:vazir;color:#0099cc\">\n",
        "    <font face=\"vazirmatn\" color=\"#0099cc\">\n",
        "      ایجاد پاسخ\n",
        "    </font>\n",
        "  </h2>\n",
        "</div>\n",
        "\n",
        "<p dir=rtl style=\"direction: rtl; text-align: justify; line-height:200%; font-family:vazir; font-size:medium\">\n",
        "<font face=\"vazirmatn\" size=3>\n",
        "در سلول زیر لیستی از آیدی‌های کاربران نوشته شده است. با اجرای کد زیر و با کمک تابع <code>get_recommendations</code> لیستی پیشنهادی برای کاربران مورد نظر ساخته می‌شود. عملکرد شما در این تمرین با کمک این لیست سنجیده خواهد شد. از تغییر محتویات سلول زیر اجتناب کنید.\n",
        "</font>\n",
        "</p>"
      ]
    },
    {
      "cell_type": "code",
      "execution_count": null,
      "metadata": {
        "id": "NpmwMsQ6e6xR"
      },
      "outputs": [],
      "source": [
        "import pandas as pd\n",
        "\n",
        "eval_users_idx = [8, 9, 12, 14, 16, 17, 19, 22, 26, 32, 39, 42, 44, 51, 53, 56, 64, 67, 69, 70]\n",
        "eval_top_n_recommendations = 10\n",
        "eval_recommendations = [get_recommendations(user_idx, eval_top_n_recommendations, P, Q, user_bias, item_bias, global_average, train, unique_user_ids, unique_item_ids)\n",
        "                        for user_idx in eval_users_idx]"
      ]
    },
    {
      "cell_type": "markdown",
      "metadata": {
        "id": "9X3jxFlCe6xR"
      },
      "source": [
        "<h2 align=right style=\"line-height:200%;font-family:vazir;color:#0099cc\">\n",
        "<font face=\"vazirmatn\" color=\"#0099cc\">\n",
        "<b>سلول جواب‌ساز</b>\n",
        "</font>\n",
        "</h2>\n",
        "\n",
        "\n",
        "<p dir=rtl style=\"direction: rtl; text-align: justify; line-height:200%; font-family:vazir; font-size:medium\">\n",
        "<font face=\"vazirmatn\" size=3>\n",
        "    برای ساخته‌شدن فایل <code>result.zip</code> سلول زیر را اجرا کنید. توجه داشته باشید که پیش از اجرای سلول زیر تغییرات اعمال شده در نوت‌بوک را ذخیره کرده باشید (<code>ctrl+s</code>) تا در صورت نیاز به پشتیبانی امکان بررسی کد شما وجود داشته باشد.\n",
        "</font>\n",
        "</p>"
      ]
    },
    {
      "cell_type": "code",
      "execution_count": null,
      "metadata": {
        "id": "NQC63-Ebe6xR"
      },
      "outputs": [],
      "source": [
        "import zipfile\n",
        "import os\n",
        "import scipy.sparse\n",
        "import numpy as np\n",
        "\n",
        "if not os.path.exists(os.path.join(os.getcwd(), 'initial.ipynb')):\n",
        "    %notebook -e initial.ipynb\n",
        "\n",
        "def compress(file_names):\n",
        "    print(\"File Paths:\")\n",
        "    print(file_names)\n",
        "    compression = zipfile.ZIP_DEFLATED\n",
        "    with zipfile.ZipFile(\"result.zip\", mode=\"w\") as zf:\n",
        "        for file_name in file_names:\n",
        "            zf.write('./' + file_name, file_name, compress_type=compression)\n",
        "\n",
        "\n",
        "np.savez('submission.npz', submission=eval_recommendations)\n",
        "\n",
        "\n",
        "file_names = ['initial.ipynb', 'submission.npz']\n",
        "compress(file_names)"
      ]
    },
    {
      "cell_type": "markdown",
      "metadata": {
        "id": "TouTD5zIe6xR"
      },
      "source": [
        "<h2 align=right style=\"line-height:200%;font-family:vazir;color:#0099cc\">\n",
        "<font face=\"vazirmatn\" color=\"#0099cc\">\n",
        "ثبت دیدگاه\n",
        "</font>\n",
        "</h2>\n",
        "\n",
        "\n",
        "<p dir=rtl style=\"direction: rtl; text-align: justify; line-height:200%; font-family:vazir; font-size:medium\">\n",
        "<font face=\"vazirmatn\" size=3>\n",
        "امیدواریم از انجام این تمرین لذت برده باشید. دعوت می‌کنیم در صفحه تمرین نظر خود را در رابطه با این روش‌ تجزیه ماتریسی و تفاوت آن با روش‌های قبلی را با بقیه کاربران به اشتراک بگذارید.\n",
        "</font>\n",
        "</p>"
      ]
    }
  ],
  "metadata": {
    "colab": {
      "provenance": []
    },
    "kernelspec": {
      "display_name": "fastrec-env",
      "language": "python",
      "name": "python3"
    },
    "language_info": {
      "codemirror_mode": {
        "name": "ipython",
        "version": 3
      },
      "file_extension": ".py",
      "mimetype": "text/x-python",
      "name": "python",
      "nbconvert_exporter": "python",
      "pygments_lexer": "ipython3",
      "version": "3.12.3"
    }
  },
  "nbformat": 4,
  "nbformat_minor": 0
}
