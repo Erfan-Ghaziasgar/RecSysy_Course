{
  "cells": [
    {
      "cell_type": "markdown",
      "metadata": {
        "id": "WMGUoi7Q2NJT"
      },
      "source": [
        "<div dir=\"center\">\n",
        "  <h1 align=\"center\" style=\"line-height:200%;font-family:vazir;color:#0099cc\">\n",
        "    <font face=\"vazirmatn\" color=\"#0099cc\">\n",
        "      پیشنهاد قدرتی\n",
        "    </font>\n",
        "  </h1>\n",
        "</div>\n",
        "\n",
        "<p dir=\"rtl\" style=\"direction: rtl;text-align: justify;line-height:200%;font-family:vazir;font-size:medium\">\n",
        "  <font face=\"vazirmatn\" size=\"3\">\n",
        "  در این تمرین قرار است یک الگوریتم یادگیری ماشین مبتنی بر تجزیه ماتریسی به نام <code>ALS</code> را از اول با هم پیاده‌سازی کنیم و مراحل اجرای آن را قدم به قدم با هم دوره کنیم.\n",
        "  </font>\n",
        "</p>"
      ]
    },
    {
      "cell_type": "markdown",
      "metadata": {
        "id": "sd7Ms2bF2NJV"
      },
      "source": [
        "<p dir=\"rtl\" style=\"direction: rtl;text-align: justify;line-height:200%;font-family:vazir;font-size:medium\">\n",
        "  <font face=\"vazirmatn\" size=\"3\">\n",
        "    الگوریتم <code>ALS (Alternating Least Squares)</code> یک الگوریتم یادگیری ماشین است که مشابه با الگوریتم <code>Funk-SVD</code> به پیدا کردن ۲ ماتریس ویژگی‌های پنهان کاربر (<code>P</code>) و ویژگی‌های پنهان آیتم (<code>Q</code>) می‌پردازد. این الگوریتم از روشی استفاده می‌کند که با سرعت بیشتری ماتریس‌های مورد نظرمان را پیدا می‌کند که در ساخت سیستم‌هایی با قابلیت به‌روزرسانی بسیار موثر است.\n",
        "  </font>\n",
        "</p>"
      ]
    },
    {
      "cell_type": "markdown",
      "metadata": {
        "id": "YU3vieaY2NJW"
      },
      "source": [
        "\n",
        "<p dir=rtl style=\"direction: rtl; text-align: justify; line-height:200%; font-family:vazir; font-size:medium\">\n",
        "<font face=\"vazirmatn\" size=3>\n",
        "    در این تمرین همانند تمرین قبل قرار است از ماتریس‌های تعاملی که در تمرین اول فصل تجزیه ماتریسی ساختیم استفاده کنیم. این ماتریس‌ها در پوشه <code>Data</code> ذخیره شده‌اند. به ترتیب ماتریس موجود در فایل <code>train_matrix.npz</code> را در متغیر <code>train_matrix_coo</code> و ماتریس موجود در <code>test_matrix.npz</code> را در متغیر <code>test_matrix_coo</code> بارگذاری و ذخیره کنید.\n",
        "</font>\n",
        "</p>\n",
        "\n",
        "\n",
        "<p dir=rtl style=\"direction: rtl; text-align: justify; line-height:200%; font-family:vazir; font-size:medium\">\n",
        "<font face=\"vazirmatn\" size=3>\n",
        "    همچنین بردار آیدی‌های منحصر به فرد کاربران و آیتم‌ها به ترتیب با کلیدهای <code>users</code> و <code>items</code> در فایل <code>unique.npz</code> در پوشه <code>Data</code> ذخیره شده است. آن‌ها را به ترتیب در متغیرهای <code>unique_user_ids</code> و <code>unique_item_ids</code> ذخیره کنید.\n",
        "</font>\n",
        "</p>\n"
      ]
    },
    {
      "cell_type": "markdown",
      "metadata": {
        "id": "Djet7v912NJW"
      },
      "source": [
        "<p dir=rtl style=\"direction: rtl; text-align: justify; line-height:200%; font-family:vazir; font-size:medium\">\n",
        "<font face=\"vazirmatn\" size=3>\n",
        "    سپس برای انجام راحت‌تر عملیات‌های سطری-ستونی ماتریسی، ماتریس پراکنده ذخیره‌شده در متغیر <code>train_matrix_coo</code> را به حالت‌های <code>CSR</code> و <code>CSC</code> تبدیل کنید و در متغیرهای مربوطه ذخیره کنید.\n",
        "</font>\n",
        "</p>"
      ]
    },
    {
      "cell_type": "code",
      "execution_count": 123,
      "metadata": {
        "colab": {
          "base_uri": "https://localhost:8080/"
        },
        "id": "BKqlVAG82NJW",
        "outputId": "c0626189-2183-49b5-fb82-b48ee10b6021"
      },
      "outputs": [
        {
          "output_type": "stream",
          "name": "stdout",
          "text": [
            "Train matrix shape (CSR): (64078, 144804)\n",
            "Train matrix shape (CSC): (64078, 144804)\n",
            "Test matrix shape (CSR): (64078, 144804)\n"
          ]
        }
      ],
      "source": [
        "import numpy as np\n",
        "import pandas as pd\n",
        "from scipy.sparse import csr_matrix, coo_matrix\n",
        "import scipy.sparse\n",
        "import random\n",
        "\n",
        "\n",
        "train_matrix_path = './Data/train_matrix.npz'\n",
        "test_matrix_path = './Data/test_matrix.npz'\n",
        "unique_ids_path = './Data/unique.npz'\n",
        "\n",
        "# TODO\n",
        "train_matrix_coo = scipy.sparse.load_npz(train_matrix_path)\n",
        "test_matrix_coo = scipy.sparse.load_npz(test_matrix_path)\n",
        "\n",
        "unique_user_ids = np.load(unique_ids_path, allow_pickle=True)['users']\n",
        "unique_item_ids = np.load(unique_ids_path, allow_pickle=True)['items']\n",
        "\n",
        "train_matrix_csr = train_matrix_coo.tocsr()\n",
        "train_matrix_csc = train_matrix_coo.tocsc()\n",
        "test_matrix_csr = test_matrix_coo.tocsr()\n",
        "test_matrix_csc = test_matrix_coo.tocsc()\n",
        "\n",
        "\n",
        "print(f\"Train matrix shape (CSR): {train_matrix_csr.shape}\")\n",
        "print(f\"Train matrix shape (CSC): {train_matrix_csc.shape}\")\n",
        "print(f\"Test matrix shape (CSR): {test_matrix_csr.shape}\")"
      ]
    },
    {
      "cell_type": "markdown",
      "metadata": {
        "id": "tCvXEp0T2NJX"
      },
      "source": [
        "<div dir=\"right\">\n",
        "  <h2 align=\"right\" style=\"line-height:200%;font-family:vazir;color:#0099cc\">\n",
        "    <font face=\"vazirmatn\" color=\"#0099cc\">\n",
        "      گام اول\n",
        "    </font>\n",
        "  </h2>\n",
        "</div>\n",
        "\n",
        "<p dir=rtl style=\"direction: rtl; text-align: justify; line-height:200%; font-family:vazirmatn; font-size:medium\">\n",
        "<font face=\"vazirmatn\" size=3>\n",
        "  برای ساخت ماتریس‌های ویژگی‌های پنهان کاربر (P) و ماتریس ویژگی پنهان آیتم (Q) به تعداد کاربران و آیتم‌ها نیاز داریم. به ترتیب در متغیرهای <code>num_users</code> و <code>num_items</code> تعداد کاربران و آیتم‌ها را ذخیره کنید. برای این‌کار می‌توانید از ابعاد ماتریس <code>train_matrix_csr</code> کمک بگیرید.\n",
        "</font>\n",
        "</p>\n"
      ]
    },
    {
      "cell_type": "code",
      "execution_count": 124,
      "metadata": {
        "colab": {
          "base_uri": "https://localhost:8080/"
        },
        "id": "XGyVHhxC2NJX",
        "outputId": "958582d8-6d30-4eda-a1be-52366db24c5c"
      },
      "outputs": [
        {
          "output_type": "stream",
          "name": "stdout",
          "text": [
            "Number of unique users: 64078\n",
            "Number of unique items: 144804\n"
          ]
        }
      ],
      "source": [
        "# TODO\n",
        "num_users, num_items = train_matrix_csr.shape\n",
        "\n",
        "print(f\"Number of unique users: {num_users}\")\n",
        "print(f\"Number of unique items: {num_items}\")"
      ]
    },
    {
      "cell_type": "markdown",
      "metadata": {
        "id": "IGs3587m2NJX"
      },
      "source": [
        "<div dir=\"right\">\n",
        "  <h2 align=\"right\" style=\"line-height:200%;font-family:vazir;color:#0099cc\">\n",
        "    <font face=\"vazirmatn\" color=\"#0099cc\">\n",
        "      گام دوم:  تعریف پارامترهای مدل و الگوریتم\n",
        "    </font>\n",
        "  </h2>\n",
        "</div>\n",
        "\n",
        "\n",
        "\n",
        "\n",
        "<p dir=rtl style=\"direction: rtl; text-align: justify; line-height:200%; font-family:vazir; font-size:medium\">\n",
        "<font face=\"vazirmatn\" size=3>\n",
        "  در این بخش پارامترهای مدل یادگیری را تعریف و به میزان مناسب مقداردهی کنید.\n",
        "  توضیحات پارامترها به شرح زیر می‌باشد:\n",
        "\n",
        "\n",
        "</font>\n",
        "</p>\n",
        "\n",
        "\n",
        "\n",
        "<center>\n",
        "<div dir=rtl style=\"direction: rtl;line-height:200%;font-family:vazir;font-size:medium\">\n",
        "<font face=\"vazirmatn\" size=3>\n",
        "    \n",
        "|ستون|توضیحات|\n",
        "|:------:|:---:|\n",
        "|<code>k</code>|تعداد ویژگی‌های پنهان|\n",
        "|<code>lambda_reg</code>| ترم منظم‌سازی |\n",
        "|<code>num_epochs</code>|تعداد دوره‌های یادگیری|\n",
        "|<code>log_step</code>|مشخص می‌کند که در حین یادگیری، هر چند دوره یک بار مقدار ارور محاسبه شود|\n",
        "\n",
        "\n",
        "</font>\n",
        "</div>\n",
        "</center>\n"
      ]
    },
    {
      "cell_type": "code",
      "execution_count": 125,
      "metadata": {
        "id": "P0KEI5A82NJY"
      },
      "outputs": [],
      "source": [
        "# TODO\n",
        "k = 5\n",
        "lambda_reg = 10\n",
        "num_epochs = 10\n",
        "log_step = 1"
      ]
    },
    {
      "cell_type": "markdown",
      "metadata": {
        "id": "ZqzLV3gV2NJY"
      },
      "source": [
        "<div dir=\"rtl\">\n",
        "  <h2 align=\"right\" style=\"line-height:200%;font-family:vazir;color:#0099cc\">\n",
        "    <font face=\"vazirmatn\" color=\"#0099cc\">\n",
        "      گام سوم: مقادیردهی اولیه پارامترهای مدل\n",
        "    </font>\n",
        "  </h2>\n",
        "</div>\n",
        "\n",
        "\n",
        "<p dir=rtl style=\"direction: rtl; text-align: justify; line-height:200%; font-family:vazir; font-size:medium\">\n",
        "<font face=\"vazirmatn\" size=3>\n",
        "  در این بخش باید ۲ ماتریس P و Q را بسازید و با مقادیر تصادفی و کوچک مقداردهی کنید.\n",
        "  ماتریس <code>P</code> را با ابعاد <code>(num_users, k)</code> و ماتریس <code>Q</code> را با ابعاد <code>(num_items, k)</code> بسازید.\n",
        "</font>\n",
        "</p>\n",
        "\n",
        "\n",
        "<p dir=rtl style=\"direction: rtl; text-align: justify; line-height:200%; font-family:vazir; font-size:medium\">\n",
        "<font face=\"vazirmatn\" size=3>\n",
        "  در قدم بعد برای یادگیری سوگیری‌های کاربران و آیتم‌ها، ۲ آرایه تماما 0 به اندازه تعداد کاربران و آیتم‌ها در متغیرهای مشخص شده تعریف کنید.\n",
        "</font>\n",
        "</p>\n",
        "\n",
        "<div dir=\"rtl\">\n",
        "<p dir=rtl style=\"direction: rtl; text-align: justify; line-height:200%; font-family:vazir; font-size:medium\">\n",
        "<font face=\"vazirmatn\" size=3>\n",
        "\n",
        "  در نهایت برای پیاده‌سازی بهتر الگوریتم ALS  نیاز است که میانگین کلی تمام امتیازهای ماتریس آموزش را محاسبه کنید. این مقدار را در متغیر <code>global_average</code> ذخیره کنید.\n",
        "\n",
        "<details class=\"green\">\n",
        "<summary>\n",
        "راهنمایی\n",
        "</summary>\n",
        "برای به دست آوردن مقادیر ماتریس می‌توانید و <code>train.data</code> کمک بگیرید.\n",
        "</details>\n",
        "\n",
        "</font>\n",
        "</p>\n",
        "</div>\n",
        "\n"
      ]
    },
    {
      "cell_type": "code",
      "execution_count": 126,
      "metadata": {
        "id": "jEVj3VFk2NJY"
      },
      "outputs": [],
      "source": [
        "# TODO\n",
        "np.random.seed(0)\n",
        "P = np.random.rand(num_users, k) * 0.001\n",
        "Q = np.random.rand(num_items, k) * 0.001\n",
        "\n",
        "user_bias = np.zeros(num_users)\n",
        "item_bias = np.zeros(num_items)\n",
        "\n",
        "global_average = np.mean(train_matrix_csr.data)"
      ]
    },
    {
      "cell_type": "markdown",
      "metadata": {
        "id": "J-A47Um22NJY"
      },
      "source": [
        "<div dir=\"right\">\n",
        "  <h2 align=\"right\" style=\"line-height:200%;font-family:vazir;color:#0099cc\">\n",
        "    <font face=\"vazirmatn\" color=\"#0099cc\">\n",
        "      گام چهارم: نوشتن توابع کمکی\n",
        "    </font>\n",
        "  </h2>\n",
        "</div>\n",
        "\n",
        "\n",
        "<p dir=rtl style=\"direction: rtl; text-align: justify; line-height:200%; font-family:vazir; font-size:medium\">\n",
        "<font face=\"vazirmatn\" size=3>\n",
        "در این بخش برای پیاده‌سازی الگوریتم یادگیری، به تعدادی توابع کمک نیاز داریم که در هر قسمت توضیحات توابع آورده شده است. با نوشتن این توابع، می‌توانیم به صورت ماژولار الگوریتم را پیاده‌سازی کنیم تا در ادامه بتوانیم به راحتی کدمان را دیباگ کنیم.\n",
        "</font>\n",
        "</p>"
      ]
    },
    {
      "cell_type": "markdown",
      "metadata": {
        "id": "Frexkap72NJY"
      },
      "source": [
        "<div dir=\"right\">\n",
        "  <h4 align=\"right\" style=\"line-height:200%;font-family:vazir;color:#0099cc\">\n",
        "    <font face=\"vazirmatn\" color=\"#0099cc\">\n",
        "      تابع حل مسئله حداقل مربعات برای یک کاربر\n",
        "    </font>\n",
        "  </h4>\n",
        "</div>\n",
        "\n",
        "<div dir=\"rtl\">\n",
        "<p dir=rtl style=\"direction: rtl; text-align: justify; line-height:200%; font-family:vazir; font-size:medium\">\n",
        "<font face=\"vazirmatn\" size=3>\n",
        "\n",
        "هدف این تابع، در گام «حل برای P» از الگوریتم ALS، پیدا کردن بهترین مقادیر برای سوگیری کاربر فعلی (`user_bias[user_idx]`) و بردار ویژگی‌های پنهان کاربر فعلی (`P[user_idx, :]`) است، با فرض اینکه تمام پارامترهای مربوط به آیتم‌ها (ماتریس `Q` و بردار `item_bias`) و میانگین کلی (`global_average`) ثابت هستند. در ادامه توضیحاتی برای نحوه پیاده‌سازی آورده شده‌است. چنان‌که به توضیحات بیشتر، مخصوصا برای بخش ریاضیاتی موضوع، نیاز دارید، به صفحه اصلی تمرین مراجعه کنید و بخش راهنمایی را مطالعه کنید.\n",
        "</font>\n",
        "</p>\n",
        "</div>\n",
        "\n",
        "\n",
        "<div dir=\"rtl\">\n",
        "<p dir=rtl style=\"direction: rtl; text-align: justify; line-height:200%; font-family:vazir; font-size:medium\">\n",
        "<font face=\"vazirmatn\" size=3>\n",
        "\n",
        "بدنه تابع `solve_user_features` را طوری بنویسید که با گرفتن مقادیر مناسب، مسئله حداقل مربعات (Least Square Error - LSE) را برای یک کاربر به خصوص حل کند. برای این‌کار باید به شکل زیر عمل کنید:\n",
        "\n",
        "\n",
        "- تعاملات مشاهده شده کاربر `user_idx` را از `train_matrix_csr` استخراج کنید (با استفاده از `getrow()`). این شامل شناسه‌های آیتم‌های تعامل یافته و امتیازات واقعی است. (منظور از شناسه، همان index است.)\n",
        "\n",
        "-  بردارهای ویژگی پنهان و سوگیری‌های متناظر آیتم‌ها را از ماتریس‌های `Q` و `item_bias` استخراج کنید. (برای این‌کار می‌توانید از شناسه\n",
        "آیتم‌های تعامل‌یافته استفاده کنید.)\n",
        "\n",
        "- دستگاه معادلات خطی حداقل مربعات را برای یافتن بردار ویژگی پنهان `P[user_idx, :]` و سوگیری `user_bias[user_idx]` فرموله کنید (همانطور که در درس‌نامه توضیح داده شد، شامل ترم‌های سوگیری و منظم‌سازی). برای این‌کار بهتر است به روش زیر عمل کنید:\n",
        "\n",
        "  - از تابع `np.hstack` برای ساخت ماتریس `A` استفاده کنید.\n",
        "\n",
        "  - برای محاسبه سوگیری کاربر، به هر سطر از ماتریس `A` یک ستون شامل عدد `1` اضافه کنید. بهتر است این ستون به عنوان اولین ستون در نظر گرفته شود.\n",
        "\n",
        "  - بردار مقادیر واقعی یا ماتریس `b` را بسازید.\n",
        "\n",
        "  - ماتریس‌های $A^{T}A$ و $A^{T}b$ را بسازید.\n",
        "\n",
        "  - ماتریس شامل ترم‌های منظم‌سازی را به صورت `regularization_matrix = np.eye(k + 1)` بسازید.\n",
        "\n",
        "  - ماتریس `ATA_regularized` را با استفاده از فرمول زیر بسازید.\n",
        "\n",
        "</font>\n",
        "</p>\n",
        "</div>\n",
        "\n",
        "$$A^{T}A + \\text{lambda\\_reg} \\times \\text{regularization\\_matrix}$$\n",
        "\n",
        "<div dir=\"rtl\">\n",
        "<p dir=rtl style=\"direction: rtl; text-align: justify; line-height:200%; font-family:vazir; font-size:medium\">\n",
        "<font face=\"vazirmatn\" size=3>\n",
        "\n",
        "-  دستگاه به دست آمده را با استفاده از `np.linalg.solve()` حل کنید.\n",
        "\n",
        "\n",
        "- در نهایت مقادیر به‌روزرسانی شده برای `user_bias[user_idx]` و `P[user_idx, :]` را برگردانید\n",
        "\n",
        "\n",
        "در ادامه فرمول پیش‌بینی امتیاز و نمونه‌هایی از ماتریس‌های `A` و `b` برای یک کاربر و آیتم به خصوص آورده شده است.\n",
        "</font>\n",
        "</p>\n",
        "</div>\n",
        "\n",
        "$$ \\hat{R}_{ui} = \\mu + b_u + b_i + P_u \\cdot Q_i $$\n",
        "\n",
        "$$A_u = \\begin{pmatrix} 1 & q_{i_1, 1} & q_{i_1, 2} & \\dots & q_{i_1, k} \\\\ 1 & q_{i_2, 1} & q_{i_2, 2} & \\dots & q_{i_2, k} \\\\ \\vdots & \\vdots & \\vdots & \\ddots & \\vdots \\\\ 1 & q_{i_{m_u}, 1} & q_{i_{m_u}, 2} & \\dots & q_{i_{m_u}, k} \\end{pmatrix}$$\n",
        "\n",
        "$$ \\mathbf{b}_u = \\begin{pmatrix} R_{u, i_1} - \\mu - b_{i_1} \\\\ R_{u, i_2} - \\mu - b_{i_2} \\\\ \\vdots \\\\ R_{u, i_{m_u}} - \\mu - b_{i_{m_u}} \\end{pmatrix} $$\n",
        "\n",
        "\n",
        "\n",
        "<div dir=\"rtl\">\n",
        "\n",
        "که در فرمول‌های بالا $b_u$ سوگیری کاربر و $b_i$ سوگیری آیتم است.\n",
        "</div>"
      ]
    },
    {
      "cell_type": "code",
      "execution_count": 127,
      "metadata": {
        "id": "-NgHpLT32NJY"
      },
      "outputs": [],
      "source": [
        "def solve_user_features(user_idx, train_matrix_csr, P, Q, user_bias, item_bias, global_average, lambda_reg, k):\n",
        "    \"\"\"\n",
        "    Solves for the latent features and bias of a single user using Least Squares.\n",
        "\n",
        "    Args:\n",
        "        user_idx (int): The mapped index of the user.\n",
        "        train_matrix_csr (csr_matrix): The training interaction matrix (CSR format).\n",
        "        P (np.ndarray): Current user latent feature matrix (num_users, k).\n",
        "        Q (np.ndarray): Current item latent feature matrix (num_items, k).\n",
        "        user_bias (np.ndarray): Current user bias vector (num_users,).\n",
        "        item_bias (np.ndarray): Current item bias vector (num_items,).\n",
        "        global_average (float): The global average rating.\n",
        "        lambda_reg (float): The regularization parameter.\n",
        "\n",
        "    Returns:\n",
        "        tuple: A tuple containing:\n",
        "            - updated_user_bias (float): The updated bias for the user.\n",
        "            - updated_user_features (np.ndarray): The updated latent features for the user (k,).\n",
        "    \"\"\"\n",
        "    # TODO\n",
        "    row = train_matrix_csr.getrow(user_idx)\n",
        "    item_indices = row.indices\n",
        "    ratings = row.data\n",
        "\n",
        "    A = np.hstack((np.ones((len(ratings), 1)), Q[item_indices, :]))\n",
        "    b = ratings - global_average - item_bias[item_indices]\n",
        "    ATA = A.T @ A\n",
        "    ATb = A.T @ b\n",
        "\n",
        "    regularization_matrix = np.eye(k + 1)\n",
        "    ATA_regularized = ATA + lambda_reg * regularization_matrix\n",
        "\n",
        "    x = np.linalg.solve(ATA_regularized, ATb)\n",
        "    updated_user_features = x[1:]\n",
        "    updated_user_bias = x[0]\n",
        "\n",
        "\n",
        "    return updated_user_bias, updated_user_features"
      ]
    },
    {
      "cell_type": "markdown",
      "metadata": {
        "id": "ubsM76ht2NJY"
      },
      "source": [
        "<div dir=\"right\">\n",
        "  <h4 align=\"right\" style=\"line-height:200%;font-family:vazir;color:#0099cc\">\n",
        "    <font face=\"vazirmatn\" color=\"#0099cc\">\n",
        "      تابع حل مسئله حداقل مربعات برای یک آیتم\n",
        "    </font>\n",
        "  </h4>\n",
        "</div>\n",
        "\n",
        "\n",
        "\n",
        "<div dir=\"rtl\">\n",
        "<p dir=rtl style=\"direction: rtl; text-align: justify; line-height:200%; font-family:vazir; font-size:medium\">\n",
        "<font face=\"vazirmatn\" size=3>\n",
        "\n",
        "این تابع شباهت بسیار زیادی به قسمت قبل دارد. از بیان جزئیات اضافه صرف نظر می‌کنیم و به مراحل اصلی می‌پردازیم.\n",
        "\n",
        "بدنه تابع `solve_item_features` را طوری بنویسید که با گرفتن مقادیر مناسب، مسئله حداقل مربعات (Least Square Error - LSE) را برای یک آیتم به خصوص حل کند. برای این‌کار باید به شکل زیر عمل کنید:\n",
        "\n",
        "-  تعاملات مشاهده شده آیتم `item_idx` را از `train_matrix_csc` استخراج کنید (با استفاده از `getcol()`). این شامل شناسه‌های کاربرانی است که با آیتم تعامل داشته‌اند و امتیازات واقعی است.\n",
        "\n",
        "- بردارهای ویژگی پنهان و سوگیری‌های متناظر کاربران را از ماتریس‌های `P` و `user_bias` استخراج کنید.\n",
        "\n",
        "- دستگاه معادلات خطی حداقل مربعات را برای یافتن بردار ویژگی پنهان `Q[item_idx, :]` و سوگیری `item_bias[item_idx]` فرموله کنید (مشابه تابع `solve_user_features`).\n",
        "\n",
        "- این دستگاه را با استفاده از `np.linalg.solve()` حل کنید.\n",
        "\n",
        "-  مقادیر به‌روزرسانی شده برای `item_bias[item_idx]` و `Q[item_idx, :]` را برگردانید.\n",
        "\n",
        "</font>\n",
        "</p>\n",
        "</div>"
      ]
    },
    {
      "cell_type": "code",
      "execution_count": 128,
      "metadata": {
        "id": "hX_biJB42NJZ"
      },
      "outputs": [],
      "source": [
        "def solve_item_features(item_idx, train_matrix_csc, P, Q, user_bias, item_bias, global_average, lambda_reg, k):\n",
        "    \"\"\"\n",
        "    Solves for the latent features and bias of a single item using Least Squares.\n",
        "\n",
        "    Args:\n",
        "        item_idx (int): The mapped index of the item.\n",
        "        train_matrix_csc (csc_matrix): The training interaction matrix (CSC format).\n",
        "        P (np.ndarray): Current user latent feature matrix (num_users, k).\n",
        "        Q (np.ndarray): Current item latent feature matrix (num_items, k).\n",
        "        user_bias (np.ndarray): Current user bias vector (num_users,).\n",
        "        item_bias (np.ndarray): Current item bias vector (num_items,).\n",
        "        global_average (float): The global average rating.\n",
        "        lambda_reg (float): The regularization parameter.\n",
        "\n",
        "    Returns:\n",
        "        tuple: A tuple containing:\n",
        "            - updated_item_bias (float): The updated bias for the item.\n",
        "            - updated_item_features (np.ndarray): The updated latent features for the item (k,).\n",
        "    \"\"\"\n",
        "    # TODO\n",
        "    col = train_matrix_csc.getcol(item_idx)\n",
        "    user_indices = col.indices\n",
        "    ratings = col.data\n",
        "\n",
        "    A = np.hstack([\n",
        "    np.ones((len(user_indices), 1)),\n",
        "    P[user_indices, :]\n",
        "    ])\n",
        "\n",
        "    b = ratings - global_average - user_bias[user_indices]\n",
        "    ATA = A.T @ A\n",
        "    ATb = A.T @ b\n",
        "\n",
        "    regularization_matrix = np.eye(k + 1)\n",
        "    ATA_regularized = ATA + lambda_reg * regularization_matrix\n",
        "\n",
        "    x = np.linalg.solve(ATA_regularized, ATb)\n",
        "    updated_item_features = x[1:]\n",
        "    updated_item_bias = x[0]\n",
        "\n",
        "\n",
        "\n",
        "    return updated_item_bias, updated_item_features"
      ]
    },
    {
      "cell_type": "markdown",
      "metadata": {
        "id": "4KakuLIZ2NJZ"
      },
      "source": [
        "<div dir=\"right\">\n",
        "  <h4 align=\"right\" style=\"line-height:200%;font-family:vazir;color:#0099cc\">\n",
        "    <font face=\"vazirmatn\" color=\"#0099cc\">\n",
        "تابع پیش‌بینی امتیاز\n",
        "    </font>\n",
        "  </h4>\n",
        "</div>\n",
        "\n",
        "<div dir=\"rtl\">\n",
        "<p dir=rtl style=\"direction: rtl; text-align: justify; line-height:200%; font-family:vazirmatn; font-size:medium\">\n",
        "<font face=\"vazirmatn\" size=3>\n",
        "\n",
        "در این قسمت باید تابع پیش‌بینی را تکمیل کنید.\n",
        "این تابع با گرفتن مقادیر مناسب باید بتواند فرمول زیر را برای پیش‌بینی امتیاز پیاده‌سازی کند:\n",
        "</font>\n",
        "</p>\n",
        "</div>\n",
        "\n",
        "$$\\hat{R} = P_{[u:]} \\cdot Q_{[i:]} + Global\\_average + User\\_bias_{u} + Item\\_bias_{i}$$\n"
      ]
    },
    {
      "cell_type": "code",
      "execution_count": 129,
      "metadata": {
        "colab": {
          "base_uri": "https://localhost:8080/"
        },
        "id": "ECd0MGwU2NJZ",
        "outputId": "c343b5be-1564-40cc-bfe6-71b6413ea1ec"
      },
      "outputs": [
        {
          "output_type": "stream",
          "name": "stdout",
          "text": [
            "\n",
            "Predicted rating for mapped user 0 and mapped item 2: 7.6299\n"
          ]
        }
      ],
      "source": [
        "def predict(user_idx, item_idx, P, Q, user_bias, item_bias, global_average):\n",
        "    \"\"\"\n",
        "    Predicts the rating for a given user and item using the trained ALS model.\n",
        "\n",
        "    Args:\n",
        "        user_idx (int): Mapped index of the user.\n",
        "        item_idx (int): Mapped index of the item.\n",
        "        P (np.ndarray): Trained user latent feature matrix (num_users, k).\n",
        "        Q (np.ndarray): Trained item latent feature matrix (num_items, k).\n",
        "        user_bias (np.ndarray): Trained user bias vector (num_users,).\n",
        "        item_bias (np.ndarray): Trained item bias vector (num_items,).\n",
        "        global_average (float): Calculated global average rating.\n",
        "\n",
        "    Returns:\n",
        "        float: The predicted rating.\n",
        "    \"\"\"\n",
        "    try:\n",
        "        # TODO\n",
        "        predicted_rating = P[user_idx, :] @ Q[item_idx, :].T + global_average + user_bias[user_idx] + item_bias[item_idx]\n",
        "        return predicted_rating\n",
        "\n",
        "    except IndexError:\n",
        "        print(\"\\nCould not find mapped index for example prediction. Ensure original IDs exist in unique IDs.\")\n",
        "        return global_average\n",
        "\n",
        "mapped_user_0_idx = 0\n",
        "mapped_item_2_idx = 2\n",
        "predicted_rating_example = predict(mapped_user_0_idx, mapped_item_2_idx, P, Q, user_bias, item_bias, global_average)\n",
        "print(f\"\\nPredicted rating for mapped user {mapped_user_0_idx} and mapped item {mapped_item_2_idx}: {predicted_rating_example:.4f}\")"
      ]
    },
    {
      "cell_type": "markdown",
      "metadata": {
        "id": "WbVBStZe2NJZ"
      },
      "source": [
        "<div dir=\"rtl\">\n",
        "<p dir=rtl style=\"direction: rtl; text-align: justify; line-height:200%; font-family:vazirmatn; font-size:medium\">\n",
        "<font face=\"vazirmatn\" size=3>\n",
        "\n",
        "دقت کنید در این قسمت به صورت نمادین در ادامه تابع پیش‌بینی، چند خطی نوشته شده تا از کارکرد تابع خود اطمینان پیدا کنیم. این مقدار با استفاده از ماتریس ابتدایی $P$ و $Q$ محاسبه شده است و هنوز آموزشی روی آن‌ها صورت نگرفته، پس مقداری که پیش‌بینی می‌کنند ممکن است کاملا نامربوط و اشتباه باشد!\n",
        "</font>\n",
        "</p>\n",
        "</div>"
      ]
    },
    {
      "cell_type": "markdown",
      "metadata": {
        "id": "vUCv6RK72NJZ"
      },
      "source": [
        "<div dir=\"right\">\n",
        "  <h4 align=\"right\" style=\"line-height:200%;font-family:vazir;color:#0099cc\">\n",
        "    <font face=\"vazirmatn\" color=\"#0099cc\">\n",
        "تابع محاسبه خطا\n",
        "    </font>\n",
        "  </h4>\n",
        "</div>\n",
        "\n",
        "<div dir=\"rtl\">\n",
        "<p dir=rtl style=\"direction: rtl; text-align: justify; line-height:200%; font-family:vazirmatn; font-size:medium\">\n",
        "<font face=\"vazirmatn\" size=3>\n",
        "\n",
        "هدف این تابع محاسبه خطای **Root Mean Squared Error** برای ماتریس‌های $P$ و $Q$ است. این تابع با گرفتن مقادیر مناسب باید بتواند مراحل زیر را اجرا کند:\n",
        "\n",
        "- با فراخوانی تابع `predict` امتیاز کاربر $u$ به آیتم $i$ را پیش‌بینی کند.\n",
        "\n",
        "- میزان خطای این پیش‌بینی را با کم‌کردن این مقدار از امتیاز واقعی محاسبه کند. سپس توان دوم این خطا را به متغیر `sse` اضافه کند.\n",
        "\n",
        "- در نهایت با کمک `sse` مقدار **ریشه دوم میانگین خطا** یا `rmse` را برگرداند.\n",
        "\n",
        "</font>\n",
        "</p>\n",
        "</div>"
      ]
    },
    {
      "cell_type": "code",
      "execution_count": 130,
      "metadata": {
        "id": "R4uzLCdP2NJZ"
      },
      "outputs": [],
      "source": [
        "def calculate_rmse(P, Q, user_bias, item_bias, global_average, sparse_matrix):\n",
        "    \"\"\"\n",
        "    Calculates the Root Mean Squared Error (RMSE) on a sparse matrix using the trained ALS model.\n",
        "\n",
        "    Args:\n",
        "        P (np.ndarray): Trained user latent feature matrix.\n",
        "        Q (np.ndarray): Trained item latent feature matrix.\n",
        "        user_bias (np.ndarray): Trained user bias vector.\n",
        "        item_bias (np.ndarray): Trained item bias vector.\n",
        "        global_average (float): Calculated global average rating.\n",
        "        sparse_matrix (matrix): The sparse matrix to evaluate on (e.g., test set).\n",
        "\n",
        "    Returns:\n",
        "        float: The calculated RMSE.\n",
        "    \"\"\"\n",
        "    rows = sparse_matrix.row\n",
        "    cols = sparse_matrix.col\n",
        "    data = sparse_matrix.data\n",
        "    num_samples = len(data)\n",
        "\n",
        "    if num_samples == 0:\n",
        "        return 0.0\n",
        "\n",
        "    sse = 0\n",
        "    for idx in range(num_samples):\n",
        "        # TODO\n",
        "        user_idx = rows[idx]\n",
        "        item_idx = cols[idx]\n",
        "        true_rating = data[idx]\n",
        "        predicted_rating = predict(user_idx, item_idx, P, Q, user_bias, item_bias, global_average)\n",
        "        error = true_rating - predicted_rating\n",
        "        sse += error ** 2\n",
        "\n",
        "    rmse = np.sqrt(sse / num_samples)\n",
        "    return rmse"
      ]
    },
    {
      "cell_type": "markdown",
      "metadata": {
        "id": "gev29RxC2NJZ"
      },
      "source": [
        "\n",
        "<div dir=\"right\">\n",
        "  <h2 align=\"right\" style=\"line-height:200%;font-family:vazir;color:#0099cc\">\n",
        "    <font face=\"vazirmatn\" color=\"#0099cc\">\n",
        "      گام پنجم: پیاده‌سازی حلقه آموزش\n",
        "    </font>\n",
        "  </h2>\n",
        "</div>\n",
        "\n",
        "\n",
        "<div dir=\"rtl\">\n",
        "<p dir=rtl style=\"direction: rtl; text-align: justify; line-height:200%; font-family:vazirmatn; font-size:medium\">\n",
        "<font face=\"vazirmatn\" size=3>\n",
        "\n",
        "برای پیاده‌سازی حلقه اصلی آموزش، نیاز است که در هر پیمایش یا epoch، ماتریس‌های `P` و `Q` را جداگانه به‌روزرسانی کنیم. برای این‌کار باید ۲ پیمایش جداگانه به شرح زیر انجام دهیم:\n",
        "\n",
        "1. در پیمایش اول، به ازای هرکاربر با استفاده از تابع `solve_user_features` مقادیر ماتریس‌های `user_bias` و `P` را به روزرسانی کنیم. این تابع با ثابت نگه‌داشتن ماتریس `Q` و ماتریس سوگیری آیتم، مسئله حداقل مربعات را برای کاربر مورد نظر ما حل می‌کند.\n",
        "\n",
        "2. در پیمایش دوم، به ازای هر کاربر با استفاده از تابع `solve_item_features` مقادیر ماتریس‌های `item_bias` و `Q` را به‌روزرسانی کنیم. این تابع با ثابت نگه داشتم ماتریس `P` و ماتریس سوگیری کاربر، مسئله حداقل مربعات را برای آیتم مورد نظر حل می‌کند.\n",
        "\n",
        "در ادامه برای کنترل بهتر آموزش مدل، مقدار `rmse` را در هر چند دور یک بار (که مقدار آن را با استفاده از `log_step` مشخص می‌کنیم) محاسبه می‌کنیم.\n",
        "\n",
        "</font>\n",
        "</p>\n",
        "</div>\n"
      ]
    },
    {
      "cell_type": "code",
      "execution_count": 131,
      "metadata": {
        "colab": {
          "base_uri": "https://localhost:8080/"
        },
        "id": "qOKYt87b2NJZ",
        "outputId": "1316f9b4-cf11-495c-fb49-3fd990432850"
      },
      "outputs": [
        {
          "output_type": "stream",
          "name": "stdout",
          "text": [
            "\n",
            "Starting ALS training...\n",
            "Iteration 1/10, Train RMSE: 1.4615, Test RMSE: 1.6210\n",
            "Iteration 2/10, Train RMSE: 1.4503, Test RMSE: 1.6219\n",
            "Iteration 3/10, Train RMSE: 1.4263, Test RMSE: 1.6225\n",
            "Iteration 4/10, Train RMSE: 1.3916, Test RMSE: 1.6305\n",
            "Iteration 5/10, Train RMSE: 1.3493, Test RMSE: 1.6389\n",
            "Iteration 6/10, Train RMSE: 1.3121, Test RMSE: 1.6484\n",
            "Iteration 7/10, Train RMSE: 1.2863, Test RMSE: 1.6561\n",
            "Iteration 8/10, Train RMSE: 1.2707, Test RMSE: 1.6618\n",
            "Iteration 9/10, Train RMSE: 1.2613, Test RMSE: 1.6662\n",
            "Iteration 10/10, Train RMSE: 1.2555, Test RMSE: 1.6698\n",
            "\n",
            "Training finished.\n"
          ]
        }
      ],
      "source": [
        "print(\"\\nStarting ALS training...\")\n",
        "\n",
        "for iteration in range(num_epochs):\n",
        "    # --- Step 1: Solve for User Features (Fix Q and item_bias) ---\n",
        "    for u in range(num_users):\n",
        "        updated_bias, updated_features = solve_user_features(\n",
        "            u, train_matrix_csr, P, Q, user_bias, item_bias,\n",
        "            global_average, lambda_reg, k\n",
        "        )\n",
        "        user_bias[u] = updated_bias\n",
        "        P[u, :] = updated_features\n",
        "\n",
        "    # --- Step 2: Solve for Item Features (Fix P and user_bias) ---\n",
        "    for i in range(num_items):\n",
        "        updated_bias, updated_features = solve_item_features(\n",
        "            i, train_matrix_csc, P, Q, user_bias, item_bias,\n",
        "            global_average, lambda_reg, k\n",
        "        )\n",
        "        item_bias[i] = updated_bias\n",
        "        Q[i, :] = updated_features\n",
        "\n",
        "    # Log RMSE\n",
        "    if (iteration + 1) % log_step == 0:\n",
        "        train_rmse = calculate_rmse(P, Q, user_bias, item_bias, global_average, train_matrix_coo)\n",
        "        test_rmse = calculate_rmse(P, Q, user_bias, item_bias, global_average, test_matrix_coo)\n",
        "        print(f\"Iteration {iteration+1}/{num_epochs}, Train RMSE: {train_rmse:.4f}, Test RMSE: {test_rmse:.4f}\")\n",
        "\n",
        "print(\"\\nTraining finished.\")\n"
      ]
    },
    {
      "cell_type": "markdown",
      "metadata": {
        "id": "tIl8AueP2NJa"
      },
      "source": [
        "<div dir=\"rtl\">\n",
        "<p dir=rtl style=\"line-height:200%; font-size:medium\">\n",
        "<font face=\"vazirmatn\" size=4>\n",
        "\n",
        "در این قسمت دقت کنید که مدل شما ممکن است برای داده‌های این تمرین پیچیده باشد. برای این‌که بتوانید امتیاز مورد نظر سیستم داوری را برای این سوال کسب کنید، نیاز است تا اختلاف خطا بین ماتریس‌های آموزش و آزمون، بیشتر از $0.7$ نباشد! در صورتی که این اختلاف بیشتر از مقدار مورد انتظار بود، نیاز است تا هایپر پارامترهای مدل را به شکل زیر تغییر دهید:\n",
        "\n",
        "- کاهش مقدار `k` می‌تواند پیچیدگی مدل و در نتیجه میزان بیش‌برازش را کاهش دهد.\n",
        "\n",
        "- افزایش مقدار `lambda_reg` می‌تواند جریمه مدل برای یادگیری بیش از اندازه داده‌های آموزش را کاهش دهد.\n",
        "\n",
        "- با کم‌کردن مقدار `num_epochs` می‌توانید تعداد دوره‌های آموزش مدل را کاهش دهید تا مانع از بیش‌برازش آن بشوید.\n",
        "\n",
        "از طرفی می‌توانید از تکنیک **early stopping** استفاده کنید. به این صورت که خطای مدل بر روی داده‌های آموزش و آزمایش را در هر اجرای حلقه آموزش کنترل کنید و اگر مشاهده کردید مدل شروع به بیش‌برازش کرده است، اجرای آن را متوقف کنید.\n",
        "</font>\n",
        "</p>\n",
        "</div>"
      ]
    },
    {
      "cell_type": "markdown",
      "metadata": {
        "id": "aIwJHWxN2NJa"
      },
      "source": [
        "<div dir=\"rtl\">\n",
        "<p dir=rtl style=\"line-height:200%; font-size:medium\">\n",
        "<font face=\"vazirmatn\" size=4>\n",
        "\n",
        "حال که آموزش مدل به پایان رسید، می‌توانید با استفاده از کد زیر، میزان امتیازی که یک کاربر به یک آیتم می‌دهد را محاسبه کنید. در این کد برای راحتی، از آیدی‌های نگاشت‌شده کاربر و آیتم استفاده شده است.\n",
        "\n",
        "آیتم و کاربری که به صورت پیش‌فرض در این قسمت در نظر گرفته شده است، همان آیتم و کاربری است که در قسمت «تابع پیش‌بینی» نوشته شده بود. با مقایسه این پیش‌بینی‌ها می‌توان از آموزش مدل خود مطمئن شد.\n",
        "</font>\n",
        "</p>\n",
        "</div>"
      ]
    },
    {
      "cell_type": "code",
      "execution_count": 132,
      "metadata": {
        "colab": {
          "base_uri": "https://localhost:8080/"
        },
        "id": "vcWC_q4v2NJb",
        "outputId": "4c1df8a9-5836-4929-e557-8a3a2fb396a8"
      },
      "outputs": [
        {
          "output_type": "stream",
          "name": "stdout",
          "text": [
            "\n",
            "Predicted rating for mapped user 0 and mapped item 2: 6.9251\n"
          ]
        }
      ],
      "source": [
        "mapped_user_0_idx = 0\n",
        "mapped_item_2_idx = 2\n",
        "predicted_rating_example = predict(mapped_user_0_idx, mapped_item_2_idx, P, Q, user_bias, item_bias, global_average)\n",
        "print(f\"\\nPredicted rating for mapped user {mapped_user_0_idx} and mapped item {mapped_item_2_idx}: {predicted_rating_example:.4f}\")"
      ]
    },
    {
      "cell_type": "markdown",
      "metadata": {
        "id": "45rv1KzN2NJb"
      },
      "source": [
        "<div dir=\"right\">\n",
        "  <h2 align=\"right\" style=\"line-height:200%;font-family:vazir;color:#0099cc\">\n",
        "    <font face=\"vazirmatn\" color=\"#0099cc\">\n",
        "      تشکیل لیست پیشنهادی\n",
        "    </font>\n",
        "  </h2>\n",
        "</div>\n",
        "\n",
        "<p dir=rtl style=\"direction: rtl; text-align: justify; line-height:200%; font-family:vazir; font-size:medium\">\n",
        "<font face=\"vazirmatn\" size=3>\n",
        "در این قسمت تابع <code>get_recommendations</code> برای شما از قبل پیاده‌سازی شده است تا با کمک آن و مدلی که آموزش داده‌اید، برای کاربر دلخواه یک لیست پیشنهادی از کتاب‌ها به طول دلخواه <code>n</code> بسازید.\n",
        "</font>\n",
        "</p>"
      ]
    },
    {
      "cell_type": "code",
      "execution_count": 133,
      "metadata": {
        "id": "UenyIXuf2NJb"
      },
      "outputs": [],
      "source": [
        "def get_recommendations(original_user_id, n, P, Q, user_bias, item_bias, global_average, train_matrix_csr, unique_user_ids, unique_item_ids):\n",
        "    \"\"\"\n",
        "    Generates top N recommendations for a given user using the trained ALS model.\n",
        "\n",
        "    Args:\n",
        "        original_user_id: The original ID of the user.\n",
        "        n (int): The number of recommendations to generate.\n",
        "        P (np.ndarray): Trained user latent feature matrix (num_users, k).\n",
        "        Q (np.ndarray): Trained item latent feature matrix (num_items, k).\n",
        "        user_bias (np.ndarray): Trained user bias vector (num_users,).\n",
        "        item_bias (np.ndarray): Trained item bias vector (num_items,).\n",
        "        global_average (float): Calculated global average rating.\n",
        "        train_matrix_csr (csr_matrix): The sparse training interaction matrix.\n",
        "        unique_user_ids (np.ndarray): Array mapping mapped user indices to original IDs.\n",
        "        unique_item_ids (np.ndarray): Array mapping mapped item indices to original IDs.\n",
        "\n",
        "    Returns:\n",
        "        list: A list of tuples (original_item_id, predicted_rating) for the top N recommendations.\n",
        "              Returns an empty list if the user ID is not found.\n",
        "    \"\"\"\n",
        "    try:\n",
        "        user_idx = np.where(unique_user_ids == original_user_id)[0][0]\n",
        "    except IndexError:\n",
        "        print(f\"Warning: Original user ID {original_user_id} not found in unique user IDs.\")\n",
        "        return []\n",
        "\n",
        "    num_items = Q.shape[0]\n",
        "    all_item_indices = np.arange(num_items)\n",
        "\n",
        "    user_row_sparse = train_matrix_csr.getrow(user_idx)\n",
        "    rated_item_indices = user_row_sparse.indices\n",
        "\n",
        "\n",
        "    unrated_item_indices = np.setdiff1d(all_item_indices, rated_item_indices)\n",
        "\n",
        "\n",
        "    user_latent_features = P[user_idx, :]\n",
        "    unrated_item_latent_features = Q[unrated_item_indices, :]\n",
        "    unrated_item_biases = item_bias[unrated_item_indices]\n",
        "\n",
        "\n",
        "    latent_predictions = np.dot(user_latent_features, unrated_item_latent_features.T)\n",
        "\n",
        "    predicted_ratings_for_user = global_average + user_bias[user_idx] + unrated_item_biases + latent_predictions\n",
        "\n",
        "    top_n_indices_in_unrated = np.argsort(predicted_ratings_for_user)[::-1][:n]\n",
        "\n",
        "    recommended_mapped_item_indices = unrated_item_indices[top_n_indices_in_unrated]\n",
        "\n",
        "    recommended_items_with_ratings = [(unique_item_ids[item_idx], predicted_ratings_for_user[i])\n",
        "                                      for i, item_idx in enumerate(top_n_indices_in_unrated)]\n",
        "\n",
        "    return recommended_items_with_ratings"
      ]
    },
    {
      "cell_type": "markdown",
      "metadata": {
        "id": "OJkETQCH2NJb"
      },
      "source": [
        "<p dir=rtl style=\"direction: rtl; text-align: justify; line-height:200%; font-family:vazir; font-size:medium\">\n",
        "<font face=\"vazirmatn\" size=3>\n",
        "برای استفاده از تابع <code>get_recommendations</code> کافی است از قطعه کد زیر استفاده کنید و متغیر <code>original_user_id_to_recommend</code> را با آیدی اصلی کاربر مورد نظر و <code>top_n_recommendations</code> را با یک عدد صحیح مثبت که نشان‌دهنده تعداد آیتم‌های پیشنهادی است مقداردهی کنید.\n",
        "</font>\n",
        "</p>\n",
        "\n",
        "<style>\n",
        ".rtl {\n",
        "  direction: rtl;\n",
        "  text-align: right;\n",
        "  font-family: vazir;\n",
        "}\n",
        "</style>\n",
        "\n",
        "<div class=\"rtl\">\n",
        "<details>\n",
        "<summary>\n",
        "توجه\n",
        "</summary>\n",
        "برای استفاده بهتر می‌توانید آید‌ی‌های معتبر کاربران را از لیست <code>unique_user_ids</code> به دست بیاورید.\n",
        "</details>\n",
        "</div>"
      ]
    },
    {
      "cell_type": "code",
      "execution_count": 134,
      "metadata": {
        "colab": {
          "base_uri": "https://localhost:8080/"
        },
        "id": "TzI6aYkF2NJb",
        "outputId": "eb7e6369-ccfe-41d8-8bb3-e354cfd34bd8"
      },
      "outputs": [
        {
          "output_type": "stream",
          "name": "stdout",
          "text": [
            "\n",
            "Top 10 recommendations for original user ID 73:\n",
            "  Item ID: 0743454375, Predicted Rating: 7.5281\n",
            "  Item ID: 0064471217, Predicted Rating: 7.2838\n",
            "  Item ID: 0345273516, Predicted Rating: 7.4589\n",
            "  Item ID: 0399523308, Predicted Rating: 7.2838\n",
            "  Item ID: 3551580561, Predicted Rating: 7.3747\n",
            "  Item ID: 0812513738, Predicted Rating: 7.3747\n",
            "  Item ID: 0439136350, Predicted Rating: 7.4069\n",
            "  Item ID: 0439221730, Predicted Rating: 7.5032\n",
            "  Item ID: 0061059323, Predicted Rating: 7.6564\n",
            "  Item ID: 0312274572, Predicted Rating: 7.2649\n"
          ]
        }
      ],
      "source": [
        "original_user_id_to_recommend = 73\n",
        "top_n_recommendations = 10\n",
        "\n",
        "recommendations = get_recommendations(original_user_id_to_recommend, top_n_recommendations, P, Q, user_bias, item_bias, global_average, train_matrix_csr, unique_user_ids, unique_item_ids)\n",
        "\n",
        "if recommendations:\n",
        "    print(f\"\\nTop {top_n_recommendations} recommendations for original user ID {original_user_id_to_recommend}:\")\n",
        "    for item_id, predicted_rating in recommendations:\n",
        "        print(f\"  Item ID: {item_id}, Predicted Rating: {predicted_rating:.4f}\")"
      ]
    },
    {
      "cell_type": "markdown",
      "metadata": {
        "id": "melDgwsh2NJb"
      },
      "source": [
        "<div dir=\"right\">\n",
        "  <h2 align=\"right\" style=\"line-height:200%;font-family:vazir;color:#0099cc\">\n",
        "    <font face=\"vazirmatn\" color=\"#0099cc\">\n",
        "      ایجاد پاسخ\n",
        "    </font>\n",
        "  </h2>\n",
        "</div>\n",
        "\n",
        "<p dir=rtl style=\"direction: rtl; text-align: justify; line-height:200%; font-family:vazir; font-size:medium\">\n",
        "<font face=\"vazirmatn\" size=3>\n",
        "در سلول زیر لیستی از آیدی‌های کاربران نوشته شده است. با اجرای کد زیر و با کمک تابع <code>get_recommendations</code> لیستی پیشنهادی برای کاربران مورد نظر ساخته می‌شود. عملکرد شما در این تمرین با کمک این لیست سنجیده خواهد شد. از تغییر محتویات سلول زیر اجتناب کنید.\n",
        "</font>\n",
        "</p>"
      ]
    },
    {
      "cell_type": "code",
      "execution_count": 135,
      "metadata": {
        "id": "NU1wSsgm2NJb"
      },
      "outputs": [],
      "source": [
        "import pandas as pd\n",
        "\n",
        "eval_users_idx = [73,  75,  78,  81,  82,  83,  85,  86,  87,  88,  91,  92,  97,\n",
        "        99, 102, 107, 109, 110, 114, 125]\n",
        "eval_top_n_recommendations = 10\n",
        "\n",
        "\n",
        "eval_recommendations = [get_recommendations(user_idx, eval_top_n_recommendations, P, Q, user_bias, item_bias, global_average, train_matrix_csr, unique_user_ids, unique_item_ids)\n",
        "                        for user_idx in eval_users_idx]"
      ]
    },
    {
      "cell_type": "markdown",
      "metadata": {
        "id": "9L5p9TKD2NJb"
      },
      "source": [
        "<h2 align=right style=\"line-height:200%;font-family:vazir;color:#0099cc\">\n",
        "<font face=\"vazirmatn\" color=\"#0099cc\">\n",
        "<b>سلول جواب‌ساز</b>\n",
        "</font>\n",
        "</h2>\n",
        "\n",
        "\n",
        "<p dir=rtl style=\"direction: rtl; text-align: justify; line-height:200%; font-family:vazir; font-size:medium\">\n",
        "<font face=\"vazirmatn\" size=3>\n",
        "    برای ساخته‌شدن فایل <code>result.zip</code> سلول زیر را اجرا کنید. توجه داشته باشید که پیش از اجرای سلول زیر تغییرات اعمال شده در نوت‌بوک را ذخیره کرده باشید (<code>ctrl+s</code>) تا در صورت نیاز به پشتیبانی امکان بررسی کد شما وجود داشته باشد.\n",
        "</font>\n",
        "</p>"
      ]
    },
    {
      "cell_type": "code",
      "execution_count": 136,
      "metadata": {
        "colab": {
          "base_uri": "https://localhost:8080/"
        },
        "id": "47JVNpFT2NJb",
        "outputId": "0c94320f-f8f6-443f-f991-e4f16b30a352"
      },
      "outputs": [
        {
          "output_type": "stream",
          "name": "stdout",
          "text": [
            "File Paths:\n",
            "['initial.ipynb', 'submission.npz']\n"
          ]
        }
      ],
      "source": [
        "import zipfile\n",
        "import os\n",
        "import scipy.sparse\n",
        "import numpy as np\n",
        "\n",
        "if not os.path.exists(os.path.join(os.getcwd(), 'initial.ipynb')):\n",
        "    %notebook -e initial.ipynb\n",
        "\n",
        "def compress(file_names):\n",
        "    print(\"File Paths:\")\n",
        "    print(file_names)\n",
        "    compression = zipfile.ZIP_DEFLATED\n",
        "    with zipfile.ZipFile(\"result.zip\", mode=\"w\") as zf:\n",
        "        for file_name in file_names:\n",
        "            zf.write('./' + file_name, file_name, compress_type=compression)\n",
        "\n",
        "\n",
        "np.savez('submission.npz', submission=eval_recommendations)\n",
        "\n",
        "\n",
        "file_names = ['initial.ipynb', 'submission.npz']\n",
        "compress(file_names)"
      ]
    },
    {
      "cell_type": "code",
      "source": [
        "my_ans = np.load('submission.npz')['submission']\n",
        "its_ans = np.load('/content/submission - Copy.npz')['submission']"
      ],
      "metadata": {
        "id": "Geb-KYviK87B"
      },
      "execution_count": 138,
      "outputs": []
    },
    {
      "cell_type": "code",
      "source": [
        "my_ans.shape"
      ],
      "metadata": {
        "colab": {
          "base_uri": "https://localhost:8080/"
        },
        "id": "EAs8V5VTTjaw",
        "outputId": "c19ab039-16bd-49eb-dbba-92b435d948b4"
      },
      "execution_count": 141,
      "outputs": [
        {
          "output_type": "execute_result",
          "data": {
            "text/plain": [
              "(20, 10, 2)"
            ]
          },
          "metadata": {},
          "execution_count": 141
        }
      ]
    },
    {
      "cell_type": "code",
      "source": [
        "its_ans.shape"
      ],
      "metadata": {
        "colab": {
          "base_uri": "https://localhost:8080/"
        },
        "id": "UN4Y8GgHTpoD",
        "outputId": "ef256f8e-e78d-44e2-b4db-a5345936959f"
      },
      "execution_count": 142,
      "outputs": [
        {
          "output_type": "execute_result",
          "data": {
            "text/plain": [
              "(20, 10, 2)"
            ]
          },
          "metadata": {},
          "execution_count": 142
        }
      ]
    },
    {
      "cell_type": "code",
      "source": [
        "from sklearn.metrics import f1_score\n",
        "\n",
        "# Assuming eval_recommendations and its_ans are lists of lists of (item_id, rating) tuples\n",
        "# We need to extract just the item_ids for F1 score calculation\n",
        "\n",
        "# Extract item IDs from eval_recommendations\n",
        "my_recommendations_ids = [[item_id for item_id, rating in user_recs] for user_recs in eval_recommendations]\n",
        "\n",
        "# Extract item IDs from its_ans\n",
        "its_recommendations_ids = [[item_id for item_id, rating in user_recs] for user_recs in its_ans]\n",
        "\n",
        "# Calculate F1 score for each user and then average (or micro/macro average)\n",
        "# For simplicity, we can calculate a micro F1 score by flattening the lists\n",
        "my_flat_ids = [item for sublist in my_recommendations_ids for item in sublist]\n",
        "its_flat_ids = [item for sublist in its_recommendations_ids for item in sublist]\n",
        "\n",
        "# To calculate F1, we need a set of all possible items to create binary labels\n",
        "all_item_ids = np.unique(np.concatenate((my_flat_ids, its_flat_ids)))\n",
        "\n",
        "# Create binary labels for each user and item\n",
        "def create_binary_labels(user_recommendations, all_items):\n",
        "    item_set = set(user_recommendations)\n",
        "    return [1 if item in item_set else 0 for item in all_items]\n",
        "\n",
        "y_true = []\n",
        "y_pred = []\n",
        "\n",
        "for i in range(len(my_recommendations_ids)):\n",
        "    y_true.append(create_binary_labels(its_recommendations_ids[i], all_item_ids))\n",
        "    y_pred.append(create_binary_labels(my_recommendations_ids[i], all_item_ids))\n",
        "\n",
        "# Calculate micro F1 score\n",
        "f1_micro = f1_score(np.array(y_true).flatten(), np.array(y_pred).flatten(), average='micro')\n",
        "\n",
        "print(f\"Micro F1 Score: {f1_micro:.4f}\")"
      ],
      "metadata": {
        "colab": {
          "base_uri": "https://localhost:8080/"
        },
        "id": "JdfoA5hWVHKL",
        "outputId": "7e0f6801-c0b9-439d-e589-a81927a54185"
      },
      "execution_count": 144,
      "outputs": [
        {
          "output_type": "stream",
          "name": "stdout",
          "text": [
            "Micro F1 Score: 0.8020\n"
          ]
        }
      ]
    },
    {
      "cell_type": "code",
      "source": [],
      "metadata": {
        "id": "F3xpsfKaVCcp"
      },
      "execution_count": null,
      "outputs": []
    }
  ],
  "metadata": {
    "kernelspec": {
      "display_name": "Python 3 (ipykernel)",
      "language": "python",
      "name": "python3"
    },
    "colab": {
      "provenance": []
    }
  },
  "nbformat": 4,
  "nbformat_minor": 0
}