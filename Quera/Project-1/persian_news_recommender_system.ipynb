{
 "cells": [
  {
   "cell_type": "markdown",
   "id": "55dc77c5-95a0-4c50-8e7d-93c9145fee38",
   "metadata": {},
   "source": [
    "<div dir=center>\n",
    "  <h1 align=center style=\"line-height:200%;font-family:vazir;color:#0099cc\">\n",
    "    <font face=\"vazir\" color=\"#0099cc\">\n",
    "      سیستم پیشنهاد اخبار هوشمند\n",
    "    </font>\n",
    "  </h1>\n",
    "</div>\n",
    "\n",
    "<p dir=rtl style=\"direction: rtl;text-align: justify;line-height:200%;font-family:vazir;font-size:medium\">\n",
    "  <font face=\"vazir\" size=3>\n",
    "    در دنیای امروز که لحظه‌به‌لحظه حجم عظیمی از اخبار منتشر می‌شود، کاربران نیازمند ابزاری هستند\n",
    "    که بتواند خبرهای متناسب با علایق و نیازهایشان را پیشنهاد دهد. در این پروژه، قصد داریم یک\n",
    "    سیستم پیشنهاددهنده <strong>محتوا-محور</strong> برای اخبار فارسی طراحی و پیاده‌سازی کنیم؛ سیستمی که\n",
    "    با تکیه بر <em>پردازش زبان طبیعی (NLP)</em> و استفاده از کتابخانه‌ی متن‌باز <code>Hazm</code>،\n",
    "    شباهت محتوا را تشخیص داده و خبرهای مرتبط را به کاربر نمایش می‌دهد.\n",
    "  </font>\n",
    "</p>\n",
    "\n",
    "---\n",
    "\n",
    "<h1 dir=rtl style=\"direction: rtl;text-align: justify;line-height:200%;font-family:vazir;font-size:medium\">\n",
    "  <font face=\"vazir\" color=\"#0099cc\" size=4>\n",
    "    🎯 هدف تمرین:\n",
    "  </font>\n",
    "</h1>\n",
    "\n",
    "<p dir=rtl style=\"direction: rtl;text-align: justify;line-height:200%;font-family:vazir;font-size:medium\">\n",
    "  <font face=\"vazir\" size=3>\n",
    "    ساخت یک سیستم پیشنهاددهنده اخبار فارسی که بتواند بر اساس شباهت محتوا، خبرهای مشابه را پیدا کند.\n",
    "    این تمرین به ما کمک می‌کند تا:\n",
    "    <div dir=\"rtl\">\n",
    "      <ul>\n",
    "        <li>با چالش‌های <strong>پردازش زبان طبیعی فارسی</strong> آشنا شویم</li>\n",
    "        <li>از کتابخانه‌ی <code>Hazm</code> برای پیش‌پردازش متن بهره ببریم</li>\n",
    "        <li>مفاهیم <strong>شباهت‌سنجی محتوا</strong> و <code>TF-IDF</code> را در عمل ببینیم</li>\n",
    "        <li>یک <strong>سیستم پیشنهاددهنده محتوا-محور</strong> واقعی پیاده‌سازی کنیم</li>\n",
    "      </ul>\n",
    "    </div>\n",
    "  </font>\n",
    "</p>\n",
    "\n",
    "<h1 dir=rtl style=\"direction: rtl;text-align: justify;line-height:200%;font-family:vazir;font-size:medium\">\n",
    "  <font face=\"vazir\" color=\"#0099cc\" size=4>\n",
    "    📰 مراحل اجرا:\n",
    "  </font>\n",
    "</h1>\n",
    "\n",
    "<p dir=rtl style=\"direction: rtl;text-align: justify;line-height:200%;font-family:vazir;font-size:medium\">\n",
    "  <font face=\"vazir\" size=3>\n",
    "    برای ساخت این سیستم هوشمند، مراحل زیر را طی خواهیم کرد:\n",
    "    <div dir=\"rtl\">\n",
    "      <strong>۱. جمع‌آوری و پیش‌پردازش داده‌ها:</strong>\n",
    "      <strong>۲. استخراج ویژگی‌های متنی:</strong>\n",
    "      <strong>۳. محاسبه شباهت محتوا:</strong>\n",
    "      <strong>۴. ارائه پیشنهادات:</strong>\n",
    "    </div>\n",
    "  </font>\n",
    "</p>\n",
    "\n",
    "<h1 dir=rtl style=\"direction: rtl;text-align: justify;line-height:200%;font-family:vazir;font-size:medium\">\n",
    "  <font face=\"vazir\" color=\"#0099cc\" size=4>\n",
    "    ✨ نتیجه نهایی:\n",
    "  </font>\n",
    "</h1>\n",
    "\n",
    "<p dir=rtl style=\"direction: rtl;text-align: justify;line-height:200%;font-family:vazir;font-size:medium\">\n",
    "  <font face=\"vazir\" size=3>\n",
    "    در پایان این تمرین، شما خواهید توانست:\n",
    "    <div dir=\"rtl\">\n",
    "      <ul>\n",
    "        <li>یک سیستم پیشنهاد اخبار فارسی را از صفر طراحی و پیاده‌سازی کنید</li>\n",
    "        <li>با ابزارهای بومی <code>Hazm</code> و تکنیک‌های NLP فارسی کار کنید</li>\n",
    "        <li>مفاهیم تئوری سیستم‌های پیشنهادهنده را در یک پروژه عملی به کار ببرید</li>\n",
    "        <li>بهبود تجربه کاربری در دسترسی به اخبار شخصی‌سازی‌شده را درک کنید</li>\n",
    "      </ul>\n",
    "      آماده‌اید تا دنیای خبر را برای کاربران هوشمندانه‌تر کنید؟ 🗞️\n",
    "    </div>\n",
    "  </font>\n",
    "</p>\n"
   ]
  },
  {
   "cell_type": "markdown",
   "id": "bc939a1e-2048-4808-ba84-f091aa75a257",
   "metadata": {},
   "source": [
    "<h1 dir=rtl style=\"direction: rtl;text-align: justify;line-height:200%;font-family:vazir;font-size:medium\">\n",
    "  <font face=\"vazir\" color=\"#0099cc\" size=5>\n",
    "    گام اول : فراخوانی کتابخانه‌ها\n",
    "  </font>\n",
    "</h1>\n",
    "\n",
    "<p dir=rtl style=\"direction: rtl;text-align: justify;line-height:200%;font-family:vazir;font-size:medium\">\n",
    "  <font face=\"vazir\" size=3>\n",
    "    در مرحله اول نیاز داریم تا کتابخانه‌هایی که مورد نیاز هستند در این برنامه را فراخوانی کنیم. در این پروژه از <b>کتابخانه <code>numpy</code></b> برای عملیات عددی، <b><code>pandas</code></b> برای مدیریت داده‌ها و <b><code>hazm</code></b> برای پیش‌پردازش متون فارسی استفاده شده است.\n",
    "  </font>\n",
    "</p>\n",
    "\n",
    "<h2 dir=rtl style=\"direction: rtl;text-align: justify;line-height:200%;font-family:vazir;font-size:medium\">\n",
    "  <font face=\"vazir\" color=\"#666666\" size=3>\n",
    "    نکات فنی:\n",
    "  </font>\n",
    "</h2>\n",
    "\n",
    "<ul dir=rtl style=\"direction: rtl;text-align: justify;line-height:200%;font-family:vazir;font-size:medium\">\n",
    "  <li>\n",
    "    نسخه استفاده‌شده از <code>numpy</code> در این پروژه <b>1.26.4</b> است.\n",
    "  </li>\n",
    "  <li>\n",
    "    نسخه استفاده‌شده از <code>hazm</code> نیز <b>0.9.3</b> می‌باشد که با نسخه فعلی <code>numpy</code> هماهنگ است و مشکلی از نظر ناسازگاری نسخه‌ها وجود ندارد.\n",
    "  </li>\n",
    "  <li>\n",
    "    توصیه می‌شود برای انجام پروژه‌هایی که از کتابخانه‌های تخصصی NLP استفاده می‌کنند، یک <b>محیط مجزا (Virtual Environment)</b> ایجاد شود تا از تداخل نسخه‌ها با سایر پروژه‌ها جلوگیری گردد.\n",
    "  </li>\n",
    "</ul>"
   ]
  },
  {
   "cell_type": "code",
   "execution_count": 1,
   "id": "biIaZtFPhHKt",
   "metadata": {
    "colab": {
     "base_uri": "https://localhost:8080/",
     "height": 1000
    },
    "id": "biIaZtFPhHKt",
    "outputId": "8c7094f7-b140-421d-a2a7-02806c404564"
   },
   "outputs": [],
   "source": [
    "# !pip install hazm"
   ]
  },
  {
   "cell_type": "code",
   "execution_count": 2,
   "id": "WWMS85GpsItm",
   "metadata": {
    "colab": {
     "base_uri": "https://localhost:8080/"
    },
    "id": "WWMS85GpsItm",
    "outputId": "39b06fe6-541b-4850-e656-d8e62b541cbf"
   },
   "outputs": [
    {
     "name": "stdout",
     "output_type": "stream",
     "text": [
      "1.26.4\n"
     ]
    }
   ],
   "source": [
    "import numpy as np\n",
    "print(np.__version__)"
   ]
  },
  {
   "cell_type": "code",
   "execution_count": 3,
   "id": "449e79b5-04ac-4635-85a6-6d2c83a13b76",
   "metadata": {
    "id": "449e79b5-04ac-4635-85a6-6d2c83a13b76"
   },
   "outputs": [],
   "source": [
    "import pandas as pd\n",
    "import hazm"
   ]
  },
  {
   "cell_type": "markdown",
   "id": "92c49541-36f2-4714-ae5c-c5bf637f7f1a",
   "metadata": {},
   "source": [
    "<h1 dir=rtl style=\"direction: rtl;text-align: justify;line-height:200%;font-family:vazir;font-size:medium\">\n",
    "  <font face=\"vazir\" color=\"#0099cc\" size=5>\n",
    "    گام دوم : فراخوانی فایل داده‌ها\n",
    "  </font>\n",
    "</h1>\n",
    "\n",
    "<p dir=rtl style=\"direction: rtl;text-align: justify;line-height:200%;font-family:vazir;font-size:medium\">\n",
    "  <font face=\"vazir\" size=3>\n",
    "    در این مرحله شما می‌بایست که فایل <code>news_data.csv</code> ذخیره شده در مسیر <code>data\\news_data.csv</code> را باز کرده و محتویات آن را بخوانید و در متغیری به نام <code>df</code> ذخیره کنید.<br>\n",
    "  </font>\n",
    "</p>"
   ]
  },
  {
   "cell_type": "code",
   "execution_count": 4,
   "id": "7bf274bf-db8c-44f5-8a46-8ae439a7694a",
   "metadata": {
    "colab": {
     "base_uri": "https://localhost:8080/",
     "height": 823
    },
    "id": "7bf274bf-db8c-44f5-8a46-8ae439a7694a",
    "outputId": "a7a8f42a-ba0f-4c23-eb53-419c491c14db"
   },
   "outputs": [
    {
     "data": {
      "text/html": [
       "<div>\n",
       "<style scoped>\n",
       "    .dataframe tbody tr th:only-of-type {\n",
       "        vertical-align: middle;\n",
       "    }\n",
       "\n",
       "    .dataframe tbody tr th {\n",
       "        vertical-align: top;\n",
       "    }\n",
       "\n",
       "    .dataframe thead th {\n",
       "        text-align: right;\n",
       "    }\n",
       "</style>\n",
       "<table border=\"1\" class=\"dataframe\">\n",
       "  <thead>\n",
       "    <tr style=\"text-align: right;\">\n",
       "      <th></th>\n",
       "      <th>content</th>\n",
       "      <th>label</th>\n",
       "      <th>label_id</th>\n",
       "    </tr>\n",
       "  </thead>\n",
       "  <tbody>\n",
       "    <tr>\n",
       "      <th>0</th>\n",
       "      <td>به گزارش حوزه ادبیات گروه فرهنگی باشگاه خبرنگا...</td>\n",
       "      <td>فرهنگی هنری</td>\n",
       "      <td>5</td>\n",
       "    </tr>\n",
       "    <tr>\n",
       "      <th>1</th>\n",
       "      <td>به گزارش خبرنگار دانشگاه باشگاه خبرنگاران، نما...</td>\n",
       "      <td>سیاسی</td>\n",
       "      <td>3</td>\n",
       "    </tr>\n",
       "    <tr>\n",
       "      <th>2</th>\n",
       "      <td>به گزارش حوزه تحولات منطقه گروه سیاسی باشگاه خ...</td>\n",
       "      <td>سیاسی</td>\n",
       "      <td>3</td>\n",
       "    </tr>\n",
       "    <tr>\n",
       "      <th>3</th>\n",
       "      <td>به گزارش خبرنگار حوزه رادیو تلویزیون گروه فرهن...</td>\n",
       "      <td>فرهنگی هنری</td>\n",
       "      <td>5</td>\n",
       "    </tr>\n",
       "    <tr>\n",
       "      <th>4</th>\n",
       "      <td>واکنش‌ها نسبت به لغو حضور مدافع سابق تیم ملی ف...</td>\n",
       "      <td>سیاسی</td>\n",
       "      <td>3</td>\n",
       "    </tr>\n",
       "  </tbody>\n",
       "</table>\n",
       "</div>"
      ],
      "text/plain": [
       "                                             content        label  label_id\n",
       "0  به گزارش حوزه ادبیات گروه فرهنگی باشگاه خبرنگا...  فرهنگی هنری         5\n",
       "1  به گزارش خبرنگار دانشگاه باشگاه خبرنگاران، نما...        سیاسی         3\n",
       "2  به گزارش حوزه تحولات منطقه گروه سیاسی باشگاه خ...        سیاسی         3\n",
       "3  به گزارش خبرنگار حوزه رادیو تلویزیون گروه فرهن...  فرهنگی هنری         5\n",
       "4  واکنش‌ها نسبت به لغو حضور مدافع سابق تیم ملی ف...        سیاسی         3"
      ]
     },
     "execution_count": 4,
     "metadata": {},
     "output_type": "execute_result"
    }
   ],
   "source": [
    "df = pd.read_csv('data/news_data.csv')\n",
    "df.head()"
   ]
  },
  {
   "cell_type": "markdown",
   "id": "09a0fccb-8e29-49c0-b702-b7b269b6e3d1",
   "metadata": {},
   "source": [
    "<h1 dir=rtl style=\"direction: rtl;text-align: justify;line-height:200%;font-family:vazir;font-size:medium\">\n",
    "  <font face=\"vazir\" color=\"#0099cc\" size=5>\n",
    "    گام سوم : بررسی اولیه ساختار داده‌ها\n",
    "  </font>\n",
    "</h1>\n",
    "\n",
    "<p dir=rtl style=\"direction: rtl;text-align: justify;line-height:200%;font-family:vazir;font-size:medium\">\n",
    "  <font face=\"vazir\" size=3>\n",
    "    پیش از آنکه عملیات پردازش و تحلیل روی داده‌ها انجام شود، لازم است ابتدا با ساختار کلی داده‌ها آشنا شویم. در این مرحله با بررسی چند نمونه تصادفی از داده‌ها، می‌توانیم نگاهی کلی به فرمت، نحوه‌ی جداسازی فیلدها و کیفیت محتوای خبری داشته باشیم.\n",
    "  </font>\n",
    "</p>\n",
    "\n",
    "<p dir=rtl style=\"direction: rtl;text-align: justify;line-height:200%;font-family:vazir;font-size:medium\">\n",
    "  <font face=\"vazir\" size=3>\n",
    "    این بررسی اولیه به ما کمک می‌کند تا تصمیم‌گیری بهتری درباره‌ی مراحل بعدی <b>پیش‌پردازش</b> داشته باشیم. برای مثال، ممکن است متوجه شویم داده‌ها دارای نویز، تکرار، یا قالب‌بندی نامناسب هستند که باید در مراحل بعد اصلاح شوند.\n",
    "  </font>\n",
    "</p>\n",
    "\n",
    "<ul dir=rtl style=\"direction: rtl;text-align: justify;line-height:200%;font-family:vazir;font-size:medium\">\n",
    "  <li>این مرحله پایه و اساس پیش‌پردازش حرفه‌ای متن را تشکیل می‌دهد.</li>\n",
    "  <li>آگاهی دقیق از شکل داده‌ها باعث جلوگیری از بروز خطا در مراحل بعدی (مثل توکن‌سازی، حذف نویز، و برچسب‌گذاری) خواهد شد.</li>\n",
    "</ul>"
   ]
  },
  {
   "cell_type": "code",
   "execution_count": 5,
   "id": "4c892067",
   "metadata": {},
   "outputs": [
    {
     "name": "stdout",
     "output_type": "stream",
     "text": [
      "<class 'pandas.core.frame.DataFrame'>\n",
      "RangeIndex: 5000 entries, 0 to 4999\n",
      "Data columns (total 3 columns):\n",
      " #   Column    Non-Null Count  Dtype \n",
      "---  ------    --------------  ----- \n",
      " 0   content   5000 non-null   object\n",
      " 1   label     5000 non-null   object\n",
      " 2   label_id  5000 non-null   int64 \n",
      "dtypes: int64(1), object(2)\n",
      "memory usage: 117.3+ KB\n"
     ]
    }
   ],
   "source": [
    "df.info()"
   ]
  },
  {
   "cell_type": "code",
   "execution_count": 6,
   "id": "5fe8a4f3-073c-4824-8eed-24026a6dd01e",
   "metadata": {
    "colab": {
     "base_uri": "https://localhost:8080/"
    },
    "id": "5fe8a4f3-073c-4824-8eed-24026a6dd01e",
    "outputId": "b6900a3b-c035-461d-c23d-c3eddf8042a4"
   },
   "outputs": [
    {
     "name": "stdout",
     "output_type": "stream",
     "text": [
      "content : به گزارش خبرنگار حوزه رفاه و تعاون گروه اجتماعی باشگاه خبرنگاران جوان، حاتم شاه کرمی معاون روابط کار وزرات تعاون، کار و رفاه اجتماعی در یکصد و چهل و نهمین جلسه شورای عالی حفاظت فنی که امروز (یکشنبه سی‌ام دی ماه) برگزار شد، اظهار کرد: در جلسه امروز سه دستور کار مورد بررسی قرار می‌گیرد که یکی از ‌آن‌ها بررسی سخت و زیان آور بودن مشاغل است که نحوه بررسی آن به دو صورت انجام می‌شود. وی افزود: در روش اول سخت و زیان آور بودن مشاغل، برای برخی از مشاغل در نظر گرفته می‌شود و با اقدامات ایمنی و تدابیر کارفرما میزان سخت و زیان‌آور بودن مشاغل کاهش یافته و از شمول این قانون خارج می‌شوند. معاون وزیر تعاون، کار و رفاه اجتماعی با اشاره به روش دوم بیان کرد: مشاغلی هم داریم که ماهیت سخت و زیان آور دارند و با تدابیر فنی و حفاظتی کارفرما سخت و زیان آور بودن خود را از دست نمی‌دهند، اما در مورد شغل آتش نشانی ابهاماتی وجود دارد. شاه کرمی با بیان این ابهامات عنوان کرد: ابهامات از آن جهت به وجود آمد که در استان‌ها رویه واحدی در این زمینه انجام نمی‌شود و در برخی استان‌ها با در نظر گرفتن متوسط آلایندگی سخت و زیان آور بودن مشاغل مشخص می‌شود. وی تصریح کرد: بر این اساس هیئت دولت بررسی موضوع سخت و زیان آور بودن شغل آتش نشانی را به شورای حفاظت فنی سپرد تا در این مورد با بررسی‌های لازم مشخص شود که آتش نشانی در گروه الف یا در گروه ب قرار می‌گیرد. شاه کرمی در ادامه این جلسه تشریح کرد: دستور کار دیگر امروز نشست شورای حفاظت فنی بررسی مشاغلی است که به موجب تغییر کارفرما و به دلیل عدم پرداخت ۴ درصد حق بیمه مشاغل سخت و زیان‌آور مشخص نیست که به چه صورت بیمه آن‌ها محاسبه می‌شود.\n",
      "label :  اجتماعی\n",
      "label_id : 0\n",
      "--------------------------------------------------\n",
      "content : به گزارش خبرنگار ورزشی باشگاه خبرنگاران، اردوی تیم ملی تکواندو برای حضور در مسابقات انتخابی المپیک در حالی از روز شنبه پنجم بهمن در مرکز جهانی تهران آغاز شده است که در این اردو تکواندوکاران تیم‌های ملی بلژیک و هندوستان نیز به صورت مقطعی حضور دارند. طبق برنامه‌ریزی فدراسیون بلژیک با چهار بازیکن و یک مربی زیر نظر بیژن مقانلو سرمربی تیم ملی هر روز در تمرینات حضور دارند. تیم ملی بلژیک با کریم دیه‌گو سرمربی مراکشی خود به مدت ۱۰ روز در تهران تمرین می‌کنند اما تیم ملی هندوستان با حدود ۳۰ ورزشکار اردوی یک ماهه‌ای در تهران خواهد داشت و دراین اردو تمرینات مشترکی به صورت دو یا سه جلسه در هفته با تیم ملی و تیم‌های باشگاهی خواهد داشت. هندی‌ها بانوان ملی پوش خود را نیز در تمرینات تیم ملی نوجوانان شرکت داده‌اند.\n",
      "label :  ورزشی\n",
      "label_id : 6\n",
      "--------------------------------------------------\n",
      "content : به گزارش خبرنگار ورزشی باشگاه خبرنگاران؛ اولین دوره مسابقات گرندپریکس یا جایزه بزرگ و انتخابی المپیک از امروز به میزبانی شهر سوژو چین آغاز شده است. این رقابت‌ها در کلاس G۴ برگزار می‌شود که در روز اول سجاد مردانی در سنگین وزن برای ایران به میدان رفته است. اما در دومین روز این مسابقات فردا ایران ۳ نماینده دارد. در وزن اول المپیکی، هادی مستعان نایب قهرمان جهان در اولین مسابقه با دوان آولا از کلمبیا مبارزه می‌کند. تکواندوکار وزن ۵۸- کیلوگرم کشورمان در صورت پیروزی به مصاف برنده دیدار دومینیکن و کویت خواهد رفت. همچنین در وزن ۸۰- کیلوگرم مسعود حجی زواره در اولین گام با هنریکه مورا از برزیل مبارزه خواهد کرد. او در صورت پیروزی برابر آرون کوک از جزایر من قرار می‌گیرد. در آن سوی جدول نیز فرزاد عبدالهی در همین وزن، دور اول با لینگ لانگ تکواندوکاری از چین مبارزه می‌کند و در صورت برتری به مصاف یکی از تکواندوکاران مکزیک و تونس می‌رود. در وزن سوم المپیکی ۲۷ تکواندوکار ثبت نام کرده‌اند.\n",
      "label :  ورزشی\n",
      "label_id : 6\n",
      "--------------------------------------------------\n",
      "content : به گزارش حوزه دانشگاه باشگاه خبرنگاران، محمد ابراهیمی رئیس پژوهشکده سامانه‌های فضانوردی ایران در اردوی جهاد اکبر اتحادیه انجمن اسلامی دانشجویان مستقل که از دیروز (جمعه) در مشهد و با حضور ۵۰۰ تن از فعالان دانشجویی سراسر کشور آغاز به کار کرده است، از اعزام انسان به فضا طی پنج سال آینده خبر داد. وی در ادامه به تاریخچه فعالیت‌های ایران در زمینه هوا و فضا اشاره کرد و گفت: قبل از انقلاب فعالیت‌هایی که ایران در زمینه فضا انجام می‌داد، تنها درحد مصرف‌کننده دیگر کشورهای صاحب فناوری فضایی بود و لذا توان بهره‌برداری هوایی و نگهداری تنها کارنامه قابل مشاهده ما قبل از انقلاب است. وی ادامه داد: بعد از آنکه افراد متخصص در صنعت هوایی کشور بعد از انقلاب به دیگر کشورها مهاجرت کردند٬ به ما می‌گفتند شما نمی‌توانید فناوری هوا و فضا را کسب کنید؛ ما در ابتدا حتی کلمه لاتین سوخت موشک را هم نمی‌دانستیم و از اینجا کار خود را آغاز کردیم. رئیس پژوهشکده سامانه‌های فضانوردی ایران افزود: جرقه ما می‌توانیم از زمان جنگ آغاز شد و در آنجا به این باور رسیدیم که می‌توانیم روی پای خودمان بایستیم و کارهای بزرگی انجام دهیم. این زمینه‌ای شد تا امروز در دنیا به عنوان صاحب فناوری هوا و فضا از ما یاد ‌شود. وی همچنین به عدم همکاری کشورهای خارجی در پرتاب ماهواره اشاره کرد و اظهار داشت: ما از ماهواره مصباح آغاز کردیم؛ این ماهواره با کمک ایتالیایی‌ها ساخته شد و جالب اینجاست که این ماهواره هیچگاه پرتاب نشد؛ ماهواره سینا را نیز با کمک روس‌ها ساختیم، ولی این بار هم نگذاشتند که پرتاب شود؛ و این موضوع باعث شد که از دانش و توان دانشمندان خودمان استفاده کنیم و ماهواره امید را ساختیم. ابراهیمی به گام بعدی پرتاب ماهواره اشاره کرد و گفت: گام بعدی که ما باید آن را فتح می‌کردیم٬ ساخت ماهواره‌بر بود و همان‌طور که ‌اطلاعات آن در رسانه‌ها منتشر شد٬ به این فناوری مهم نیز دست پیدا کردیم. در بخش بعدی عملیاتی به ساخت کاوشگر با توان ارسال موجود زنده اقدام کردیم که در این زمینه نیز موفق بودیم. همچنین طی روزهای آینده یک ماهواره جدید به فضا پرتاب می‌کنیم و زمان فرستادن انسان به فضا نیز در ۵ سال آینده امکان‌پذیر خواهد بود. وی ادامه داد: بعد از تست‌ها و ارزیابی‌های گوناگونی که در کاوشگر پیشگام انجام شد، به این نتیجه رسیدیم که از یک نژاد خاص میمون به نام زئوس استفاده کنیم و پس از تست‌های محیطی و میدانی آستانه تحمل این موجود را تا ۱۱g بالا بردیم تا این موجود بتواند فشارهای موجود در فضا را تحمل کند. ابراهیمی تصریح کرد: در روز پرتاب کاوشگر، سه میمون را آماده کردیم که بتوانیم از میمون آماده‌تر استفاده کنیم که مسئله جنجالی میمون خال‌دار و بی‌خال از همین جا شروع می‌شود و چون رسانه‌ها می‌خواستند سریع خبر را بزنند از ما فیلم اصلی را نگرفتند و از تصاویر آرشیوی برای انعکاس خبر خود استفاده کردند. رئیس پژوهشکده سامانه‌های فضانوردی ایران در پایان گفت: امروز کشور بر روی پیشرفت علمی سرمایه‌گذاری عظیمی کرده است و پایه و مبنای این پیشرفت‌ها نیز مقام معظم رهبری هستند و این انگیزه‌ای شده است که دانشمندان ما علی‌رغم تهدیدهای معمول، شبانه روز برای سربلندی ایران تلاش ‌کنند؛ اما تعدادی نیز در داخل هستند که با فعالیت خود، اهداف نظام اسلامی را زیر سوال ببرند. انتهای پیام/س۲\n",
      "label :  سیاسی\n",
      "label_id : 3\n",
      "--------------------------------------------------\n",
      "content : به گزارش خبرنگار پارلمانی باشگاه خبرنگاران، نمایندگان در جلسه علنی امروز در ادامه بررسی طرح اصلاح موادی از قانون تشکیل سازمان بازرسی کل کشور مواد۴، ۵ و۶ این طرح را بررسی کردند. براین اساس طبق تبصره ۳ ماده ۴ بازرس قضایی پس از تکمیل تحقیقات و در صورت وجود دلایل و مدارک کافی بر توجه اتهام اقدامات قانونی لازم را معمول و در نتیجه آیین نامه دادرسی دادگاه‌های عمومی و انقلاب در امور کیفری عقیده خود را مبنی بر مجرمیت به ریاست سازمان یا مقام مأذون از سوی وی اعلام می‌کند تا در صورت موافقت آنان پرونده برای صدور کیفر خواست به دادستان مربوط ارسال شود دادستان در صورت پذیرش قرار مجرمیت کیفر خواست را صادر و پرونده را به دادگاه صالح ارسال می‌کند. دادگاه مرجوع الیه باید خارج از نوبت به موضوع رسیدگی کند دادستان و رئیس دادگاه می‌تواند تکمیل تحقیقات را از سازمان درخواست نماید. این تبصره به دلیل خلاف قانون اساسی بودن به رای گذاشته شد و در نتیجه نمایندگان با ۱۵۸ رای موافق، ۱۶ رای مخالف و ۵ رای ممتنع به کمیسیون حقوقی و قضایی ارجاع شد. براساس ماده ۵ نیز گزارش‌های سازمان در مراجع قضایی و هیئت‌های رسیدگی به تخلفات اداری، انضباطی و انتظامی خارج از نوبت و حداکثر ظرف سه ماه مورد رسیدگی قرار خواهد گرفت. چنان چه رسیدگی به پرونده‌ها پیش از مدت معین نیاز به وقت داشته باشد مراجع مذکور باید جهات و دلایل آن را در پرونده درج کنند. آرای صادره مراجع قضایی با درخواست سازمان بازرسی کل کشور و موافقت دادستان ذیربط و آرای صادره هیئت‌های رسیدگی به تخلفات اداری، انضباطی و اجتماعی با درخواست سازمان مذکور در مراجع ذی‌صلاح ظرف ۲۰ روز پس از ابلاغ قابل تجدید نظر بوده و این رسیدگی نیز خارج از نوبت خواهد بود. تبصره: هر گاه بازرس دارای پایه قضایی ضمن بازرسی در حدود مقررات قانونی به حکمی برخورد کند که آن را خلاف قیم شرع یا قانون تشخیص دهد گزارش مستدل آن را از طریق رئیس سازمان برای رئیس قوه قضاییه ارسال می‌کند تا رئیس قوه طبق قانون اقدام لازم را به عمل آورد. هم چنین طبق تبصره ۱ ماده ۶ نیز تخلف از تکلیف مندرج در این ماده موجب حبس از سه ماه و یک روز تا شش ماه یا انفصال موقت از خدمات دولتی و عمومی از سه ماه تا یک سال خواهد بود. انتهای پیام/\n",
      "label :  سیاسی\n",
      "label_id : 3\n",
      "--------------------------------------------------\n"
     ]
    }
   ],
   "source": [
    "# TO DO\n",
    "# Read the random data from the dataset and get knowledge about your data\n",
    "random_data = df.sample(5, random_state=42)\n",
    "\n",
    "for index, row in random_data.iterrows():\n",
    "    print(f\"content : {row['content']}\")\n",
    "    print(\"label : \", row['label'])\n",
    "    print(f\"label_id : {row['label_id']}\")\n",
    "    print(\"-\" * 50)\n"
   ]
  },
  {
   "cell_type": "code",
   "execution_count": 7,
   "id": "f0cdc7f5",
   "metadata": {},
   "outputs": [
    {
     "data": {
      "text/plain": [
       "label\n",
       "فرهنگی هنری    802\n",
       "علمی فناوری    770\n",
       "سیاسی          688\n",
       "اجتماعی        665\n",
       "پزشکی          624\n",
       "بین الملل      580\n",
       "اقتصادی        443\n",
       "ورزشی          428\n",
       "Name: count, dtype: int64"
      ]
     },
     "execution_count": 7,
     "metadata": {},
     "output_type": "execute_result"
    }
   ],
   "source": [
    "df['label'].value_counts()"
   ]
  },
  {
   "cell_type": "markdown",
   "id": "59bfaf6e-98d0-4969-b723-9398d4f04bf8",
   "metadata": {},
   "source": [
    "<h1 dir=rtl style=\"direction: rtl;text-align: justify;line-height:200%;font-family:vazir;font-size:medium\">\n",
    "  <font face=\"vazir\" color=\"#0099cc\" size=5>\n",
    "    گام چهارم : پیش‌پردازش داده‌های متنی\n",
    "  </font>\n",
    "</h1>\n",
    "\n",
    "<p dir=rtl style=\"direction: rtl;text-align: justify;line-height:200%;font-family:vazir;font-size:medium\">\n",
    "  <font face=\"vazir\" size=3>\n",
    "برای کار اعمال پیش‌پردازش داده‌ها اول یک کپی از مجموعه داده‌ی <code>df</code> ایجاد کرده و در متغیری به نام <code>data</code> بریزید تا دیگر داده‌های اصلی تغییری پیدا نکنند.\n",
    "  </font>\n",
    "</p>\n",
    "\n",
    "\n",
    "<p dir=rtl style=\"direction: rtl;text-align: justify;line-height:200%;font-family:vazir;font-size:medium\">\n",
    "  <font face=\"vazir\" size=3>\n",
    "    داده‌های متنی خام، به‌ویژه در زبان فارسی، معمولاً شامل نویزهایی مانند علائم نگارشی، اعداد، و کلمات توقف (Stopwords) هستند که می‌توانند دقت سیستم‌های پیشنهاددهنده یا مدل‌های یادگیری ماشین را کاهش دهند. به همین دلیل، لازم است پیش از استفاده از داده‌ها، آن‌ها را <b>پیش‌پردازش</b> کنیم.\n",
    "  </font>\n",
    "</p>\n",
    "\n",
    "\n",
    "<h2 dir=rtl style=\"direction: rtl;text-align: justify;line-height:200%;font-family:vazir;font-size:medium\">\n",
    "  <font face=\"vazir\" color=\"#666666\" size=4>\n",
    "    مراحل پیش‌پردازش متن فارسی:\n",
    "  </font>\n",
    "</h2>\n",
    "\n",
    "<ol dir=rtl style=\"direction: rtl;text-align: justify;line-height:200%;font-family:vazir;font-size:medium\">\n",
    "  <li><b>نرمال‌سازی (Normalization):</b> استانداردسازی حروف و کلمات (مانند تبدیل \"ي\" به \"ی\" و \"ك\" به \"ک\")</li>\n",
    "  <li><b>حذف علائم نگارشی:</b> حذف کاراکترهای غیرمتنی (مانند ؟!،%،$ و ...) که در پردازش زبانی نقشی ندارند.</li>\n",
    "  <li><b>حذف اعداد:</b> معمولاً اعداد در تحلیل‌های زبانی بی‌اهمیت هستند، مگر در کاربردهای خاص.</li>\n",
    "  <li><b>توکن‌سازی (Tokenization):</b> شکستن متن به کلمات یا واحدهای معنایی.</li>\n",
    "  <li><b>ریشه‌یابی (Lemmatization):</b> تبدیل کلمات به شکل پایه‌شان. مثلاً «رفتیم» به «رفتن» تبدیل می‌شود.</li>\n",
    "  <li><b>حذف کلمات توقف:</b> حذف کلماتی مانند «از»، «با»، «که»، «را» که معنی خاصی ندارند و تکراری هستند.</li>\n",
    "</ol>\n",
    "\n",
    "<h2 dir=rtl style=\"direction: rtl;text-align: justify;line-height:200%;font-family:vazir;font-size:medium\">\n",
    "  <font face=\"vazir\" color=\"#666666\" size=4>\n",
    "    تابع نهایی برای پیش‌پردازش\n",
    "  </font>\n",
    "</h2>\n",
    "\n",
    "<p dir=rtl style=\"direction: rtl;text-align: justify;line-height:200%;font-family:vazir;font-size:medium\">\n",
    "  <font face=\"vazir\" size=3>\n",
    "    در ادامه، شما وظیفه تکمیل تابع <code>persian_text_preprocessing</code> را دارید که باید به ترتیب مراحل بالا یک متن فارسی را پیش‌پردازش کند.\n",
    "  </font>\n",
    "</p>\n",
    "\n",
    "<p dir=rtl style=\"direction: rtl;text-align: justify;line-height:200%;font-family:vazir;font-size:medium\">\n",
    "  <font face=\"vazir\" size=3>\n",
    "پس از تکمیل تابع آن‌را روی ستون متن اخبار اعمال کنید.\n",
    "  </font>\n",
    "</p>\n",
    "\n",
    "<p dir=\"rtl\" style=\"direction: rtl; text-align: justify; line-height: 200%; font-family: vazir; font-size: medium\">\n",
    "  <font face=\"vazir\" size=3>\n",
    "    برای کسب اطلاعات بیشتر در مورد کتابخانه <code>hazm</code> می‌توانید از طریق \n",
    "    <a href=\"https://www.roshan-ai.ir/hazm/docs/\">این مستندات</a> اقدام کنید.\n",
    "  </font>\n",
    "</p>\n",
    "\n"
   ]
  },
  {
   "cell_type": "code",
   "execution_count": 8,
   "id": "6a50f710-0eb6-4106-967f-40c14fc22e79",
   "metadata": {
    "colab": {
     "base_uri": "https://localhost:8080/",
     "height": 206
    },
    "id": "6a50f710-0eb6-4106-967f-40c14fc22e79",
    "outputId": "ba15f281-9d22-466f-a9c8-00867994fb10"
   },
   "outputs": [
    {
     "data": {
      "text/html": [
       "<div>\n",
       "<style scoped>\n",
       "    .dataframe tbody tr th:only-of-type {\n",
       "        vertical-align: middle;\n",
       "    }\n",
       "\n",
       "    .dataframe tbody tr th {\n",
       "        vertical-align: top;\n",
       "    }\n",
       "\n",
       "    .dataframe thead th {\n",
       "        text-align: right;\n",
       "    }\n",
       "</style>\n",
       "<table border=\"1\" class=\"dataframe\">\n",
       "  <thead>\n",
       "    <tr style=\"text-align: right;\">\n",
       "      <th></th>\n",
       "      <th>content</th>\n",
       "      <th>label</th>\n",
       "      <th>label_id</th>\n",
       "    </tr>\n",
       "  </thead>\n",
       "  <tbody>\n",
       "    <tr>\n",
       "      <th>0</th>\n",
       "      <td>به گزارش حوزه ادبیات گروه فرهنگی باشگاه خبرنگا...</td>\n",
       "      <td>فرهنگی هنری</td>\n",
       "      <td>5</td>\n",
       "    </tr>\n",
       "    <tr>\n",
       "      <th>1</th>\n",
       "      <td>به گزارش خبرنگار دانشگاه باشگاه خبرنگاران، نما...</td>\n",
       "      <td>سیاسی</td>\n",
       "      <td>3</td>\n",
       "    </tr>\n",
       "    <tr>\n",
       "      <th>2</th>\n",
       "      <td>به گزارش حوزه تحولات منطقه گروه سیاسی باشگاه خ...</td>\n",
       "      <td>سیاسی</td>\n",
       "      <td>3</td>\n",
       "    </tr>\n",
       "    <tr>\n",
       "      <th>3</th>\n",
       "      <td>به گزارش خبرنگار حوزه رادیو تلویزیون گروه فرهن...</td>\n",
       "      <td>فرهنگی هنری</td>\n",
       "      <td>5</td>\n",
       "    </tr>\n",
       "    <tr>\n",
       "      <th>4</th>\n",
       "      <td>واکنش‌ها نسبت به لغو حضور مدافع سابق تیم ملی ف...</td>\n",
       "      <td>سیاسی</td>\n",
       "      <td>3</td>\n",
       "    </tr>\n",
       "  </tbody>\n",
       "</table>\n",
       "</div>"
      ],
      "text/plain": [
       "                                             content        label  label_id\n",
       "0  به گزارش حوزه ادبیات گروه فرهنگی باشگاه خبرنگا...  فرهنگی هنری         5\n",
       "1  به گزارش خبرنگار دانشگاه باشگاه خبرنگاران، نما...        سیاسی         3\n",
       "2  به گزارش حوزه تحولات منطقه گروه سیاسی باشگاه خ...        سیاسی         3\n",
       "3  به گزارش خبرنگار حوزه رادیو تلویزیون گروه فرهن...  فرهنگی هنری         5\n",
       "4  واکنش‌ها نسبت به لغو حضور مدافع سابق تیم ملی ف...        سیاسی         3"
      ]
     },
     "execution_count": 8,
     "metadata": {},
     "output_type": "execute_result"
    }
   ],
   "source": [
    "data = df.copy()\n",
    "data.head()"
   ]
  },
  {
   "cell_type": "code",
   "execution_count": 9,
   "id": "64d8755d-c9eb-4573-b426-8981e631a631",
   "metadata": {
    "id": "64d8755d-c9eb-4573-b426-8981e631a631"
   },
   "outputs": [],
   "source": [
    "import re\n",
    "from hazm import Normalizer\n",
    "from hazm import WordTokenizer\n",
    "from hazm import Lemmatizer\n",
    "from hazm import stopwords_list\n",
    "\n",
    "\n",
    "lemmatizer = Lemmatizer()\n",
    "normalizer = Normalizer()\n",
    "tokenizer = WordTokenizer()\n",
    "stop_words = set(stopwords_list())\n",
    "\n",
    "\n",
    "def persian_text_preprocessing(text):\n",
    "\ttext = normalizer.normalize(text)\n",
    "\ttext = re.sub(r'\\d+', '', text)  # Remove digits\n",
    "\ttext = re.sub(r'\\s+', ' ', text)  # Remove extra spaces\n",
    "\ttext = re.sub(r'[^\\w\\s]', '', text)  # Remove punctuation\n",
    "\twords = tokenizer.tokenize(text)\n",
    "\twords = [lemmatizer.lemmatize(word) for word in words if word not in stop_words]\n",
    "\treturn ' '.join(words)\n"
   ]
  },
  {
   "cell_type": "code",
   "execution_count": 10,
   "id": "PwOYzTHlTSaY",
   "metadata": {
    "id": "PwOYzTHlTSaY"
   },
   "outputs": [],
   "source": [
    "data[\"content\"] = data['content'].apply(persian_text_preprocessing) # TO DO : Apply the persian_text_preprocessing on \"content\" column"
   ]
  },
  {
   "cell_type": "markdown",
   "id": "a68eb3aa-d246-47e0-9978-1f8305734537",
   "metadata": {},
   "source": [
    "<h1 dir=\"rtl\" style=\"direction: rtl; text-align: justify; line-height: 200%; font-family: vazir; font-size: medium;\">\n",
    "  <font face=\"vazir\" color=\"#0099cc\" size=\"5\">\n",
    "    گام پنجم: ایجاد نمایه (Tag)\n",
    "  </font>\n",
    "</h1>\n",
    "\n",
    "<p dir=\"rtl\" style=\"direction: rtl; text-align: justify; line-height: 200%; font-family: vazir; font-size: medium;\">\n",
    "  <font face=\"vazir\" size=\"3\">\n",
    "    پس از آن‌که داده‌های متنی را با موفقیت پیش‌پردازش کردیم، لازم است یک نمایه برای هر خبر ایجاد کنیم. این نمایه در واقع ترکیبی از <b>برچسب دسته‌بندی خبر (label)</b> و <b>متن پیش‌پردازش‌شده خبر</b> است که می‌تواند برای مصورسازی، خوشه‌بندی یا آموزش مدل‌های یادگیری ماشین مورد استفاده قرار گیرد.\n",
    "  </font>\n",
    "</p>\n",
    "\n",
    "<p dir=\"rtl\" style=\"direction: rtl; text-align: justify; line-height: 200%; font-family: vazir; font-size: medium;\">\n",
    "  <font face=\"vazir\" size=\"3\">\n",
    "    در این گام، برای هر ردیف از داده‌ها، با اتصال رشته‌ای بین ستون <code>label</code> و ستون <code>content</code> (یا نسخه پاک‌سازی‌شده‌ی آن)، یک نمایه جدید تولید می‌کنیم و آن را در ستونی به نام <code>tag</code> ذخیره می‌نماییم.\n",
    "  </font>\n",
    "</p>\n",
    "\n",
    "<ul dir=\"rtl\" style=\"direction: rtl; text-align: justify; line-height: 200%; font-family: vazir; font-size: medium;\">\n",
    "  <li>ایجاد این نمایه به ما اجازه می‌دهد ترکیب دسته و متن را به صورت یک واحد در نظر بگیریم.</li>\n",
    "  <li>در پروژه‌های NLP، این روش برای انجام نمایش برداری (Vectorization) یا آموزش مدل‌های زبانی بسیار مفید است.</li>\n",
    "  <li>می‌توان از این نمایه برای آموزش مدل‌های طبقه‌بندی، یا جستجو و بازیابی اطلاعات استفاده کرد.</li>\n",
    "</ul>"
   ]
  },
  {
   "cell_type": "code",
   "execution_count": 11,
   "id": "baw7fHJ3UxHS",
   "metadata": {
    "colab": {
     "base_uri": "https://localhost:8080/",
     "height": 569
    },
    "id": "baw7fHJ3UxHS",
    "outputId": "9cb36ca2-3cc6-44e7-e38e-d1bb72970c7b"
   },
   "outputs": [
    {
     "name": "stdout",
     "output_type": "stream",
     "text": [
      "گزارش حوزه ادبیات گروه فرهیخت#فرهنگ باشگاه خبرنگار جوان نقل اداره روابط عموم امور بینالملل کانون نمایشگاه کتاب بولونیا روز پایان سپری میکند آثار ماندگار ادبیات کودک ایران زبان انگلیسی معرفیشده تصویرگر کتاب آلن بایاش ترجمه میترا خاتونآبادی داشتهاند بابابرفی داستان کودکانی کمک آدمبرفی شبیه پدربزرگ میسازند پیشنهاد پدربزرگ شغل آدمبرفی انتخاب میکنند آخر آدمبرفی سفر طولانی میرود کتاب آثار قابلتوجه نسل کودک ایران برگزیده شورا کتاب کودک ایران توانسته دیپلم افتخار یونسکو ایران ارمغان بیاورد چند همت کانون پرورش فکر کودک نوجوان تولید انیمیشنی نام کارگردان کیانوش عابد آغاز گفتن snowman daddy صفحه قطع خشت کانون پرورش فکر کودک نوجوان منتشر فرهنگی هنری\n"
     ]
    }
   ],
   "source": [
    "data['tag'] = data['content'] + ' ' + data['label'] # TO DO : Create a new column \"tag\" that contains the content and label together\n",
    "print(data.loc[0, 'tag']) # Print the first row of the \"tag\" column"
   ]
  },
  {
   "cell_type": "markdown",
   "id": "6c2f55c9-eed7-45c4-bbbe-ebfc4730a779",
   "metadata": {},
   "source": [
    "<h1 dir=\"rtl\" style=\"direction: rtl; text-align: justify; line-height: 200%; font-family: vazir; font-size: medium;\">\n",
    "  <font face=\"vazir\" color=\"#0099cc\" size=\"5\">\n",
    "    گام ششم: بردارسازی متون با استفاده از TF-IDF\n",
    "  </font>\n",
    "</h1>\n",
    "\n",
    "<p dir=\"rtl\" style=\"direction: rtl; text-align: justify; line-height: 200%; font-family: vazir; font-size: medium;\">\n",
    "  <font face=\"vazir\" size=\"3\">\n",
    "    در این مرحله، هدف ما تبدیل داده‌های متنی (ستون <code>tag</code>) به فرم عددی قابل تحلیل توسط الگوریتم‌های یادگیری ماشین است. برای این منظور از روش معروف <b>TF-IDF</b> (Term Frequency - Inverse Document Frequency) استفاده می‌کنیم. خروجی این بردارسازی (ماتریس) در متغیری بنام <code>tfidf_matrix</code> ذخیره کنید.\n",
    "  </font>\n",
    "</p>\n",
    "\n",
    "<h3 dir=\"rtl\" style=\"direction: rtl; text-align: right; font-family: vazir;\">\n",
    "  مفهوم TF-IDF چیست؟\n",
    "</h3>\n",
    "\n",
    "<ul dir=\"rtl\" style=\"direction: rtl; text-align: justify; line-height: 200%; font-family: vazir; font-size: medium;\">\n",
    "  <li><b>TF (تعداد دفعات تکرار واژه در سند):</b> واژه‌هایی که در یک سند بیشتر تکرار می‌شوند، اهمیت بیشتری دارند.</li>\n",
    "  <li><b>IDF (وارون تعداد اسناد حاوی واژه):</b> واژه‌هایی که در اسناد زیادی ظاهر می‌شوند، اهمیت کمتری دارند (مانند \"است\" یا \"در\").</li>\n",
    "  <li>ترکیب این دو، به ما یک وزن‌دهی هوشمند به کلمات در متن می‌دهد.</li>\n",
    "</ul>\n",
    "\n",
    "<h3 dir=\"rtl\" style=\"direction: rtl; text-align: right; font-family: vazir;\">\n",
    "  نکات مهم:\n",
    "</h3>\n",
    "\n",
    "<ul dir=\"rtl\" style=\"direction: rtl; text-align: justify; line-height: 200%; font-family: vazir; font-size: medium;\">\n",
    "  <li>ماتریس خروجی tfidf_matrix یک ماتریس پراکنده (Sparse Matrix) است که می‌تواند با مدل‌های طبقه‌بندی، خوشه‌بندی یا کاهش ابعاد مورد استفاده قرار گیرد.</li>\n",
    "  <li>با تنظیم پارامتر max_features می‌توانیم تنها پرتکرارترین ۵۰۰۰ واژه را در مدل نگه داریم.</li>\n",
    "  <li>در صورت نیاز می‌توان پارامترهای ngram_range یا stop_words را نیز سفارشی کرد.</li>\n",
    "</ul>\n"
   ]
  },
  {
   "cell_type": "code",
   "execution_count": 12,
   "id": "K6jzwCA4bk0e",
   "metadata": {
    "id": "K6jzwCA4bk0e"
   },
   "outputs": [],
   "source": [
    "from sklearn.feature_extraction.text import TfidfVectorizer\n",
    "\n",
    "# TO DO : WITH max_features=05000\n",
    "tfidf = TfidfVectorizer(max_features=5000)\n",
    "tfidf_matrix = tfidf.fit_transform(data['tag']) # TO DO : Fit and transform the \"tag\" column"
   ]
  },
  {
   "cell_type": "markdown",
   "id": "92741540-70a2-4f71-9623-1a99c73dc8e5",
   "metadata": {},
   "source": [
    "<h1 dir=\"rtl\" style=\"direction: rtl; text-align: justify; line-height: 200%; font-family: vazir; font-size: medium;\">\n",
    "  <font face=\"vazir\" color=\"#0099cc\" size=\"5\">\n",
    "    گام هفتم: محاسبه شباهت بین اخبار با استفاده از شباهت کسینوسی\n",
    "  </font>\n",
    "</h1>\n",
    "\n",
    "<p dir=\"rtl\" style=\"direction: rtl; text-align: justify; line-height: 200%; font-family: vazir; font-size: medium;\">\n",
    "  <font face=\"vazir\" size=\"3\">\n",
    "    پس از آنکه متون خود را با استفاده از روش TF-IDF به بردارهای عددی تبدیل کردیم، اکنون می‌توانیم میزان <b>شباهت معنایی</b> بین هر جفت از اخبار را بسنجیم. یکی از رایج‌ترین روش‌های محاسبه شباهت بین بردارها، <b>شباهت کسینوسی (Cosine Similarity)</b> است.\n",
    "  </font>\n",
    "</p>\n",
    "\n",
    "<h3 dir=\"rtl\" style=\"direction: rtl; text-align: right; font-family: vazir;\">\n",
    "  شباهت کسینوسی چیست؟\n",
    "</h3>\n",
    "\n",
    "<ul dir=\"rtl\" style=\"direction: rtl; text-align: justify; line-height: 200%; font-family: vazir; font-size: medium;\">\n",
    "  <li>شباهت کسینوسی زاویه بین دو بردار را در فضای برداری محاسبه می‌کند.</li>\n",
    "  <li>مقدار خروجی این روش بین 0 و 1 است. هرچه این مقدار به 1 نزدیک‌تر باشد، یعنی دو متن به هم شبیه‌ترند.</li>\n",
    "  <li>اگر دو متن هیچ اشتراک معنایی نداشته باشند، مقدار شباهت آن‌ها به 0 میل می‌کند.</li>\n",
    "</ul>\n",
    "\n",
    "<h3 dir=\"rtl\" style=\"direction: rtl; text-align: right; font-family: vazir;\">\n",
    "  نکات مهم:\n",
    "</h3>\n",
    "\n",
    "<ul dir=\"rtl\" style=\"direction: rtl; text-align: justify; line-height: 200%; font-family: vazir; font-size: medium;\">\n",
    "  <li>ماتریس شباهت خروجی به اندازه تعداد اسناد (اخبار) × تعداد اسناد خواهد بود.</li>\n",
    "  <li>درایه i,j این ماتریس نشان‌دهنده میزان شباهت بین خبر i و خبر j است.</li>\n",
    "  <li>این ماتریس می‌تواند در مراحل بعدی برای ساخت سیستم پیشنهاددهنده، خوشه‌بندی یا مصورسازی استفاده شود.</li>\n",
    "</ul>\n",
    "\n",
    "<p dir=\"rtl\" style=\"direction: rtl; text-align: justify; line-height: 200%; font-family: vazir; font-size: medium;\">\n",
    "  <font face=\"vazir\" size=\"3\">\n",
    "ماتریس حاصله به مثال زیر می‌تواند باشد (ماتریس شما از ماتریس مثال، چه از نظر ابعداد و چه مقادیر متفاوت خواهد بود)\n",
    "  </font>\n",
    "</p>\n",
    "\n",
    "<pre>\n",
    "        1        2        3         4\n",
    "   1 [  1      0.12     0.032    -0.778 ]\n",
    "   2 [  0       1        0          0   ]\n",
    "   3 [ 0.9     -1        1          0   ]\n",
    "   4 [-0.48   0.13     0.006        1   ]\n",
    "</pre>\n",
    "\n",
    "<p dir=\"rtl\" style=\"direction: rtl; text-align: justify; line-height: 200%; font-family: vazir; font-size: medium;\">\n",
    "  <font face=\"vazir\" size=\"3\">\n",
    "اگر توجه کنیم در سطر اول آیتم دوم مقدار <code>0.12</code> موجود است که نشان‌دهنده میزان تشابه آیتم اول به آیتم دوم است.\n",
    "  </font>\n",
    "</p>\n"
   ]
  },
  {
   "cell_type": "code",
   "execution_count": 13,
   "id": "lH2ymiQRVsqT",
   "metadata": {
    "id": "lH2ymiQRVsqT"
   },
   "outputs": [],
   "source": [
    "from sklearn.metrics.pairwise import cosine_similarity\n",
    "\n",
    "similarity_matrix = cosine_similarity(tfidf_matrix, tfidf_matrix)"
   ]
  },
  {
   "cell_type": "code",
   "execution_count": 14,
   "id": "03164db0",
   "metadata": {},
   "outputs": [
    {
     "data": {
      "text/plain": [
       "(5000, 5000)"
      ]
     },
     "execution_count": 14,
     "metadata": {},
     "output_type": "execute_result"
    }
   ],
   "source": [
    "similarity_matrix.shape"
   ]
  },
  {
   "cell_type": "markdown",
   "id": "e49b4abd-e97d-4b24-9de3-06c818a5d52f",
   "metadata": {},
   "source": [
    "<h1 dir=\"rtl\" style=\"direction: rtl; text-align: justify; line-height: 200%; font-family: vazir; font-size: medium;\">\n",
    "  <font face=\"vazir\" color=\"#0099cc\" size=\"5\">\n",
    "    گام هشتم: پیاده‌سازی تابع پیشنهاددهنده اخبار مشابه\n",
    "  </font>\n",
    "</h1>\n",
    "\n",
    "<p dir=\"rtl\" style=\"direction: rtl; text-align: justify; line-height: 200%; font-family: vazir; font-size: medium;\">\n",
    "  <font face=\"vazir\" size=\"3\">\n",
    "    حالا که ما بردارهای متنی را ساخته‌ایم (با استفاده از TF-IDF) و همچنین شباهت بین آن‌ها را محاسبه کرده‌ایم (با استفاده از شباهت کسینوسی)، نوبت آن است که یک <b>سیستم پیشنهاددهنده (recommender)</b> ساده بسازیم.\n",
    "  </font>\n",
    "</p>\n",
    "\n",
    "<h3 dir=\"rtl\" style=\"direction: rtl; text-align: right; font-family: vazir;\">\n",
    "  هدف چیست؟\n",
    "</h3>\n",
    "\n",
    "<p dir=\"rtl\" style=\"direction: rtl; text-align: justify; font-family: vazir;\">\n",
    "  می‌خواهیم با دادن شماره یک خبر (مثلاً خبر شماره ۱۰)، ۵ خبر دیگر که از نظر محتوایی بیشترین شباهت را به آن دارند، پیدا کنیم و نمایش دهیم.\n",
    "</p>\n",
    "\n",
    "\n",
    "<h3 dir=\"rtl\" style=\"direction: rtl; text-align: right; font-family: vazir;\">\n",
    "  گام‌های کلی برای پیاده‌سازی این پیشنهاددهنده:\n",
    "</h3>\n",
    "\n",
    "<ol dir=\"rtl\" style=\"direction: rtl; text-align: justify; font-family: vazir;\">\n",
    "  <li>ورودی شما، شماره‌ خبر مورد نظر (index) است.</li>\n",
    "  <li>ابتدا بردار TF-IDF مربوط به این خبر را استخراج می‌کنید.</li>\n",
    "  <li>سپس، با استفاده از <b>ماتریس شباهت</b> (که قبلاً ساختید)، میزان شباهت این خبر با همه خبرهای دیگر را به‌دست می‌آورید.</li>\n",
    "  <li>با مرتب‌سازی مقادیر شباهت از بیشترین به کمترین، می‌توانید نزدیک‌ترین همسایه‌ها (یعنی اخبار مشابه) را شناسایی کنید.</li>\n",
    "  <li>در نهایت، به‌جز خودِ خبر ورودی (که معمولاً شباهتش با خودش ۱ است)، ۵ خبر بعدی را به عنوان نتایج پیشنهاد می‌دهید.</li>\n",
    "</ol>\n",
    "\n",
    "\n",
    "<h3 dir=\"rtl\" style=\"direction: rtl; text-align: right; font-family: vazir;\">\n",
    "  نکاتی که باید رعایت کنید:\n",
    "</h3>\n",
    "\n",
    "<ul dir=\"rtl\" style=\"direction: rtl; text-align: justify; font-family: vazir;\">\n",
    "  <li>از روش sort یا argsort استفاده کنید تا شباهت‌ها را به ترتیب نزولی بچینید.</li>\n",
    "  <li>اطمینان حاصل کنید که خبر انتخابی خود را (خبر ورودی) در نتایج پیشنهادی تکرار نکنید.</li>\n",
    "  <li>به‌جای چاپ فقط شماره اخبار مشابه، بهتر است محتوا یا عنوان آن‌ها را هم نمایش دهید تا خروجی قابل فهم باشد.</li>\n",
    "</ul>\n",
    "\n",
    "\n",
    "<h3 dir=\"rtl\" style=\"direction: rtl; text-align: right; font-family: vazir;\">\n",
    "  مثال کاربردی برای تست:\n",
    "</h3>\n",
    "\n",
    "<p dir=\"rtl\" style=\"direction: rtl; text-align: justify; font-family: vazir;\">\n",
    "  فرض کنید کاربر خبر شماره ۱۵۰ را انتخاب کرده است. شما باید با استفاده از روش بالا، ۵ خبر دیگر را که بیشترین شباهت را به این خبر دارند، پیدا کرده و نمایش دهید. با این کار، یک موتور پیشنهاددهنده ساده و کاربردی برای اخبار فارسی ساخته‌اید.\n",
    "</p>\n"
   ]
  },
  {
   "cell_type": "code",
   "execution_count": 15,
   "id": "bcdc4454",
   "metadata": {},
   "outputs": [],
   "source": [
    "def findـsimilar_news(news_index, similarity_matrix):\n",
    "    similar_indices = similarity_matrix[news_index].argsort()[::-1][1:6]  # Top 5 similar news (excluding itself)\n",
    "    similar_news = data.iloc[similar_indices]\n",
    "    return similar_news"
   ]
  },
  {
   "cell_type": "code",
   "execution_count": 16,
   "id": "1dfbd02e",
   "metadata": {},
   "outputs": [
    {
     "name": "stdout",
     "output_type": "stream",
     "text": [
      "گزارش گروه بینالملل باشگاه خبرنگار جوان نقل شبکه تلویزیون العالم الکساندر گروشکو روز جمعه گفتوگو روزنامه ازویستیا روسیه تصریح آنجا توافقنامه نیرو مسلح کلاسیک اروپا ارتباط واقعیت دست میتوان تاکید سیستم نظارت سلاح اروپا مرد#میر وضع امنیت مانع روبرو میکند کشور ناتو خود تصمیم گرفتهاند درسال میلاد توافقنامهای سازگار توافقنامه قدیم نیرو کلاسیک اروپا امضا کشور ناتو تصویب کرد#کن اجرایی نشدن وخامت سیستم نظارت سلاح اروپا گروشکو اقدامات ناتو تقویت جبهه شرق وخامت خطرناک اوضاع امنیت منجر آمریکا تصمیم تیپ زره شرق اروپا درپی نقل داستان ترسناک سخیف مبنی احتمال حمله روسیه کشور حوزه بالتیک مستقر گروشکو اظهار ناتو وضع تقویت حضور شرق اروپا ایجاد انبار سلاح تجهیزات نظام تقویت نیرو دریا دریا بالتیک افزایش تمرین مانور نظام افزایش فعالیت نیرو هوا پرواز شناسایی مرز روسیه بهرهبرداری میکند تاکید روسیه استقرار نیرو ناتو اروپا بهانه دور دائم مستقر میشوند نمیپذیرد ناقض معاهده اساس روسیه ناتو میداند سال میلاد امضا گروشکو تصریح ناتو پایگاه رومانی لهستان بنا میکند قطع ماهیت دائم درنتیجه معاهده روسیه ناتو تضاد\n",
      "Label: بین الملل\n",
      "Similar news for index 150:\n",
      "Content: گزارش سرویس بینالملل باشگاه خبرنگار نقل راشا تودی پاسخ برگزاری رزمایش نظام ناتو دریا بالتیک روسیه کشتی نظام ناوبر همراه چندین جت جنگنده بمبافکن عازم منطقه بنابر اعلام وزارت دفاع روسیه گروه کشتی هواپیما جنگی تضمین دفاع مرز روسیه حفاظت ارتباطات دریا تامین ایمن حمل نقل سازماندهی نیرو هوا جستجو شناسایی کشتی دریاییهای دشمن فرضی منطقه اعزام شدهاند میشود جدید تجهیزات نظام روسیه جمله جنگنده فولبک Su هواپیما شناسایی Su MR گروه ملحق شد#شو وزارت دفاع روسیه اعلام تجهیزات نیرو کشور نیرو ناتو کشور اصل دریا بالتیک لیتونی لیتوانی استون متمرکز شدهاند برابری میکند رزمایش نظام چندملیتی ناتو ماه ژوئن حضور نیرو کشور آمریکا کانادا دانمارک لهستان لیتوانی لیتونی استون نروژ فنلاند انگلیس دریا بالتیک برگزار میشود\n",
      "Label: بین الملل\n",
      "--------------------------------------------------\n",
      "Content: گزارش گروه بینالملل باشگاه خبرنگار جوان نقل خبرگزاری فرانسه آنگلا مرکل صدر اعظم آلمان اعلام عضویت سریع گرجستان سازمان پیمان آتلانتیک شمال ناتو مقامات ناتو سال جمهوری سابق اتحاد جماهیر شوروی قول داد#ده روزید#روز عضویت نهاد نظام آمد#آ صدر اعظم آلمان دیدار دانشجو دانشگاه تفلیس گرجستان عضویت سریع گرجستان ناتو متصور نیستم موضع آلمان اینگونه امور تدریج شکل میگیرد صدر اعظم آلمان عضویت سریع گرجستان ناتو منتفی مقامات تفلیس عضویت اتحادیه اروپا ناتو زمره اهداف قرار دادهاند سال سر ناتو بخارست پایتخت رومانی مقامات کشور عضو ناتو گرجستان قول کشور میتواند روزید#روز عضویت نهاد نظام آمد#آ فشار آنگلا مرکل نیکلا سارکوزی رئیسجمهور وقت فرانسه شرکت حاضر شد#شو جایگاه نامزد رسم عضویت ناتو گرجستان داد#ده\n",
      "Label: بین الملل\n",
      "--------------------------------------------------\n",
      "Content: گزارش گروه بینالملل باشگاه خبرنگار جوان فرانتس کلینتسویچ معاون کمیسیون دفاع امنیت شورا فدراسیون روسیه روز دوشنبه اعلام خبر آینده ساخت ناو هواپیمابر کلینتسویچ شبکه تلویزیون روسیه کشور ناوگان ناو هواپیمابر تقویت ولادیمیر کورولوف فرمانده نیرو دریا روسیه تازگی برنامه گسترش ناوگان ناو هواپیمابر کشور انجام ماموریتهای دریا مناطق مختلف کشور خبر حاضر روسیه ناوهواپیمابر نام آدمیرال کوزنتسوف اتحاد شوروی سابق ارث رسید#رس ناو هواپیمابر فعال آمریکا پایه گزارش فروند ناو هواپیمابر سال گذشته عملیات ضدتروریستی سواحل سوریه شرکت حاضر تعمیر نوساز جنگ افزار قرار دیمیتری راگوزین معاون دفاع نخستوزیر روسیه اعلام برنامه تسلیحات کشور سال پاییز آینده تایید راگوزین مصاحبه روزنامه کامسامولسکایا پراودا چاپ مسکو برنامه تسلیحات روسیه ساخت ناو هواپیمابر پیشبینی اطلاعات برنامه منتشر شد#شو توجه برنامه روسیه تقویت نیرو دریا انتظار میرود توجه قرار گسترش برنامه دفاع شرایط تنش بیسابقه مسکو غرب شکل میگیرد ناتو عنوان بازو نظام کشور غرب پیشگام آمریکا حضور نظام گستردهای مرز اروپایی روسیه سال گذشته ناتو چارچوب طرح موضوع تهدید مسکو غرب حضور گستردهای خاک روسیه هممرز کشور افزایش نیرو پیمان آمریکا صورت همیشگی زمانبندی شرق اروپا جمله لهستان رومانی لیتوانی لتونی استون گرجستان مولداوی جمهوری سابق شوروی حضور بار اعلام هشدار مسکو گسترش مییابد\n",
      "Label: بین الملل\n",
      "--------------------------------------------------\n",
      "Content: گزارش سرویس بینالملل باشگاه خبرنگار نقل خبرگزاری شینهوا ابتکار روسا جمهور فرانسه روسیه سال وزیر امور خارجه دفاع کشور چارچوب شورا همکار فرانسه روسیه مسائل امنیت بررسی میشود سال یکبار دیدار میکنند امسال شورا همکار فرانسه روسیه موضوعات امنیت اروپا جهان همکاریهای روسیه سازمان پیمان آتلانتیک شمال ناتو زمینه دفاع موشک بحران سیاسی سطح جهان بویژه کشور مالی اوضاع سوریه ثبات امنیت افغانستان بحث بررسی قرار گرفت#گیر\n",
      "Label: بین الملل\n",
      "--------------------------------------------------\n",
      "Content: گزارش سرویس بینالملل باشگاه خبرنگارانبه نقل روسیاالیوم سرگئی لاوروف وزیر امور خارجه روسیه گفتگو رسانه بروکسل معارض نظام سوریه رهبر واحد مذاکرات خطرات موجود کشور اشاره ادامه مخالف مسلح سوریه حضور نامعلوم کشتار وجنگ ادامه میدهند واضافه برخی دنبال تکرار سناریوی عراق سوریه استفاده سلاح شیمیایی وزیر امور خارجه روسیه همکار تکنولوژیک کشور نیرو ناتو خبر انتهی پیام\n",
      "Label: بین الملل\n",
      "--------------------------------------------------\n"
     ]
    }
   ],
   "source": [
    "news_index = 150\n",
    "print(f\"{data.loc[news_index, 'content']}\")\n",
    "print(f\"Label: {data.loc[news_index, 'label']}\")\n",
    "similar_news = findـsimilar_news(news_index, similarity_matrix)\n",
    "print(f\"Similar news for index {news_index}:\")\n",
    "for index, row in similar_news.iterrows():\n",
    "    print(f\"Content: {row['content']}\")\n",
    "    print(f\"Label: {row['label']}\")\n",
    "    print(\"-\" * 50)"
   ]
  },
  {
   "cell_type": "markdown",
   "id": "bdbb64af-4cc6-4a22-9843-f84320eed5ac",
   "metadata": {},
   "source": [
    "<h1 dir=\"rtl\" style=\"direction: rtl; text-align: justify; line-height: 200%; font-family: vazir; font-size: medium;\">\n",
    "  <font face=\"vazir\" color=\"#0099cc\" size=\"5\">\n",
    "    گام نهم: آزمایش عملکرد سیستم پیشنهاددهنده\n",
    "  </font>\n",
    "</h1>\n",
    "\n",
    "<p dir=\"rtl\" style=\"direction: rtl; text-align: justify; font-family: vazir; font-size: medium;\">\n",
    "  <font face=\"vazir\" size=\"3\">\n",
    "    تا اینجا، تمام اجزای مورد نیاز برای ساخت یک سیستم پیشنهاددهنده‌ی ساده برای اخبار فارسی را پیاده‌سازی کردیم. اکنون زمان آن رسیده که بررسی کنیم آیا سیستم ما به‌درستی کار می‌کند یا نه.\n",
    "  </font>\n",
    "</p>\n",
    "\n",
    "<h3 dir=\"rtl\" style=\"direction: rtl; text-align: right; font-family: vazir;\">\n",
    "  هدف این گام چیست؟\n",
    "</h3>\n",
    "\n",
    "<p dir=\"rtl\" style=\"direction: rtl; text-align: justify; font-family: vazir;\">\n",
    "  در این مرحله، به‌صورت دستی یک خبر را انتخاب می‌کنیم، سپس از سیستم می‌خواهیم بر اساس آن، اخبار مشابه را پیشنهاد دهد. بعد، نتایج را بررسی می‌کنیم تا ببینیم آیا پیشنهادها از نظر معنایی مرتبط هستند یا خیر.\n",
    "</p>\n",
    "\n",
    "<h3 dir=\"rtl\" style=\"direction: rtl; text-align: right; font-family: vazir;\">\n",
    "  مراحل اجرای تست:\n",
    "</h3>\n",
    "\n",
    "<ol dir=\"rtl\" style=\"direction: rtl; text-align: justify; font-family: vazir;\">\n",
    "  <li>\n",
    "    یک خبر واقعی از دیتاست را نمایش می‌دهیم — معمولاً بهتر است یک شماره دلخواه (مثلاً 2) از دیتافریم اصلی (قبل از پیش‌پردازش) انتخاب شود تا متن خام و کامل خبر را ببینیم.\n",
    "  </li>\n",
    "  <li>\n",
    "    سپس آن شماره را به تابع پیشنهاددهنده‌ می‌دهیم تا نزدیک‌ترین اخبار را از نظر معنایی پیدا کند.\n",
    "  </li>\n",
    "  <li>\n",
    "    در نهایت، اخبار پیشنهادی را نمایش می‌دهیم تا بتوانیم به صورت شخصی بررسی کنیم که آیا این خبرها واقعاً به هم شبیه هستند یا خیر.\n",
    "  </li>\n",
    "</ol>\n",
    "\n",
    "<h3 dir=\"rtl\" style=\"direction: rtl; text-align: right; font-family: vazir;\">\n",
    "  نکات مهم هنگام ارزیابی:\n",
    "</h3>\n",
    "\n",
    "<ul dir=\"rtl\" style=\"direction: rtl; text-align: justify; font-family: vazir;\">\n",
    "  <li>\n",
    "    ممکن است لازم باشد چند خبر مختلف را آزمایش کنیم تا عملکرد سیستم را در شرایط متنوع بسنجید.\n",
    "  </li>\n",
    "  <li>\n",
    "    اخبار پیشنهادی نباید خیلی دور از موضوع خبر ورودی باشند — مثلاً اگر ورودی درباره \"ورزش\" باشد، انتظار داریم پیشنهادها هم ورزشی باشند.\n",
    "  </li>\n",
    "  <li>\n",
    "    اگر نتایج نامرتبط هستند، ممکن است مشکلی در پیش‌پردازش، بردارسازی یا تابع پیشنهاددهنده وجود داشته باشد.\n",
    "  </li>\n",
    "</ul>\n",
    "\n",
    "<p dir=\"rtl\" style=\"direction: rtl; text-align: justify; font-family: vazir;\">\n",
    "  این تست، یک گام ابتدایی اما بسیار مهم برای ارزیابی کارایی سیستم پیشنهاددهنده شماست. در پروژه‌های بزرگ‌تر، می‌توانید از معیارهای کمی (مثل precision, recall یا MAP) استفاده کنید، اما در این مرحله، ارزیابی کیفی توسط انسان کفایت می‌کند.\n",
    "</p>\n",
    "\n"
   ]
  },
  {
   "cell_type": "code",
   "execution_count": 17,
   "id": "PxOWAtfKcJsE",
   "metadata": {
    "id": "PxOWAtfKcJsE"
   },
   "outputs": [
    {
     "name": "stdout",
     "output_type": "stream",
     "text": [
      "به گزارش حوزه تحولات منطقه گروه سیاسی باشگاه خبرنگاران جوان؛ نیروهای ارتش سوریه همزمان با تامین امنیت هزاران غیر نظامی محاصره شده توسط گروه‌های تروریستی جهت خروج از غوطه شرقی، شهرک حموریه را نیز آزاد کردند. نیروهای ارتش و هلال احمر سوریه امنیت هزاران شهروند محاصره شده در غوطه شرقی را برای خروج از آن و انتقال به مکان امن تامین کردند. همچنین طبق اعلام برخی منابع، ارتش سوریه پس از ۱۵ روز درگیری بر ۷۰ درصد مساحت تحت تسلط تروریست‌ها در غوطه شرقی مسلط شده است. روند پیشروی نیروهای ارتش سوریه در غوطه شرقی در استان ریف دمشق همچنان ادامه دارد. گروه‌های تروریستی مستقر در غوطه شرقی از یک ماه قبل تاکنون بیشتر مناطق مسکونی دمشق را با شلیک موشک و خمپاره هدف قرار داده‌اند که در اثر این اقدام تروریستی، تعداد زیادی از شهروندان سوری کشته و یا زخمی شده‌اند. این حملات همچنین به واردشدن خسارت هایی به اموال شهروندان سوری و زیرساخت‌های عمومی پایتخت سوریه منجر شده است.\n"
     ]
    }
   ],
   "source": [
    "print(df['content'][2])"
   ]
  },
  {
   "cell_type": "code",
   "execution_count": 18,
   "id": "Lq9jImy6uiwI",
   "metadata": {
    "id": "Lq9jImy6uiwI"
   },
   "outputs": [
    {
     "name": "stdout",
     "output_type": "stream",
     "text": [
      "Index: 3659\n",
      "Content: گزارش گروه بینالملل باشگاه خبرنگار جوان نقل شبکه تلویزیون العالم نیرو ارتش سوریه شرق حلب پیشروی ملاحظهای دست یافت#یاب اساس ارتش سوریه نیرو همپیمان ادامه عملیات نظام محور باب النیرب الصالحین شکست تروریستها پیشروی ملاحظهای دست یافت#یاب عملیات برقراری امنیت خروج شهروند محاصرهشده طریق گذرگاه انسان ادامه عملیات نظام ارتش سوریه محور مختلف شرق حلب ادامه آتش سلاح ارتش سوریه محور باب النیرب جسر الحج رسید#رس نیرو سور شکست سنگین تروریستها محور الزبدیه مجاورت بستان القصر پیشروی دست یافت#یاب نیرو ارتش سوریه میدان مرج عملیات نیرو سور منطقه الصالحین جسر الحج ادامه پیشروی نیرو سور مناطق آزاد نیرو بزرگ انبار سلاح تروریستها دست یافت#یاب سلاح متعلق تروریستهای موسوم گردان الصفوه الاسلامیه نیرو سور بیمارستان صحرا درمان تروریستها استفاده میشد انبار مواد غذا تصرف آورد#آور تروریستها مواد غذا شهروند سور خوددار میکردند نیرو سور خودرو کابین تروریستها غنیمت گرفت#گیر نیرو ارتش سوریه تامین امنیت هزار نفر شهروند محاصرهشده مناطق شرق حلب عبور گذرگاه انسان اطراف منطقه باب النیرب عزیزه انتهای پیام\n",
      "Label: بین الملل\n",
      "--------------------------------------------------\n",
      "Index: 2838\n",
      "Content: گزارش سرویس بینالملل باشگاه خبرنگار نقل شبکه تلویزیون سوریه ارتش کشور توانست#توان هدف قرار مراکز کانون تجمع تروریستها منطقه آنرا پاکسازی امنیت بازگرداند گزارشگر شبکه تلویزیون سوریه همراه ارتش کشور گزارش تهیهکرده ارتش عرب سوریه ورود الاحمدیه غوطه شرق آماد#آمای منطقه تروریستها گروه تکفیر وابسته جبهه النصره القاعده حضور ارتش سوریه خنثی بمب کار گذاشته سر منطقه آنرا پاکسازی ارتش سوریه پاکسازی منطقه حملات تک تیرانداز نهایت منطقه آزاد فرمانده ارتش تروریستها اهالی منطقه اذیت آزار سیطره ارتش منطقه همگی لوث تروریستها پاکشده همکای اهالی الاحمدیه تقدیر میکنیم مکان حضور تروریستها نشان تروریستها کشت#کش مجبور فرار مناطق غوطه شرق پاکسازی\n",
      "Label: بین الملل\n",
      "--------------------------------------------------\n",
      "Index: 4064\n",
      "Content: گزارش حوزه سیاست خارج گروه سیاسی باشگاه خبرنگار جوان مقام مسئول وزارت امورخارجه ادعا مطرحشده اعزام نیرو ایران سوریه مردود خواند#خوان تغییر همکار حضور مستشار ایران سوریه ایجاد شد#شو خبرسازیهای رسانه مقامات مختلف خارج تلاش تحریف میدان جبهه مختلف نبرد ارتش نیرو مردمی سوریه گروه تروریستی اضافه تروریسم سوریه عراق وضعیت منطقه آشوب کشیده دامنه هراس مردم سوریه جنایات تروربستها فرار مرز کشور همسایه اروپا صحنه رقت باری پدید آورده روزانه مردم بیدفاع توسط تروریستها فضیحترین اشکال کشته میشوند کمک ایران عراق سوریه وظیفه بدیهی ایران کمک کشور بازگشت آرامش ثبات منطقه یادآور میشود روز گذشته متعاقب پیروزی ارتش سوریه عراق تروریستها مناطق مختلف تبلیغات ادعا مبنی اعزام نیرو جنگنده ایران سوریه مطرحشده جمله روزنامه واشنگتنپست چاپ آمریکا ادعا ایران اعزام نیرو سوریه مداخله کشور تشدید واشنگتنپست طرح ادعا صد نیرو ایران شمال مرکز سوریه مستقر شدهاند بدین مداخله تهران جنگ داخل سوریه صورت توجه افزایشیافته تهاجم بلندپروازانه بازپسگیری مناطق کلیدی شورش جنگجو جنبش حزبالله همپیمان ایران پیوستهاند جنگنده روس حملات هوا سوریه ادامه میدهند\n",
      "Label: سیاسی\n",
      "--------------------------------------------------\n",
      "Index: 1442\n",
      "Content: گزارش سرویس بینالملل باشگاه خبرنگار نقل شبکه الاخباریه سوریه جوان تجمعکننده شعار حمایت ارتش عرب سوریه سر میدادند دختران حاضر تجمع ظهر امروز میدان السبع بحر دمشق برگزار ارتش قهرمان سوریه افتخار میکنیم تسلیم فشار خارج شد#شو هیچگاه ارتش دست داشت#دار حامی دختران شرکتکننده تظاهرات سوریه مردم بزرگ پایدار استوار مقابل تروریستها ایستادگی میکنیم انها کشور برانیم جوان ملت بزرگوار همراه حامی ارتش بودهاند یاخت#یاز مداخله خارج داشت#دار خواهان امنیت ثبات کشور حق ملت شاهد حوادث مرگبار تلخ شبکه جوان سور شعار رد گفتگو ملی مانور سیاسی سر تاکید هدف دشمن سوریه اجرا طرح خارج کشور جوان سور اعلام گفتگو سور سور موافق تجمع مراسم دست تصاویر بشار اسد شعار حمایت نظام حاکم سوریه سر اخبار جهان خواند#خوان\n",
      "Label: بین الملل\n",
      "--------------------------------------------------\n",
      "Index: 3481\n",
      "Content: گزارش خبرنگار دفاع امنیت گروه سیاسی باشگاه خبرنگار جوان ارتش ترکیه زمینه پیگیری مصوبات سلسله مذاکرات آستانه طرحریزی عملیات روز شمال سوریه آغاز ارتش ترکیه روز تجهیزات یگان نظام نزدیک مرز سوریه منطقه جیلفا غوزو شهر الریحانیه توابع استان هاتای جنوب ترکیه ارسال کاروان متشکل خودرو جمله ماشینآلات ساخت آمبولانس عازم منطقه مرز الریحانیه گزارش منابع میدان نشان میدهد تجهیزات ارتش ترکیه سوریه عملیات نظام استقرار نیرو ارتش ترکیه برنامهریزی اجرایی نیرو دریا ارتش روسیه حملات پرحجم موشک دریا سطح کالیبر مواضع تکفیریهای جبههالنصره استان ادلب هدف قرار مسیر عملیات نظام ارتش ترکیه سرعت ستاد ارتش ترکیه انتشار بیانیهای عملیات نظام ارتش ترکیه استان ادلب اعلام نیرو ارتش ترکیه توافق مذاکرات آستانه حاصل عنوان کشور ضامن آتشبس مطابق قوانین تعامل ادلب عملیات انجام میدهند تاریخ سپتامبر اجرا رژیم آتشبس سوریه ترکیه روسیه ایران عنوان کشور ضامن آتشبس مذاکرات آستانه آغاز سوال اینجاست هدف ارتش ترکیه عملیات نظام استان ادلب چیست تحلیلگر معتقدند هدف اصل ارتش ترکیه عملیات نظام استان ادلب پیشگیر درگیری شمال سوریه هدف ارتش ترکیه عملیات نظام شمال سوریه حضور نیرو دموکراتیک منطقه محدود نوار فرضی روجاوا وارید#وار نیرو دموکراتیک پ گ تصرف شمال سوریه استان حلب ادلب ترسیم کردهاند محقق شد#شو دولتمردان ترکیه معتقدند عملیات نظام ارتش ترکیه شمال سوریه شرایط امنتری شهروند سور ترکی ایجاد میکند رجب طیب اردوغان عملیات نظام ارتش ترکیه استان ادلب میگوید تروریستها اجازه داد#ده مناطق مرز رسید#رس شهر جنوبی هدف حمله قرار گرفت#گیر شهروند شهروند سور عملیات نظام ارتش ترکیه استان ادلب دفاع میکنیم طرح جدید تحقق امنیت ادلب چارچوب توسعه سپر فرات اتخاذ میکنیم تحرکات امروز ادلب مراحل آینده ادامه یافت#یاب عملیات بزرگ استان ادلب عملیات ادامه داشت#دار ادلب مکان امن سوریها گام جدید داشت#دار اردوغان تاکید اقدام مشترک ترکیه روسیه تامین امنیت ساکن ادلب تصریح امنیت داخل ادلب توسط ترکیه مرز توسط روسیه تامین ارتش ترکیه سال گذشته عملیات راهبردی سپر فرات موفقیت زمینه جلوگیری پیشروی نیرو دموکراتیک پ گ رقم زد#زن عملیات سپر فرات نیرو دموکراتیک شرق رود فرات منتقل مقابل نکته منفی عملیات سپر فرات حضور تروریستهای ارتش آزاد سوریه عملیات نظام میرسد ترکیه نزدیک مواضع روسیه ایران دنبال چرخش موضع مواضع گذشته زمینه تغییرات مواضع آنکارا پیرامون مقابله تروریسم مشاهدهشده گزارش محمد زرچینی\n",
      "Label: سیاسی\n",
      "--------------------------------------------------\n"
     ]
    }
   ],
   "source": [
    "suggestion_result = findـsimilar_news(2, similarity_matrix)\n",
    "\n",
    "for index, row in suggestion_result.iterrows():\n",
    "    print(f\"Index: {index}\")\n",
    "    print(f\"Content: {row['content']}\")\n",
    "    print(f\"Label: {row['label']}\")\n",
    "    print(\"-\" * 50)"
   ]
  },
  {
   "cell_type": "code",
   "execution_count": 19,
   "id": "37d3e584",
   "metadata": {},
   "outputs": [
    {
     "data": {
      "text/plain": [
       "Index(['content', 'label', 'label_id', 'tag'], dtype='object')"
      ]
     },
     "execution_count": 19,
     "metadata": {},
     "output_type": "execute_result"
    }
   ],
   "source": [
    "suggestion_result.columns"
   ]
  },
  {
   "cell_type": "markdown",
   "id": "161ce057-8a5f-4b9d-9ec2-7bd2a93edc30",
   "metadata": {},
   "source": [
    "<h1 dir=\"rtl\" style=\"direction: rtl; text-align: justify; line-height: 200%; font-family: vazir; font-size: medium;\">\n",
    "  <font face=\"vazir\" color=\"#0099cc\" size=\"5\">\n",
    "    گام دهم : ماموریت نهایی\n",
    "  </font>\n",
    "</h1>\n",
    "\n",
    "<div dir=\"rtl\">\n",
    "  <p dir=rtl style=\"direction: rtl;text-align: justify;line-height:200%;font-family:vazir;font-size:medium\">\n",
    "    <font face=\"vazir\" size=3>\n",
    "به عنوان ماموریت نهایی شما که مستقیما به روی امتیاز شما از مسئله تاثیرگذار است شما باید با استفاده از سیستم پیشنهاددهنده‌ای که ایجاد کردید ۵ خبر مشابه <strong>خبر46</strong> را پیدا کرده و سپس کلاس اخبار و همچنین شماره اندیس‌های آن‌ها را در ستون‌های «label» و «index» در متغیر <code>submission</code> ذخیره کنید.\n",
    "    <br>\n",
    "    به عنوان مثال دیتافریم ما باید به شکل زیر باشد:</font>\n",
    "  </p>\n",
    "</div>\n",
    "\n",
    "<table class=\"center\">\n",
    "  <tr>\n",
    "    <th>label</th>\n",
    "    <th>index</th>\n",
    "  </tr>\n",
    "  <tr>\n",
    "    <th>فناوری</th>\n",
    "    <th>۱۵۴</th>\n",
    "  </tr>\n",
    "  <tr>\n",
    "    <th>ورزشی</th>\n",
    "    <th>۴۵۶</th>\n",
    "  </tr>\n",
    "  <tr>\n",
    "    <td>...</td>\n",
    "    <td>...</td>\n",
    "  </tr>\n",
    "</table>\n",
    "\n",
    "\n",
    "<div dir=\"rtl\">\n",
    "  <p dir=rtl style=\"direction: rtl;text-align: justify;line-height:200%;font-family:vazir;font-size:medium\">\n",
    "    <font face=\"vazir\" size=3>\n",
    "        مقادیر موجود در جدول بالا مقادیر فرضی هستند. مقادیر اصلی ممکن است متفاوت باشد.\n",
    "  </p>\n",
    "</div>"
   ]
  },
  {
   "cell_type": "code",
   "execution_count": 20,
   "id": "a4c6b5a3-55ce-4412-b84c-286bde506bbc",
   "metadata": {},
   "outputs": [],
   "source": [
    "news_index = 46\n",
    "submission = findـsimilar_news(news_index, similarity_matrix).copy()  # ✅\n",
    "\n",
    "submission['index'] = submission.index\n",
    "submission = submission[['index', 'label']]\n"
   ]
  },
  {
   "cell_type": "markdown",
   "id": "9e7a09d7-a4d0-4cfc-adaa-29fc3b84b14f",
   "metadata": {},
   "source": [
    "<h2 align=right style=\"line-height:200%;font-family:vazir;color:#0099cc\">\n",
    "<font face=\"vazir\" color=\"#0099cc\">\n",
    "<b>سلول جواب‌ساز</b>\n",
    "</font>\n",
    "</h2>\n",
    "\n",
    "<p dir=rtl style=\"direction: rtl; text-align: justify; line-height:200%; font-family:vazir; font-size:medium\">\n",
    "<font face=\"vazir\" size=3>\n",
    "    برای ساخته‌شدن فایل <code>result.zip</code> سلول زیر را اجرا کنید. توجه داشته باشید که پیش از اجرای سلول زیر تغییرات اعمال شده در نت‌بوک را ذخیره کرده باشید (<code>ctrl+s</code>) تا در صورت نیاز به پشتیبانی امکان بررسی کد شما وجود داشته باشد.\n",
    "</font>\n",
    "</p>"
   ]
  },
  {
   "cell_type": "code",
   "execution_count": 21,
   "id": "dbd8e990-8a07-4855-b630-0877d0256c36",
   "metadata": {},
   "outputs": [
    {
     "name": "stdout",
     "output_type": "stream",
     "text": [
      "File Paths:\n",
      "['submission.csv', 'persian_news_recommender_system.ipynb']\n"
     ]
    }
   ],
   "source": [
    "import zipfile\n",
    "import joblib\n",
    "\n",
    "def compress(file_names):\n",
    "    print(\"File Paths:\")\n",
    "    print(file_names)\n",
    "    compression = zipfile.ZIP_DEFLATED\n",
    "    with zipfile.ZipFile(\"result.zip\", mode=\"w\") as zf:\n",
    "        for file_name in file_names:\n",
    "            zf.write('./' + file_name, file_name, compress_type=compression)\n",
    "\n",
    "submission.to_csv('submission.csv', index=False)\n",
    "\n",
    "file_names = [ 'submission.csv', 'persian_news_recommender_system.ipynb']\n",
    "compress(file_names)"
   ]
  },
  {
   "cell_type": "code",
   "execution_count": 23,
   "id": "df31035b",
   "metadata": {},
   "outputs": [
    {
     "name": "stdout",
     "output_type": "stream",
     "text": [
      "content     با وجود آنکه زمان قابل توجهی از انتشار نسخه ن...\n",
      "label                                             علمی فناوری\n",
      "label_id                                                    4\n",
      "Name: 46, dtype: object\n"
     ]
    },
    {
     "data": {
      "text/html": [
       "<div>\n",
       "<style scoped>\n",
       "    .dataframe tbody tr th:only-of-type {\n",
       "        vertical-align: middle;\n",
       "    }\n",
       "\n",
       "    .dataframe tbody tr th {\n",
       "        vertical-align: top;\n",
       "    }\n",
       "\n",
       "    .dataframe thead th {\n",
       "        text-align: right;\n",
       "    }\n",
       "</style>\n",
       "<table border=\"1\" class=\"dataframe\">\n",
       "  <thead>\n",
       "    <tr style=\"text-align: right;\">\n",
       "      <th></th>\n",
       "      <th>index</th>\n",
       "      <th>label</th>\n",
       "    </tr>\n",
       "  </thead>\n",
       "  <tbody>\n",
       "    <tr>\n",
       "      <th>0</th>\n",
       "      <td>2048</td>\n",
       "      <td>علمی فناوری</td>\n",
       "    </tr>\n",
       "    <tr>\n",
       "      <th>1</th>\n",
       "      <td>4844</td>\n",
       "      <td>علمی فناوری</td>\n",
       "    </tr>\n",
       "    <tr>\n",
       "      <th>2</th>\n",
       "      <td>1688</td>\n",
       "      <td>علمی فناوری</td>\n",
       "    </tr>\n",
       "    <tr>\n",
       "      <th>3</th>\n",
       "      <td>1818</td>\n",
       "      <td>علمی فناوری</td>\n",
       "    </tr>\n",
       "    <tr>\n",
       "      <th>4</th>\n",
       "      <td>827</td>\n",
       "      <td>علمی فناوری</td>\n",
       "    </tr>\n",
       "  </tbody>\n",
       "</table>\n",
       "</div>"
      ],
      "text/plain": [
       "   index        label\n",
       "0   2048  علمی فناوری\n",
       "1   4844  علمی فناوری\n",
       "2   1688  علمی فناوری\n",
       "3   1818  علمی فناوری\n",
       "4    827  علمی فناوری"
      ]
     },
     "execution_count": 23,
     "metadata": {},
     "output_type": "execute_result"
    }
   ],
   "source": [
    "print(df.iloc[46])\n",
    "result = pd.read_csv('submission.csv')\n",
    "result"
   ]
  },
  {
   "cell_type": "code",
   "execution_count": null,
   "id": "1429fe1c",
   "metadata": {},
   "outputs": [],
   "source": []
  }
 ],
 "metadata": {
  "accelerator": "GPU",
  "colab": {
   "gpuType": "T4",
   "provenance": []
  },
  "kernelspec": {
   "display_name": "Project-1",
   "language": "python",
   "name": "python3"
  },
  "language_info": {
   "codemirror_mode": {
    "name": "ipython",
    "version": 3
   },
   "file_extension": ".py",
   "mimetype": "text/x-python",
   "name": "python",
   "nbconvert_exporter": "python",
   "pygments_lexer": "ipython3",
   "version": "3.12.3"
  }
 },
 "nbformat": 4,
 "nbformat_minor": 5
}
