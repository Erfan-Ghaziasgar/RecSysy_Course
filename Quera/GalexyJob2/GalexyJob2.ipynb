{
  "cells": [
    {
      "cell_type": "markdown",
      "id": "9d86ce19",
      "metadata": {
        "id": "9d86ce19"
      },
      "source": [
        "<div dir=\"center\">\n",
        "  <h1 align=\"center\" style=\"line-height:200%;font-family:vazir;color:#0099cc\">\n",
        "    <font face=\"vazir\" color=\"#0099cc\">\n",
        "      ستاره‌یاب: کاشف گنجینه‌های شغلی\n",
        "    </font>\n",
        "  </h1>\n",
        "</div>\n",
        "\n",
        "<p dir=\"rtl\" style=\"direction: rtl;text-align: justify;line-height:200%;font-family:vazir;font-size:medium\">\n",
        "  <font face=\"vazir\" size=3>\n",
        "    سال ۱۴۰۴ است و شما، یک ذهن خلاق در حوزه‌ی هوش مصنوعی، در یک فضای کار اشتراکی پرهیاهو در کرمانشاه، با لپ‌تاپ‌تان مشغول کار هستید. اطراف‌تان پر از کارآفرینان جوانی است که رویای موفقیت دارند، اما شما ماموریتی متفاوت پیش رو دارید: احیای پلتفرم JobGalaxy، که قرار بود گنجینه‌ای از فرصت‌های شغلی برای کارجویان ایرانی باشد. مشکل اینجاست:<br>\n",
        "    ❗ کاربران از پیشنهادهای شغلی پراکنده و بی‌ربط خسته شده‌اند و تعداد زیادی از آن‌ها پلتفرم را رها کرده‌اند. سیستم فعلی، مثل یک نقشه‌ی گنج قدیمی و نادرست، فقط آگهی‌های پرطرفدار را نشان می‌دهد و هیچ درکی از مهارت‌ها یا آرزوهای کارجویان ندارد.<br>\n",
        "    تیم مدیریت JobGalaxy شما را به‌عنوان کاشف <\\strong>ستاره‌یاب<storng\\> انتخاب کرده تا یک سیستم پیشنهاددهنده هوشمند و نوآورانه طراحی کنید که گنجینه‌های شغلی واقعی را برای هر کاربر آشکار کند.\n",
        "  </font>\n",
        "</p>\n",
        "\n",
        "<h1 dir=\"rtl\" style=\"direction: rtl;text-align: justify;line-height:200%;font-family:vazir;font-size:medium\">\n",
        "  <font face=\"vazir\" color=\"#0099cc\" size=4>\n",
        "    🎯 ماموریت شما:\n",
        "  </font>\n",
        "</h1>\n",
        "\n",
        "<p dir=\"rtl\" style=\"direction: rtl;text-align: justify;line-height:200%;font-family:vazir;font-size:medium\">\n",
        "  <font face=\"vazir\" size=3>\n",
        "    به‌عنوان کاشف ستاره‌یاب، وظیفه‌ی شما ساخت سیستمی است که مثل یک فانوس دریایی، مسیر شغلی هر کارجو را در دریای بی‌کران فرصت‌ها روشن کند. در این پروژه، شما باید:\n",
        "    <div dir=\"rtl\">\n",
        "      <ul>\n",
        "        <li><strong>گنجینه‌ی داده‌ها را آماده کنید</strong> (داده‌های آگهی‌های شغلی، از جمله عناوین، مهارت‌ها و توضیحات را پاک‌سازی و سازمان‌دهی کنید)</li>\n",
        "        <li><strong>یک سیستم محتوا-محور بسازید</strong> (با تحلیل محتوای آگهی‌ها، شغل‌هایی را پیدا کنید که از نظر مهارت و ویژگی‌ها به هم نزدیک‌اند)</li>\n",
        "        <li><strong>یک سیستم مشارکتی طراحی کنید</strong> (با ردیابی رفتار کاربران، مانند درخواست‌ها یا بازدیدهایشان، کارجویانی با علایق مشابه را شناسایی کنید)</li>\n",
        "        <li><strong>یک سیستم هیبریدی خلاقانه توسعه دهید</strong> (ترکیبی از رویکردهای محتوا-محور و مشارکتی ایجاد کنید که پیشنهادهای هوشمند و متناسب ارائه دهد)</li>\n",
        "        <li><strong>عملکرد سیستم را کاوش کنید</strong> (با معیارهایی مانند Precision@K و Recall@K، دقت و کیفیت پیشنهادات را ارزیابی و بهینه کنید)</li>\n",
        "      </ul>\n",
        "    </div>\n",
        "  </font>\n",
        "</p>"
      ]
    },
    {
      "cell_type": "markdown",
      "id": "3a891788",
      "metadata": {
        "id": "3a891788"
      },
      "source": [
        "<h1 dir=rtl style=\"direction: rtl;text-align: justify;line-height:200%;font-family:vazir;font-size:medium\">\n",
        "  <font face=\"vazir\" color=\"#0099cc\" size=5>\n",
        "    گام اول : فراخوانی کتابخانه‌ها\n",
        "  </font>\n",
        "</h1>\n",
        "\n",
        "<p dir=rtl style=\"direction: rtl;text-align: justify;line-height:200%;font-family:vazir;font-size:medium\">\n",
        "  <font face=\"vazir\" size=3>\n",
        "    در مرحله اول نیاز داریم تا کتابخانه‌هایی که مورد نیاز هستند در این برنامه را فراخوانی کنیم.\n",
        "  </font>\n",
        "</p>"
      ]
    },
    {
      "cell_type": "code",
      "execution_count": 1,
      "id": "68fc296f",
      "metadata": {
        "colab": {
          "base_uri": "https://localhost:8080/",
          "height": 383
        },
        "id": "68fc296f",
        "outputId": "48bfc07a-d9e4-445d-9229-410ce476fcb5"
      },
      "outputs": [],
      "source": [
        "import pandas as pd\n",
        "import numpy as np\n",
        "from sklearn.feature_extraction.text import TfidfVectorizer\n",
        "from sklearn.metrics.pairwise import cosine_similarity\n",
        "from scipy.sparse import csr_matrix\n",
        "from hazm import Normalizer, word_tokenize, stopwords_list\n",
        "from fuzzywuzzy import fuzz\n",
        "import re\n",
        "from sklearn.preprocessing import MinMaxScaler\n"
      ]
    },
    {
      "cell_type": "markdown",
      "id": "e7d14176",
      "metadata": {
        "id": "e7d14176"
      },
      "source": [
        "<div dir=\"rtl\">\n",
        "<dir align=\"rtl\">\n",
        "<h1 dir=rtl style=\"direction: rtl;text-align: justify;line-height:200%;font-family:vazir;font-size:medium\">\n",
        "<font face=\"vazir\" color=\"#0099cc\" size=5>\n",
        "گام دوم : بارگزاری داده‌ها و تحلیل آن‌ها\n",
        "</font>\n",
        "</h1>\n",
        "<p dir=rtl style=\"direction: rtl;text-align: justify;line-height:200%;font-family:vazir;font-size:medium\">\n",
        "<font face=\"vazir\" size=3>\n",
        "اطلاعات مورد استفاده شما در یک فایل به نام <code>searching_job.csv</code> در مسیر <code>data/searching_job.csv</code> اختیار شما قرار گرفته است.<br>\n",
        "اطلاعاتی که در این مجوعه‌داده موجود است را می‌توانید در جدول زیر مشاهده کنید.<br>\n",
        "\n",
        "| **ستون** | **توضیح** |\n",
        "|-----------|------------|\n",
        "| **ID** | شناسه یکتای ردیف |\n",
        "| **Applicant ID** | شناسه یکتای کارجو |\n",
        "| **Full Name** | نام کامل کارجو |\n",
        "| **Source** | منبع درخواست کارجو |\n",
        "| **Order** | ترتیب یا اولویت درخواست |\n",
        "| **Developer State** | وضعیت توسعه‌دهنده (کد وضعیت) |\n",
        "| **Seen** | بازدید کارجو از آگهی (1=بازدید، 0=عدم بازدید) |\n",
        "| **Group Apply Source Job ID** | شناسه گروهی آگهی شغلی |\n",
        "| **Job ID** | شناسه یکتای آگهی شغلی |\n",
        "| **Careers Job - Job → Title** | عنوان آگهی شغلی |\n",
        "| **Careers Job - Job → Description** | توضیحات آگهی شغلی |\n",
        "| **Careers Job - Job → Requirements** | نیازمندی‌های شغلی |\n",
        "| **Careers Job - Job → Level** | سطح شغل (مثل junior، senior) |\n",
        "| **Careers Job - Job → Offers Remote** | امکان دورکاری (True/False) |\n",
        "| **Careers Job - Job → Minimum Salary** | حداقل حقوق پیشنهادی |\n",
        "| **Careers Job - Job → State** | وضعیت آگهی شغلی (مثل A، C) |\n",
        "| **Careers Job - Job → Maximum Salary** | حداکثر حقوق پیشنهادی |\n",
        "| **Careers Job - Job → Hit Count** | تعداد بازدیدهای آگهی شغلی |\n",
        "| **Accounts City - City → Name** | نام شهر محل شغل |\n",
        "| **Careers Disqualifyreason - Disqualify Reason → Name** | دلیل رد درخواست کارجو |\n",
        "| **Careers Job - Group Apply Source Job → Title** | عنوان گروهی آگهی شغلی |\n",
        "\n",
        "<br>\n",
        "\n",
        "در این گام شما باید ابتدا فایل‌های اطلاعات را با استفاده از ابزار در دسترس فراخوانی کرده و سپس به سراغ تحلیل این اطلاعات بروید. اطلاعاتی چون تعداد کاربران یکتا، تعداد داده‌های گمشده و ... که ما را برای شناخت بهتر این داده‌ها همراهی میکنند.<br>\n",
        "\n",
        "</font>\n",
        "</p>\n",
        "</dir>\n",
        "</div>"
      ]
    },
    {
      "cell_type": "code",
      "execution_count": 2,
      "id": "0ae0232b",
      "metadata": {
        "id": "0ae0232b"
      },
      "outputs": [],
      "source": [
        "df = pd.read_csv('./data/searching_job.csv', encoding='utf-8')"
      ]
    },
    {
      "cell_type": "code",
      "execution_count": 3,
      "id": "YefouB4ig8kY",
      "metadata": {
        "colab": {
          "base_uri": "https://localhost:8080/",
          "height": 620
        },
        "id": "YefouB4ig8kY",
        "outputId": "9a510240-c6b3-410d-9cc9-1e4c69972b89"
      },
      "outputs": [
        {
          "data": {
            "text/html": [
              "<div>\n",
              "<style scoped>\n",
              "    .dataframe tbody tr th:only-of-type {\n",
              "        vertical-align: middle;\n",
              "    }\n",
              "\n",
              "    .dataframe tbody tr th {\n",
              "        vertical-align: top;\n",
              "    }\n",
              "\n",
              "    .dataframe thead th {\n",
              "        text-align: right;\n",
              "    }\n",
              "</style>\n",
              "<table border=\"1\" class=\"dataframe\">\n",
              "  <thead>\n",
              "    <tr style=\"text-align: right;\">\n",
              "      <th></th>\n",
              "      <th>ID</th>\n",
              "      <th>Applicant ID</th>\n",
              "      <th>Full Name</th>\n",
              "      <th>Source</th>\n",
              "      <th>Order</th>\n",
              "      <th>Developer State</th>\n",
              "      <th>Seen</th>\n",
              "      <th>Group Apply Source Job ID</th>\n",
              "      <th>Job ID</th>\n",
              "      <th>Careers Job - Job → Title</th>\n",
              "      <th>...</th>\n",
              "      <th>Careers Job - Job → Requirements</th>\n",
              "      <th>Careers Job - Job → Level</th>\n",
              "      <th>Careers Job - Job → Offers Remote</th>\n",
              "      <th>Careers Job - Job → Minimum Salary</th>\n",
              "      <th>Careers Job - Job → State</th>\n",
              "      <th>Careers Job - Job → Maximum Salary</th>\n",
              "      <th>Careers Job - Job → Hit Count</th>\n",
              "      <th>Accounts City - City → Name</th>\n",
              "      <th>Careers Disqualifyreason - Disqualify Reason → Name</th>\n",
              "      <th>Careers Job - Group Apply Source Job → Title</th>\n",
              "    </tr>\n",
              "  </thead>\n",
              "  <tbody>\n",
              "    <tr>\n",
              "      <th>0</th>\n",
              "      <td>393696</td>\n",
              "      <td>85372.0</td>\n",
              "      <td>D D</td>\n",
              "      <td>2</td>\n",
              "      <td>164</td>\n",
              "      <td>10</td>\n",
              "      <td>False</td>\n",
              "      <td>16487.0</td>\n",
              "      <td>20092</td>\n",
              "      <td>Back-end Developer (Python)</td>\n",
              "      <td>...</td>\n",
              "      <td>&lt;p dir=\"ltr\"&gt;&lt;strong&gt;Minimum requirements &lt;/st...</td>\n",
              "      <td>junior</td>\n",
              "      <td>True</td>\n",
              "      <td>7,000,000</td>\n",
              "      <td>C</td>\n",
              "      <td>12,000,000</td>\n",
              "      <td>2,125</td>\n",
              "      <td>تهران</td>\n",
              "      <td>NaN</td>\n",
              "      <td>توسعه‌دهنده (Back-end (Python</td>\n",
              "    </tr>\n",
              "    <tr>\n",
              "      <th>1</th>\n",
              "      <td>380461</td>\n",
              "      <td>149261.0</td>\n",
              "      <td>Z T</td>\n",
              "      <td>2</td>\n",
              "      <td>0</td>\n",
              "      <td>25</td>\n",
              "      <td>True</td>\n",
              "      <td>16487.0</td>\n",
              "      <td>19784</td>\n",
              "      <td>توسعه‌دهنده Back-end</td>\n",
              "      <td>...</td>\n",
              "      <td>&lt;p dir=\"rtl\"&gt;&lt;strong&gt;مهارت‌های ضروری:&lt;/strong&gt;...</td>\n",
              "      <td>senior</td>\n",
              "      <td>False</td>\n",
              "      <td>12,000,000</td>\n",
              "      <td>C</td>\n",
              "      <td>16,000,000</td>\n",
              "      <td>1,106</td>\n",
              "      <td>تهران</td>\n",
              "      <td>NaN</td>\n",
              "      <td>توسعه‌دهنده (Back-end (Python</td>\n",
              "    </tr>\n",
              "    <tr>\n",
              "      <th>2</th>\n",
              "      <td>380462</td>\n",
              "      <td>149261.0</td>\n",
              "      <td>X H</td>\n",
              "      <td>2</td>\n",
              "      <td>5</td>\n",
              "      <td>30</td>\n",
              "      <td>True</td>\n",
              "      <td>16487.0</td>\n",
              "      <td>19718</td>\n",
              "      <td>senior Back-end Developer (Django)</td>\n",
              "      <td>...</td>\n",
              "      <td>&lt;p dir=\"auto\"&gt;&lt;strong&gt;مهارت‌های ضروری:&lt;/strong...</td>\n",
              "      <td>senior</td>\n",
              "      <td>False</td>\n",
              "      <td>25,000,000</td>\n",
              "      <td>C</td>\n",
              "      <td>30,000,000</td>\n",
              "      <td>1,055</td>\n",
              "      <td>تهران</td>\n",
              "      <td>مهارت یا تجربه ناکافی</td>\n",
              "      <td>توسعه‌دهنده (Back-end (Python</td>\n",
              "    </tr>\n",
              "    <tr>\n",
              "      <th>3</th>\n",
              "      <td>393698</td>\n",
              "      <td>85372.0</td>\n",
              "      <td>J U</td>\n",
              "      <td>2</td>\n",
              "      <td>0</td>\n",
              "      <td>30</td>\n",
              "      <td>True</td>\n",
              "      <td>16487.0</td>\n",
              "      <td>19916</td>\n",
              "      <td>Senior Back-end Developer (Python)</td>\n",
              "      <td>...</td>\n",
              "      <td>&lt;p dir=\"auto\"&gt;&lt;strong&gt;We expect you to be an e...</td>\n",
              "      <td>senior</td>\n",
              "      <td>True</td>\n",
              "      <td>35,000,000</td>\n",
              "      <td>A</td>\n",
              "      <td>40,000,000</td>\n",
              "      <td>1,405</td>\n",
              "      <td>تهران</td>\n",
              "      <td>مهارت یا تجربه ناکافی</td>\n",
              "      <td>توسعه‌دهنده (Back-end (Python</td>\n",
              "    </tr>\n",
              "    <tr>\n",
              "      <th>4</th>\n",
              "      <td>380459</td>\n",
              "      <td>149261.0</td>\n",
              "      <td>G C</td>\n",
              "      <td>2</td>\n",
              "      <td>2</td>\n",
              "      <td>30</td>\n",
              "      <td>True</td>\n",
              "      <td>16487.0</td>\n",
              "      <td>19985</td>\n",
              "      <td>برنامه‌نویس Back-end وب</td>\n",
              "      <td>...</td>\n",
              "      <td>&lt;p dir=\"auto\"&gt;&lt;strong&gt;مهارت ‌ها و شرایط فنی:&lt;/...</td>\n",
              "      <td>senior</td>\n",
              "      <td>False</td>\n",
              "      <td>NaN</td>\n",
              "      <td>C</td>\n",
              "      <td>NaN</td>\n",
              "      <td>530</td>\n",
              "      <td>تهران</td>\n",
              "      <td>مهارت یا تجربه ناکافی</td>\n",
              "      <td>توسعه‌دهنده (Back-end (Python</td>\n",
              "    </tr>\n",
              "  </tbody>\n",
              "</table>\n",
              "<p>5 rows × 21 columns</p>\n",
              "</div>"
            ],
            "text/plain": [
              "       ID  Applicant ID Full Name  Source  Order  Developer State   Seen  \\\n",
              "0  393696       85372.0       D D       2    164               10  False   \n",
              "1  380461      149261.0       Z T       2      0               25   True   \n",
              "2  380462      149261.0       X H       2      5               30   True   \n",
              "3  393698       85372.0       J U       2      0               30   True   \n",
              "4  380459      149261.0       G C       2      2               30   True   \n",
              "\n",
              "   Group Apply Source Job ID  Job ID           Careers Job - Job → Title  ...  \\\n",
              "0                    16487.0   20092         Back-end Developer (Python)  ...   \n",
              "1                    16487.0   19784                توسعه‌دهنده Back-end  ...   \n",
              "2                    16487.0   19718  senior Back-end Developer (Django)  ...   \n",
              "3                    16487.0   19916  Senior Back-end Developer (Python)  ...   \n",
              "4                    16487.0   19985             برنامه‌نویس Back-end وب  ...   \n",
              "\n",
              "                    Careers Job - Job → Requirements  \\\n",
              "0  <p dir=\"ltr\"><strong>Minimum requirements </st...   \n",
              "1  <p dir=\"rtl\"><strong>مهارت‌های ضروری:</strong>...   \n",
              "2  <p dir=\"auto\"><strong>مهارت‌های ضروری:</strong...   \n",
              "3  <p dir=\"auto\"><strong>We expect you to be an e...   \n",
              "4  <p dir=\"auto\"><strong>مهارت ‌ها و شرایط فنی:</...   \n",
              "\n",
              "  Careers Job - Job → Level Careers Job - Job → Offers Remote  \\\n",
              "0                    junior                              True   \n",
              "1                    senior                             False   \n",
              "2                    senior                             False   \n",
              "3                    senior                              True   \n",
              "4                    senior                             False   \n",
              "\n",
              "   Careers Job - Job → Minimum Salary Careers Job - Job → State  \\\n",
              "0                           7,000,000                         C   \n",
              "1                          12,000,000                         C   \n",
              "2                          25,000,000                         C   \n",
              "3                          35,000,000                         A   \n",
              "4                                 NaN                         C   \n",
              "\n",
              "  Careers Job - Job → Maximum Salary Careers Job - Job → Hit Count  \\\n",
              "0                         12,000,000                         2,125   \n",
              "1                         16,000,000                         1,106   \n",
              "2                         30,000,000                         1,055   \n",
              "3                         40,000,000                         1,405   \n",
              "4                                NaN                           530   \n",
              "\n",
              "  Accounts City - City → Name  \\\n",
              "0                       تهران   \n",
              "1                       تهران   \n",
              "2                       تهران   \n",
              "3                       تهران   \n",
              "4                       تهران   \n",
              "\n",
              "  Careers Disqualifyreason - Disqualify Reason → Name  \\\n",
              "0                                                NaN    \n",
              "1                                                NaN    \n",
              "2                              مهارت یا تجربه ناکافی    \n",
              "3                              مهارت یا تجربه ناکافی    \n",
              "4                              مهارت یا تجربه ناکافی    \n",
              "\n",
              "  Careers Job - Group Apply Source Job → Title  \n",
              "0                توسعه‌دهنده (Back-end (Python  \n",
              "1                توسعه‌دهنده (Back-end (Python  \n",
              "2                توسعه‌دهنده (Back-end (Python  \n",
              "3                توسعه‌دهنده (Back-end (Python  \n",
              "4                توسعه‌دهنده (Back-end (Python  \n",
              "\n",
              "[5 rows x 21 columns]"
            ]
          },
          "execution_count": 3,
          "metadata": {},
          "output_type": "execute_result"
        }
      ],
      "source": [
        "df.head()"
      ]
    },
    {
      "cell_type": "code",
      "execution_count": 4,
      "id": "4QufVg9IhIJg",
      "metadata": {
        "colab": {
          "base_uri": "https://localhost:8080/",
          "height": 777
        },
        "id": "4QufVg9IhIJg",
        "outputId": "228b8478-0254-44d2-d5f5-d7eed59fc252"
      },
      "outputs": [
        {
          "data": {
            "text/plain": [
              "ID                                                                                                393696\n",
              "Applicant ID                                                                                     85372.0\n",
              "Full Name                                                                                            D D\n",
              "Source                                                                                                 2\n",
              "Order                                                                                                164\n",
              "Developer State                                                                                       10\n",
              "Seen                                                                                               False\n",
              "Group Apply Source Job ID                                                                        16487.0\n",
              "Job ID                                                                                             20092\n",
              "Careers Job - Job → Title                                                    Back-end Developer (Python)\n",
              "Careers Job - Job → Description                                                                   masked\n",
              "Careers Job - Job → Requirements                       <p dir=\"ltr\"><strong>Minimum requirements </st...\n",
              "Careers Job - Job → Level                                                                         junior\n",
              "Careers Job - Job → Offers Remote                                                                   True\n",
              "Careers Job - Job → Minimum Salary                                                             7,000,000\n",
              "Careers Job - Job → State                                                                              C\n",
              "Careers Job - Job → Maximum Salary                                                            12,000,000\n",
              "Careers Job - Job → Hit Count                                                                      2,125\n",
              "Accounts City - City → Name                                                                        تهران\n",
              "Careers Disqualifyreason - Disqualify Reason → Name                                                  NaN\n",
              "Careers Job - Group Apply Source Job → Title                               توسعه‌دهنده (Back-end (Python\n",
              "Name: 0, dtype: object"
            ]
          },
          "metadata": {},
          "output_type": "display_data"
        }
      ],
      "source": [
        "display(df.iloc[0])"
      ]
    },
    {
      "cell_type": "code",
      "execution_count": 5,
      "id": "U_hT3yaprry6",
      "metadata": {
        "colab": {
          "base_uri": "https://localhost:8080/"
        },
        "id": "U_hT3yaprry6",
        "outputId": "9b17eee9-a18c-471d-ab74-bd71d6cf24c0"
      },
      "outputs": [
        {
          "data": {
            "text/plain": [
              "(15454, 21)"
            ]
          },
          "execution_count": 5,
          "metadata": {},
          "output_type": "execute_result"
        }
      ],
      "source": [
        "df.shape"
      ]
    },
    {
      "cell_type": "code",
      "execution_count": 6,
      "id": "gSGN3hNkrmP7",
      "metadata": {
        "colab": {
          "base_uri": "https://localhost:8080/"
        },
        "id": "gSGN3hNkrmP7",
        "outputId": "4302f7df-30e7-4ac2-bc43-28ab03af5ed4"
      },
      "outputs": [
        {
          "name": "stdout",
          "output_type": "stream",
          "text": [
            "<class 'pandas.core.frame.DataFrame'>\n",
            "RangeIndex: 15454 entries, 0 to 15453\n",
            "Data columns (total 21 columns):\n",
            " #   Column                                               Non-Null Count  Dtype  \n",
            "---  ------                                               --------------  -----  \n",
            " 0   ID                                                   15454 non-null  int64  \n",
            " 1   Applicant ID                                         15454 non-null  float64\n",
            " 2   Full Name                                            15134 non-null  object \n",
            " 3   Source                                               15454 non-null  int64  \n",
            " 4   Order                                                15454 non-null  int64  \n",
            " 5   Developer State                                      15454 non-null  int64  \n",
            " 6   Seen                                                 15454 non-null  bool   \n",
            " 7   Group Apply Source Job ID                            4163 non-null   float64\n",
            " 8   Job ID                                               15454 non-null  int64  \n",
            " 9   Careers Job - Job → Title                            15454 non-null  object \n",
            " 10  Careers Job - Job → Description                      15454 non-null  object \n",
            " 11  Careers Job - Job → Requirements                     15407 non-null  object \n",
            " 12  Careers Job - Job → Level                            15454 non-null  object \n",
            " 13  Careers Job - Job → Offers Remote                    15454 non-null  bool   \n",
            " 14  Careers Job - Job → Minimum Salary                   13011 non-null  object \n",
            " 15  Careers Job - Job → State                            15454 non-null  object \n",
            " 16  Careers Job - Job → Maximum Salary                   13011 non-null  object \n",
            " 17  Careers Job - Job → Hit Count                        15454 non-null  object \n",
            " 18  Accounts City - City → Name                          15134 non-null  object \n",
            " 19  Careers Disqualifyreason - Disqualify Reason → Name  14597 non-null  object \n",
            " 20  Careers Job - Group Apply Source Job → Title         4163 non-null   object \n",
            "dtypes: bool(2), float64(2), int64(5), object(12)\n",
            "memory usage: 2.3+ MB\n"
          ]
        }
      ],
      "source": [
        "df.info()"
      ]
    },
    {
      "cell_type": "code",
      "execution_count": 7,
      "id": "3BCEhuCTrmFM",
      "metadata": {
        "colab": {
          "base_uri": "https://localhost:8080/"
        },
        "id": "3BCEhuCTrmFM",
        "outputId": "a6172b12-be99-4549-b36c-89b4d8e9567f"
      },
      "outputs": [
        {
          "data": {
            "text/plain": [
              "5702"
            ]
          },
          "execution_count": 7,
          "metadata": {},
          "output_type": "execute_result"
        }
      ],
      "source": [
        "df['Applicant ID'].nunique()"
      ]
    },
    {
      "cell_type": "code",
      "execution_count": 8,
      "id": "DpMimAF_rlId",
      "metadata": {
        "colab": {
          "base_uri": "https://localhost:8080/"
        },
        "id": "DpMimAF_rlId",
        "outputId": "2f84fda0-934f-436b-8df9-0cfb273650a5"
      },
      "outputs": [
        {
          "data": {
            "text/plain": [
              "1783"
            ]
          },
          "execution_count": 8,
          "metadata": {},
          "output_type": "execute_result"
        }
      ],
      "source": [
        "df['Job ID'].nunique()"
      ]
    },
    {
      "cell_type": "code",
      "execution_count": 9,
      "id": "Bzw-Lv-EsPcm",
      "metadata": {
        "colab": {
          "base_uri": "https://localhost:8080/",
          "height": 1000
        },
        "id": "Bzw-Lv-EsPcm",
        "outputId": "d82b2941-9bb3-4685-9e28-2d6d86ad1ce8"
      },
      "outputs": [
        {
          "data": {
            "text/html": [
              "<div>\n",
              "<style scoped>\n",
              "    .dataframe tbody tr th:only-of-type {\n",
              "        vertical-align: middle;\n",
              "    }\n",
              "\n",
              "    .dataframe tbody tr th {\n",
              "        vertical-align: top;\n",
              "    }\n",
              "\n",
              "    .dataframe thead th {\n",
              "        text-align: right;\n",
              "    }\n",
              "</style>\n",
              "<table border=\"1\" class=\"dataframe\">\n",
              "  <thead>\n",
              "    <tr style=\"text-align: right;\">\n",
              "      <th></th>\n",
              "      <th>ID</th>\n",
              "      <th>Applicant ID</th>\n",
              "      <th>Source</th>\n",
              "      <th>Order</th>\n",
              "      <th>Developer State</th>\n",
              "      <th>Group Apply Source Job ID</th>\n",
              "      <th>Job ID</th>\n",
              "    </tr>\n",
              "  </thead>\n",
              "  <tbody>\n",
              "    <tr>\n",
              "      <th>count</th>\n",
              "      <td>15454.000000</td>\n",
              "      <td>15454.000000</td>\n",
              "      <td>15454.000000</td>\n",
              "      <td>15454.000000</td>\n",
              "      <td>15454.000000</td>\n",
              "      <td>4163.000000</td>\n",
              "      <td>15454.000000</td>\n",
              "    </tr>\n",
              "    <tr>\n",
              "      <th>mean</th>\n",
              "      <td>316289.356413</td>\n",
              "      <td>145019.166818</td>\n",
              "      <td>1.978905</td>\n",
              "      <td>17.869937</td>\n",
              "      <td>29.214119</td>\n",
              "      <td>21446.858035</td>\n",
              "      <td>16511.272421</td>\n",
              "    </tr>\n",
              "    <tr>\n",
              "      <th>std</th>\n",
              "      <td>150897.380021</td>\n",
              "      <td>90104.941936</td>\n",
              "      <td>0.143705</td>\n",
              "      <td>41.988455</td>\n",
              "      <td>3.527911</td>\n",
              "      <td>1365.994463</td>\n",
              "      <td>6438.285390</td>\n",
              "    </tr>\n",
              "    <tr>\n",
              "      <th>min</th>\n",
              "      <td>7263.000000</td>\n",
              "      <td>227.000000</td>\n",
              "      <td>1.000000</td>\n",
              "      <td>0.000000</td>\n",
              "      <td>10.000000</td>\n",
              "      <td>16487.000000</td>\n",
              "      <td>898.000000</td>\n",
              "    </tr>\n",
              "    <tr>\n",
              "      <th>25%</th>\n",
              "      <td>197970.000000</td>\n",
              "      <td>75231.000000</td>\n",
              "      <td>2.000000</td>\n",
              "      <td>1.000000</td>\n",
              "      <td>30.000000</td>\n",
              "      <td>20427.000000</td>\n",
              "      <td>13389.000000</td>\n",
              "    </tr>\n",
              "    <tr>\n",
              "      <th>50%</th>\n",
              "      <td>359488.500000</td>\n",
              "      <td>129899.500000</td>\n",
              "      <td>2.000000</td>\n",
              "      <td>4.000000</td>\n",
              "      <td>30.000000</td>\n",
              "      <td>21384.000000</td>\n",
              "      <td>19150.500000</td>\n",
              "    </tr>\n",
              "    <tr>\n",
              "      <th>75%</th>\n",
              "      <td>437908.000000</td>\n",
              "      <td>205766.500000</td>\n",
              "      <td>2.000000</td>\n",
              "      <td>15.000000</td>\n",
              "      <td>30.000000</td>\n",
              "      <td>22564.000000</td>\n",
              "      <td>21113.000000</td>\n",
              "    </tr>\n",
              "    <tr>\n",
              "      <th>max</th>\n",
              "      <td>542485.000000</td>\n",
              "      <td>432605.000000</td>\n",
              "      <td>2.000000</td>\n",
              "      <td>473.000000</td>\n",
              "      <td>40.000000</td>\n",
              "      <td>23895.000000</td>\n",
              "      <td>23848.000000</td>\n",
              "    </tr>\n",
              "  </tbody>\n",
              "</table>\n",
              "</div>"
            ],
            "text/plain": [
              "                  ID   Applicant ID        Source         Order  \\\n",
              "count   15454.000000   15454.000000  15454.000000  15454.000000   \n",
              "mean   316289.356413  145019.166818      1.978905     17.869937   \n",
              "std    150897.380021   90104.941936      0.143705     41.988455   \n",
              "min      7263.000000     227.000000      1.000000      0.000000   \n",
              "25%    197970.000000   75231.000000      2.000000      1.000000   \n",
              "50%    359488.500000  129899.500000      2.000000      4.000000   \n",
              "75%    437908.000000  205766.500000      2.000000     15.000000   \n",
              "max    542485.000000  432605.000000      2.000000    473.000000   \n",
              "\n",
              "       Developer State  Group Apply Source Job ID        Job ID  \n",
              "count     15454.000000                4163.000000  15454.000000  \n",
              "mean         29.214119               21446.858035  16511.272421  \n",
              "std           3.527911                1365.994463   6438.285390  \n",
              "min          10.000000               16487.000000    898.000000  \n",
              "25%          30.000000               20427.000000  13389.000000  \n",
              "50%          30.000000               21384.000000  19150.500000  \n",
              "75%          30.000000               22564.000000  21113.000000  \n",
              "max          40.000000               23895.000000  23848.000000  "
            ]
          },
          "metadata": {},
          "output_type": "display_data"
        },
        {
          "data": {
            "text/plain": [
              "ID                                                         0\n",
              "Applicant ID                                               0\n",
              "Full Name                                                320\n",
              "Source                                                     0\n",
              "Order                                                      0\n",
              "Developer State                                            0\n",
              "Seen                                                       0\n",
              "Group Apply Source Job ID                              11291\n",
              "Job ID                                                     0\n",
              "Careers Job - Job → Title                                  0\n",
              "Careers Job - Job → Description                            0\n",
              "Careers Job - Job → Requirements                          47\n",
              "Careers Job - Job → Level                                  0\n",
              "Careers Job - Job → Offers Remote                          0\n",
              "Careers Job - Job → Minimum Salary                      2443\n",
              "Careers Job - Job → State                                  0\n",
              "Careers Job - Job → Maximum Salary                      2443\n",
              "Careers Job - Job → Hit Count                              0\n",
              "Accounts City - City → Name                              320\n",
              "Careers Disqualifyreason - Disqualify Reason → Name      857\n",
              "Careers Job - Group Apply Source Job → Title           11291\n",
              "dtype: int64"
            ]
          },
          "metadata": {},
          "output_type": "display_data"
        },
        {
          "data": {
            "text/plain": [
              "ID                                                     15454\n",
              "Applicant ID                                            5702\n",
              "Full Name                                                729\n",
              "Source                                                     2\n",
              "Order                                                    350\n",
              "Developer State                                            5\n",
              "Seen                                                       2\n",
              "Group Apply Source Job ID                               1166\n",
              "Job ID                                                  1783\n",
              "Careers Job - Job → Title                                887\n",
              "Careers Job - Job → Description                            1\n",
              "Careers Job - Job → Requirements                        1526\n",
              "Careers Job - Job → Level                                  4\n",
              "Careers Job - Job → Offers Remote                          2\n",
              "Careers Job - Job → Minimum Salary                        40\n",
              "Careers Job - Job → State                                  4\n",
              "Careers Job - Job → Maximum Salary                        41\n",
              "Careers Job - Job → Hit Count                            829\n",
              "Accounts City - City → Name                              257\n",
              "Careers Disqualifyreason - Disqualify Reason → Name        7\n",
              "Careers Job - Group Apply Source Job → Title             658\n",
              "dtype: int64"
            ]
          },
          "metadata": {},
          "output_type": "display_data"
        }
      ],
      "source": [
        "display(df.describe())\n",
        "display(df.isnull().sum())\n",
        "display(df.nunique())"
      ]
    },
    {
      "cell_type": "markdown",
      "id": "e190428c",
      "metadata": {
        "id": "e190428c"
      },
      "source": [
        "\n",
        "<div dir=\"rtl\">\n",
        "<dir align=\"rtl\">\n",
        "<h1 dir=rtl style=\"direction: rtl;text-align: justify;line-height:200%;font-family:vazir;font-size:medium\">\n",
        "<font face=\"vazir\" color=\"#0099cc\" size=5>\n",
        "گام سوم: پیش‌پردازش‌ها\n",
        "</font>\n",
        "</h1>\n",
        "<p dir=rtl style=\"direction: rtl;text-align: justify;line-height:200%;font-family:vazir;font-size:medium\">\n",
        "<font face=\"vazir\" size=3>\n",
        "در این مرحله باید مقادیر ستون <code>Seen</code> که در واقع نمایش دیدن یک اگهی توسط کاربر است یا خیر که دارای دو مقدار <code>Boolean</code> به مقادیر عددی تبدیل کنیم.\n",
        "</font>\n",
        "</p>\n",
        "</dir>\n",
        "</div>\n"
      ]
    },
    {
      "cell_type": "code",
      "execution_count": 10,
      "id": "1b231a73",
      "metadata": {
        "id": "1b231a73"
      },
      "outputs": [],
      "source": [
        "df['Seen'] = df['Seen'].astype(int)"
      ]
    },
    {
      "cell_type": "code",
      "execution_count": 11,
      "id": "vHz48mm7tJeA",
      "metadata": {
        "colab": {
          "base_uri": "https://localhost:8080/",
          "height": 458
        },
        "id": "vHz48mm7tJeA",
        "outputId": "10fdbb2f-f6a4-4663-9323-2770778b49b6"
      },
      "outputs": [
        {
          "data": {
            "text/plain": [
              "0        0\n",
              "1        1\n",
              "2        1\n",
              "3        1\n",
              "4        1\n",
              "        ..\n",
              "15449    1\n",
              "15450    1\n",
              "15451    1\n",
              "15452    1\n",
              "15453    1\n",
              "Name: Seen, Length: 15454, dtype: int64"
            ]
          },
          "execution_count": 11,
          "metadata": {},
          "output_type": "execute_result"
        }
      ],
      "source": [
        "df['Seen']"
      ]
    },
    {
      "cell_type": "code",
      "execution_count": 12,
      "id": "10d13456",
      "metadata": {
        "colab": {
          "base_uri": "https://localhost:8080/",
          "height": 178
        },
        "id": "10d13456",
        "outputId": "2c1f8af7-8afb-4cf2-d2ab-44d178f6ca90"
      },
      "outputs": [
        {
          "data": {
            "text/plain": [
              "Seen\n",
              "1    15048\n",
              "0      406\n",
              "Name: count, dtype: int64"
            ]
          },
          "metadata": {},
          "output_type": "display_data"
        }
      ],
      "source": [
        "display(df.Seen.value_counts())"
      ]
    },
    {
      "cell_type": "markdown",
      "id": "c8fba9ff",
      "metadata": {
        "id": "c8fba9ff"
      },
      "source": [
        "<div dir=\"rtl\">\n",
        "<dir align=\"rtl\">\n",
        "<h1 dir=rtl style=\"direction: rtl;text-align: justify;line-height:200%;font-family:vazir;font-size:medium\">\n",
        "<font face=\"vazir\" color=\"#0099cc\" size=5>\n",
        "گام اول: مدیریت داده‌های گمشده و تبدیل فرمت ستون‌ها\n",
        "</font>\n",
        "</h1>\n",
        "<p dir=rtl style=\"direction: rtl;text-align: justify;line-height:200%;font-family:vazir;font-size:medium\">\n",
        "<font face=\"vazir\" size=3>\n",
        "در این مرحله باید ستون‌های عددی و متنی را برای استفاده در تحلیل‌های بعدی آماده کنیم. این کار شامل تبدیل فرمت ستون‌های عددی از رشته به عدد و مدیریت مقادیر گمشده در ستون‌های متنی است. این عملیات ضروری است، زیرا فرمت نادرست یا مقادیر گمشده می‌توانند باعث خطا در محاسبات یا فیلترگذاری شوند و دقت سیستم پیشنهاددهنده را کاهش دهند.\n",
        "<br><br>\n",
        "برای پیاده‌سازی این گام، مراحل زیر را به ترتیب انجام دهید:\n",
        "<br>\n",
        "<b>1. تبدیل ستون <code>Careers Job - Job → Minimum Salary</code>:</b> کاما را از مقادیر حذف کنید، به نوع عددی (float) تبدیل کنید و مقادیر گمشده را با 0 پر کنید.<br>\n",
        "<b>2. تبدیل ستون <code>Careers Job - Job → Maximum Salary</code>:</b> مشابه مرحله قبل، کاما را حذف کنید، به نوع عددی تبدیل کنید و مقادیر گمشده را با 0 پر کنید.<br>\n",
        "<b>3. تبدیل ستون <code>Careers Job - Job → Hit Count</code>:</b> کاما را از مقادیر حذف کنید و به نوع عددی تبدیل کنید.<br>\n",
        "<b>4. پر کردن مقادیر گمشده در <code>Accounts City - City → Name</code>:</b> مقادیر گمشده را با عبارت \"نامشخص\" جایگزین کنید.<br>\n",
        "<b>5. پر کردن مقادیر گمشده در <code>Careers Disqualifyreason - Disqualify Reason → Name</code>:</b> مقادیر گمشده را با عبارت \"نامشخص\" جایگزین کنید.\n",
        "</font>\n",
        "</p>\n",
        "</dir>\n",
        "</div>"
      ]
    },
    {
      "cell_type": "code",
      "execution_count": 13,
      "id": "2eca202c",
      "metadata": {
        "id": "2eca202c"
      },
      "outputs": [],
      "source": [
        "# 1. حداقل حقوق\n",
        "df['Careers Job - Job → Minimum Salary'] = (\n",
        "    df['Careers Job - Job → Minimum Salary']\n",
        "    .astype(str)                    # تبدیل به رشته برای حذف کاما\n",
        "    .str.replace(',', '', regex=True)\n",
        "    .astype(float)                  # تبدیل به عدد اعشاری\n",
        "    .fillna(0)                      # پر کردن مقادیر گمشده با 0\n",
        ")\n",
        "\n",
        "# 2. حداکثر حقوق\n",
        "df['Careers Job - Job → Maximum Salary'] = (\n",
        "    df['Careers Job - Job → Maximum Salary']\n",
        "    .astype(str)\n",
        "    .str.replace(',', '', regex=True)\n",
        "    .astype(float)\n",
        "    .fillna(0)\n",
        ")\n",
        "\n",
        "# 3. تعداد بازدید آگهی\n",
        "df['Careers Job - Job → Hit Count'] = (\n",
        "    df['Careers Job - Job → Hit Count']\n",
        "    .astype(str)\n",
        "    .str.replace(',', '', regex=True)\n",
        "    .astype(float)                  # اگه عدد صحیح باشه می‌تونی int بذاری\n",
        ")\n",
        "\n",
        "# 4. نام شهر\n",
        "df['Accounts City - City → Name'] = df['Accounts City - City → Name'].fillna(\"نامشخص\")\n",
        "\n",
        "# 5. دلیل رد درخواست\n",
        "df['Careers Disqualifyreason - Disqualify Reason → Name'] = df['Careers Disqualifyreason - Disqualify Reason → Name'].fillna(\"نامشخص\")\n"
      ]
    },
    {
      "cell_type": "code",
      "execution_count": 14,
      "id": "5abdeea9",
      "metadata": {
        "colab": {
          "base_uri": "https://localhost:8080/",
          "height": 742
        },
        "id": "5abdeea9",
        "outputId": "4cbafd3d-dc55-4a9a-cd72-6be41daa4d0a"
      },
      "outputs": [
        {
          "data": {
            "text/plain": [
              "ID                                                      0.000000\n",
              "Applicant ID                                            0.000000\n",
              "Full Name                                               2.070661\n",
              "Source                                                  0.000000\n",
              "Order                                                   0.000000\n",
              "Developer State                                         0.000000\n",
              "Seen                                                    0.000000\n",
              "Group Apply Source Job ID                              73.061990\n",
              "Job ID                                                  0.000000\n",
              "Careers Job - Job → Title                               0.000000\n",
              "Careers Job - Job → Description                         0.000000\n",
              "Careers Job - Job → Requirements                        0.304128\n",
              "Careers Job - Job → Level                               0.000000\n",
              "Careers Job - Job → Offers Remote                       0.000000\n",
              "Careers Job - Job → Minimum Salary                      0.000000\n",
              "Careers Job - Job → State                               0.000000\n",
              "Careers Job - Job → Maximum Salary                      0.000000\n",
              "Careers Job - Job → Hit Count                           0.000000\n",
              "Accounts City - City → Name                             0.000000\n",
              "Careers Disqualifyreason - Disqualify Reason → Name     0.000000\n",
              "Careers Job - Group Apply Source Job → Title           73.061990\n",
              "dtype: float64"
            ]
          },
          "execution_count": 14,
          "metadata": {},
          "output_type": "execute_result"
        }
      ],
      "source": [
        "df.isnull().sum() / len(df) * 100"
      ]
    },
    {
      "cell_type": "markdown",
      "id": "4f58a1b4",
      "metadata": {
        "id": "4f58a1b4"
      },
      "source": [
        "<div dir=\"rtl\">\n",
        "<dir align=\"rtl\">\n",
        "<h1 dir=rtl style=\"direction: rtl;text-align: justify;line-height:200%;font-family:vazir;font-size:medium\">\n",
        "<font face=\"vazir\" color=\"#0099cc\" size=5>\n",
        "گام دوم: حذف ستون‌های با داده‌های گمشده زیاد\n",
        "</font>\n",
        "</h1>\n",
        "<p dir=rtl style=\"direction: rtl;text-align: justify;line-height:200%;font-family:vazir;font-size:medium\">\n",
        "<font face=\"vazir\" size=3>\n",
        "در این مرحله باید ستون‌هایی که درصد داده‌های گمشده آن‌ها بیشتر از آستانه مشخص‌شده (مثلاً 50%) است، از دیتافریم حذف کنیم. این کار برای اطمینان از کیفیت داده‌ها و کاهش تأثیر مقادیر گمشده بر تحلیل‌های بعدی، مانند فیلترگذاری یا محاسبات شباهت، ضروری است. حذف ستون‌های با داده‌های گمشده زیاد باعث می‌شود سیستم پیشنهاددهنده روی داده‌های قابل‌اعتمادتر عمل کند و از خطاهای ناشی از داده‌های ناقص جلوگیری شود.\n",
        "<br><br>\n",
        "برای پیاده‌سازی این گام، مراحل زیر را به ترتیب انجام دهید:\n",
        "<br>\n",
        "<b>1. تعریف آستانه:</b> یک متغیر به نام <code>threshold</code> با مقدار 0.5 تعریف کنید تا نشان‌دهنده حداکثر درصد مجاز داده‌های گمشده در هر ستون باشد.<br>\n",
        "<b>2. حذف ستون‌ها:</b> ستون‌هایی را که درصد داده‌های گمشده آن‌ها بیشتر از <code>threshold</code> است، از دیتافریم حذف کنید، به‌طوری‌که فقط ستون‌هایی با داده‌های کافی باقی بمانند.\n",
        "</font>\n",
        "</p>\n",
        "</dir>\n",
        "</div>"
      ]
    },
    {
      "cell_type": "code",
      "execution_count": 15,
      "id": "8c98a3db",
      "metadata": {
        "id": "8c98a3db"
      },
      "outputs": [],
      "source": [
        "# TO DO\n",
        "threshold = 0.5\n",
        "\n",
        "df = df.loc[:, df.isnull().mean() < threshold]"
      ]
    },
    {
      "cell_type": "code",
      "execution_count": 16,
      "id": "d7a93dd1",
      "metadata": {
        "colab": {
          "base_uri": "https://localhost:8080/",
          "height": 680
        },
        "id": "d7a93dd1",
        "outputId": "e708ef62-c530-4a5f-d3e1-33c3774c61e6"
      },
      "outputs": [
        {
          "data": {
            "text/plain": [
              "ID                                                     0.000000\n",
              "Applicant ID                                           0.000000\n",
              "Full Name                                              2.070661\n",
              "Source                                                 0.000000\n",
              "Order                                                  0.000000\n",
              "Developer State                                        0.000000\n",
              "Seen                                                   0.000000\n",
              "Job ID                                                 0.000000\n",
              "Careers Job - Job → Title                              0.000000\n",
              "Careers Job - Job → Description                        0.000000\n",
              "Careers Job - Job → Requirements                       0.304128\n",
              "Careers Job - Job → Level                              0.000000\n",
              "Careers Job - Job → Offers Remote                      0.000000\n",
              "Careers Job - Job → Minimum Salary                     0.000000\n",
              "Careers Job - Job → State                              0.000000\n",
              "Careers Job - Job → Maximum Salary                     0.000000\n",
              "Careers Job - Job → Hit Count                          0.000000\n",
              "Accounts City - City → Name                            0.000000\n",
              "Careers Disqualifyreason - Disqualify Reason → Name    0.000000\n",
              "dtype: float64"
            ]
          },
          "execution_count": 16,
          "metadata": {},
          "output_type": "execute_result"
        }
      ],
      "source": [
        "df.isnull().sum() / len(df) * 100"
      ]
    },
    {
      "cell_type": "markdown",
      "id": "57cca7fc",
      "metadata": {
        "id": "57cca7fc"
      },
      "source": [
        "<div dir=\"rtl\">\n",
        "<dir align=\"rtl\">\n",
        "<h1 dir=rtl style=\"direction: rtl;text-align: justify;line-height:200%;font-family:vazir;font-size:medium\">\n",
        "<font face=\"vazir\" color=\"#0099cc\" size=5>\n",
        "گام سوم: نرمال‌سازی ستون تعداد بازدیدها\n",
        "</font>\n",
        "</h1>\n",
        "<p dir=rtl style=\"direction: rtl;text-align: justify;line-height:200%;font-family:vazir;font-size:medium\">\n",
        "<font face=\"vazir\" size=3>\n",
        "در این مرحله باید ستون <code>Careers Job - Job → Hit Count</code> که نشان‌دهنده تعداد بازدیدهای یک آگهی شغلی است، به مقادیر نرمال‌شده بین 0 و 1 تبدیل شود. این کار برای استانداردسازی داده‌ها و استفاده از آن‌ها در محاسبات سیستم پیشنهاددهنده، به‌ویژه در حالت Cold Start که از محبوبیت شغل‌ها استفاده می‌شود، ضروری است. نرمال‌سازی باعث می‌شود مقادیر با مقیاس‌های مختلف قابل مقایسه شوند و تأثیر یکسانی در الگوریتم داشته باشند.\n",
        "<br><br>\n",
        "برای پیاده‌سازی این گام، مراحل زیر را به ترتیب انجام دهید:\n",
        "<br>\n",
        "<b>1. ایجاد شیء نرمال‌ساز:</b> یک نمونه از <code>MinMaxScaler</code> از کتابخانه <code>sklearn.preprocessing</code> ایجاد کنید.<br>\n",
        "<b>2. نرمال‌سازی ستون:</b> ستون <code>Careers Job - Job → Hit Count</code> را به مقادیر نرمال‌شده تبدیل کنید و نتیجه را در ستون جدیدی به نام <code>Hit Count Norm</code> ذخیره کنید.\n",
        "</font>\n",
        "</p>\n",
        "</dir>\n",
        "</div>"
      ]
    },
    {
      "cell_type": "code",
      "execution_count": 17,
      "id": "bd9bbcef",
      "metadata": {
        "id": "bd9bbcef"
      },
      "outputs": [],
      "source": [
        "# TO DO\n",
        "scaler = MinMaxScaler()\n",
        "df['Hit Count Norm'] = scaler.fit_transform(df[['Careers Job - Job → Hit Count']])"
      ]
    },
    {
      "cell_type": "markdown",
      "id": "b6f38e32",
      "metadata": {
        "id": "b6f38e32"
      },
      "source": [
        "<p dir=rtl style=\"direction: rtl;text-align: justify;line-height:200%;font-family:vazir;font-size:medium\">\n",
        "<font face=\"vazir\" size=3>\n",
        "با اجرای سلول زیر می‌توانید تعداد کاربران یکتا و همچنین تعداد شغل‌های یکتای موجود در مجموعه داده را مشاهده کنید.\n",
        "</font>\n",
        "</p>"
      ]
    },
    {
      "cell_type": "code",
      "execution_count": 18,
      "id": "7865bedc",
      "metadata": {
        "colab": {
          "base_uri": "https://localhost:8080/"
        },
        "id": "7865bedc",
        "outputId": "2bb99ccb-519b-4d0e-ba5f-a811967d210b"
      },
      "outputs": [
        {
          "name": "stdout",
          "output_type": "stream",
          "text": [
            "تعداد کاربران یکتا: 5702\n",
            "تعداد شغل‌های یکتا: 1783\n"
          ]
        }
      ],
      "source": [
        "print(f\"تعداد کاربران یکتا: {df['Applicant ID'].nunique()}\")\n",
        "print(f\"تعداد شغل‌های یکتا: {df['Job ID'].nunique()}\")"
      ]
    },
    {
      "cell_type": "markdown",
      "id": "4f8f6a24",
      "metadata": {
        "id": "4f8f6a24"
      },
      "source": [
        "<div dir=\"rtl\">\n",
        "<dir align=\"rtl\">\n",
        "<h1 dir=rtl style=\"direction: rtl;text-align: justify;line-height:200%;font-family:vazir;font-size:medium\">\n",
        "<font face=\"vazir\" color=\"#0099cc\" size=5>\n",
        "گام چهارم: نرمال‌سازی عناوین شغلی\n",
        "</font>\n",
        "</h1>\n",
        "<p dir=rtl style=\"direction: rtl;text-align: justify;line-height:200%;font-family:vazir;font-size:medium\">\n",
        "<font face=\"vazir\" size=3>\n",
        "در این مرحله باید عناوین شغلی موجود در ستون <code>Careers Job - Job → Title</code> را نرمال‌سازی کنیم تا برای تحلیل محتوا-محور آماده شوند. این کار شامل حذف علائم نگارشی، اعداد، و تبدیل متن به فرمت یکسان (حروف کوچک برای انگلیسی و حذف اعراب برای فارسی) است. نرمال‌سازی عناوین شغلی برای کاهش نویز در داده‌های متنی و افزایش دقت در محاسبات شباهت بین عناوین، مانند استفاده در الگوریتم‌های TF-IDF، ضروری است.\n",
        "<br><br>\n",
        "برای پیاده‌سازی این گام، مراحل زیر را به ترتیب انجام دهید:\n",
        "<br>\n",
        "<b>1. ایجاد شیء نرمال‌ساز:</b> یک نمونه از <code>Normalizer</code> از کتابخانه <code>hazm</code> ایجاد کنید تا برای نرمال‌سازی متن فارسی استفاده شود.<br>\n",
        "<b>2. تعریف تابع نرمال‌سازی:</b> تابعی به نام <code>normalize_title</code> تعریف کنید که یک عنوان و یک شیء نرمال‌ساز (<code>normalizer</code>) را به‌عنوان ورودی دریافت کند.<br>\n",
        "<b>3. مدیریت مقادیر گمشده:</b> اگر عنوان گمشده (<code>NaN</code>) باشد، یک رشته خالی برگردانید.<br>\n",
        "<b>4. نرمال‌سازی متن فارسی:</b> با استفاده از شیء <code>normalizer</code>، متن فارسی را نرمال کنید (مثلاً حذف اعراب).<br>\n",
        "<b>5. حذف علائم و اعداد:</b> با استفاده از عبارت منظم، اعداد (فارسی و انگلیسی) و علائم نگارشی را از عنوان حذف کنید.<br>\n",
        "<b>6. تبدیل به حروف کوچک:</b> متن انگلیسی را به حروف کوچک تبدیل کنید تا یکنواختی ایجاد شود.<br>\n",
        "<b>7. بازگشت نتیجه:</b> عنوان نرمال‌شده را به‌عنوان خروجی تابع برگردانید.\n",
        "</font>\n",
        "</p>\n",
        "</dir>\n",
        "</div>"
      ]
    },
    {
      "cell_type": "code",
      "execution_count": 19,
      "id": "42OndqBTozzc",
      "metadata": {
        "colab": {
          "base_uri": "https://localhost:8080/",
          "height": 211
        },
        "id": "42OndqBTozzc",
        "outputId": "a447695f-5252-4b7a-da14-ab77e1b8d431"
      },
      "outputs": [],
      "source": [
        "# Normalizer with only valid arguments\n",
        "normalizer = Normalizer(\n",
        "    persian_numbers=False,\n",
        "    persian_style=True,\n",
        "    remove_diacritics=True\n",
        ")"
      ]
    },
    {
      "cell_type": "code",
      "execution_count": 20,
      "id": "bvDycvVLqOk9",
      "metadata": {
        "id": "bvDycvVLqOk9"
      },
      "outputs": [],
      "source": [
        "# Load Persian stopwords (optional: can be disabled if not needed)\n",
        "stopwords = set(stopwords_list())"
      ]
    },
    {
      "cell_type": "code",
      "execution_count": 21,
      "id": "8087fa74",
      "metadata": {
        "id": "8087fa74"
      },
      "outputs": [],
      "source": [
        "def normalize_title(title, normalizer):\n",
        "    if pd.isna(title):\n",
        "        return ''\n",
        "\n",
        "    title = str(title)\n",
        "\n",
        "    # Normalize\n",
        "    normalized = normalizer.normalize(title)\n",
        "\n",
        "    # 🔑 Replace ZWNJ with real space → fixes \"توسعهدهنده\" → \"توسعه دهنده\"\n",
        "    normalized = normalized.replace('\\u200c', ' ')\n",
        "\n",
        "    # Tokenize\n",
        "    tokens = word_tokenize(normalized)\n",
        "\n",
        "    # Remove punctuation & digits\n",
        "    tokens = [re.sub(r'[^\\w\\s]', '', t) for t in tokens]\n",
        "    tokens = [re.sub(r'\\d+', '', t) for t in tokens]\n",
        "\n",
        "    # Remove empties & stopwords\n",
        "    tokens = [t for t in tokens if t and t not in stopwords]\n",
        "\n",
        "    clean_title = ' '.join(tokens)\n",
        "\n",
        "    return clean_title.strip().lower()"
      ]
    },
    {
      "cell_type": "markdown",
      "id": "c8268e2d",
      "metadata": {
        "id": "c8268e2d"
      },
      "source": [
        "<div dir=\"rtl\">\n",
        "<dir align=\"rtl\">\n",
        "<h1 dir=rtl style=\"direction: rtl;text-align: justify;line-height:200%;font-family:vazir;font-size:medium\">\n",
        "<font face=\"vazir\" color=\"#0099cc\" size=5>\n",
        "گام پنجم: استخراج ویژگی‌های تکنولوژی و حوزه شغلی از عناوین\n",
        "</font>\n",
        "</h1>\n",
        "<p dir=rtl style=\"direction: rtl;text-align: justify;line-height:200%;font-family:vazir;font-size:medium\">\n",
        "<font face=\"vazir\" size=3>\n",
        "در این مرحله باید از ستون <code>Careers Job - Job → Title</code> ویژگی‌های کلیدی مانند تکنولوژی‌ها (مثل Python، React) و حوزه‌های شغلی (مثل Front-end، Back-end) را استخراج کنیم. این کار با استفاده از لیستی از نام‌ها و مترادف‌های آن‌ها و تطبیق تقریبی انجام می‌شود. استخراج این ویژگی‌ها برای بهبود تحلیل محتوا-محور و دسته‌بندی دقیق‌تر آگهی‌های شغلی ضروری است، زیرا اطلاعات ساختاریافته‌ای تولید می‌کند که در محاسبات شباهت و فیلترگذاری استفاده می‌شود.\n",
        "<br><br>\n",
        "برای پیاده‌سازی این گام، مراحل زیر را به ترتیب انجام دهید:\n",
        "<br>\n",
        "<b>1. تعریف دیکشنری تکنولوژی‌ها:</b> یک دیکشنری به نام <code>technologies</code> ایجاد کنید که کلیدهای آن نام تکنولوژی‌ها (مثل 'python') و مقادیر آن لیست مترادف‌ها (مثل ['پایتون', 'python', 'py']) باشد.<br>\n",
        "<b>2. تعریف دیکشنری حوزه‌های شغلی:</b> یک دیکشنری به نام <code>job_domains</code> ایجاد کنید که کلیدهای آن نام حوزه‌های شغلی (مثل 'frontend') و مقادیر آن لیست مترادف‌ها (مثل ['فرانت‌اند', 'frontend', 'front-end']) باشد.<br>\n",
        "<b>3. تعریف تابع استخراج:</b> تابعی به نام <code>extract_features_from_title</code> تعریف کنید که یک عنوان را به‌عنوان ورودی دریافت کند.<br>\n",
        "<b>4. مدیریت مقادیر گمشده:</b> اگر عنوان گمشده (<code>NaN</code>) باشد، دو رشته خالی برای تکنولوژی‌ها و حوزه‌های شغلی برگردانید.<br>\n",
        "<b>5. تبدیل به حروف کوچک:</b> عنوان را به حروف کوچک تبدیل کنید تا تطبیق یکنواخت شود.<br>\n",
        "<b>6. استخراج تکنولوژی‌ها:</b> برای هر تکنولوژی در دیکشنری، بررسی کنید که آیا یکی از مترادف‌های آن در عنوان وجود دارد یا شباهت تقریبی (با استفاده از <code>fuzz.partial_ratio</code> بیشتر از 80) دارد؛ در صورت تطبیق، نام تکنولوژی را به لیست اضافه کنید.<br>\n",
        "<b>7. استخراج حوزه‌های شغلی:</b> مشابه مرحله قبل، برای هر حوزه شغلی در دیکشنری، بررسی کنید که آیا یکی از مترادف‌های آن در عنوان وجود دارد یا شباهت تقریبی دارد؛ در صورت تطبیق، نام حوزه را به لیست اضافه کنید.<br>\n",
        "<b>8. بازگشت نتیجه:</b> لیست تکنولوژی‌ها و حوزه‌های شغلی را به‌صورت رشته‌های جدا شده با کاما برگردانید، با حذف موارد تکراری.\n",
        "</font>\n",
        "</p>\n",
        "</dir>\n",
        "</div>"
      ]
    },
    {
      "cell_type": "code",
      "execution_count": 22,
      "id": "5c4a888e",
      "metadata": {
        "id": "5c4a888e"
      },
      "outputs": [],
      "source": [
        "technologies = {\n",
        "    'python': ['پایتون', 'python', 'py'],\n",
        "    'javascript': ['جاوااسکریپت', 'javascript', 'js'],\n",
        "    'react': ['ری‌اکت', 'react'],\n",
        "    'django': ['جنگو', 'django'],\n",
        "    'java': ['جاوا', 'java'],\n",
        "    'sql': ['اس‌کیوال', 'sql'],\n",
        "    'node': ['نود', 'node', 'nodejs'],\n",
        "    'angular': ['انگولار', 'angular'],\n",
        "    'typescript': ['تایپ‌اسکریپت', 'typescript', 'ts'],\n",
        "}\n",
        "\n",
        "job_domains = {\n",
        "    'frontend': ['فرانت‌اند', 'frontend', 'front-end'],\n",
        "    'backend': ['بک‌اند', 'backend', 'back-end'],\n",
        "    'data_science': ['دیتا ساینس', 'data science', 'داده‌کاوی'],\n",
        "    'blockchain': ['بلاک‌چین', 'blockchain'],\n",
        "    'ai': ['هوش مصنوعی', 'ai', 'artificial intelligence'],\n",
        "    'devops': ['دواپس', 'devops'],\n",
        "    'fullstack': ['فول‌استک', 'fullstack', 'full-stack'],\n",
        "}\n",
        "\n",
        "def extract_features_from_title(title):\n",
        "    if pd.isna(title):\n",
        "        return '', ''\n",
        "\n",
        "    title = title.lower()\n",
        "    tech_found = []\n",
        "    domain_found = []\n",
        "\n",
        "    # استخراج تکنولوژی‌ها\n",
        "    for tech, aliases in technologies.items():\n",
        "        for alias in aliases:\n",
        "            if alias in title or fuzz.partial_ratio(title, alias) > 80:\n",
        "                tech_found.append(tech)\n",
        "                break # جلوگیری از تکرار\n",
        "\n",
        "    # استخراج حوزه‌های شغلی\n",
        "    for domain, aliases in job_domains.items():\n",
        "        for alias in aliases:\n",
        "            if alias in title or fuzz.partial_ratio(title, alias) > 80:\n",
        "                domain_found.append(domain)\n",
        "                break # جلوگیری از تکرار\n",
        "\n",
        "    return ', '.join(set(tech_found)), ', '.join(set(domain_found))"
      ]
    },
    {
      "cell_type": "markdown",
      "id": "38af0474",
      "metadata": {
        "id": "38af0474"
      },
      "source": [
        "<div dir=\"rtl\">\n",
        "<dir align=\"rtl\">\n",
        "<h1 dir=rtl style=\"direction: rtl;text-align: justify;line-height:200%;font-family:vazir;font-size:medium\">\n",
        "<font face=\"vazir\" color=\"#0099cc\" size=5>\n",
        "گام ششم: اعمال نرمال‌سازی بر ستون عناوین شغلی\n",
        "</font>\n",
        "</h1>\n",
        "<p dir=rtl style=\"direction: rtl;text-align: justify;line-height:200%;font-family:vazir;font-size:medium\">\n",
        "<font face=\"vazir\" size=3>\n",
        "در این مرحله باید ستون <code>Careers Job - Job → Title</code> را با استفاده از تابع نرمال‌سازی که قبلاً تعریف شده است، پردازش کنیم تا عناوین شغلی به فرمت یکنواخت تبدیل شوند. این کار برای اطمینان از یکپارچگی داده‌های متنی و آماده‌سازی آن‌ها برای تحلیل‌های بعدی، مانند استخراج ویژگی‌ها یا محاسبات شباهت در الگوریتم‌های محتوا-محور، ضروری است. نرمال‌سازی باعث کاهش نویز و بهبود دقت در پردازش متن می‌شود.\n",
        "<br><br>\n",
        "برای پیاده‌سازی این گام، مراحل زیر را به ترتیب انجام دهید:\n",
        "<br>\n",
        "<b>۱. اعمال تابع نرمال‌سازی:</b> تابع <code>normalize_title</code> را روی ستون <code>Careers Job - Job → Title</code> اعمال کنید و نتایج را در ستون جدیدی به نام <code>normalized_title</code> ذخیره کنید.\n",
        "</font>\n",
        "</p>\n",
        "</dir>\n",
        "</div>"
      ]
    },
    {
      "cell_type": "code",
      "execution_count": 23,
      "id": "aad8314e",
      "metadata": {
        "id": "aad8314e"
      },
      "outputs": [],
      "source": [
        "df['normalized_title'] = df['Careers Job - Job → Title'].apply(lambda x: normalize_title(x, normalizer))"
      ]
    },
    {
      "cell_type": "markdown",
      "id": "c532c48a",
      "metadata": {
        "id": "c532c48a"
      },
      "source": [
        "<div dir=\"rtl\">\n",
        "<dir align=\"rtl\">\n",
        "<h1 dir=rtl style=\"direction: rtl;text-align: justify;line-height:200%;font-family:vazir;font-size:medium\">\n",
        "<font face=\"vazir\" color=\"#0099cc\" size=5>\n",
        "گام هفتم: افزودن ستون‌های تکنولوژی و حوزه شغلی\n",
        "</font>\n",
        "</h1>\n",
        "<p dir=rtl style=\"direction: rtl;text-align: justify;line-height:200%;font-family:vazir;font-size:medium\">\n",
        "<font face=\"vazir\" size=3>\n",
        "در این مرحله باید ویژگی‌های استخراج‌شده (تکنولوژی‌ها و حوزه‌های شغلی) از عناوین شغلی را به دیتافریم اضافه کنیم. این کار با استفاده از تابع <code>extract_features_from_title</code> که قبلاً تعریف شده است، انجام می‌شود. افزودن این ستون‌ها برای ساختارمند کردن اطلاعات متنی و بهبود تحلیل محتوا-محور در سیستم پیشنهاددهنده ضروری است، زیرا این ویژگی‌ها به الگوریتم کمک می‌کنند تا شباهت‌های دقیق‌تری بین آگهی‌های شغلی محاسبه کند.\n",
        "<br><br>\n",
        "برای پیاده‌سازی این گام، مراحل زیر را به ترتیب انجام دهید:\n",
        "<br>\n",
        "<b>1. اعمال تابع استخراج:</b> تابع <code>extract_features_from_title</code> را روی ستون <code>Careers Job - Job → Title</code> اعمال کنید تا تکنولوژی‌ها و حوزه‌های شغلی برای هر عنوان استخراج شوند.<br>\n",
        "<b>2. ذخیره نتایج:</b> خروجی تابع (دو رشته برای تکنولوژی‌ها و حوزه‌های شغلی) را به‌صورت دو ستون جدید به نام‌های <code>technologies</code> و <code>job_domain</code> به دیتافریم اضافه کنید.\n",
        "</font>\n",
        "</p>\n",
        "</dir>\n",
        "</div>"
      ]
    },
    {
      "cell_type": "code",
      "execution_count": 24,
      "id": "0d143019",
      "metadata": {
        "id": "0d143019"
      },
      "outputs": [],
      "source": [
        "df[['technologies', 'job_domain']] = df['normalized_title'].apply(lambda x: pd.Series(extract_features_from_title(x)))"
      ]
    },
    {
      "cell_type": "code",
      "execution_count": 25,
      "id": "02bb4340",
      "metadata": {
        "colab": {
          "base_uri": "https://localhost:8080/",
          "height": 363
        },
        "id": "02bb4340",
        "outputId": "f3828c89-26a9-44a6-998d-f50cc3157fb1"
      },
      "outputs": [
        {
          "data": {
            "text/html": [
              "<div>\n",
              "<style scoped>\n",
              "    .dataframe tbody tr th:only-of-type {\n",
              "        vertical-align: middle;\n",
              "    }\n",
              "\n",
              "    .dataframe tbody tr th {\n",
              "        vertical-align: top;\n",
              "    }\n",
              "\n",
              "    .dataframe thead th {\n",
              "        text-align: right;\n",
              "    }\n",
              "</style>\n",
              "<table border=\"1\" class=\"dataframe\">\n",
              "  <thead>\n",
              "    <tr style=\"text-align: right;\">\n",
              "      <th></th>\n",
              "      <th>technologies</th>\n",
              "      <th>job_domain</th>\n",
              "    </tr>\n",
              "  </thead>\n",
              "  <tbody>\n",
              "    <tr>\n",
              "      <th>12242</th>\n",
              "      <td></td>\n",
              "      <td>frontend</td>\n",
              "    </tr>\n",
              "    <tr>\n",
              "      <th>5772</th>\n",
              "      <td></td>\n",
              "      <td></td>\n",
              "    </tr>\n",
              "    <tr>\n",
              "      <th>5313</th>\n",
              "      <td></td>\n",
              "      <td></td>\n",
              "    </tr>\n",
              "    <tr>\n",
              "      <th>15318</th>\n",
              "      <td></td>\n",
              "      <td>backend</td>\n",
              "    </tr>\n",
              "    <tr>\n",
              "      <th>12691</th>\n",
              "      <td></td>\n",
              "      <td>frontend</td>\n",
              "    </tr>\n",
              "    <tr>\n",
              "      <th>11697</th>\n",
              "      <td>python</td>\n",
              "      <td>backend</td>\n",
              "    </tr>\n",
              "    <tr>\n",
              "      <th>7701</th>\n",
              "      <td></td>\n",
              "      <td></td>\n",
              "    </tr>\n",
              "    <tr>\n",
              "      <th>13567</th>\n",
              "      <td>react</td>\n",
              "      <td>frontend</td>\n",
              "    </tr>\n",
              "    <tr>\n",
              "      <th>8685</th>\n",
              "      <td>python</td>\n",
              "      <td>backend</td>\n",
              "    </tr>\n",
              "    <tr>\n",
              "      <th>12394</th>\n",
              "      <td></td>\n",
              "      <td></td>\n",
              "    </tr>\n",
              "  </tbody>\n",
              "</table>\n",
              "</div>"
            ],
            "text/plain": [
              "      technologies job_domain\n",
              "12242                frontend\n",
              "5772                         \n",
              "5313                         \n",
              "15318                 backend\n",
              "12691                frontend\n",
              "11697       python    backend\n",
              "7701                         \n",
              "13567        react   frontend\n",
              "8685        python    backend\n",
              "12394                        "
            ]
          },
          "execution_count": 25,
          "metadata": {},
          "output_type": "execute_result"
        }
      ],
      "source": [
        "df[['technologies', 'job_domain']].sample(10)"
      ]
    },
    {
      "cell_type": "code",
      "execution_count": 26,
      "id": "8GUFcQPGxETm",
      "metadata": {
        "colab": {
          "base_uri": "https://localhost:8080/",
          "height": 147
        },
        "id": "8GUFcQPGxETm",
        "outputId": "880299b4-2694-452d-9e1a-e7e58fa11751"
      },
      "outputs": [
        {
          "data": {
            "text/plain": [
              "technologies    0\n",
              "job_domain      0\n",
              "dtype: int64"
            ]
          },
          "execution_count": 26,
          "metadata": {},
          "output_type": "execute_result"
        }
      ],
      "source": [
        "df[['technologies', 'job_domain']].isnull().sum()"
      ]
    },
    {
      "cell_type": "code",
      "execution_count": 27,
      "id": "g569tFJ3xR7G",
      "metadata": {
        "colab": {
          "base_uri": "https://localhost:8080/",
          "height": 1000
        },
        "id": "g569tFJ3xR7G",
        "outputId": "5af6353f-2e4d-4744-fd3a-ea7dd11f1cb0"
      },
      "outputs": [
        {
          "data": {
            "text/html": [
              "<div>\n",
              "<style scoped>\n",
              "    .dataframe tbody tr th:only-of-type {\n",
              "        vertical-align: middle;\n",
              "    }\n",
              "\n",
              "    .dataframe tbody tr th {\n",
              "        vertical-align: top;\n",
              "    }\n",
              "\n",
              "    .dataframe thead th {\n",
              "        text-align: right;\n",
              "    }\n",
              "</style>\n",
              "<table border=\"1\" class=\"dataframe\">\n",
              "  <thead>\n",
              "    <tr style=\"text-align: right;\">\n",
              "      <th></th>\n",
              "      <th>Careers Job - Job → Title</th>\n",
              "    </tr>\n",
              "  </thead>\n",
              "  <tbody>\n",
              "    <tr>\n",
              "      <th>1426</th>\n",
              "      <td>توسعه‌دهنده بک‌اند-کارآموز</td>\n",
              "    </tr>\n",
              "    <tr>\n",
              "      <th>1765</th>\n",
              "      <td>توسعه‌دهنده بک‌اند-کارآموز</td>\n",
              "    </tr>\n",
              "    <tr>\n",
              "      <th>1941</th>\n",
              "      <td>توسعه‌دهنده بک‌اند-کارآموز</td>\n",
              "    </tr>\n",
              "    <tr>\n",
              "      <th>1963</th>\n",
              "      <td>توسعه‌دهنده بک‌اند-کارآموز</td>\n",
              "    </tr>\n",
              "    <tr>\n",
              "      <th>1965</th>\n",
              "      <td>توسعه‌دهنده بک‌اند-کارآموز</td>\n",
              "    </tr>\n",
              "    <tr>\n",
              "      <th>2521</th>\n",
              "      <td>برنامه‌نویس بک‌اند(Net.)</td>\n",
              "    </tr>\n",
              "    <tr>\n",
              "      <th>2634</th>\n",
              "      <td>توسعه‌دهنده بک‌اند (Laravel)</td>\n",
              "    </tr>\n",
              "    <tr>\n",
              "      <th>2914</th>\n",
              "      <td>توسعه‌دهنده بک‌اند (Golang)</td>\n",
              "    </tr>\n",
              "    <tr>\n",
              "      <th>2921</th>\n",
              "      <td>توسعه‌دهنده بک‌اند (Laravel)</td>\n",
              "    </tr>\n",
              "    <tr>\n",
              "      <th>2998</th>\n",
              "      <td>توسعه‌دهنده بک‌اند (Laravel)</td>\n",
              "    </tr>\n",
              "    <tr>\n",
              "      <th>3039</th>\n",
              "      <td>توسعه‌دهنده بک‌اند (Laravel)</td>\n",
              "    </tr>\n",
              "    <tr>\n",
              "      <th>3143</th>\n",
              "      <td>توسعه‌دهنده بک‌اند (Laravel)</td>\n",
              "    </tr>\n",
              "    <tr>\n",
              "      <th>3320</th>\n",
              "      <td>توسعه‌دهنده بک‌اند (Laravel)</td>\n",
              "    </tr>\n",
              "    <tr>\n",
              "      <th>3322</th>\n",
              "      <td>توسعه‌دهنده بک‌اند (Laravel)</td>\n",
              "    </tr>\n",
              "    <tr>\n",
              "      <th>4325</th>\n",
              "      <td>توسعه‌دهنده بک‌اند (Laravel)</td>\n",
              "    </tr>\n",
              "    <tr>\n",
              "      <th>4366</th>\n",
              "      <td>توسعه‌دهنده بک‌اند (Laravel)</td>\n",
              "    </tr>\n",
              "    <tr>\n",
              "      <th>4374</th>\n",
              "      <td>توسعه‌دهنده بک‌اند (Laravel)</td>\n",
              "    </tr>\n",
              "    <tr>\n",
              "      <th>4868</th>\n",
              "      <td>توسعه‌دهنده ارشد بک‌اند</td>\n",
              "    </tr>\n",
              "    <tr>\n",
              "      <th>4920</th>\n",
              "      <td>توسعه‌دهنده بک‌اند (Laravel)</td>\n",
              "    </tr>\n",
              "    <tr>\n",
              "      <th>4921</th>\n",
              "      <td>توسعه‌دهنده بک‌اند (Laravel)</td>\n",
              "    </tr>\n",
              "    <tr>\n",
              "      <th>5405</th>\n",
              "      <td>توسعه‌دهنده بک‌اند (Laravel)</td>\n",
              "    </tr>\n",
              "    <tr>\n",
              "      <th>5408</th>\n",
              "      <td>توسعه‌دهنده بک‌اند (Laravel)</td>\n",
              "    </tr>\n",
              "    <tr>\n",
              "      <th>5414</th>\n",
              "      <td>توسعه‌دهنده بک‌اند (Laravel)</td>\n",
              "    </tr>\n",
              "    <tr>\n",
              "      <th>5496</th>\n",
              "      <td>توسعه‌دهنده بک‌اند (Laravel)</td>\n",
              "    </tr>\n",
              "    <tr>\n",
              "      <th>5558</th>\n",
              "      <td>توسعه‌دهنده بک‌اند (Laravel)</td>\n",
              "    </tr>\n",
              "    <tr>\n",
              "      <th>5559</th>\n",
              "      <td>توسعه‌دهنده بک‌اند (Laravel)</td>\n",
              "    </tr>\n",
              "    <tr>\n",
              "      <th>5756</th>\n",
              "      <td>توسعه‌دهنده بک‌اند (Laravel)</td>\n",
              "    </tr>\n",
              "    <tr>\n",
              "      <th>5759</th>\n",
              "      <td>توسعه‌دهنده بک‌اند (Laravel)</td>\n",
              "    </tr>\n",
              "    <tr>\n",
              "      <th>5760</th>\n",
              "      <td>توسعه‌دهنده بک‌اند (Laravel)</td>\n",
              "    </tr>\n",
              "    <tr>\n",
              "      <th>5777</th>\n",
              "      <td>توسعه‌دهنده بک‌اند (Laravel)</td>\n",
              "    </tr>\n",
              "    <tr>\n",
              "      <th>5798</th>\n",
              "      <td>توسعه‌دهنده بک‌اند (Laravel)</td>\n",
              "    </tr>\n",
              "    <tr>\n",
              "      <th>5830</th>\n",
              "      <td>توسعه‌دهنده بک‌اند (Laravel)</td>\n",
              "    </tr>\n",
              "    <tr>\n",
              "      <th>5857</th>\n",
              "      <td>توسعه‌دهنده بک‌اند (Laravel)</td>\n",
              "    </tr>\n",
              "    <tr>\n",
              "      <th>5881</th>\n",
              "      <td>توسعه‌دهنده بک‌اند (Laravel)</td>\n",
              "    </tr>\n",
              "    <tr>\n",
              "      <th>5934</th>\n",
              "      <td>توسعه‌دهنده بک‌اند (Laravel)</td>\n",
              "    </tr>\n",
              "    <tr>\n",
              "      <th>5988</th>\n",
              "      <td>توسعه‌دهنده بک‌اند (Laravel)</td>\n",
              "    </tr>\n",
              "    <tr>\n",
              "      <th>5991</th>\n",
              "      <td>توسعه‌دهنده بک‌اند (Laravel)</td>\n",
              "    </tr>\n",
              "    <tr>\n",
              "      <th>6215</th>\n",
              "      <td>برنامه‌نویس ارشد بک‌اند</td>\n",
              "    </tr>\n",
              "    <tr>\n",
              "      <th>7270</th>\n",
              "      <td>برنامه‌نویس ارشد بک‌اند</td>\n",
              "    </tr>\n",
              "    <tr>\n",
              "      <th>7620</th>\n",
              "      <td>برنامه‌نویس ارشد بک‌اند</td>\n",
              "    </tr>\n",
              "    <tr>\n",
              "      <th>9340</th>\n",
              "      <td>برنامه‌نویس ارشد بک‌اند</td>\n",
              "    </tr>\n",
              "    <tr>\n",
              "      <th>9593</th>\n",
              "      <td>توسعه‌دهنده بک‌اند Python/Django</td>\n",
              "    </tr>\n",
              "    <tr>\n",
              "      <th>9663</th>\n",
              "      <td>برنامه‌نویس ارشد بک‌اند</td>\n",
              "    </tr>\n",
              "    <tr>\n",
              "      <th>9666</th>\n",
              "      <td>برنامه‌نویس ارشد بک‌اند</td>\n",
              "    </tr>\n",
              "    <tr>\n",
              "      <th>12604</th>\n",
              "      <td>توسعه‌دهنده بک‌اند Python/Django</td>\n",
              "    </tr>\n",
              "    <tr>\n",
              "      <th>12610</th>\n",
              "      <td>توسعه‌دهنده ارشد بک‌اند</td>\n",
              "    </tr>\n",
              "    <tr>\n",
              "      <th>12639</th>\n",
              "      <td>برنامه‌نویس ارشد بک‌اند</td>\n",
              "    </tr>\n",
              "    <tr>\n",
              "      <th>13692</th>\n",
              "      <td>توسعه‌دهنده بک‌اند (Laravel)</td>\n",
              "    </tr>\n",
              "    <tr>\n",
              "      <th>13735</th>\n",
              "      <td>توسعه‌دهنده بک‌اند (Laravel)</td>\n",
              "    </tr>\n",
              "    <tr>\n",
              "      <th>13762</th>\n",
              "      <td>توسعه‌دهنده بک‌اند (Laravel)</td>\n",
              "    </tr>\n",
              "    <tr>\n",
              "      <th>13796</th>\n",
              "      <td>توسعه‌دهنده بک‌اند (Laravel)</td>\n",
              "    </tr>\n",
              "    <tr>\n",
              "      <th>13803</th>\n",
              "      <td>توسعه‌دهنده بک‌اند (Laravel)</td>\n",
              "    </tr>\n",
              "    <tr>\n",
              "      <th>13804</th>\n",
              "      <td>توسعه‌دهنده بک‌اند (Laravel)</td>\n",
              "    </tr>\n",
              "    <tr>\n",
              "      <th>13807</th>\n",
              "      <td>توسعه‌دهنده بک‌اند (Laravel)</td>\n",
              "    </tr>\n",
              "  </tbody>\n",
              "</table>\n",
              "</div>"
            ],
            "text/plain": [
              "              Careers Job - Job → Title\n",
              "1426         توسعه‌دهنده بک‌اند-کارآموز\n",
              "1765         توسعه‌دهنده بک‌اند-کارآموز\n",
              "1941         توسعه‌دهنده بک‌اند-کارآموز\n",
              "1963         توسعه‌دهنده بک‌اند-کارآموز\n",
              "1965         توسعه‌دهنده بک‌اند-کارآموز\n",
              "2521           برنامه‌نویس بک‌اند(Net.)\n",
              "2634       توسعه‌دهنده بک‌اند (Laravel)\n",
              "2914        توسعه‌دهنده بک‌اند (Golang)\n",
              "2921       توسعه‌دهنده بک‌اند (Laravel)\n",
              "2998       توسعه‌دهنده بک‌اند (Laravel)\n",
              "3039       توسعه‌دهنده بک‌اند (Laravel)\n",
              "3143       توسعه‌دهنده بک‌اند (Laravel)\n",
              "3320       توسعه‌دهنده بک‌اند (Laravel)\n",
              "3322       توسعه‌دهنده بک‌اند (Laravel)\n",
              "4325       توسعه‌دهنده بک‌اند (Laravel)\n",
              "4366       توسعه‌دهنده بک‌اند (Laravel)\n",
              "4374       توسعه‌دهنده بک‌اند (Laravel)\n",
              "4868            توسعه‌دهنده ارشد بک‌اند\n",
              "4920       توسعه‌دهنده بک‌اند (Laravel)\n",
              "4921       توسعه‌دهنده بک‌اند (Laravel)\n",
              "5405       توسعه‌دهنده بک‌اند (Laravel)\n",
              "5408       توسعه‌دهنده بک‌اند (Laravel)\n",
              "5414       توسعه‌دهنده بک‌اند (Laravel)\n",
              "5496       توسعه‌دهنده بک‌اند (Laravel)\n",
              "5558       توسعه‌دهنده بک‌اند (Laravel)\n",
              "5559       توسعه‌دهنده بک‌اند (Laravel)\n",
              "5756       توسعه‌دهنده بک‌اند (Laravel)\n",
              "5759       توسعه‌دهنده بک‌اند (Laravel)\n",
              "5760       توسعه‌دهنده بک‌اند (Laravel)\n",
              "5777       توسعه‌دهنده بک‌اند (Laravel)\n",
              "5798       توسعه‌دهنده بک‌اند (Laravel)\n",
              "5830       توسعه‌دهنده بک‌اند (Laravel)\n",
              "5857       توسعه‌دهنده بک‌اند (Laravel)\n",
              "5881       توسعه‌دهنده بک‌اند (Laravel)\n",
              "5934       توسعه‌دهنده بک‌اند (Laravel)\n",
              "5988       توسعه‌دهنده بک‌اند (Laravel)\n",
              "5991       توسعه‌دهنده بک‌اند (Laravel)\n",
              "6215            برنامه‌نویس ارشد بک‌اند\n",
              "7270            برنامه‌نویس ارشد بک‌اند\n",
              "7620            برنامه‌نویس ارشد بک‌اند\n",
              "9340            برنامه‌نویس ارشد بک‌اند\n",
              "9593   توسعه‌دهنده بک‌اند Python/Django\n",
              "9663            برنامه‌نویس ارشد بک‌اند\n",
              "9666            برنامه‌نویس ارشد بک‌اند\n",
              "12604  توسعه‌دهنده بک‌اند Python/Django\n",
              "12610           توسعه‌دهنده ارشد بک‌اند\n",
              "12639           برنامه‌نویس ارشد بک‌اند\n",
              "13692      توسعه‌دهنده بک‌اند (Laravel)\n",
              "13735      توسعه‌دهنده بک‌اند (Laravel)\n",
              "13762      توسعه‌دهنده بک‌اند (Laravel)\n",
              "13796      توسعه‌دهنده بک‌اند (Laravel)\n",
              "13803      توسعه‌دهنده بک‌اند (Laravel)\n",
              "13804      توسعه‌دهنده بک‌اند (Laravel)\n",
              "13807      توسعه‌دهنده بک‌اند (Laravel)"
            ]
          },
          "metadata": {},
          "output_type": "display_data"
        }
      ],
      "source": [
        "backend_titles = df[df['Careers Job - Job → Title'].str.contains('بک‌اند', na=False)]\n",
        "display(backend_titles[['Careers Job - Job → Title']])"
      ]
    },
    {
      "cell_type": "code",
      "execution_count": 28,
      "id": "-w91cakryPZS",
      "metadata": {
        "colab": {
          "base_uri": "https://localhost:8080/",
          "height": 805
        },
        "id": "-w91cakryPZS",
        "outputId": "5dd3541a-852c-448d-b2ac-2766fb5c0453"
      },
      "outputs": [
        {
          "data": {
            "text/plain": [
              "ID                                                                                                424002\n",
              "Applicant ID                                                                                    208026.0\n",
              "Full Name                                                                                            E L\n",
              "Source                                                                                                 2\n",
              "Order                                                                                                 24\n",
              "Developer State                                                                                       30\n",
              "Seen                                                                                                   1\n",
              "Job ID                                                                                             21055\n",
              "Careers Job - Job → Title                                                     توسعه‌دهنده بک‌اند-کارآموز\n",
              "Careers Job - Job → Description                                                                   masked\n",
              "Careers Job - Job → Requirements                       <p dir=\"rtl\"><strong>آنچه از شما انتظار داریم:...\n",
              "Careers Job - Job → Level                                                                         intern\n",
              "Careers Job - Job → Offers Remote                                                                   True\n",
              "Careers Job - Job → Minimum Salary                                                                   0.0\n",
              "Careers Job - Job → State                                                                              C\n",
              "Careers Job - Job → Maximum Salary                                                                   0.0\n",
              "Careers Job - Job → Hit Count                                                                     2604.0\n",
              "Accounts City - City → Name                                                                       اصفهان\n",
              "Careers Disqualifyreason - Disqualify Reason → Name                                                 سایر\n",
              "Hit Count Norm                                                                                  0.373494\n",
              "normalized_title                                                               توسعه دهنده بک اندکارآموز\n",
              "technologies                                                                                            \n",
              "job_domain                                                                                       backend\n",
              "Name: 1426, dtype: object"
            ]
          },
          "execution_count": 28,
          "metadata": {},
          "output_type": "execute_result"
        }
      ],
      "source": [
        "df.iloc[1426]"
      ]
    },
    {
      "cell_type": "markdown",
      "id": "cfe0916d",
      "metadata": {
        "id": "cfe0916d"
      },
      "source": [
        "<div dir=\"rtl\">\n",
        "<dir align=\"rtl\">\n",
        "<h1 dir=rtl style=\"direction: rtl;text-align: justify;line-height:200%;font-family:vazir;font-size:medium\">\n",
        "<font face=\"vazir\" color=\"#0099cc\" size=5>\n",
        "گام هشتم: ایجاد ستون محتوای ارائه برای تحلیل محتوا-محور\n",
        "</font>\n",
        "</h1>\n",
        "<p dir=rtl style=\"direction: rtl;text-align: justify;line-height:200%;font-family:vazir;font-size:medium\">\n",
        "<font face=\"vazir\" size=3>\n",
        "در این مرحله باید ستون جدیدی به نام <code>presentation_content</code> ایجاد کنیم که شامل ترکیب حوزه‌های شغلی، تکنولوژی‌ها و عنوان نرمال‌شده شغل باشد. این ستون برای استفاده در تحلیل محتوا-محور (مانند محاسبات TF-IDF) ضروری است، زیرا اطلاعات متنی کلیدی را در یک فرمت یکپارچه جمع‌آوری می‌کند و به الگوریتم کمک می‌کند تا شباهت بین آگهی‌های شغلی را با دقت بیشتری محاسبه کند.\n",
        "<br><br>\n",
        "برای پیاده‌سازی این گام، مراحل زیر را به ترتیب انجام دهید:\n",
        "<br>\n",
        "<b>1. پر کردن مقادیر گمشده:</b> مقادیر گمشده در ستون‌های <code>job_domain</code> و <code>technologies</code> را با رشته خالی جایگزین کنید.<br>\n",
        "<b>2. ترکیب ستون‌ها:</b> ستون‌های <code>job_domain</code>، <code>technologies</code> و <code>normalized_title</code> را با افزودن فاصله بین آن‌ها ترکیب کنید.<br>\n",
        "<b>3. ذخیره نتیجه:</b> نتیجه ترکیب را در ستون جدیدی به نام <code>presentation_content</code> در دیتافریم ذخیره کنید.\n",
        "</font>\n",
        "</p>\n",
        "</dir>\n",
        "</div>"
      ]
    },
    {
      "cell_type": "code",
      "execution_count": 29,
      "id": "b0e6e4c7",
      "metadata": {
        "id": "b0e6e4c7"
      },
      "outputs": [],
      "source": [
        "df['presentation_content'] = df['job_domain'].fillna('') + ' ' + df['technologies'].fillna('') + ' ' + df['normalized_title'].fillna('')"
      ]
    },
    {
      "cell_type": "code",
      "execution_count": 30,
      "id": "1d3d9a37",
      "metadata": {
        "colab": {
          "base_uri": "https://localhost:8080/",
          "height": 397
        },
        "id": "1d3d9a37",
        "outputId": "766e7ac9-936a-4283-a8eb-c19caee5b8ca"
      },
      "outputs": [
        {
          "data": {
            "text/plain": [
              "11468         django django internship remote or hybrid\n",
              "464      frontend react senior frontend developer react\n",
              "5735                       frontend  frontend developer\n",
              "4025                       backend  برنامه نویس backend\n",
              "13026           backend python python developer backend\n",
              "1300       frontend react frontend developer with react\n",
              "3674                     frontend  توسعه دهنده frontend\n",
              "12941      frontend javascript frontend developer vuejs\n",
              "10767               frontend  توسعه دهنده ارشد frontend\n",
              "9628                   توسعه دهنده نرم افزارهای کاربردی\n",
              "Name: presentation_content, dtype: object"
            ]
          },
          "execution_count": 30,
          "metadata": {},
          "output_type": "execute_result"
        }
      ],
      "source": [
        "df['presentation_content'].sample(10)"
      ]
    },
    {
      "cell_type": "markdown",
      "id": "e1c8579e",
      "metadata": {
        "id": "e1c8579e"
      },
      "source": [
        "<div dir=\"rtl\">\n",
        "<dir align=\"rtl\">\n",
        "<h1 dir=rtl style=\"direction: rtl;text-align: justify;line-height:200%;font-family:vazir;font-size:medium\">\n",
        "<font face=\"vazir\" color=\"#0099cc\" size=5>\n",
        "گام نهم: پیاده‌سازی تحلیل محتوا-محور\n",
        "</font>\n",
        "</h1>\n",
        "<p dir=rtl style=\"direction: rtl;text-align: justify;line-height:200%;font-family:vazir;font-size:medium\">\n",
        "<font face=\"vazir\" size=3>\n",
        "در این مرحله باید تحلیل محتوا-محور را پیاده‌سازی کنیم تا شباهت بین آگهی‌های شغلی بر اساس محتوای متنی آن‌ها محاسبه شود. این کار با استفاده از ستون <code>presentation_content</code> و تبدیل آن به بردارهای عددی با الگوریتم TF-IDF انجام می‌شود. این فرآیند برای سیستم پیشنهاددهنده محتوا-محور ضروری است، زیرا امکان مقایسه دقیق آگهی‌های شغلی بر اساس ویژگی‌های متنی مانند عنوان، تکنولوژی‌ها و حوزه شغلی را فراهم می‌کند.\n",
        "<br><br>\n",
        "برای پیاده‌سازی این گام، مراحل زیر را به ترتیب انجام دهید:\n",
        "<br>\n",
        "<b>1. تعریف کلمات توقف:</b> لیستی از کلمات توقف (مانند 'و'، 'در'، 'the') ایجاد کنید تا کلمات غیرضروری از تحلیل حذف شوند.<br>\n",
        "<b>2. ایجاد شیء TF-IDF:</b> یک نمونه از <code>TfidfVectorizer</code> از کتابخانه <code>sklearn.feature_extraction.text</code> با حداکثر 1000 ویژگی و کلمات توقف تعریف‌شده ایجاد کنید.<br>\n",
        "<b>3. تبدیل محتوا به بردار:</b> ستون <code>presentation_content</code> را به ماتریس TF-IDF تبدیل کنید.<br>\n",
        "<b>4. محاسبه شباهت:</b> ماتریس شباهت کوسینوسی را بین بردارهای TF-IDF محاسبه کنید.<br>\n",
        "<b>5. بازگشت نتایج:</b> ماتریس شباهت، ماتریس TF-IDF و شیء <code>vectorizer</code> را به‌عنوان خروجی برگردانید.\n",
        "</font>\n",
        "</p>\n",
        "</dir>\n",
        "</div>"
      ]
    },
    {
      "cell_type": "code",
      "execution_count": 31,
      "id": "1e98f603",
      "metadata": {
        "id": "1e98f603"
      },
      "outputs": [],
      "source": [
        "def content_based_filtering(df, top_k=10):\n",
        "    stop_words = ['و', 'در', 'به', 'از', 'این', 'که', 'the', 'is', 'a', 'with', 'for']\n",
        "    vectorizer = TfidfVectorizer(max_features=1000, stop_words=stop_words)\n",
        "    tfidf_matrix = vectorizer.fit_transform(df['presentation_content'])\n",
        "    similarity_matrix_content = cosine_similarity(tfidf_matrix)\n",
        "\n",
        "    return similarity_matrix_content, tfidf_matrix, vectorizer"
      ]
    },
    {
      "cell_type": "markdown",
      "id": "c24cbb19",
      "metadata": {
        "id": "c24cbb19"
      },
      "source": [
        "<div dir=\"rtl\">\n",
        "<dir align=\"rtl\">\n",
        "<h1 dir=rtl style=\"direction: rtl;text-align: justify;line-height:200%;font-family:vazir;font-size:medium\">\n",
        "<font face=\"vazir\" color=\"#0099cc\" size=5>\n",
        "گام دهم: پیاده‌سازی فیلترینگ مشارکتی\n",
        "</font>\n",
        "</h1>\n",
        "<p dir=rtl style=\"direction: rtl;text-align: justify;line-height:200%;font-family:vazir;font-size:medium\">\n",
        "<font face=\"vazir\" size=3>\n",
        "در این مرحله باید فیلترینگ مشارکتی را پیاده‌سازی کنیم تا شباهت بین آگهی‌های شغلی بر اساس تعاملات کاربران (بازدیدها) محاسبه شود. این کار با استفاده از ستون <code>Seen</code> و ایجاد ماتریس تعاملات بین کاربران و شغل‌ها انجام می‌شود. فیلترینگ مشارکتی برای سیستم پیشنهاددهنده ضروری است، زیرا رفتار کاربران مشابه را برای ارائه پیشنهادهای دقیق‌تر تحلیل می‌کند.\n",
        "<br><br>\n",
        "برای پیاده‌سازی این گام، مراحل زیر را به ترتیب انجام دهید:\n",
        "<br>\n",
        "<b>1. ایجاد ماتریس تعاملات:</b> با استفاده از تابع <code>pivot_table</code>، ماتریسی ایجاد کنید که ردیف‌های آن <code>Applicant ID</code>، ستون‌های آن <code>Job ID</code> و مقادیر آن <code>Seen</code> باشد، با پر کردن مقادیر گمشده با 0.<br>\n",
        "<b>2. تبدیل به ماتریس اسپارس:</b> ماتریس تعاملات را با استفاده از <code>csr_matrix</code> از کتابخانه <code>scipy.sparse</code> به فرمت اسپارس تبدیل کنید تا بهینه‌سازی حافظه انجام شود.<br>\n",
        "<b>3. محاسبه شباهت:</b> ماتریس شباهت کوسینوسی بین آگهی‌های شغلی را با استفاده از <code>cosine_similarity</code> روی ماتریس اسپارس محاسبه کنید.<br>\n",
        "<b>4. بازگشت نتایج:</b> ماتریس شباهت و ماتریس تعاملات (به‌صورت DataFrame) را به‌عنوان خروجی برگردانید.\n",
        "</font>\n",
        "</p>\n",
        "</dir>\n",
        "</div>"
      ]
    },
    {
      "cell_type": "code",
      "execution_count": 32,
      "id": "3bc2f89c",
      "metadata": {
        "id": "3bc2f89c"
      },
      "outputs": [],
      "source": [
        "def collaborative_filtering(df):\n",
        "    # ایجاد ماتریس تعاملات\n",
        "    interaction_matrix = df.pivot_table(index='Applicant ID', columns='Job ID', values='Seen', fill_value=0)\n",
        "    interaction_matrix_sparse = csr_matrix(interaction_matrix.values)\n",
        "    similarity_matrix_collab = cosine_similarity(interaction_matrix_sparse.T)\n",
        "\n",
        "    return similarity_matrix_collab, interaction_matrix  # interaction_matrix به صورت DataFrame"
      ]
    },
    {
      "cell_type": "markdown",
      "id": "be7f3d52",
      "metadata": {
        "id": "be7f3d52"
      },
      "source": [
        "<div dir=\"rtl\">\n",
        "<dir align=\"rtl\">\n",
        "<h1 dir=rtl style=\"direction: rtl;text-align: justify;line-height:200%;font-family:vazir;font-size:medium\">\n",
        "<font face=\"vazir\" color=\"#0099cc\" size=5>\n",
        "گام یازدهم: اعمال فیلترهای سخت\n",
        "</font>\n",
        "</h1>\n",
        "<p dir=rtl style=\"direction: rtl;text-align: justify;line-height:200%;font-family:vazir;font-size:medium\">\n",
        "<font face=\"vazir\" size=3>\n",
        "در این مرحله باید فیلترهای سخت را بر اساس ترجیحات کاربر اعمال کنیم تا آگهی‌های شغلی که با شرایط مشخص‌شده (مانند سطح شغل، شهر، دورکاری و حداقل حقوق) مطابقت دارند، انتخاب شوند. این کار برای محدود کردن پیشنهادها به شغل‌های مرتبط با نیازهای کاربر ضروری است و باعث می‌شود سیستم پیشنهاددهنده خروجی‌های دقیق و کاربردی ارائه دهد.\n",
        "<br><br>\n",
        "برای پیاده‌سازی این گام، مراحل زیر را به ترتیب انجام دهید:\n",
        "<br>\n",
        "<b>1. تعریف تابع فیلتر:</b> تابعی به نام <code>apply_hard_filters</code> تعریف کنید که دیتافریم، دیکشنری ترجیحات کاربر (<code>applicant_prefs</code>) و لیست شناسه‌های شغلی (<code>job_ids</code>) را به‌عنوان ورودی دریافت کند.<br>\n",
        "<b>2. فیلتر اولیه:</b> دیتافریم را به ردیف‌هایی محدود کنید که <code>Job ID</code> آن‌ها در لیست <code>job_ids</code> موجود باشد و یک کپی از آن ایجاد کنید.<br>\n",
        "<b>3. فیلتر سطح شغل:</b> اگر کلید <code>level</code> در ترجیحات کاربر وجود دارد، دیتافریم را به ردیف‌هایی محدود کنید که ستون <code>Careers Job - Job → Level</code> با مقدار مشخص‌شده مطابقت داشته باشد.<br>\n",
        "<b>4. فیلتر شهرها:</b> اگر کلید <code>cities</code> در ترجیحات کاربر وجود دارد، دیتافریم را به ردیف‌هایی محدود کنید که ستون <code>Accounts City - City → Name</code> در لیست شهرهای مشخص‌شده باشد.<br>\n",
        "<b>5. فیلتر دورکاری:</b> اگر کلید <code>remote</code> در ترجیحات کاربر وجود دارد، دیتافریم را به ردیف‌هایی محدود کنید که ستون <code>Careers Job - Job → Offers Remote</code> با مقدار مشخص‌شده (True/False) مطابقت داشته باشد.<br>\n",
        "<b>6. فیلتر حداقل حقوق:</b> اگر کلید <code>min_salary</code> در ترجیحات کاربر وجود دارد، دیتافریم را به ردیف‌هایی محدود کنید که ستون <code>Careers Job - Job → Minimum Salary</code> بیشتر یا مساوی با مقدار مشخص‌شده باشد.<br>\n",
        "<b>7. چاپ تعداد شغل‌ها:</b> تعداد ردیف‌های باقی‌مانده در دیتافریم فیلترشده را چاپ کنید تا تعداد شغل‌های مطابق با فیلترها مشخص شود.<br>\n",
        "<b>8. بازگشت نتیجه:</b> لیست <code>Job ID</code>های فیلترشده را به‌عنوان خروجی تابع برگردانید.\n",
        "</font>\n",
        "</p>\n",
        "</dir>\n",
        "</div>"
      ]
    },
    {
      "cell_type": "code",
      "execution_count": 33,
      "id": "906f852b",
      "metadata": {
        "id": "906f852b"
      },
      "outputs": [],
      "source": [
        "def apply_hard_filters(df, applicant_prefs, job_ids):\n",
        "    filtered_df = df[df['Job ID'].isin(job_ids)].copy()\n",
        "\n",
        "    # فیلتر سطح شغل\n",
        "    if 'level' in applicant_prefs:\n",
        "        filtered_df = filtered_df[filtered_df['Careers Job - Job → Level'] == applicant_prefs['level']]\n",
        "\n",
        "    # فیلتر شهرها\n",
        "    if 'cities' in applicant_prefs:\n",
        "        filtered_df = filtered_df[filtered_df['Accounts City - City → Name'].isin(applicant_prefs['cities'])]\n",
        "\n",
        "    # فیلتر دورکاری\n",
        "    if 'remote' in applicant_prefs:\n",
        "        filtered_df = filtered_df[filtered_df['Careers Job - Job → Offers Remote'] == applicant_prefs['remote']]\n",
        "\n",
        "    # فیلتر حداقل حقوق\n",
        "    if 'min_salary' in applicant_prefs:\n",
        "        filtered_df = filtered_df[filtered_df['Careers Job - Job → Minimum Salary'] >= applicant_prefs['min_salary']]\n",
        "\n",
        "    print(f\"تعداد شغل‌های مطابق با فیلترها: {len(filtered_df)}\")\n",
        "    return filtered_df['Job ID'].tolist()"
      ]
    },
    {
      "cell_type": "markdown",
      "id": "52fa1440",
      "metadata": {
        "id": "52fa1440"
      },
      "source": [
        "\n",
        "\n",
        "<div dir=\"rtl\">\n",
        "<dir align=\"rtl\">\n",
        "<h1 dir=rtl style=\"direction: rtl;text-align: justify;line-height:200%;font-family:vazir;font-size:medium\">\n",
        "<font face=\"vazir\" color=\"#0099cc\" size=5>\n",
        "پیاده‌سازی تابع نهایی پیشنهاددهنده هیبریدی\n",
        "</font>\n",
        "</h1>\n",
        "\n",
        "<p dir=rtl style=\"direction: rtl;text-align: justify;line-height:200%;font-family:vazir;font-size:medium\">\n",
        "<font face=\"vazir\" size=3>\n",
        "در این بخش، تابع <code>hybrid_recommendation</code> به‌عنوان قلب سیستم پیشنهاددهنده هیبریدی پیاده‌سازی می‌شود. این تابع با ترکیب دو دیدگاه مکمل (محتوا-محور و مشارکتی)، شغل‌هایی را پیشنهاد می‌دهد که بیشترین تطابق را با علایق و رفتارهای گذشته کاربر دارند.\n",
        "\n",
        "این تابع ابتدا بررسی می‌کند که آیا کاربر مورد نظر پیش‌تر تعاملی با سیستم داشته یا خیر. در صورت جدید بودن کاربر (حالت <b>Cold Start</b>)، پیشنهادها صرفاً بر اساس <b>محبوبیت</b> و فیلترهای اولیه (مثل حقوق، مکان، سطح شغلی و...) ارائه می‌شوند. در غیر این صورت، ترکیب وزنی از امتیازات محتوا-محور و مشارکتی برای پیشنهاد شغل‌ها استفاده می‌شود. </font>\n",
        "\n",
        "</p>\n",
        "\n",
        "<h2 dir=rtl style=\"direction: rtl;text-align: justify;line-height:200%;font-family:vazir;font-size:medium\">\n",
        "<font face=\"vazir\" color=\"#0099cc\" size=4>\n",
        "📋 مراحل عملکرد تابع\n",
        "</font>\n",
        "</h2>\n",
        "\n",
        "<p dir=rtl style=\"direction: rtl;text-align: justify;line-height:200%;font-family:vazir;font-size:medium\">\n",
        "<font face=\"vazir\" size=3>\n",
        "مراحل عملکرد تابع به‌صورت زیر است:\n",
        "<ol>\n",
        "<li><strong>بررسی حالت Cold Start:</strong> اگر کاربر هیچ تعاملی نداشته باشد، سیستم با استفاده از فیلترهای سخت و میزان محبوبیت شغل‌ها (<code>Hit Count Norm</code>) و میزان تنوع محتوایی، لیستی از شغل‌های پرمخاطب و متنوع را پیشنهاد می‌دهد.</li>\n",
        "\n",
        "<li><strong>محاسبه امتیاز محتوا-محور:</strong> برای هر شغل، شباهت محتوایی آن با شغل‌هایی که کاربر با آن‌ها تعامل داشته (یا به طور کلی با سایر شغل‌ها)، محاسبه می‌شود. شباهت‌ها از ماتریس <code>similarity_matrix_content</code> استخراج می‌شوند.</li>\n",
        "\n",
        "<li><strong>محاسبه امتیاز مشارکتی:</strong> برای هر شغل، با توجه به تعاملات کاربران مشابه، شباهت مشارکتی آن شغل محاسبه می‌شود. اطلاعات از ماتریس <code>similarity_matrix_collab</code> استخراج می‌گردد.</li>\n",
        "\n",
        "<li><strong>ترکیب امتیازها:</strong> امتیازات محتوا-محور و مشارکتی با وزن مشخص <code>content_weight</code> ترکیب شده و نمره نهایی برای هر شغل محاسبه می‌شود.</li>\n",
        "\n",
        "<li><strong>اعمال فیلترهای سخت:</strong> شغل‌هایی که با ترجیحات کاربر (مانند مکان، حداقل حقوق، سطح شغلی و ...) مطابقت ندارند، حذف می‌شوند.</li>\n",
        "\n",
        "<li><strong>مرتب‌سازی نهایی:</strong> از بین شغل‌های معتبر، <code>top_k</code> شغل با بالاترین امتیاز ترکیبی به عنوان پیشنهاد نهایی بازگردانده می‌شوند.</li>\n",
        "</ol>\n",
        "</font>\n",
        "</p>\n",
        "\n",
        "<h2 dir=rtl style=\"direction: rtl;text-align: justify;line-height:200%;font-family:vazir;font-size:medium\">\n",
        "<font face=\"vazir\" color=\"#0099cc\" size=4>\n",
        "🧩 ساختار و پارامترهای ورودی\n",
        "</font>\n",
        "</h2>\n",
        "\n",
        "<p dir=rtl style=\"direction: rtl;text-align: justify;line-height:200%;font-family:vazir;font-size:medium\">\n",
        "<font face=\"vazir\" size=3>\n",
        "تابع <code>hybrid_recommendation</code> دارای پارامترهای زیر است:\n",
        "<ul>\n",
        "<li><code>df</code>: دیتافریم شامل اطلاعات شغل‌ها</li>\n",
        "<li><code>user_id</code>: شناسه کاربر مورد نظر</li>\n",
        "<li><code>applicant_prefs</code>: ترجیحات و شرایط کاربر (مانند شهر، سطح شغلی و...)</li>\n",
        "<li><code>similarity_matrix_content</code>: ماتریس شباهت محتوا-محور (مثلاً از TF-IDF)</li>\n",
        "<li><code>similarity_matrix_collab</code>: ماتریس شباهت مشارکتی بین شغل‌ها</li>\n",
        "<li><code>interaction_matrix</code>: ماتریس تعاملات کاربران و شغل‌ها</li>\n",
        "<li><code>top_k</code>: تعداد شغل‌های پیشنهادی خروجی (پیش‌فرض ۵)</li>\n",
        "<li><code>content_weight</code>: وزن ترکیب برای امتیاز محتوا-محور (بین ۰ تا ۱)</li>\n",
        "</ul>\n",
        "</font>\n",
        "</p>\n",
        "\n",
        "<details class=\"green\">\n",
        "<summary><strong>نکات فنی مهم</strong></summary>\n",
        "<p dir=rtl style=\"direction: rtl;text-align: justify;line-height:200%;font-family:vazir;font-size:medium\">\n",
        "<font face=\"vazir\" size=3>\n",
        "<ul>\n",
        "<li><strong>کاربران جدید (cold start):</strong> اگر کاربر در ماتریس تعاملات وجود نداشته باشد، سیستم از محبوب‌ترین شغل‌ها بر اساس نرمال‌شدهٔ میزان بازدید استفاده می‌کند.</li>\n",
        "<li><strong>استفاده از شباهت میانگین:</strong> شباهت هر شغل با سایر شغل‌ها با استفاده از <code>mean</code> محاسبه می‌شود، که دید کلی از نزدیکی یک شغل به بقیه ارائه می‌دهد.</li>\n",
        "<li><strong>ترکیب نمرات:</strong> امتیاز نهایی برای هر شغل از رابطه زیر به دست می‌آید:\n",
        "<div dir=\"ltr\"><pre>\n",
        "final_score = content_weight * content_score + (1 - content_weight) * collab_score\n",
        "</pre></div>\n",
        "</li>\n",
        "<li><strong>استفاده از آرایه‌های NumPy:</strong> برای سرعت بیشتر و قابلیت مرتب‌سازی سریع، امتیازها در قالب آرایه‌های NumPy نگهداری و پردازش می‌شوند.</li>\n",
        "<li><strong>فیلتر کردن با لیست اندیس معتبر:</strong> از لیست <code>valid_indices</code> برای حذف شغل‌های نامعتبر استفاده شده است که سازگار با فیلترهای کاربر نیستند.</li>\n",
        "</ul>\n",
        "</font>\n",
        "</p>\n",
        "</details>\n",
        "\n",
        "---\n",
        "\n",
        "<p dir=rtl style=\"direction: rtl;text-align: justify;line-height:200%;font-family:vazir;font-size:medium\">\n",
        "<font face=\"vazir\" size=3>\n",
        "در نهایت، این تابع گام آخر سیستم پیشنهاددهنده است که با ترکیب چندین منبع اطلاعاتی، سعی در ارائه پیشنهادهای دقیق، متنوع و مطابق با سلیقه کاربران دارد.\n",
        "</font>\n",
        "</p>\n",
        "</dir>\n",
        "</div>\n"
      ]
    },
    {
      "cell_type": "code",
      "execution_count": 34,
      "id": "ukmehaio_P2I",
      "metadata": {
        "colab": {
          "base_uri": "https://localhost:8080/",
          "height": 458
        },
        "id": "ukmehaio_P2I",
        "outputId": "9f81e329-8c9d-4699-f245-4b19b0bda19a"
      },
      "outputs": [
        {
          "data": {
            "text/plain": [
              "<pandas.core.groupby.generic.SeriesGroupBy object at 0x779cf27338d0>"
            ]
          },
          "execution_count": 34,
          "metadata": {},
          "output_type": "execute_result"
        }
      ],
      "source": [
        "df.groupby('Job ID')['Careers Job - Job → Hit Count']"
      ]
    },
    {
      "cell_type": "code",
      "execution_count": 35,
      "id": "5MntTDLPBRAK",
      "metadata": {
        "colab": {
          "base_uri": "https://localhost:8080/"
        },
        "id": "5MntTDLPBRAK",
        "outputId": "0d908f4a-d080-488b-f33f-a9f05d9ed1c8"
      },
      "outputs": [
        {
          "data": {
            "text/plain": [
              "19409"
            ]
          },
          "execution_count": 35,
          "metadata": {},
          "output_type": "execute_result"
        }
      ],
      "source": [
        "df.iloc[10]['Job ID']"
      ]
    },
    {
      "cell_type": "code",
      "execution_count": 36,
      "id": "GnhSkaVnAUnJ",
      "metadata": {
        "colab": {
          "base_uri": "https://localhost:8080/",
          "height": 458
        },
        "id": "GnhSkaVnAUnJ",
        "outputId": "479fc25e-c208-4317-c714-6a5657cbccee"
      },
      "outputs": [
        {
          "data": {
            "text/plain": [
              "9        1745.0\n",
              "10       1745.0\n",
              "192      1745.0\n",
              "202      1745.0\n",
              "272      1745.0\n",
              "          ...  \n",
              "15093    1745.0\n",
              "15108    1745.0\n",
              "15128    1745.0\n",
              "15225    1745.0\n",
              "15447    1745.0\n",
              "Name: Careers Job - Job → Hit Count, Length: 74, dtype: float64"
            ]
          },
          "metadata": {},
          "output_type": "display_data"
        }
      ],
      "source": [
        "job_id_hit_count = df[df['Job ID'] == 19409]['Careers Job - Job → Hit Count']\n",
        "display(job_id_hit_count)"
      ]
    },
    {
      "cell_type": "code",
      "execution_count": 37,
      "id": "zXI9MpTGCsYJ",
      "metadata": {
        "colab": {
          "base_uri": "https://localhost:8080/",
          "height": 423
        },
        "id": "zXI9MpTGCsYJ",
        "outputId": "1cc82d7d-02fc-4040-f327-3b1d3d10071c"
      },
      "outputs": [
        {
          "data": {
            "text/html": [
              "<div>\n",
              "<style scoped>\n",
              "    .dataframe tbody tr th:only-of-type {\n",
              "        vertical-align: middle;\n",
              "    }\n",
              "\n",
              "    .dataframe tbody tr th {\n",
              "        vertical-align: top;\n",
              "    }\n",
              "\n",
              "    .dataframe thead th {\n",
              "        text-align: right;\n",
              "    }\n",
              "</style>\n",
              "<table border=\"1\" class=\"dataframe\">\n",
              "  <thead>\n",
              "    <tr style=\"text-align: right;\">\n",
              "      <th></th>\n",
              "      <th>Job ID</th>\n",
              "      <th>Hit Count Norm</th>\n",
              "      <th>technologies</th>\n",
              "      <th>job_domain</th>\n",
              "      <th>Careers Job - Job → Title</th>\n",
              "    </tr>\n",
              "  </thead>\n",
              "  <tbody>\n",
              "    <tr>\n",
              "      <th>0</th>\n",
              "      <td>898</td>\n",
              "      <td>0.000000</td>\n",
              "      <td></td>\n",
              "      <td></td>\n",
              "      <td>برنامه‌نویس PHP</td>\n",
              "    </tr>\n",
              "    <tr>\n",
              "      <th>1</th>\n",
              "      <td>906</td>\n",
              "      <td>0.000000</td>\n",
              "      <td></td>\n",
              "      <td></td>\n",
              "      <td>برنامه‌نویس اندروید</td>\n",
              "    </tr>\n",
              "    <tr>\n",
              "      <th>2</th>\n",
              "      <td>914</td>\n",
              "      <td>0.000000</td>\n",
              "      <td></td>\n",
              "      <td></td>\n",
              "      <td>توسعه‌دهنده و برنامه‌نویس وبسایت</td>\n",
              "    </tr>\n",
              "    <tr>\n",
              "      <th>3</th>\n",
              "      <td>950</td>\n",
              "      <td>0.000000</td>\n",
              "      <td></td>\n",
              "      <td></td>\n",
              "      <td>برنامه‌نویس سیستمی</td>\n",
              "    </tr>\n",
              "    <tr>\n",
              "      <th>4</th>\n",
              "      <td>962</td>\n",
              "      <td>0.000000</td>\n",
              "      <td></td>\n",
              "      <td>frontend</td>\n",
              "      <td>توسعه‌دهنده Front End</td>\n",
              "    </tr>\n",
              "    <tr>\n",
              "      <th>...</th>\n",
              "      <td>...</td>\n",
              "      <td>...</td>\n",
              "      <td>...</td>\n",
              "      <td>...</td>\n",
              "      <td>...</td>\n",
              "    </tr>\n",
              "    <tr>\n",
              "      <th>1778</th>\n",
              "      <td>23776</td>\n",
              "      <td>0.069707</td>\n",
              "      <td></td>\n",
              "      <td>devops</td>\n",
              "      <td>DevOps Engineer</td>\n",
              "    </tr>\n",
              "    <tr>\n",
              "      <th>1779</th>\n",
              "      <td>23781</td>\n",
              "      <td>0.055651</td>\n",
              "      <td></td>\n",
              "      <td>backend</td>\n",
              "      <td>توسعه‌دهنده Back-end</td>\n",
              "    </tr>\n",
              "    <tr>\n",
              "      <th>1780</th>\n",
              "      <td>23785</td>\n",
              "      <td>0.055221</td>\n",
              "      <td></td>\n",
              "      <td>backend</td>\n",
              "      <td>برنامه‌نویس Back-end</td>\n",
              "    </tr>\n",
              "    <tr>\n",
              "      <th>1781</th>\n",
              "      <td>23832</td>\n",
              "      <td>0.027395</td>\n",
              "      <td></td>\n",
              "      <td></td>\n",
              "      <td>Senior Golang Developer</td>\n",
              "    </tr>\n",
              "    <tr>\n",
              "      <th>1782</th>\n",
              "      <td>23848</td>\n",
              "      <td>0.040017</td>\n",
              "      <td></td>\n",
              "      <td>frontend</td>\n",
              "      <td>Senior Front-end Developer</td>\n",
              "    </tr>\n",
              "  </tbody>\n",
              "</table>\n",
              "<p>1783 rows × 5 columns</p>\n",
              "</div>"
            ],
            "text/plain": [
              "      Job ID  Hit Count Norm technologies job_domain  \\\n",
              "0        898        0.000000                           \n",
              "1        906        0.000000                           \n",
              "2        914        0.000000                           \n",
              "3        950        0.000000                           \n",
              "4        962        0.000000                frontend   \n",
              "...      ...             ...          ...        ...   \n",
              "1778   23776        0.069707                  devops   \n",
              "1779   23781        0.055651                 backend   \n",
              "1780   23785        0.055221                 backend   \n",
              "1781   23832        0.027395                           \n",
              "1782   23848        0.040017                frontend   \n",
              "\n",
              "             Careers Job - Job → Title  \n",
              "0                      برنامه‌نویس PHP  \n",
              "1                  برنامه‌نویس اندروید  \n",
              "2     توسعه‌دهنده و برنامه‌نویس وبسایت  \n",
              "3                   برنامه‌نویس سیستمی  \n",
              "4                توسعه‌دهنده Front End  \n",
              "...                                ...  \n",
              "1778                   DevOps Engineer  \n",
              "1779              توسعه‌دهنده Back-end  \n",
              "1780              برنامه‌نویس Back-end  \n",
              "1781           Senior Golang Developer  \n",
              "1782        Senior Front-end Developer  \n",
              "\n",
              "[1783 rows x 5 columns]"
            ]
          },
          "execution_count": 37,
          "metadata": {},
          "output_type": "execute_result"
        }
      ],
      "source": [
        "recommendations = df.groupby('Job ID').agg({\n",
        "    'Hit Count Norm': 'mean',\n",
        "    'technologies': 'first',\n",
        "    'job_domain': 'first',\n",
        "    'Careers Job - Job → Title': 'first'\n",
        "}).reset_index()\n",
        "\n",
        "recommendations"
      ]
    },
    {
      "cell_type": "code",
      "execution_count": 38,
      "id": "0d5a3730",
      "metadata": {
        "id": "0d5a3730"
      },
      "outputs": [],
      "source": [
        "# 7. سیستم پیشنهاددهنده هیبریدی\n",
        "def hybrid_recommendation(df, user_id, applicant_prefs, similarity_matrix_content,\n",
        "                         similarity_matrix_collab, interaction_matrix, top_k=5, content_weight=0.5):\n",
        "    job_ids = df['Job ID'].unique()\n",
        "\n",
        "    # بررسی Cold Start\n",
        "    if user_id not in interaction_matrix.index:\n",
        "        print(f\"کاربر {user_id} در ماتریس تعاملات وجود ندارد. استفاده از محبوبیت شغل‌ها.\")\n",
        "        recommendations = df.groupby('Job ID').agg({\n",
        "            'Hit Count Norm': 'mean',\n",
        "            'technologies': 'first',\n",
        "            'job_domain': 'first',\n",
        "            'Careers Job - Job → Title': 'first'\n",
        "        }).reset_index()\n",
        "        recommendations = recommendations[recommendations['Job ID'].isin(\n",
        "            apply_hard_filters(df, applicant_prefs, job_ids)\n",
        "        )]\n",
        "        # حذف تکراری‌ها\n",
        "        recommendations = recommendations.drop_duplicates(subset=['Job ID'])\n",
        "        # مرتب‌سازی بر اساس محبوبیت و تنوع محتوایی\n",
        "        recommendations['content_score'] = recommendations.index.map(\n",
        "            lambda idx: similarity_matrix_content[idx].mean() if idx < similarity_matrix_content.shape[0] else 0\n",
        "        )\n",
        "        recommendations['final_score'] = 0.7 * recommendations['Hit Count Norm'] + 0.3 * recommendations['content_score']\n",
        "        recommendations = recommendations.sort_values('final_score', ascending=False)\n",
        "        return recommendations[['Job ID', 'Careers Job - Job → Title', 'technologies', 'job_domain']].head(top_k)\n",
        "\n",
        "    # امتیاز محتوا-محور\n",
        "    content_scores = np.zeros(len(job_ids))\n",
        "    for idx, job_id in enumerate(job_ids):\n",
        "        job_idx = df[df['Job ID'] == job_id].index[0]\n",
        "        content_scores[idx] = similarity_matrix_content[job_idx].mean()\n",
        "\n",
        "    # امتیاز فیلترینگ مشارکتی\n",
        "    user_idx = interaction_matrix.index.get_loc(user_id)\n",
        "    collab_scores = np.zeros(len(job_ids))\n",
        "    for idx, job_id in enumerate(job_ids):\n",
        "        if job_id in interaction_matrix.columns:\n",
        "            job_col_idx = interaction_matrix.columns.get_loc(job_id)\n",
        "            collab_scores[idx] = similarity_matrix_collab[job_col_idx].mean()\n",
        "\n",
        "    # ترکیب امتیازها\n",
        "    final_scores = content_weight * content_scores + (1 - content_weight) * collab_scores\n",
        "\n",
        "    # اعمال فیلترهای سخت\n",
        "    valid_job_ids = apply_hard_filters(df, applicant_prefs, job_ids)\n",
        "    valid_indices = [i for i, job_id in enumerate(job_ids) if job_id in valid_job_ids]\n",
        "\n",
        "    if not valid_job_ids:\n",
        "        print(\"هیچ شغلی با فیلترهای مشخص‌شده یافت نشد.\")\n",
        "        return pd.DataFrame(columns=['Job ID', 'Careers Job - Job → Title', 'technologies', 'job_domain'])\n",
        "\n",
        "    # مرتب‌سازی و انتخاب پیشنهادها\n",
        "    final_scores = final_scores[valid_indices]\n",
        "    top_indices = np.argsort(final_scores)[::-1][:top_k]\n",
        "    top_job_ids = [job_ids[valid_indices[i]] for i in top_indices]\n",
        "\n",
        "    recommendations = df[df['Job ID'].isin(top_job_ids)][\n",
        "        ['Job ID', 'Careers Job - Job → Title', 'technologies', 'job_domain']\n",
        "    ].drop_duplicates()\n",
        "    recommendations['Hybrid Score'] = final_scores[top_indices][:len(recommendations)]\n",
        "\n",
        "    return recommendations"
      ]
    },
    {
      "cell_type": "markdown",
      "id": "8b8ebb74",
      "metadata": {
        "id": "8b8ebb74"
      },
      "source": [
        "<div dir=\"rtl\">\n",
        "<dir align=\"rtl\">\n",
        "<h1 dir=rtl style=\"direction: rtl;text-align: justify;line-height:200%;font-family:vazir;font-size:medium\">\n",
        "<font face=\"vazir\" color=\"#0099cc\" size=5>\n",
        "گام سیزدهم: انتخاب کاربران با تعاملات کافی\n",
        "</font>\n",
        "</h1>\n",
        "<p dir=rtl style=\"direction: rtl;text-align: justify;line-height:200%;font-family:vazir;font-size:medium\">\n",
        "<font face=\"vazir\" size=3>\n",
        "این بخش یک تابع به نام <code>select_active_user</code> تعریف می‌کند که کاربرانی را انتخاب می‌کند که تعداد تعاملات کافی (بازدید از آگهی‌های شغلی) دارند. این تابع برای شناسایی کاربران فعال در دیتافریم استفاده می‌شود تا از آن‌ها در سیستم پیشنهاددهنده بهره ببریم، به‌ویژه برای جلوگیری از حالت Cold Start که در آن کاربر هیچ تعاملی ندارد. این کار با بررسی ستون <code>Seen</code> و انتخاب کاربرانی که حداقل تعداد مشخصی تعامل دارند انجام می‌شود.\n",
        "<br><br>\n",
        "<b>توضیح عملکرد تابع:</b>\n",
        "<br>\n",
        "1. تابع تعداد تعاملات هر کاربر (<code>Applicant ID</code>) را با جمع کردن مقادیر ستون <code>Seen</code> محاسبه می‌کند.<br>\n",
        "2. کاربرانی را که تعداد تعاملاتشان بیشتر یا مساوی با <code>min_interactions</code> (به‌طور پیش‌فرض 5) است، انتخاب می‌کند.<br>\n",
        "3. اگر هیچ کاربری با این شرط یافت نشد، پیامی چاپ می‌کند و مقدار <code>None</code> برمی‌گرداند.<br>\n",
        "4. در غیر این صورت، حداکثر <code>number_of_users</code> (به‌طور پیش‌فرض 5) کاربر فعال را انتخاب کرده و شناسه‌های آن‌ها را به‌صورت اعداد صحیح برمی‌گرداند.\n",
        "</font>\n",
        "</p>\n",
        "</dir>\n",
        "</div>"
      ]
    },
    {
      "cell_type": "code",
      "execution_count": 39,
      "id": "5bcca35d",
      "metadata": {
        "id": "5bcca35d"
      },
      "outputs": [],
      "source": [
        "\n",
        "def select_active_user(df, number_of_users= 5, min_interactions=5):\n",
        "    user_interactions = df.groupby('Applicant ID')['Seen'].sum()\n",
        "    active_users = user_interactions[user_interactions >= min_interactions].index\n",
        "    if len(active_users) == 0:\n",
        "        print(\"هیچ کاربری با تعاملات کافی یافت نشد.\")\n",
        "        return None\n",
        "    return map(int, active_users[0: number_of_users])\n"
      ]
    },
    {
      "cell_type": "markdown",
      "id": "bf4e6939",
      "metadata": {
        "id": "bf4e6939"
      },
      "source": [
        "<div dir=\"rtl\">\n",
        "<dir align=\"rtl\">\n",
        "<h1 dir=rtl style=\"direction: rtl;text-align: justify;line-height:200%;font-family:vazir;font-size:medium\">\n",
        "<font face=\"vazir\" color=\"#0099cc\" size=5>\n",
        "گام چهاردهم: آزمایش سیستم پیشنهاددهنده هیبریدی\n",
        "</font>\n",
        "</h1>\n",
        "<p dir=rtl style=\"direction: rtl;text-align: justify;line-height:200%;font-family:vazir;font-size:medium\">\n",
        "<font face=\"vazir\" size=3>\n",
        "این بخش کد آزمایشی برای اجرای سیستم پیشنهاددهنده هیبریدی با استفاده از یک کاربر خاص و مجموعه‌ای از وزن‌های محتوا-محور است. هدف این کد آزمایش عملکرد تابع <code>hybrid_recommendation</code> با تنظیمات مختلف و بررسی پیشنهادهای تولیدشده برای کاربر است. این کار برای ارزیابی سیستم و اطمینان از ارائه پیشنهادهای مناسب با توجه به ترجیحات کاربر ضروری است.\n",
        "<br><br>\n",
        "<b>توضیح عملکرد کد:</b>\n",
        "<br>\n",
        "1. یک شناسه کاربری (<code>user_id</code>) به‌صورت دستی با مقدار 5797 تعریف می‌شود.<br>\n",
        "2. لیستی از وزن‌های محتوا-محور (<code>content_weight</code>) شامل مقادیر 1، 0.5 و 0.1 تعریف می‌شود تا تأثیر تحلیل محتوا-محور و مشارکتی در پیشنهادها آزمایش شود.<br>\n",
        "3. یک دیکشنری ترجیحات کاربر (<code>applicant_prefs</code>) با مقادیر سطح شغل (junior)، شهر (تهران)، امکان دورکاری (True) و حداقل حقوق (1000000) تعریف می‌شود.<br>\n",
        "4. برای هر وزن در لیست <code>content_weight</code>، تابع <code>hybrid_recommendation</code> فراخوانی می‌شود تا پیشنهادهای شغلی برای کاربر با <code>top_k=5</code> تولید شود.<br>\n",
        "5. وزن محتوا-محور و پیشنهادهای تولیدشده برای هر اجرا چاپ می‌شوند تا کاربر بتواند خروجی‌ها را بررسی کند.\n",
        "<br><br>\n",
        "برای پیاده‌سازی این گام، کاربران باید این کد را اجرا کنند و خروجی‌ها را تحلیل کنند تا از صحت عملکرد سیستم پیشنهاددهنده مطمئن شوند.\n",
        "</font>\n",
        "</p>\n",
        "</dir>\n",
        "</div>"
      ]
    },
    {
      "cell_type": "code",
      "execution_count": 40,
      "id": "58c22cfb",
      "metadata": {
        "id": "58c22cfb"
      },
      "outputs": [],
      "source": [
        "similarity_matrix_content, tfidf_matrix, vectorizer = content_based_filtering(df)\n",
        "similarity_matrix_collab, interaction_matrix = collaborative_filtering(df)\n"
      ]
    },
    {
      "cell_type": "code",
      "execution_count": 41,
      "id": "9905b07b",
      "metadata": {
        "id": "9905b07b"
      },
      "outputs": [
        {
          "name": "stdout",
          "output_type": "stream",
          "text": [
            "\n",
            "کاربر انتخاب‌شده: \n",
            "[2751, 3904, 4005, 5797, 6003]\n"
          ]
        }
      ],
      "source": [
        "# انتخاب کاربر فعال\n",
        "user_id = select_active_user(df)\n",
        "print(f\"\\nکاربر انتخاب‌شده: \\n{list(user_id)}\")"
      ]
    },
    {
      "cell_type": "code",
      "execution_count": 42,
      "id": "04074d36",
      "metadata": {
        "id": "04074d36"
      },
      "outputs": [
        {
          "name": "stdout",
          "output_type": "stream",
          "text": [
            "تعداد شغل‌های مطابق با فیلترها: 1031\n",
            "وزن محتوا-محور: 1\n",
            "      Job ID Careers Job - Job → Title technologies job_domain  Hybrid Score\n",
            "4369    4978     توسعه‌دهنده Front-end                frontend      0.250799\n",
            "4452    6016     توسعه‌دهنده Front-end                frontend      0.250799\n",
            "4524    6771    توسعه‌دهنده‌ Front-end                frontend      0.250799\n",
            "4612    5841      توسعه‌دهنده Frontend                frontend      0.250799\n",
            "8372    3998      توسعه‌دهنده Frontend                frontend      0.250799\n",
            "تعداد شغل‌های مطابق با فیلترها: 1031\n",
            "وزن محتوا-محور: 0.5\n",
            "      Job ID Careers Job - Job → Title technologies job_domain  Hybrid Score\n",
            "4369    4978     توسعه‌دهنده Front-end                frontend      0.127953\n",
            "4452    6016     توسعه‌دهنده Front-end                frontend      0.127869\n",
            "6947    3760     توسعه‌دهنده Front-end                frontend      0.127826\n",
            "7784    5047     توسعه‌دهنده Front-end                frontend      0.127635\n",
            "8372    3998      توسعه‌دهنده Frontend                frontend      0.127514\n",
            "تعداد شغل‌های مطابق با فیلترها: 1031\n",
            "وزن محتوا-محور: 0.1\n",
            "      Job ID Careers Job - Job → Title technologies job_domain  Hybrid Score\n",
            "4369    4978     توسعه‌دهنده Front-end                frontend      0.029677\n",
            "4452    6016     توسعه‌دهنده Front-end                frontend      0.029525\n",
            "6947    3760     توسعه‌دهنده Front-end                frontend      0.029448\n",
            "7784    5047     توسعه‌دهنده Front-end                frontend      0.029104\n",
            "8372    3998      توسعه‌دهنده Frontend                frontend      0.028887\n"
          ]
        }
      ],
      "source": [
        "user_id = 5797\n",
        "content_weight = [1, 0.5, 0.1]\n",
        "for weight in content_weight:\n",
        "    applicant_prefs = {\n",
        "      'level': 'junior',\n",
        "      'cities': ['تهران'],\n",
        "      'remote': True,\n",
        "      'min_salary': 1000000\n",
        "    }\n",
        "    recommendations = hybrid_recommendation(\n",
        "        df, user_id, applicant_prefs, similarity_matrix_content, similarity_matrix_collab, interaction_matrix, top_k=5, content_weight=weight\n",
        "    )\n",
        "    print(f'وزن محتوا-محور: {weight}')\n",
        "    print(recommendations)"
      ]
    },
    {
      "cell_type": "markdown",
      "id": "175a71b3",
      "metadata": {
        "id": "175a71b3"
      },
      "source": [
        "\n",
        "<div dir=\"rtl\">\n",
        "<dir align=\"rtl\">\n",
        "<h1 dir=rtl style=\"direction: rtl;text-align: justify;line-height:200%;font-family:vazir;font-size=medium\">\n",
        "<font face=\"vazir\" color=\"#0099cc\" size=5>\n",
        "آخرین گام و ماموریت نهایی</font>\n",
        "</h1>\n",
        "<p dir=rtl style=\"direction: rtl;text-align: justify;line-height:200%;font-family:vazir;font-size:medium\">\n",
        "<font face=\"vazir\" size=3>\n",
        "پس از آماده‌سازی برنامه، قصد داریم این مدل را به واسطه وزن‌های مختلف از قیبل [0, 0.25, 0.5, 0.75, 1] و با مقادیر:\n",
        "<div dir=\"ltr\">\n",
        "<pre>\n",
        "applicant_prefs = {\n",
        "        'level': 'senior',\n",
        "        'cities': ['تهران'],\n",
        "        'remote': True,\n",
        "        'min_salary': 20000000,\n",
        "    }\n",
        "</pre>\n",
        "</div>\n",
        "مورد آزمایش قرار دهیم و <code>Job ID</code>های حاصله را بر هر وزن دیر یک ستون دیتافریم به صورت زیر ذخیره کنیم:<br>\n",
        "\n",
        "<strong><code>user_id:</code> 6003</strong>.\n",
        "<br>\n",
        "<table class=\"center\" style=\"direction: rtl; font-family: vazir; font-size: medium; text-align: center; line-height: 1.6; border-collapse: collapse;\">\n",
        "<tr>\n",
        "<th>job_id_0.0</th>\n",
        "<th>job_id_0.25</th>\n",
        "<th>job_id_0.5</th>\n",
        "<th>job_id_0.75</th>\n",
        "<th>job_id_1.0</th>    \n",
        "</tr>\n",
        "<tr>\n",
        "<td>1234</td>\n",
        "<td>1234</td>\n",
        "<td>1234</td>\n",
        "<td>1234</td>\n",
        "<td>1234</td>\n",
        "</tr>\n",
        "<tr>\n",
        "<td>...</td>\n",
        "<td>...</td>\n",
        "<td>...</td>\n",
        "<td>...</td>\n",
        "<td>...</td>\n",
        "</tr>\n",
        "</table>\n",
        "\n",
        "دیتافریم حاصله را در متغیری به نام <code>submission</code> ذخیره کنید."
      ]
    },
    {
      "cell_type": "code",
      "execution_count": 109,
      "id": "e14d1a26",
      "metadata": {
        "id": "e14d1a26"
      },
      "outputs": [
        {
          "name": "stdout",
          "output_type": "stream",
          "text": [
            "تعداد شغل‌های مطابق با فیلترها: 741\n",
            "وزن محتوا-محور: 0\n",
            "      Job ID           Careers Job - Job → Title      technologies job_domain  \\\n",
            "26     20871   Senior Back-end Developer(Python)            python    backend   \n",
            "589    19943  Senior Front-end Developer (React)             react   frontend   \n",
            "1477   20961             توسعه‌دهنده فرانت React             react              \n",
            "2951   22504      توسعه‌دهنده Back-end (Node.js)  javascript, node    backend   \n",
            "7663   18781          Senior Front-end Developer                     frontend   \n",
            "\n",
            "      Hybrid Score  \n",
            "26        0.016783  \n",
            "589       0.009955  \n",
            "1477      0.009876  \n",
            "2951      0.009595  \n",
            "7663      0.009347  \n",
            "\n",
            "==================================================\n",
            "\n",
            "تعداد شغل‌های مطابق با فیلترها: 741\n",
            "وزن محتوا-محور: 0.25\n",
            "      Job ID           Careers Job - Job → Title technologies job_domain  \\\n",
            "67     19447  Senior Front-end Developer (React)        react   frontend   \n",
            "589    19943  Senior Front-end Developer (React)        react   frontend   \n",
            "2690   22113               توسعه‌دهنده Front-end                frontend   \n",
            "4059   23718               توسعه‌دهنده Front-end                frontend   \n",
            "7663   18781          Senior Front-end Developer                frontend   \n",
            "\n",
            "      Hybrid Score  \n",
            "67        0.065737  \n",
            "589       0.064473  \n",
            "2690      0.060464  \n",
            "4059      0.059946  \n",
            "7663      0.059429  \n",
            "\n",
            "==================================================\n",
            "\n",
            "تعداد شغل‌های مطابق با فیلترها: 741\n",
            "وزن محتوا-محور: 0.25\n",
            "      Job ID           Careers Job - Job → Title technologies job_domain  \\\n",
            "67     19447  Senior Front-end Developer (React)        react   frontend   \n",
            "589    19943  Senior Front-end Developer (React)        react   frontend   \n",
            "2690   22113               توسعه‌دهنده Front-end                frontend   \n",
            "4059   23718               توسعه‌دهنده Front-end                frontend   \n",
            "7663   18781          Senior Front-end Developer                frontend   \n",
            "\n",
            "      Hybrid Score  \n",
            "67        0.065737  \n",
            "589       0.064473  \n",
            "2690      0.060464  \n",
            "4059      0.059946  \n",
            "7663      0.059429  \n",
            "\n",
            "==================================================\n",
            "\n",
            "تعداد شغل‌های مطابق با فیلترها: 741\n",
            "وزن محتوا-محور: 0.5\n",
            "      Job ID           Careers Job - Job → Title technologies job_domain  \\\n",
            "589    19943  Senior Front-end Developer (React)        react   frontend   \n",
            "2690   22113               توسعه‌دهنده Front-end                frontend   \n",
            "4059   23718               توسعه‌دهنده Front-end                frontend   \n",
            "6541   18488          توسعه‌دهنده ارشد Front-end                frontend   \n",
            "7663   18781          Senior Front-end Developer                frontend   \n",
            "\n",
            "      Hybrid Score  \n",
            "589       0.127424  \n",
            "2690      0.126581  \n",
            "4059      0.111758  \n",
            "6541      0.111580  \n",
            "7663      0.110016  \n",
            "\n",
            "==================================================\n",
            "\n",
            "تعداد شغل‌های مطابق با فیلترها: 741\n",
            "وزن محتوا-محور: 0.5\n",
            "      Job ID           Careers Job - Job → Title technologies job_domain  \\\n",
            "589    19943  Senior Front-end Developer (React)        react   frontend   \n",
            "2690   22113               توسعه‌دهنده Front-end                frontend   \n",
            "4059   23718               توسعه‌دهنده Front-end                frontend   \n",
            "6541   18488          توسعه‌دهنده ارشد Front-end                frontend   \n",
            "7663   18781          Senior Front-end Developer                frontend   \n",
            "\n",
            "      Hybrid Score  \n",
            "589       0.127424  \n",
            "2690      0.126581  \n",
            "4059      0.111758  \n",
            "6541      0.111580  \n",
            "7663      0.110016  \n",
            "\n",
            "==================================================\n",
            "\n",
            "تعداد شغل‌های مطابق با فیلترها: 741\n",
            "وزن محتوا-محور: 0.75\n",
            "      Job ID           Careers Job - Job → Title technologies job_domain  \\\n",
            "589    19943  Senior Front-end Developer (React)        react   frontend   \n",
            "2690   22113               توسعه‌دهنده Front-end                frontend   \n",
            "4059   23718               توسعه‌دهنده Front-end                frontend   \n",
            "6541   18488          توسعه‌دهنده ارشد Front-end                frontend   \n",
            "7663   18781          Senior Front-end Developer                frontend   \n",
            "\n",
            "      Hybrid Score  \n",
            "589       0.189111  \n",
            "2690      0.188690  \n",
            "4059      0.165595  \n",
            "6541      0.162696  \n",
            "7663      0.160086  \n",
            "\n",
            "==================================================\n",
            "\n",
            "تعداد شغل‌های مطابق با فیلترها: 741\n",
            "وزن محتوا-محور: 0.75\n",
            "      Job ID           Careers Job - Job → Title technologies job_domain  \\\n",
            "589    19943  Senior Front-end Developer (React)        react   frontend   \n",
            "2690   22113               توسعه‌دهنده Front-end                frontend   \n",
            "4059   23718               توسعه‌دهنده Front-end                frontend   \n",
            "6541   18488          توسعه‌دهنده ارشد Front-end                frontend   \n",
            "7663   18781          Senior Front-end Developer                frontend   \n",
            "\n",
            "      Hybrid Score  \n",
            "589       0.189111  \n",
            "2690      0.188690  \n",
            "4059      0.165595  \n",
            "6541      0.162696  \n",
            "7663      0.160086  \n",
            "\n",
            "==================================================\n",
            "\n",
            "تعداد شغل‌های مطابق با فیلترها: 741\n",
            "وزن محتوا-محور: 1\n",
            "      Job ID         Careers Job - Job → Title technologies job_domain  \\\n",
            "2690   22113             توسعه‌دهنده Front-end                frontend   \n",
            "4059   23718             توسعه‌دهنده Front-end                frontend   \n",
            "4532   15755  Senior Front-end Developer React        react   frontend   \n",
            "6541   18488        توسعه‌دهنده ارشد Front-end                frontend   \n",
            "7663   18781        Senior Front-end Developer                frontend   \n",
            "\n",
            "      Hybrid Score  \n",
            "2690      0.250799  \n",
            "4059      0.250799  \n",
            "4532      0.219432  \n",
            "6541      0.213813  \n",
            "7663      0.210155  \n",
            "\n",
            "==================================================\n",
            "\n",
            "تعداد شغل‌های مطابق با فیلترها: 741\n",
            "وزن محتوا-محور: 1\n",
            "      Job ID         Careers Job - Job → Title technologies job_domain  \\\n",
            "2690   22113             توسعه‌دهنده Front-end                frontend   \n",
            "4059   23718             توسعه‌دهنده Front-end                frontend   \n",
            "4532   15755  Senior Front-end Developer React        react   frontend   \n",
            "6541   18488        توسعه‌دهنده ارشد Front-end                frontend   \n",
            "7663   18781        Senior Front-end Developer                frontend   \n",
            "\n",
            "      Hybrid Score  \n",
            "2690      0.250799  \n",
            "4059      0.250799  \n",
            "4532      0.219432  \n",
            "6541      0.213813  \n",
            "7663      0.210155  \n",
            "\n",
            "==================================================\n",
            "\n"
          ]
        },
        {
          "data": {
            "text/html": [
              "<div>\n",
              "<style scoped>\n",
              "    .dataframe tbody tr th:only-of-type {\n",
              "        vertical-align: middle;\n",
              "    }\n",
              "\n",
              "    .dataframe tbody tr th {\n",
              "        vertical-align: top;\n",
              "    }\n",
              "\n",
              "    .dataframe thead th {\n",
              "        text-align: right;\n",
              "    }\n",
              "</style>\n",
              "<table border=\"1\" class=\"dataframe\">\n",
              "  <thead>\n",
              "    <tr style=\"text-align: right;\">\n",
              "      <th></th>\n",
              "      <th>job_id_0</th>\n",
              "      <th>job_id_0.25</th>\n",
              "      <th>job_id_0.5</th>\n",
              "      <th>job_id_0.75</th>\n",
              "      <th>job_id_1</th>\n",
              "    </tr>\n",
              "  </thead>\n",
              "  <tbody>\n",
              "    <tr>\n",
              "      <th>0</th>\n",
              "      <td>20871</td>\n",
              "      <td>19447</td>\n",
              "      <td>19943</td>\n",
              "      <td>19943</td>\n",
              "      <td>22113</td>\n",
              "    </tr>\n",
              "    <tr>\n",
              "      <th>1</th>\n",
              "      <td>19943</td>\n",
              "      <td>19943</td>\n",
              "      <td>22113</td>\n",
              "      <td>22113</td>\n",
              "      <td>23718</td>\n",
              "    </tr>\n",
              "    <tr>\n",
              "      <th>2</th>\n",
              "      <td>20961</td>\n",
              "      <td>22113</td>\n",
              "      <td>23718</td>\n",
              "      <td>23718</td>\n",
              "      <td>15755</td>\n",
              "    </tr>\n",
              "    <tr>\n",
              "      <th>3</th>\n",
              "      <td>22504</td>\n",
              "      <td>23718</td>\n",
              "      <td>18488</td>\n",
              "      <td>18488</td>\n",
              "      <td>18488</td>\n",
              "    </tr>\n",
              "    <tr>\n",
              "      <th>4</th>\n",
              "      <td>18781</td>\n",
              "      <td>18781</td>\n",
              "      <td>18781</td>\n",
              "      <td>18781</td>\n",
              "      <td>18781</td>\n",
              "    </tr>\n",
              "  </tbody>\n",
              "</table>\n",
              "</div>"
            ],
            "text/plain": [
              "   job_id_0  job_id_0.25  job_id_0.5  job_id_0.75  job_id_1\n",
              "0     20871        19447       19943        19943     22113\n",
              "1     19943        19943       22113        22113     23718\n",
              "2     20961        22113       23718        23718     15755\n",
              "3     22504        23718       18488        18488     18488\n",
              "4     18781        18781       18781        18781     18781"
            ]
          },
          "execution_count": 109,
          "metadata": {},
          "output_type": "execute_result"
        }
      ],
      "source": [
        "# تنظیمات کاربر\n",
        "user_id = 6003\n",
        "content_weights = [0, 0.25, 0.5, 0.75, 1]\n",
        "applicant_prefs = {\n",
        "    'level': 'senior',\n",
        "    'cities': ['تهران'],\n",
        "    'remote': True,\n",
        "    'min_salary': 20000000,\n",
        "}\n",
        "\n",
        "# to_do\n",
        "submission = pd.DataFrame(columns=[f'job_id_{weight}' for weight in content_weights])\n",
        "for weight in content_weights:\n",
        "    recommendations = hybrid_recommendation(\n",
        "        df, user_id, applicant_prefs, similarity_matrix_content, similarity_matrix_collab, interaction_matrix, top_k=5, content_weight=weight\n",
        "    )\n",
        "    print(f'وزن محتوا-محور: {weight}')\n",
        "    print(recommendations)\n",
        "    print(\"\\n\" + \"=\"*50 + \"\\n\")\n",
        "    # ذخیره نتایج در DataFrame\n",
        "    submission[f'job_id_{weight}'] = recommendations['Job ID'].values\n",
        "    # نمایش نتایج\n",
        "submission.head()"
      ]
    },
    {
      "cell_type": "code",
      "execution_count": 110,
      "id": "f8c88ee3",
      "metadata": {},
      "outputs": [
        {
          "data": {
            "text/html": [
              "<div>\n",
              "<style scoped>\n",
              "    .dataframe tbody tr th:only-of-type {\n",
              "        vertical-align: middle;\n",
              "    }\n",
              "\n",
              "    .dataframe tbody tr th {\n",
              "        vertical-align: top;\n",
              "    }\n",
              "\n",
              "    .dataframe thead th {\n",
              "        text-align: right;\n",
              "    }\n",
              "</style>\n",
              "<table border=\"1\" class=\"dataframe\">\n",
              "  <thead>\n",
              "    <tr style=\"text-align: right;\">\n",
              "      <th></th>\n",
              "      <th>job_id_0</th>\n",
              "      <th>job_id_0.25</th>\n",
              "      <th>job_id_0.5</th>\n",
              "      <th>job_id_0.75</th>\n",
              "      <th>job_id_1</th>\n",
              "    </tr>\n",
              "  </thead>\n",
              "  <tbody>\n",
              "    <tr>\n",
              "      <th>0</th>\n",
              "      <td>20871</td>\n",
              "      <td>19447</td>\n",
              "      <td>19943</td>\n",
              "      <td>19943</td>\n",
              "      <td>22113</td>\n",
              "    </tr>\n",
              "    <tr>\n",
              "      <th>1</th>\n",
              "      <td>19943</td>\n",
              "      <td>19943</td>\n",
              "      <td>22113</td>\n",
              "      <td>22113</td>\n",
              "      <td>23718</td>\n",
              "    </tr>\n",
              "    <tr>\n",
              "      <th>2</th>\n",
              "      <td>20961</td>\n",
              "      <td>22113</td>\n",
              "      <td>23718</td>\n",
              "      <td>23718</td>\n",
              "      <td>15755</td>\n",
              "    </tr>\n",
              "    <tr>\n",
              "      <th>3</th>\n",
              "      <td>22504</td>\n",
              "      <td>23718</td>\n",
              "      <td>18488</td>\n",
              "      <td>18488</td>\n",
              "      <td>18488</td>\n",
              "    </tr>\n",
              "    <tr>\n",
              "      <th>4</th>\n",
              "      <td>18781</td>\n",
              "      <td>18781</td>\n",
              "      <td>18781</td>\n",
              "      <td>18781</td>\n",
              "      <td>18781</td>\n",
              "    </tr>\n",
              "  </tbody>\n",
              "</table>\n",
              "</div>"
            ],
            "text/plain": [
              "   job_id_0  job_id_0.25  job_id_0.5  job_id_0.75  job_id_1\n",
              "0     20871        19447       19943        19943     22113\n",
              "1     19943        19943       22113        22113     23718\n",
              "2     20961        22113       23718        23718     15755\n",
              "3     22504        23718       18488        18488     18488\n",
              "4     18781        18781       18781        18781     18781"
            ]
          },
          "execution_count": 110,
          "metadata": {},
          "output_type": "execute_result"
        }
      ],
      "source": [
        "submission.head()"
      ]
    },
    {
      "cell_type": "markdown",
      "id": "8528f576",
      "metadata": {
        "id": "8528f576"
      },
      "source": [
        "<h2 align=right style=\"line-height:200%;font-family:vazir;color:#0099cc\">\n",
        "<font face=\"vazir\" color=\"#0099cc\">\n",
        "<b>سلول جواب‌ساز</b>\n",
        "</font>\n",
        "</h2>\n",
        "\n",
        "<p dir=rtl style=\"direction: rtl; text-align: justify; line-height:200%; font-family:vazir; font-size:medium\">\n",
        "<font face=\"vazir\" size=3>\n",
        "    برای ساخته‌شدن فایل <code>result.zip</code> سلول زیر را اجرا کنید. توجه داشته باشید که پیش از اجرای سلول زیر تغییرات اعمال شده در نت‌بوک را ذخیره کرده باشید (<code>ctrl+s</code>) تا در صورت نیاز به پشتیبانی امکان بررسی کد شما وجود داشته باشد.\n",
        "</font>\n",
        "</p>"
      ]
    },
    {
      "cell_type": "code",
      "execution_count": 111,
      "id": "082f01ad",
      "metadata": {
        "id": "082f01ad"
      },
      "outputs": [
        {
          "name": "stdout",
          "output_type": "stream",
          "text": [
            "File Paths:\n",
            "['submission.csv', 'GalexyJob2.ipynb']\n"
          ]
        }
      ],
      "source": [
        "import zipfile\n",
        "import joblib\n",
        "import os\n",
        "if not os.path.exists(os.path.join(os.getcwd(), 'GalexyJob2.ipynb')):\n",
        "    %notebook -e \"GalexyJob2.ipynb\"\n",
        "\n",
        "\n",
        "def compress(file_names):\n",
        "    print(\"File Paths:\")\n",
        "    print(file_names)\n",
        "    compression = zipfile.ZIP_DEFLATED\n",
        "    with zipfile.ZipFile(\"result.zip\", mode=\"w\") as zf:\n",
        "        for file_name in file_names:\n",
        "            zf.write('./' + file_name, file_name, compress_type=compression)\n",
        "\n",
        "submission.to_csv('submission.csv', index=False)\n",
        "\n",
        "file_names = [ 'submission.csv', \"GalexyJob2.ipynb\"]\n",
        "compress(file_names)"
      ]
    },
    {
      "cell_type": "markdown",
      "id": "e2b1bd79",
      "metadata": {
        "id": "e2b1bd79"
      },
      "source": [
        "<div dir=\"rtl\">\n",
        "<dir align=\"rtl\">\n",
        "<h1 dir=rtl style=\"direction: rtl;text-align: justify;line-height:200%;font-family:vazir;font-size:medium\">\n",
        "<font face=\"vazir\" color=\"#0099cc\" size=5>\n",
        "بخش اضافه: ارزیابی عملکرد سیستم پیشنهاددهنده\n",
        "</font>\n",
        "</h1>\n",
        "<p dir=rtl style=\"direction: rtl;text-align: justify;line-height:200%;font-family:vazir;font-size:medium\">\n",
        "<font face=\"vazir\" size=3>\n",
        "در ابتدا بهتره بیان کنیم این بخش به صورت کامل برای شما پیاده‌سازی شده است و همچنین برای شما توضیحات مورد نیاز جهت پیاده‌سازی خود شما نیز فراهم شده است.<br>\n",
        "یکی از مهم‌ترین مراحل در توسعه یک سیستم پیشنهاددهنده، ارزیابی عملکرد آن با استفاده از معیارهای کمی است. این کار به ما کمک می‌کند تا کیفیت پیشنهادات ارائه‌شده را سنجیده و نقاط ضعف سیستم را شناسایی کنیم. در این پروژه، هدف ارزیابی این است که بررسی کنیم آیا شغل‌های پیشنهادی توسط سیستم هیبریدی با علاقه‌ها یا تعاملات واقعی کاربران هم‌خوانی دارند یا خیر.<br>\n",
        "در این بخش، از معیارهای استاندارد <strong>Precision@K</strong> و <strong>Recall@K</strong> برای ارزیابی استفاده می‌کنیم:\n",
        "<ul>\n",
        "<li><strong>Precision@K:</strong> نشان‌دهنده نسبت شغل‌های پیشنهادی درست (شغل‌هایی که کاربر واقعاً به آن‌ها علاقه‌مند بوده یا برایشان درخواست داده) به کل شغل‌های پیشنهادی است.</li>\n",
        "<li><strong>Recall@K:</strong> نشان‌دهنده نسبت شغل‌های پیشنهادی درست به کل شغل‌هایی است که کاربر به آن‌ها علاقه‌مند بوده یا برایشان درخواست داده است.</li>\n",
        "</ul>\n",
        "ورودی این بخش شامل دیتافریم اصلی، پیشنهادات تولیدشده توسط سیستم هیبریدی، و داده‌های واقعی تعاملات کاربران (مثلاً از ستون‌های <code>Applicant ID</code> و <code>Job ID</code>) است. خروجی، مقادیر Precision@K و Recall@K برای وزن‌های مختلف سیستم هیبریدی است.<br>\n",
        "<b>نکته:</b> برای محاسبه این معیارها، نیاز به یک مجموعه داده واقعی (ground truth) داریم که نشان‌دهنده تعاملات مثبت کاربران (مثلاً درخواست‌ها یا بازدیدهای واقعی) باشد. در این پروژه، فرض می‌کنیم ستون‌های <code>Applicant ID</code> و <code>Job ID</code> در دیتافریم، تعاملات واقعی کاربران را نشان می‌دهند.\n",
        "</font>\n",
        "</p>\n",
        "\n",
        "<h2 dir=rtl style=\"direction: rtl;text-align: justify;line-height:200%;font-family:vazir;font-size:medium\">\n",
        "<font face=\"vazir\" color=\"#0099cc\" size=4>\n",
        "📋 مراحل انجام کار\n",
        "</font>\n",
        "</h2>\n",
        "<p dir=rtl style=\"direction: rtl;text-align: justify;line-height:200%;font-family:vazir;font-size:medium\">\n",
        "<font face=\"vazir\" size=3>\n",
        "برای ارزیابی عملکرد سیستم پیشنهاددهنده، به ترتیب زیر عمل کنید:\n",
        "<ol>\n",
        "<li><strong>جمع‌آوری داده‌های واقعی:</strong> تعاملات واقعی کاربران (مثلاً شغل‌هایی که کاربر با <code>user_id</code> مشخص درخواست داده یا مشاهده کرده) را از دیتافریم استخراج کنید.</li>\n",
        "<li><strong>استخراج پیشنهادات:</strong> شغل‌های پیشنهادی توسط تابع <code>hybrid_recommendation</code> را برای کاربر و وزن‌های مختلف دریافت کنید.</li>\n",
        "<li><strong>محاسبه Precision@K:</strong> برای هر وزن، نسبت شغل‌های پیشنهادی که در تعاملات واقعی کاربر وجود دارند را به تعداد کل پیشنهادات (K) محاسبه کنید.</li>\n",
        "<li><strong>محاسبه Recall@K:</strong> برای هر وزن، نسبت شغل‌های پیشنهادی درست به کل شغل‌های واقعی که کاربر با آن‌ها تعامل داشته را محاسبه کنید.</li>\n",
        "<li><strong>نمایش نتایج:</strong> معیارهای Precision@K و Recall@K را برای وزن‌های مختلف ([0, 0.25, 0.5, 0.75, 1]) در یک دیتافریم نمایش دهید.</li>\n",
        "</ol>\n",
        "این مراحل به شما کمک می‌کنند تا عملکرد سیستم را به‌صورت کمی ارزیابی کرده و تأثیر وزن‌های مختلف بر کیفیت پیشنهادات را بررسی کنید.\n",
        "</font>\n",
        "</p>\n",
        "\n",
        "<details class=\"green\">\n",
        "<summary>\n",
        "<strong>راهنمایی</strong>\n",
        "</summary>\n",
        "<p dir=rtl style=\"direction: rtl;text-align: justify;line-height:200%;font-family:vazir;font-size:medium\">\n",
        "<font face=\"vazir\" size=3>\n",
        "این بخش شامل محاسبات معیارهای ارزیابی است که ممکن است برای برخی کاربران جدید باشد. در زیر، مفاهیم و ابزارهای کلیدی توضیح داده شده‌اند:\n",
        "<ul>\n",
        "<li><strong>Precision@K:</strong> این معیار به‌صورت <code>Precision@K = (تعداد شغل‌های پیشنهادی درست) / K</code> محاسبه می‌شود، که K تعداد شغل‌های پیشنهادی است (در اینجا 5). شغل پیشنهادی درست است اگر در مجموعه تعاملات واقعی کاربر وجود داشته باشد.</li>\n",
        "<li><strong>Recall@K:</strong> این معیار به‌صورت <code>Recall@K = (تعداد شغل‌های پیشنهادی درست) / (تعداد کل شغل‌های واقعی کاربر)</code> محاسبه می‌شود. این معیار نشان می‌دهد چه کسری از شغل‌های واقعی کاربر در پیشنهادات ظاهر شده‌اند.</li>\n",
        "<li><strong>داده‌های واقعی (Ground Truth):</strong> در این پروژه، فرض می‌کنیم تعاملات واقعی کاربران از ستون‌های <code>Applicant ID</code> و <code>Job ID</code> استخراج می‌شوند، جایی که ردیف‌هایی با <code>Seen=True</code> یا درخواست‌های ثبت‌شده نشان‌دهنده علاقه کاربر هستند.</li>\n",
        "<li><strong>مدیریت کاربران بدون تعامل:</strong> اگر کاربر هیچ تعامل واقعی نداشته باشد (مشکل cold start)، Precision@K و Recall@K به‌طور پیش‌فرض صفر در نظر گرفته می‌شوند، زیرا نمی‌توان پیشنهادات را با داده‌های واقعی مقایسه کرد.</li>\n",
        "</ul>\n",
        "برای اجرای این کد، نیاز به کتابخانه‌های <code>pandas</code> و <code>numpy</code> دارید که قبلاً در پروژه فراخوانی شده‌اند. همچنین، اطمینان حاصل کنید که تابع <code>hybrid_recommendation</code> و ماتریس‌های شباهت (<code>similarity_matrix_content</code> و <code>similarity_matrix_collab</code>) و ماتریس تعاملات (<code>interaction_matrix</code>) از مراحل قبلی در دسترس هستند.<br>\n",
        "اگر تعداد تعاملات واقعی کاربر کم باشد، ممکن است Recall@K به دلیل کوچک بودن مخرج (تعداد شغل‌های واقعی) مقادیر بالایی داشته باشد. در این صورت، می‌توانید معیارهای دیگری مانند <code>F1-Score</code> (میانگین هارمونیک Precision و Recall) را نیز محاسبه کنید.\n",
        "</font>\n",
        "</p>\n",
        "</details>\n",
        "\n",
        "</dir>\n",
        "</div>\n",
        "\n"
      ]
    },
    {
      "cell_type": "code",
      "execution_count": 120,
      "id": "28f4ed48",
      "metadata": {
        "id": "28f4ed48"
      },
      "outputs": [],
      "source": [
        "import matplotlib.pyplot as plt\n",
        "\n",
        "def evaluate_recommendations(df, user_id, recommendations_dict, interaction_matrix, top_k=5):\n",
        "    \"\"\"\n",
        "    ارزیابی عملکرد سیستم پیشنهاددهنده با استفاده از معیارهای Precision@K و Recall@K\n",
        "\n",
        "    Parameters:\n",
        "    df (pd.DataFrame): دیتافریم اصلی حاوی اطلاعات شغل‌ها\n",
        "    user_id (int): شناسه کاربر برای ارزیابی\n",
        "    recommendations_dict (dict): دیکشنری حاوی پیشنهادات برای هر وزن\n",
        "    interaction_matrix (pd.DataFrame): ماتریس تعاملات کاربر-شغل\n",
        "    top_k (int): تعداد شغل‌های پیشنهادی برای ارزیابی (پیش‌فرض 5)\n",
        "\n",
        "    Returns:\n",
        "    pd.DataFrame: دیتافریم حاوی Precision@K و Recall@K برای هر وزن\n",
        "    \"\"\"\n",
        "    # استخراج تعاملات واقعی کاربر\n",
        "    if user_id in interaction_matrix.index:\n",
        "        user_interactions = interaction_matrix.loc[user_id]\n",
        "        true_jobs = user_interactions[user_interactions > 0].index.values\n",
        "    else:\n",
        "        true_jobs = []\n",
        "\n",
        "    # اگر کاربر هیچ تعاملی نداشته باشد، مقادیر صفر برگردانده می‌شود\n",
        "    content_weights = [0, 0.25, 0.5, 0.75, 1]  # تطبیق با وزن‌های موجود در submission\n",
        "    if len(true_jobs) == 0:\n",
        "        return pd.DataFrame({\n",
        "            'content_weight': content_weights,\n",
        "            'Precision@K': [0.0] * len(content_weights),\n",
        "            'Recall@K': [0.0] * len(content_weights)\n",
        "        })\n",
        "\n",
        "    # محاسبه Precision@K و Recall@K برای هر وزن\n",
        "    evaluation_results = []\n",
        "    for weight in content_weights:\n",
        "        # بررسی وجود کلید در recommendations_dict\n",
        "        key = f'job_id_{weight}'\n",
        "        if key not in recommendations_dict:\n",
        "            print(f\"کلید {key} در دیکشنری پیشنهادها یافت نشد. مقدار صفر در نظر گرفته می‌شود.\")\n",
        "            evaluation_results.append({\n",
        "                'content_weight': weight,\n",
        "                'Precision@K': 0.0,\n",
        "                'Recall@K': 0.0\n",
        "            })\n",
        "            continue\n",
        "\n",
        "        # استخراج پیشنهادها برای وزن فعلی\n",
        "        recommended_jobs = recommendations_dict[key]\n",
        "\n",
        "        # محاسبه تعداد شغل‌های مرتبط\n",
        "        relevant_jobs = len(set(recommended_jobs).intersection(set(true_jobs)))\n",
        "\n",
        "        # محاسبه Precision@K\n",
        "        precision = relevant_jobs / top_k if top_k > 0 else 0.0\n",
        "\n",
        "        # محاسبه Recall@K\n",
        "        recall = relevant_jobs / len(true_jobs) if len(true_jobs) > 0 else 0.0\n",
        "\n",
        "        evaluation_results.append({\n",
        "            'content_weight': weight,\n",
        "            'Precision@K': precision,\n",
        "            'Recall@K': recall\n",
        "        })\n",
        "\n",
        "    return pd.DataFrame(evaluation_results)"
      ]
    },
    {
      "cell_type": "code",
      "execution_count": 130,
      "id": "33a4062b",
      "metadata": {},
      "outputs": [],
      "source": [
        "keys = [f'job_id_{weight}' for weight in content_weights]\n",
        "recommendations_dict = {\n",
        "    key: submission[key].tolist() for key in keys\n",
        "}"
      ]
    },
    {
      "cell_type": "code",
      "execution_count": 131,
      "id": "486cd737",
      "metadata": {},
      "outputs": [
        {
          "data": {
            "text/plain": [
              "{'job_id_0': [20871, 19943, 20961, 22504, 18781],\n",
              " 'job_id_0.25': [19447, 19943, 22113, 23718, 18781],\n",
              " 'job_id_0.5': [19943, 22113, 23718, 18488, 18781],\n",
              " 'job_id_0.75': [19943, 22113, 23718, 18488, 18781],\n",
              " 'job_id_1': [22113, 23718, 15755, 18488, 18781]}"
            ]
          },
          "execution_count": 131,
          "metadata": {},
          "output_type": "execute_result"
        }
      ],
      "source": [
        "recommendations_dict"
      ]
    },
    {
      "cell_type": "code",
      "execution_count": 132,
      "id": "1a93fafd",
      "metadata": {
        "id": "1a93fafd"
      },
      "outputs": [
        {
          "name": "stdout",
          "output_type": "stream",
          "text": [
            "نتایج ارزیابی سیستم پیشنهاددهنده:\n",
            "   content_weight  Precision@K  Recall@K\n",
            "0            0.00          0.0       0.0\n",
            "1            0.25          0.0       0.0\n",
            "2            0.50          0.0       0.0\n",
            "3            0.75          0.0       0.0\n",
            "4            1.00          0.0       0.0\n"
          ]
        },
        {
          "data": {
            "image/png": "[encoded data removed]",
            "text/plain": [
              "<Figure size 1000x600 with 1 Axes>"
            ]
          },
          "metadata": {},
          "output_type": "display_data"
        }
      ],
      "source": [
        "# اجرای ارزیابی برای کاربر و نمایش نتایج\n",
        "user_id = 6003\n",
        "evaluation_results = evaluate_recommendations(df,\n",
        "    user_id, recommendations_dict, interaction_matrix, top_k=5)\n",
        "print(\"نتایج ارزیابی سیستم پیشنهاددهنده:\")\n",
        "print(evaluation_results)\n",
        "\n",
        "# رسم نمودار Precision@K و Recall@K برای وزن‌های مختلف\n",
        "plt.figure(figsize=(10, 6))\n",
        "plt.plot(evaluation_results['content_weight'], evaluation_results['Precision@K'], marker='o', label='Precision@K')\n",
        "plt.plot(evaluation_results['content_weight'], evaluation_results['Recall@K'], marker='s', label='Recall@K')\n",
        "plt.xlabel('وزن محتوا-محور')\n",
        "plt.ylabel('مقدار معیار')\n",
        "plt.title('ارزیابی Precision@K و Recall@K برای وزن‌های مختلف')\n",
        "plt.legend()\n",
        "plt.grid(True)\n",
        "plt.show()"
      ]
    },
    {
      "cell_type": "code",
      "execution_count": 134,
      "id": "238c6d27",
      "metadata": {},
      "outputs": [
        {
          "name": "stdout",
          "output_type": "stream",
          "text": [
            "Weight: 0\n",
            "Recommended jobs: [20871, 19943, 20961, 22504, 18781]\n",
            "True jobs: [1883, 16487, 18409, 18623, 19409, 19494, 19528, 19607, 19916, 20042, 20121]\n",
            "Intersection: set()\n",
            "----------------------------------------\n",
            "Weight: 0.25\n",
            "Recommended jobs: [19447, 19943, 22113, 23718, 18781]\n",
            "True jobs: [1883, 16487, 18409, 18623, 19409, 19494, 19528, 19607, 19916, 20042, 20121]\n",
            "Intersection: set()\n",
            "----------------------------------------\n",
            "Weight: 0.5\n",
            "Recommended jobs: [19943, 22113, 23718, 18488, 18781]\n",
            "True jobs: [1883, 16487, 18409, 18623, 19409, 19494, 19528, 19607, 19916, 20042, 20121]\n",
            "Intersection: set()\n",
            "----------------------------------------\n",
            "Weight: 0.75\n",
            "Recommended jobs: [19943, 22113, 23718, 18488, 18781]\n",
            "True jobs: [1883, 16487, 18409, 18623, 19409, 19494, 19528, 19607, 19916, 20042, 20121]\n",
            "Intersection: set()\n",
            "----------------------------------------\n",
            "Weight: 1\n",
            "Recommended jobs: [22113, 23718, 15755, 18488, 18781]\n",
            "True jobs: [1883, 16487, 18409, 18623, 19409, 19494, 19528, 19607, 19916, 20042, 20121]\n",
            "Intersection: set()\n",
            "----------------------------------------\n"
          ]
        }
      ],
      "source": [
        "# Debug: Print recommended_jobs and true_jobs for each weight\n",
        "user_id = 6003\n",
        "for weight in content_weights:\n",
        "    key = f'job_id_{weight}'\n",
        "    recommended_jobs = recommendations_dict[key]\n",
        "    # Extract true jobs for the user from interaction_matrix\n",
        "    if user_id in interaction_matrix.index:\n",
        "        true_jobs = interaction_matrix.loc[user_id]\n",
        "        true_jobs = true_jobs[true_jobs > 0].index.tolist()\n",
        "    else:\n",
        "        true_jobs = []\n",
        "    print(f'Weight: {weight}')\n",
        "    print('Recommended jobs:', recommended_jobs)\n",
        "    print('True jobs:', true_jobs)\n",
        "    print('Intersection:', set(recommended_jobs) & set(true_jobs))\n",
        "    print('-'*40)"
      ]
    },
    {
      "cell_type": "code",
      "execution_count": 96,
      "id": "8b4dcdc8",
      "metadata": {},
      "outputs": [
        {
          "data": {
            "text/plain": [
              "Index(['Job_ID_0', 'Job_ID_0.25', 'Job_ID_0.5', 'Job_ID_0.75', 'Job_ID_1',\n",
              "       'Job ID_0', 'Job ID_0.25', 'Job ID_0.5', 'Job ID_0.75', 'Job ID_1'],\n",
              "      dtype='object')"
            ]
          },
          "execution_count": 96,
          "metadata": {},
          "output_type": "execute_result"
        }
      ],
      "source": [
        "submission.columns"
      ]
    },
    {
      "cell_type": "code",
      "execution_count": 119,
      "id": "a3604ead",
      "metadata": {},
      "outputs": [
        {
          "data": {
            "text/plain": [
              "11.0"
            ]
          },
          "execution_count": 119,
          "metadata": {},
          "output_type": "execute_result"
        }
      ],
      "source": [
        "# 1. Check if user 6003 has any interactions\n",
        "interaction_matrix.loc[6003].sum()\n"
      ]
    },
    {
      "cell_type": "code",
      "execution_count": null,
      "id": "913be4a2",
      "metadata": {},
      "outputs": [
        {
          "data": {
            "text/plain": [
              "Index(['job_id_0', 'job_id_0.25', 'job_id_0.5', 'job_id_0.75', 'job_id_1'], dtype='object')"
            ]
          },
          "execution_count": 118,
          "metadata": {},
          "output_type": "execute_result"
        }
      ],
      "source": [
        "\n",
        "# 2. Check what columns exist in submission\n",
        "submission.columns\n"
      ]
    },
    {
      "cell_type": "code",
      "execution_count": null,
      "id": "e4276e96",
      "metadata": {},
      "outputs": [],
      "source": []
    }
  ],
  "metadata": {
    "colab": {
      "provenance": []
    },
    "kernelspec": {
      "display_name": "myproject-env",
      "language": "python",
      "name": "python3"
    },
    "language_info": {
      "codemirror_mode": {
        "name": "ipython",
        "version": 3
      },
      "file_extension": ".py",
      "mimetype": "text/x-python",
      "name": "python",
      "nbconvert_exporter": "python",
      "pygments_lexer": "ipython3",
      "version": "3.11.9"
    }
  },
  "nbformat": 4,
  "nbformat_minor": 5
}
