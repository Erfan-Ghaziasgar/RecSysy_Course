{
  "cells": [
    {
      "cell_type": "markdown",
      "metadata": {
        "id": "XBtUF7YiOIc_"
      },
      "source": [
        "<div dir=\"center\">\n",
        "  <h1 align=\"center\" style=\"line-height:200%;font-family:vazir;color:#0099cc\">\n",
        "    <font face=\"vazirmatn\" color=\"#0099cc\">\n",
        "      مشخ شیخ\n",
        "    </font>\n",
        "  </h1>\n",
        "</div>\n",
        "\n",
        "<p dir=\"rtl\" style=\"direction: rtl;text-align: justify;line-height:200%;font-family:vazir;font-size:medium\">\n",
        "  <font face=\"vazirmatn\" size=\"3\">\n",
        "  شیخ به تازگی شروع به یادگیری سیستم‌های پیشنهاددهنده کرده است. شیخ آدمی سخت‌کوشی است و برای این‌که به خوبی عمق مفاهیم سیستم‌های پیشنهاددهنده را یاد بگیرد، تصمیم گرفته‌است یک سری محاسبات را به صورت دستی انجام دهد.\n",
        "  برای این‌که شیخ مطمئن شود محاسباتش را به درستی انجام داده‌است، موارد خواسته‌شده را محاسبه کنید.\n",
        "  </font>\n",
        "</p>"
      ]
    },
    {
      "cell_type": "markdown",
      "metadata": {
        "id": "lioJDzf3OIdB"
      },
      "source": [
        "<div dir=\"right\">\n",
        "  <h2 align=\"right\" style=\"line-height:200%;font-family:vazir;color:#0099cc\">\n",
        "    <font face=\"vazirmatn\" color=\"#0099cc\">\n",
        "      سوال اول\n",
        "    </font>\n",
        "  </h2>\n",
        "</div>\n",
        "\n",
        "<p dir=\"rtl\" style=\"direction: rtl;text-align: justify;line-height:200%;font-family:vazir;font-size:medium\">\n",
        "  <font face=\"vazirmatn\" size=\"3\">\n",
        "  ابتدا ماتریس ذخیره‌شده در فایل <code>ratings.npz</code> در فولدر <code>Data</code> را با کلید <code>'ratings'</code> بارگذاری کنید و در متغیر <code>ratings_matrix</code> ذخیره کنید. این ماتریس، امتیازهای کاربران به یک تعدادی فیلم است؛ به صورتی که هر سطر نشان‌دهنده‌ی یک کاربر و هر ستون نشان‌دهنده‌ی یک فیلم است.\n",
        " با کمک روش‌های برش، این ماتریس را به بزرگترین ماتریس مربعی ممکن برش دهید و در متغیر <code>biggest_square_matrix</code> ذخیره کنید.\n",
        "  </font>\n",
        "</p>"
      ]
    },
    {
      "cell_type": "code",
      "execution_count": 8,
      "metadata": {
        "colab": {
          "base_uri": "https://localhost:8080/"
        },
        "id": "HzMkyVbmOIdD",
        "outputId": "a8631aa3-23f1-4083-83f1-6b76fa37a1d0"
      },
      "outputs": [
        {
          "output_type": "stream",
          "name": "stdout",
          "text": [
            "(23, 8)\n"
          ]
        }
      ],
      "source": [
        "import numpy as np\n",
        "\n",
        "# TODO\n",
        "data = np.load('/content/ratings.npz')\n",
        "\n",
        "ratings_matrix = data['ratings']\n",
        "\n",
        "data.close()\n",
        "\n",
        "print(ratings_matrix.shape)"
      ]
    },
    {
      "cell_type": "code",
      "execution_count": 9,
      "metadata": {
        "colab": {
          "base_uri": "https://localhost:8080/"
        },
        "id": "EiCu8m7gOIdE",
        "outputId": "f4f10f7c-60c3-4d0b-a7f5-704b8f26a996"
      },
      "outputs": [
        {
          "output_type": "stream",
          "name": "stdout",
          "text": [
            "(8, 8)\n"
          ]
        }
      ],
      "source": [
        "# TODO\n",
        "min_dim = min(ratings_matrix.shape)\n",
        "biggest_square_matrix = ratings_matrix[:min_dim, :min_dim]\n",
        "\n",
        "print(biggest_square_matrix.shape)"
      ]
    },
    {
      "cell_type": "markdown",
      "metadata": {
        "id": "0eOivJvKOIdF"
      },
      "source": [
        "<div dir=\"right\">\n",
        "  <h2 align=\"right\" style=\"line-height:200%;font-family:vazir;color:#0099cc\">\n",
        "    <font face=\"vazirmatn\" color=\"#0099cc\">\n",
        "      سوال دوم\n",
        "    </font>\n",
        "  </h2>\n",
        "</div>\n",
        "\n",
        "<p dir=\"rtl\" style=\"direction: rtl;text-align: justify;line-height:200%;font-family:vazir;font-size:medium\">\n",
        "  <font face=\"vazirmatn\" size=\"3\">\n",
        "    حاصل‌ضرب ماتریس <code>biggest_square_matrix</code> با ماتریس ترانهاده‌ی آن را در متغیر <code>square_dot_transpose</code> ذخیره کنید.\n",
        "  </font>\n",
        "</p>"
      ]
    },
    {
      "cell_type": "code",
      "execution_count": 10,
      "metadata": {
        "colab": {
          "base_uri": "https://localhost:8080/"
        },
        "id": "C2oBt6yfOIdG",
        "outputId": "6a005de2-a391-42a1-dd75-62e36624d557"
      },
      "outputs": [
        {
          "output_type": "stream",
          "name": "stdout",
          "text": [
            "(8, 8)\n"
          ]
        }
      ],
      "source": [
        "# TODO\n",
        "square_dot_transpose = biggest_square_matrix.dot(biggest_square_matrix.T)\n",
        "\n",
        "print(square_dot_transpose.shape)"
      ]
    },
    {
      "cell_type": "markdown",
      "metadata": {
        "id": "pBfJMxgVOIdG"
      },
      "source": [
        "<div dir=\"right\">\n",
        "  <h2 align=\"right\" style=\"line-height:200%;font-family:vazir;color:#0099cc\">\n",
        "    <font face=\"vazirmatn\" color=\"#0099cc\">\n",
        "      سوال سوم\n",
        "    </font>\n",
        "  </h2>\n",
        "</div>\n",
        "\n",
        "<p dir=\"rtl\" style=\"direction: rtl;text-align: justify;line-height:200%;font-family:vazir;font-size:medium\">\n",
        "  <font face=\"vazirmatn\" size=\"3\">\n",
        "    با استفاده از متد <code>reshape</code> ماتریس <code>ratings_matrix</code> را تبدیل به یک آرایه‌ی <code>1xn</code> کنید. کوچک‌ترین ایندکسی را در نظر بگیرید که مقدار ماکسیمم این آرایه در آن وجود داشته باشد. این ایندکس را <code>m</code> ذخیره کنید. ماتریسی بسازید که ابعاد <code>mxm</code> داشته باشد و تمام عناصر آن برابر با مقدار ماکسیمم آرایه‌ی یک بعدی باشد. این ماتریس را در متغیر <code>full_max_matrix</code> ذخیره کنید.\n",
        "  </font>\n",
        "</p>"
      ]
    },
    {
      "cell_type": "code",
      "execution_count": 12,
      "metadata": {
        "colab": {
          "base_uri": "https://localhost:8080/"
        },
        "id": "w2tTA0feOIdH",
        "outputId": "2a7581e9-2fd0-4450-aacc-5f2a09dbab9b"
      },
      "outputs": [
        {
          "output_type": "stream",
          "name": "stdout",
          "text": [
            "Max value: 10\n",
            "Max index: 2\n",
            "(2, 2)\n",
            "[[10 10]\n",
            " [10 10]]\n"
          ]
        }
      ],
      "source": [
        "# TODO\n",
        "flattened = ratings_matrix.reshape(-1)\n",
        "max_value = np.max(flattened)\n",
        "print(f\"Max value: {max_value}\")\n",
        "m = np.argmax(flattened)\n",
        "print(f\"Max index: {m}\")\n",
        "\n",
        "full_max_matrix = np.full((m, m), max_value)\n",
        "\n",
        "print(full_max_matrix.shape)\n",
        "print(full_max_matrix)"
      ]
    },
    {
      "cell_type": "markdown",
      "metadata": {
        "id": "YeLwYrUSOIdI"
      },
      "source": [
        "<div dir=\"right\">\n",
        "  <h2 align=\"right\" style=\"line-height:200%;font-family:vazir;color:#0099cc\">\n",
        "    <font face=\"vazirmatn\" color=\"#0099cc\">\n",
        "      سوال چهارم\n",
        "    </font>\n",
        "  </h2>\n",
        "</div>\n",
        "\n",
        "<p dir=\"rtl\" style=\"direction: rtl;text-align: justify;line-height:200%;font-family:vazir;font-size:medium\">\n",
        "  <font face=\"vazirmatn\" size=\"3\">\n",
        "    در این بخش مقادیر زیر را محاسبه کنید و هرکدام را در یک دیتاسری متفاوت و منحصربه‌فرد ذخیره کنید:\n",
        "  <li> بردار بیشترین امتیاز هر کاربر\n",
        "  <li> بردار کمترین امتیاز هر کاربر\n",
        "  <li> بردار اختلاف بیشترین و کمترین امتیاز هر کاربر\n",
        "  </font>\n",
        "</p>"
      ]
    },
    {
      "cell_type": "code",
      "execution_count": 14,
      "metadata": {
        "colab": {
          "base_uri": "https://localhost:8080/"
        },
        "id": "MweDImNvOIdI",
        "outputId": "3d5b44d4-4111-4eea-daea-4f1b05d555fd"
      },
      "outputs": [
        {
          "output_type": "stream",
          "name": "stdout",
          "text": [
            "Max ratings per user: \n",
            "0     10\n",
            "1     10\n",
            "2      7\n",
            "3     10\n",
            "4      8\n",
            "5      9\n",
            "6      8\n",
            "7      7\n",
            "8      9\n",
            "9      8\n",
            "10     9\n",
            "11    10\n",
            "12    10\n",
            "13     8\n",
            "14    10\n",
            "15    10\n",
            "16     9\n",
            "17    10\n",
            "18    10\n",
            "19    10\n",
            "20    10\n",
            "21    10\n",
            "22     9\n",
            "dtype: int32\n",
            "Min ratings per user: \n",
            "0     0\n",
            "1     0\n",
            "2     0\n",
            "3     0\n",
            "4     0\n",
            "5     0\n",
            "6     0\n",
            "7     0\n",
            "8     0\n",
            "9     0\n",
            "10    0\n",
            "11    0\n",
            "12    0\n",
            "13    0\n",
            "14    0\n",
            "15    0\n",
            "16    0\n",
            "17    0\n",
            "18    0\n",
            "19    0\n",
            "20    0\n",
            "21    0\n",
            "22    0\n",
            "dtype: int32\n",
            "Rating difference per user: \n",
            "0     10\n",
            "1     10\n",
            "2      7\n",
            "3     10\n",
            "4      8\n",
            "5      9\n",
            "6      8\n",
            "7      7\n",
            "8      9\n",
            "9      8\n",
            "10     9\n",
            "11    10\n",
            "12    10\n",
            "13     8\n",
            "14    10\n",
            "15    10\n",
            "16     9\n",
            "17    10\n",
            "18    10\n",
            "19    10\n",
            "20    10\n",
            "21    10\n",
            "22     9\n",
            "dtype: int32\n"
          ]
        }
      ],
      "source": [
        "import pandas as pd\n",
        "\n",
        "# TODO\n",
        "max_ratings_per_user = pd.Series(np.max(ratings_matrix, axis=1))\n",
        "min_ratings_per_user = pd.Series(np.min(ratings_matrix, axis=1))\n",
        "rating_diff_per_user = pd.Series(max_ratings_per_user - min_ratings_per_user)\n",
        "\n",
        "print(f\"Max ratings per user: \\n{max_ratings_per_user}\")\n",
        "print(f\"Min ratings per user: \\n{min_ratings_per_user}\")\n",
        "print(f\"Rating difference per user: \\n{rating_diff_per_user}\")\n"
      ]
    },
    {
      "cell_type": "markdown",
      "metadata": {
        "id": "biBxkxFaOIdJ"
      },
      "source": [
        "<p dir=\"rtl\" style=\"direction: rtl;text-align: justify;line-height:200%;font-family:vazir;font-size:medium\">\n",
        "  <font face=\"vazirmatn\" size=\"3\">\n",
        "حال به کمک ۳ دیتاسری ساخته‌شده، یک دیتافریم جدید در متغیر <code>ratings_df</code> بسازید به طوری‌که:\n",
        "  </font>\n",
        "</p>\n",
        "\n",
        "<center>\n",
        "<div dir=rtl style=\"direction: rtl;line-height:200%;font-family:vazir;font-size:medium\">\n",
        "<font face=\"vazirmatn\" size=3>\n",
        "    \n",
        "|ستون|توضیحات|\n",
        "|------|---|\n",
        "|max|دیتاسری اول|\n",
        "|min|دیتاسری دوم|\n",
        "|range|دیتاسری سوم|\n",
        "    \n",
        "</font>\n",
        "</div>\n",
        "</center>"
      ]
    },
    {
      "cell_type": "code",
      "execution_count": 15,
      "metadata": {
        "colab": {
          "base_uri": "https://localhost:8080/"
        },
        "id": "Ar6JN9ZFOIdK",
        "outputId": "547de1e3-194e-4ff4-d9a4-9f243a2e954d"
      },
      "outputs": [
        {
          "output_type": "stream",
          "name": "stdout",
          "text": [
            "    Max  Min  range\n",
            "0    10    0     10\n",
            "1    10    0     10\n",
            "2     7    0      7\n",
            "3    10    0     10\n",
            "4     8    0      8\n",
            "5     9    0      9\n",
            "6     8    0      8\n",
            "7     7    0      7\n",
            "8     9    0      9\n",
            "9     8    0      8\n",
            "10    9    0      9\n",
            "11   10    0     10\n",
            "12   10    0     10\n",
            "13    8    0      8\n",
            "14   10    0     10\n",
            "15   10    0     10\n",
            "16    9    0      9\n",
            "17   10    0     10\n",
            "18   10    0     10\n",
            "19   10    0     10\n",
            "20   10    0     10\n",
            "21   10    0     10\n",
            "22    9    0      9\n"
          ]
        }
      ],
      "source": [
        "# TODO\n",
        "ratings_df = pd.DataFrame({'Max': max_ratings_per_user, 'Min': min_ratings_per_user, 'range': rating_diff_per_user})\n",
        "\n",
        "print(ratings_df)"
      ]
    },
    {
      "cell_type": "markdown",
      "metadata": {
        "id": "NX6RJcTtOIdK"
      },
      "source": [
        "<h2 align=right style=\"line-height:200%;font-family:vazir;color:#0099cc\">\n",
        "<font face=\"vazirmatn\" color=\"#0099cc\">\n",
        "<b>سلول جواب‌ساز</b>\n",
        "</font>\n",
        "</h2>\n",
        "\n",
        "\n",
        "<p dir=rtl style=\"direction: rtl; text-align: justify; line-height:200%; font-family:vazir; font-size:medium\">\n",
        "<font face=\"vazirmatn\" size=3>\n",
        "    برای ساخته‌شدن فایل <code>result.zip</code> سلول زیر را اجرا کنید. توجه داشته باشید که پیش از اجرای سلول زیر تغییرات اعمال شده در نوت‌بوک را ذخیره کرده باشید (<code>ctrl+s</code>) تا در صورت نیاز به پشتیبانی امکان بررسی کد شما وجود داشته باشد.\n",
        "</font>\n",
        "</p>"
      ]
    },
    {
      "cell_type": "code",
      "execution_count": 16,
      "metadata": {
        "colab": {
          "base_uri": "https://localhost:8080/"
        },
        "id": "m9aGsw0pOIdL",
        "outputId": "f72be380-a7e1-41a5-e3e1-326ad0b179fc"
      },
      "outputs": [
        {
          "output_type": "stream",
          "name": "stdout",
          "text": [
            "File Paths:\n",
            "['initial.ipynb', 'answers.npz', 'answers.csv']\n"
          ]
        }
      ],
      "source": [
        "import zipfile\n",
        "import os\n",
        "import pandas as pd\n",
        "import numpy as np\n",
        "\n",
        "\n",
        "\n",
        "if not os.path.exists(os.path.join(os.getcwd(), 'initial.ipynb')):\n",
        "    %notebook -e initial.ipynb\n",
        "\n",
        "def compress(file_names):\n",
        "    print(\"File Paths:\")\n",
        "    print(file_names)\n",
        "    compression = zipfile.ZIP_DEFLATED\n",
        "    with zipfile.ZipFile(\"result.zip\", mode=\"w\") as zf:\n",
        "        for file_name in file_names:\n",
        "            zf.write('./' + file_name, file_name, compress_type=compression)\n",
        "\n",
        "np.savez(\"answers.npz\", biggest_square_matrix=biggest_square_matrix, square_dot_transpose=square_dot_transpose,\n",
        "         full_max_matrix=full_max_matrix)\n",
        "\n",
        "ratings_df.to_csv('answers.csv', header=True, index=False)\n",
        "\n",
        "file_names = ['initial.ipynb', 'answers.npz', 'answers.csv']\n",
        "compress(file_names)"
      ]
    }
  ],
  "metadata": {
    "kernelspec": {
      "display_name": "venv",
      "language": "python",
      "name": "python3"
    },
    "language_info": {
      "codemirror_mode": {
        "name": "ipython",
        "version": 3
      },
      "file_extension": ".py",
      "mimetype": "text/x-python",
      "name": "python",
      "nbconvert_exporter": "python",
      "pygments_lexer": "ipython3",
      "version": "3.12.3"
    },
    "colab": {
      "provenance": []
    }
  },
  "nbformat": 4,
  "nbformat_minor": 0
}